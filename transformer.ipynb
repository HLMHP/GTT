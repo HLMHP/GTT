{
 "cells": [
  {
   "cell_type": "code",
   "execution_count": 1,
   "metadata": {
    "colab": {
     "base_uri": "https://localhost:8080/",
     "height": 82
    },
    "id": "PADKnEB0tWtN",
    "outputId": "214b2df4-4e53-47a2-cdbf-59119107a6df"
   },
   "outputs": [
    {
     "name": "stdout",
     "output_type": "stream",
     "text": [
      "WARNING:tensorflow:From D:\\anaconda\\Lib\\site-packages\\keras\\src\\losses.py:2976: The name tf.losses.sparse_softmax_cross_entropy is deprecated. Please use tf.compat.v1.losses.sparse_softmax_cross_entropy instead.\n",
      "\n"
     ]
    }
   ],
   "source": [
    "import os\n",
    "import pickle\n",
    "import scipy\n",
    "import math\n",
    "\n",
    "import pandas as pd\n",
    "import tensorflow as tf\n",
    "import matplotlib.pyplot as plt\n",
    "import numpy as np\n",
    "import tsfresh as tsf\n",
    "\n",
    "from tqdm import tqdm\n",
    "from tsfresh import extract_features\n",
    "from tsfresh.utilities.dataframe_functions import impute\n",
    "from tsfresh.feature_extraction import MinimalFCParameters, EfficientFCParameters\n",
    "from sklearn.metrics import mean_squared_error, accuracy_score, recall_score, precision_score, roc_curve, auc, precision_recall_curve\n",
    "from sklearn.preprocessing import StandardScaler\n",
    "from sklearn.pipeline import Pipeline\n",
    "from tensorflow.keras.models import Sequential, Model, load_model\n",
    "from tensorflow.keras.layers import Input, Dense, Flatten, Lambda, Dropout, BatchNormalization, LSTM, RepeatVector, TimeDistributed\n",
    "from tensorflow.keras.regularizers import l2\n",
    "from tensorflow.keras.callbacks import EarlyStopping, TensorBoard\n",
    "from datetime import datetime\n",
    "from collections import OrderedDict\n",
    "from scipy import stats\n",
    "from tensorflow.keras.layers import Input, Conv1D, BatchNormalization, LeakyReLU, Dense, Add \n",
    "from tensorflow.keras import layers\n",
    "from tensorflow import keras\n",
    "from sklearn.preprocessing import MinMaxScaler "
   ]
  },
  {
   "cell_type": "markdown",
   "metadata": {
    "id": "OyW4gt4U1ox5"
   },
   "source": [
    "### 0.3 Constants"
   ]
  },
  {
   "cell_type": "code",
   "execution_count": 2,
   "metadata": {
    "id": "SA4retyn147B"
   },
   "outputs": [],
   "source": [
    "FEATURES = [\"altitude\", \"groundspeed\", \"vertical_rate\", \"x\", \"y\"]\n",
    "DIFF_FEATURES = [\"altitude\", \"groundspeed\", \"x\", \"y\"]\n",
    "STATE_VECTOR_FEATURES = [\"groundspeed\", \"vertical_rate\", \"longitude\", \"latitude\", \"altitude\", \"heading_unwrapped\"]\n",
    "\n",
    "MODEL_DIR = \"models\"\n",
    "MODEL_DIR = os.path.join(MODEL_DIR, \"standard\")\n",
    "MODEL_LSTM_DIR = os.path.join(MODEL_DIR, \"lstm\")\n",
    "\n",
    "DATA_DIR = \"data\"\n",
    "DATA_TRAIN_DIR = os.path.join(DATA_DIR, \"train\")\n",
    "DATA_VALIDATION_DIR = os.path.join(DATA_DIR, \"validation\")\n",
    "DATA_TEST_DIR = os.path.join(DATA_DIR, \"test\")\n",
    "DATA_TEST_DEPARTING_DIR = os.path.join(DATA_TEST_DIR, \"departing\")\n",
    "DATA_TEST_LANDING_DIR = os.path.join(DATA_TEST_DIR, \"landing\")\n",
    "DATA_TEST_MANOEUVER_DIR = os.path.join(DATA_TEST_DIR, \"manoeuver\")\n",
    "DATA_TEST_NOISE_DIR = os.path.join(DATA_TEST_DIR, \"noise\")\n",
    "DATA_TEST_STAND_DIR = os.path.join(DATA_TEST_DIR, \"stand\")\n",
    "DATA_TEST_DEVIATION_DIR = os.path.join(DATA_TEST_DIR, \"deviation\")\n",
    "\n",
    "\n",
    "########################################\n",
    "#             DIFFERENCING             #\n",
    "########################################\n",
    "\n",
    "DIFF_DATA = True\n",
    "\n",
    "########################################\n",
    "#        SYSTEM HYPERPARAMETERS        #\n",
    "########################################\n",
    "\n",
    "K_LAG = 1\n",
    "K_ORDER = 1\n",
    "WINDOW_SIZE_transformer = WINDOW_SIZE_LSTM_transformer = 60\n",
    "transformer_ENCODING_DIMENSION = 10\n",
    "LSTM_transformer_ENCODING_DIMENSION = 10\n",
    "Q_THRESHOLD = 10e-4\n",
    "LSTM_Q_THRESHOLD = 10e-2"
   ]
  },
  {
   "cell_type": "markdown",
   "metadata": {
    "id": "HDO44Uuqu4XJ"
   },
   "source": [
    "## 1. Util Functions"
   ]
  },
  {
   "cell_type": "code",
   "execution_count": 3,
   "metadata": {},
   "outputs": [],
   "source": [
    " def rolled(list_, window_size):\n",
    "\n",
    "    count = 0\n",
    "    while count <= len(list_) - window_size:\n",
    "        yield list_[count: count + window_size]\n",
    "        count += 1  \n",
    "  \n",
    "def max_rolled(list_, window_size):  \n",
    "    y = []  \n",
    "    for val in rolled(list_, window_size):  \n",
    "        y.append(max(val))  \n",
    "    return np.array(y)  \n",
    "  \n",
    "def get_windows_data(df, labels, window_size, tsfresh=True):   \n",
    "      \n",
    "    collected_data = []  \n",
    "      \n",
    "    for i, val in enumerate(rolled(df.values, window_size)):  \n",
    "        if tsfresh:  \n",
    "            val_with_id_time = pd.DataFrame(val, columns=df.columns)  \n",
    "            val_with_id_time[\"id\"] = i  \n",
    "            val_with_id_time[\"time\"] = list(range(val.shape[0]))  \n",
    "            collected_data.append(val_with_id_time)  \n",
    "        else:  \n",
    "            collected_data.append(val)  \n",
    "      \n",
    "    # 合并数据  \n",
    "    if tsfresh:  \n",
    "        X = pd.concat(collected_data, ignore_index=True)  \n",
    "    else:  \n",
    "        X = np.array(collected_data)  \n",
    "      \n",
    "    # 计算y值  \n",
    "    y = max_rolled(labels, window_size)  \n",
    "      \n",
    "    return X, y  \n"
   ]
  },
  {
   "cell_type": "code",
   "execution_count": 4,
   "metadata": {
    "id": "-lMUqcRovCh2"
   },
   "outputs": [],
   "source": [
    "def diff_data(df, cols, lag, order):\n",
    "  \"\"\"\n",
    "  apply time series differrencing to the data\n",
    "  :param df: dataframe\n",
    "  :param cols: columns to apply differencing\n",
    "  :param lag: k-lag\n",
    "  :param order: k-order\n",
    "  :return: df_diff - dataframe with differencing \n",
    "  \"\"\"\n",
    "  assert lag > 0\n",
    "  assert order > 0\n",
    "\n",
    "  df_diff = df[cols]\n",
    "\n",
    "  for i in range(order):\n",
    "      df_diff = df_diff.diff(periods=lag)\n",
    "\n",
    "      # remove NAN value rows from df_diff\n",
    "      df_diff = df_diff[lag:]\n",
    "\n",
    "  # return excluded columns\n",
    "  excluded_cols = [x for x in df.columns if x not in cols]\n",
    "\n",
    "  for col in excluded_cols:\n",
    "    df_diff[col] = df[col][lag * order:]\n",
    "\n",
    "  return df_diff"
   ]
  },
  {
   "cell_type": "code",
   "execution_count": 5,
   "metadata": {
    "id": "L9n1jPUm4hNr"
   },
   "outputs": [],
   "source": [
    "def filter_outliers(df, std=5, cols=None):\n",
    "  \"\"\"\n",
    "  remove extreme outliers in data \n",
    "  :param df: data (data frame)\n",
    "  :param std: amount of standard deviation (remove values withe larger values)\n",
    "  :param df: columns to apply\n",
    "  :return: filtered data frame\n",
    "  \"\"\"\n",
    "  selected_cols = df.columns if cols is None else cols\n",
    "\n",
    "  return df[(np.abs(stats.zscore(df[selected_cols])) < std).all(axis=1)]"
   ]
  },
  {
   "cell_type": "code",
   "execution_count": 6,
   "metadata": {
    "id": "IdMEmnYD2y3w"
   },
   "outputs": [],
   "source": [
    "def get_average_detection_delay(y_true, y_pred):\n",
    "  \"\"\"\n",
    "  return average detection delay for labels and predections\n",
    "  :param y_true: labels\n",
    "  :param y_pred: predections\n",
    "  :return: average detection delay\n",
    "  \"\"\"\n",
    "  assert len(y_true) == len(y_pred)\n",
    "\n",
    "  in_window = False\n",
    "  detected_in_window = False\n",
    "  detection_delay_sum = 0\n",
    "  windows_count = 0\n",
    "\n",
    "  for i in range(len(y_true) - 1):\n",
    "    curr_true = y_true[i]\n",
    "    next_true = y_true[i + 1]\n",
    "    curr_pred = y_pred[i]\n",
    "\n",
    "    if in_window and not detected_in_window:\n",
    "      if curr_pred == 1:\n",
    "        detected_in_window = True\n",
    "      else:\n",
    "        detection_delay_sum += 1\n",
    "\n",
    "    if (curr_true == 0 and next_true == 1) or (curr_true == 1 and i == 0):\n",
    "      in_window = True\n",
    "      windows_count += 1\n",
    "\n",
    "    if curr_true == 1 and next_true == 0:\n",
    "      in_window = False\n",
    "      detected_in_window = False\n",
    "\n",
    "  # window is not padded\n",
    "  if next_true == 1:\n",
    "    detection_delay_sum += 1\n",
    "\n",
    "  # window is not padded\n",
    "  if y_true[0] == 1:\n",
    "    detection_delay_sum += 1\n",
    "\n",
    "  return detection_delay_sum / windows_count if windows_count > 0 else 0"
   ]
  },
  {
   "cell_type": "code",
   "execution_count": 7,
   "metadata": {
    "id": "a7QyFctV6PK8"
   },
   "outputs": [],
   "source": [
    "def classification_report(y_true_l, **kwargs):\n",
    "  \"\"\"\n",
    "  classification report with benchmark results (input classifier names and predictions)\n",
    "  :param y_true: labels list (should be same lenght as detectors in kwargs)\n",
    "  :return: filtered data frame\n",
    "  \"\"\"\n",
    "  detector_dict = OrderedDict()\n",
    "  detector_dict[\"Perfect Detector\"] = y_true_l[0], y_true_l[0]\n",
    "\n",
    "  for i, (key, value) in enumerate(kwargs.items()):\n",
    "    assert len(y_true_l[i]) == len(value)\n",
    "    detector_dict[key] = value, y_true_l[i]\n",
    "\n",
    "  detector_dict[\"Null Detector 1\"] = [0] * len(y_true_l[0]), y_true_l[0]\n",
    "  detector_dict[\"Null Detector 2\"] = [1] * len(y_true_l[0]), y_true_l[0]\n",
    "\n",
    "  np.random.seed(0)\n",
    "  detector_dict[\"Random Detector\"] = np.where(np.random.rand(len(y_true_l[0])) >= 0.5, 1, 0), y_true_l[0]\n",
    "\n",
    "  data = []\n",
    "\n",
    "  for key, value in detector_dict.items():\n",
    "    data.append(\n",
    "        [\n",
    "         key,\n",
    "         round(precision_score(value[1], value[0]), 3),\n",
    "         round(recall_score(value[1], value[0]), 3),\n",
    "         round(get_average_detection_delay(value[1], value[0]), 3)\n",
    "        ]\n",
    "    )\n",
    "  \n",
    "  return pd.DataFrame(columns=[\"Detector\", \"Precision\", \"TPR\", \"Average Detection Delay\"], data=data)"
   ]
  },
  {
   "cell_type": "code",
   "execution_count": 8,
   "metadata": {
    "id": "8rITc6Y3TT_p"
   },
   "outputs": [],
   "source": [
    "def roc_fig_plot(y_true_l, **kwargs):\n",
    "  \"\"\"\n",
    "  plot roc curves (input classifier names and scores)\n",
    "  :param y_true_l: labels list (should be same lenght as detectors in kwargs)\n",
    "  :return: \n",
    "  \"\"\"\n",
    "  plt.rcParams[\"figure.figsize\"] = (10, 10)\n",
    "  styles = [\"-\", \"--\"]\n",
    "  colors = [\"b\", \"g\", \"r\", \"c\", \"m\", \"y\", \"k\", \"orange\"]\n",
    "\n",
    "  for i, (key, value) in enumerate(kwargs.items()):\n",
    "    assert len(y_true_l[i]) == len(value)\n",
    "\n",
    "    style = styles[i % 2]\n",
    "    color_idx = math.floor(i / 2)\n",
    "    color = colors[color_idx % (len(colors) - 1)]\n",
    "\n",
    "    fpr, tpr, threshold = roc_curve(y_true_l[i], value)\n",
    "    roc_auc = auc(fpr, tpr)\n",
    "    plt.plot(fpr, tpr, style, label=f'AUC {key.replace(\"_\", \" \")} = {round(roc_auc, 3)}', color=color)\n",
    "\n",
    "  plt.title('Receiver Operating Characteristic')\n",
    "  plt.legend(loc = 'lower right')\n",
    "  plt.plot([0, 1], [0, 1],'r--')\n",
    "  plt.xlim([0, 1])\n",
    "  plt.ylim([0, 1])\n",
    "  plt.ylabel('TPR')\n",
    "  plt.xlabel('FPR')\n",
    "  plt.show()"
   ]
  },
  {
   "cell_type": "code",
   "execution_count": 9,
   "metadata": {
    "id": "sDaKm2YPYOhQ"
   },
   "outputs": [],
   "source": [
    "def precision_recall_fig_plot(y_true_l, **kwargs):\n",
    "  \"\"\"\n",
    "  plot precision recall curve (input classifier names and scores)\n",
    "  :param y_true_l: labels list (should be same lenght as detectors in kwargs)\n",
    "  :return: \n",
    "  \"\"\"\n",
    "  plt.rcParams[\"figure.figsize\"] = (10, 10)\n",
    "  styles = [\"-\", \"--\"]\n",
    "  colors = [\"b\", \"g\", \"r\", \"c\", \"m\", \"y\", \"k\", \"orange\"]\n",
    "\n",
    "  for i, (key, value) in enumerate(kwargs.items()):\n",
    "    assert len(y_true_l[i]) == len(value)\n",
    "\n",
    "    style = styles[i % 2]\n",
    "    color_idx = math.floor(i / 2) \n",
    "    color = colors[color_idx % (len(colors) - 1)]\n",
    "\n",
    "    precision, recall, thresholds = precision_recall_curve(y_true_l[i], value)\n",
    "    prc_auc = auc(recall, precision)\n",
    "    plt.plot(recall, precision, style, label=f'AUC {key.replace(\"_\", \" \")} = {round(prc_auc, 3)}', color=color)\n",
    "\n",
    "  plt.title('Precision Recall Curve')\n",
    "  plt.legend(loc = 'lower right')\n",
    "  plt.xlim([0.1, 1])\n",
    "  plt.ylim([0, 1])\n",
    "  plt.ylabel('precision')\n",
    "  plt.xlabel('recall')\n",
    "  plt.show()"
   ]
  },
  {
   "cell_type": "code",
   "execution_count": 10,
   "metadata": {
    "id": "G7lPkvBVQTnB"
   },
   "outputs": [],
   "source": [
    "def anomaly_score(score, mu, sig):\n",
    "  \"\"\"\n",
    "  anomaly scores based on CDF func\n",
    "  :param score: list of scores given by model\n",
    "  :param mu: mean of normal dist\n",
    "  :param sig: std of normal dist\n",
    "  :return: anomaly scores\n",
    "  \"\"\"\n",
    "  return 1 - stats.norm.sf(score, mu, sig)"
   ]
  },
  {
   "cell_type": "code",
   "execution_count": 11,
   "metadata": {
    "id": "s2LJcw-XQslY"
   },
   "outputs": [],
   "source": [
    "def q_verdict(x, mu, sig, n=0.1):\n",
    "  \"\"\"\n",
    "  verdict based on CDF func\n",
    "  :param score: list of scores given by model\n",
    "  :param mu: mean of normal dist\n",
    "  :param sig: std of normal dist\n",
    "  :param n: threshold (hyperparameter)\n",
    "  :return: verdicts\n",
    "  \"\"\"\n",
    "  return np.where(anomaly_score(x, mu, sig) >= 1 - n, 1, 0)"
   ]
  },
  {
   "cell_type": "code",
   "execution_count": 12,
   "metadata": {
    "id": "LX_x1CMi5Xsd"
   },
   "outputs": [],
   "source": [
    "def test_noraml_dist(x, alpha=0.05):\n",
    "  \"\"\"\n",
    "  Perform the Shapiro-Wilk test for normality\n",
    "\n",
    "  :param x: The array containing the sample to be tested\n",
    "  :param alpha: threshold for rejection of null hypothesis\n",
    "  \"\"\"\n",
    "  # For N > 5000 the W test statistic is accurate but the p-value may not be.\n",
    "  # The chance of rejecting the null hypothesis when it is true is close to 5% regardless of sample size.\n",
    "  length = min(len(x), 2500)\n",
    "  stats, p = scipy.stats.shapiro(x[:length])\n",
    "  print(f\"p-value: {p}\")\n",
    "  if p < alpha:  # null hypothesis: the data was drawn from a normal distribution\n",
    "      print(\"The null hypothesis can be rejected\")\n",
    "  else:\n",
    "      print(\"The null hypothesis cannot be rejected\")\n"
   ]
  },
  {
   "cell_type": "markdown",
   "metadata": {
    "id": "hGNpRvfLxiCy"
   },
   "source": [
    "## 2. Load Data"
   ]
  },
  {
   "cell_type": "markdown",
   "metadata": {
    "id": "C3OsDrY9rs2R"
   },
   "source": [
    "### 2.2 Real Data"
   ]
  },
  {
   "cell_type": "code",
   "execution_count": 13,
   "metadata": {
    "id": "u34eCXtduFyt"
   },
   "outputs": [],
   "source": [
    "data_dict = {\n",
    "    \"train\": [],\n",
    "    \"validation\": [],\n",
    "    \"test_noise\": [],\n",
    "    \"test_landing\": [],\n",
    "    \"test_departing\": [],\n",
    "    \"test_manoeuver\": [],\n",
    "    \"test_deviation\":[],\n",
    "    \"test_stand\": [],\n",
    "}"
   ]
  },
  {
   "cell_type": "code",
   "execution_count": 14,
   "metadata": {
    "id": "Xx-wbxObuiof"
   },
   "outputs": [],
   "source": [
    "paths = {\n",
    "    \"train\": DATA_TRAIN_DIR,\n",
    "    \"validation\": DATA_VALIDATION_DIR,\n",
    "    \"test_noise\": DATA_TEST_NOISE_DIR,\n",
    "    \"test_landing\": DATA_TEST_LANDING_DIR,\n",
    "    \"test_departing\": DATA_TEST_DEPARTING_DIR,\n",
    "    \"test_manoeuver\": DATA_TEST_MANOEUVER_DIR,\n",
    "    \"test_deviation\": DATA_TEST_DEVIATION_DIR,\n",
    "    \"test_stand\": DATA_TEST_STAND_DIR,\n",
    "}"
   ]
  },
  {
   "cell_type": "code",
   "execution_count": 15,
   "metadata": {
    "colab": {
     "base_uri": "https://localhost:8080/",
     "height": 146
    },
    "id": "HEMmrj9WvfQF",
    "outputId": "e185d522-e281-448f-f9b6-eb08736dd667"
   },
   "outputs": [],
   "source": [
    "for key, path in paths.items():\n",
    "  files = os.listdir(path)\n",
    "\n",
    "  for file in files:\n",
    "    df = pd.read_csv(os.path.join(path, file))\n",
    "    if key == \"train\":\n",
    "      df = filter_outliers(df, cols=[\"longitude\", \"latitude\", \"altitude\", \"groundspeed\", \"x\", \"y\"], std=5)\n",
    "    if key == \"validation\":\n",
    "      df = filter_outliers(df, cols=[\"longitude\", \"latitude\", \"altitude\", \"groundspeed\", \"x\", \"y\"], std=8)\n",
    "\n",
    "    if DIFF_DATA:\n",
    "      df = diff_data(df, cols=DIFF_FEATURES, lag=K_LAG, order=K_ORDER)\n",
    "    \n",
    "    data_dict[key].append(df)"
   ]
  },
  {
   "cell_type": "code",
   "execution_count": 26,
   "metadata": {},
   "outputs": [
    {
     "data": {
      "text/plain": [
       "'VIR63.csv'"
      ]
     },
     "execution_count": 26,
     "metadata": {},
     "output_type": "execute_result"
    }
   ],
   "source": [
    "file"
   ]
  },
  {
   "cell_type": "code",
   "execution_count": null,
   "metadata": {},
   "outputs": [],
   "source": []
  },
  {
   "cell_type": "markdown",
   "metadata": {
    "id": "3z1O1saDvDpD"
   },
   "source": [
    "## 3. transformer"
   ]
  },
  {
   "cell_type": "code",
   "execution_count": 106,
   "metadata": {},
   "outputs": [],
   "source": [
    "class MultiHeadSelfAttention(layers.Layer):\n",
    "    def __init__(self, embed_dim, num_heads=8):\n",
    "        super(MultiHeadSelfAttention, self).__init__()\n",
    "        self.embed_dim = embed_dim\n",
    "        self.num_heads = num_heads\n",
    "        if embed_dim % num_heads != 0:\n",
    "            raise ValueError(\n",
    "                f\"embedding dimension = {embed_dim} should be divisible by number of heads = {num_heads}\"\n",
    "            )\n",
    "        self.projection_dim = embed_dim // num_heads\n",
    "        self.query_dense = layers.Dense(embed_dim)\n",
    "        self.key_dense = layers.Dense(embed_dim)\n",
    "        self.value_dense = layers.Dense(embed_dim)\n",
    "        self.combine_heads = layers.Dense(embed_dim)\n",
    "\n",
    "    def attention(self, query, key, value):\n",
    "        score = tf.matmul(query, key, transpose_b=True)\n",
    "        dim_key = tf.cast(tf.shape(key)[-1], tf.float32)\n",
    "        scaled_score = score / tf.math.sqrt(dim_key)\n",
    "        weights = tf.nn.softmax(scaled_score, axis=-1)\n",
    "        output = tf.matmul(weights, value)\n",
    "        return output, weights\n",
    "\n",
    "    def separate_heads(self, x, batch_size):\n",
    "        x = tf.reshape(x, (batch_size, -1, self.num_heads, self.projection_dim))\n",
    "        return tf.transpose(x, perm=[0, 2, 1, 3])\n",
    "\n",
    "    def call(self, inputs):\n",
    "        # x.shape = [batch_size, seq_len, embedding_dim]\n",
    "        batch_size = tf.shape(inputs)[0]\n",
    "        query = self.query_dense(inputs)  # (batch_size, seq_len, embed_dim)\n",
    "        key = self.key_dense(inputs)  # (batch_size, seq_len, embed_dim)\n",
    "        value = self.value_dense(inputs)  # (batch_size, seq_len, embed_dim)\n",
    "        query = self.separate_heads(\n",
    "            query, batch_size\n",
    "        )  # (batch_size, num_heads, seq_len, projection_dim)\n",
    "        key = self.separate_heads(\n",
    "            key, batch_size\n",
    "        )  # (batch_size, num_heads, seq_len, projection_dim)\n",
    "        value = self.separate_heads(\n",
    "            value, batch_size\n",
    "        )  # (batch_size, num_heads, seq_len, projection_dim)\n",
    "        attention, weights = self.attention(query, key, value)\n",
    "        attention = tf.transpose(\n",
    "            attention, perm=[0, 2, 1, 3]\n",
    "        )  # (batch_size, seq_len, num_heads, projection_dim)\n",
    "        concat_attention = tf.reshape(\n",
    "            attention, (batch_size, -1, self.embed_dim)\n",
    "        )  # (batch_size, seq_len, embed_dim)\n",
    "        output = self.combine_heads(\n",
    "            concat_attention\n",
    "        )  # (batch_size, seq_len, embed_dim)\n",
    "        return output"
   ]
  },
  {
   "cell_type": "code",
   "execution_count": 107,
   "metadata": {},
   "outputs": [],
   "source": [
    "class TransformerBlock(layers.Layer):\n",
    "    def __init__(self, embed_dim, num_heads, ff_dim, rate=0.1):\n",
    "        super(TransformerBlock, self).__init__()\n",
    "        self.att = MultiHeadSelfAttention(embed_dim, num_heads)\n",
    "        self.ffn = keras.Sequential(\n",
    "            [layers.Dense(ff_dim, activation=\"relu\"), layers.Dense(embed_dim),]\n",
    "        )\n",
    "        self.layernorm1 = layers.LayerNormalization(epsilon=1e-6)\n",
    "        self.layernorm2 = layers.LayerNormalization(epsilon=1e-6)\n",
    "        self.dropout1 = layers.Dropout(rate)\n",
    "        self.dropout2 = layers.Dropout(rate)\n",
    "\n",
    "    def call(self, inputs, training):\n",
    "        attn_output = self.att(inputs)\n",
    "        attn_output = self.dropout1(attn_output, training=training)\n",
    "        out1 = self.layernorm1(inputs + attn_output)\n",
    "        ffn_output = self.ffn(out1)\n",
    "        ffn_output = self.dropout2(ffn_output, training=training)\n",
    "        return self.layernorm2(out1 + ffn_output)"
   ]
  },
  {
   "cell_type": "code",
   "execution_count": 108,
   "metadata": {},
   "outputs": [],
   "source": [
    "class TokenAndPositionEmbedding(layers.Layer):\n",
    "    def __init__(self, maxlen, vocab_size, embed_dim):\n",
    "        super(TokenAndPositionEmbedding, self).__init__()\n",
    "        self.token_emb = layers.Embedding(input_dim=vocab_size, output_dim=embed_dim)\n",
    "        self.pos_emb = layers.Embedding(input_dim=maxlen, output_dim=embed_dim)\n",
    "\n",
    "    def call(self, x):\n",
    "        maxlen = tf.shape(x)[-1]\n",
    "        positions = tf.range(start=0, limit=maxlen, delta=1)\n",
    "        positions = self.pos_emb(positions)\n",
    "        x = self.token_emb(x)\n",
    "        return x + positions "
   ]
  },
  {
   "cell_type": "code",
   "execution_count": 109,
   "metadata": {
    "scrolled": true
   },
   "outputs": [
    {
     "name": "stdout",
     "output_type": "stream",
     "text": [
      "Model: \"model_1\"\n",
      "_________________________________________________________________\n",
      " Layer (type)                Output Shape              Param #   \n",
      "=================================================================\n",
      " input_2 (InputLayer)        [(None, 50)]              0         \n",
      "                                                                 \n",
      " token_and_position_embeddi  (None, 50, 32)            1601600   \n",
      " ng (TokenAndPositionEmbedd                                      \n",
      " ing)                                                            \n",
      "                                                                 \n",
      " transformer_block (Transfo  (None, 50, 32)            6464      \n",
      " rmerBlock)                                                      \n",
      "                                                                 \n",
      " global_average_pooling1d (  (None, 32)                0         \n",
      " GlobalAveragePooling1D)                                         \n",
      "                                                                 \n",
      " dropout_2 (Dropout)         (None, 32)                0         \n",
      "                                                                 \n",
      " dense_6 (Dense)             (None, 20)                660       \n",
      "                                                                 \n",
      " dense_7 (Dense)             (None, 50)                1050      \n",
      "                                                                 \n",
      "=================================================================\n",
      "Total params: 1609774 (6.14 MB)\n",
      "Trainable params: 1609774 (6.14 MB)\n",
      "Non-trainable params: 0 (0.00 Byte)\n",
      "_________________________________________________________________\n"
     ]
    }
   ],
   "source": [
    "vocab_size = 50000  # Only consider the top 20k words\n",
    "maxlen = 50  # Only consider the first 200 words of each movie review\n",
    "embed_dim = 32  # Embedding size for each token6\n",
    "num_heads = 8  # Number of attention heads\n",
    "ff_dim = 32  # Hidden layer size in feed forward network inside transformer\n",
    "\n",
    "inputs = layers.Input(shape=(maxlen,))\n",
    "embedding_layer = TokenAndPositionEmbedding(maxlen, vocab_size, embed_dim)\n",
    "x = embedding_layer(inputs)\n",
    "transformer_block = TransformerBlock(embed_dim, num_heads, ff_dim)\n",
    "x = transformer_block(x)\n",
    "x = layers.GlobalAveragePooling1D()(x)\n",
    "x = layers.Dropout(0.1)(x)\n",
    "x = layers.Dense(20, activation=\"relu\")(x)\n",
    "outputs = layers.Dense(50, activation=\"sigmoid\")(x)\n",
    "\n",
    "model = keras.Model(inputs=inputs, outputs=outputs)\n",
    "model.summary()"
   ]
  },
  {
   "cell_type": "code",
   "execution_count": 17,
   "metadata": {
    "id": "PgTIOVkIxY0R"
   },
   "outputs": [],
   "source": [
    "transformer_model_feature_pipeline = Pipeline(\n",
    "    steps=[('scaler', MinMaxScaler(feature_range=(0.01, 1)))]\n",
    ")"
   ]
  },
  {
   "cell_type": "markdown",
   "metadata": {
    "id": "iK6vZbw9-A_Z"
   },
   "source": [
    "### 3.1 Train"
   ]
  },
  {
   "cell_type": "code",
   "execution_count": 18,
   "metadata": {
    "colab": {
     "base_uri": "https://localhost:8080/",
     "height": 1000
    },
    "id": "lCUDwRAYAs6y",
    "outputId": "735b89fa-d25f-495e-92b9-eb8f6a8e655a"
   },
   "outputs": [
    {
     "name": "stderr",
     "output_type": "stream",
     "text": [
      "100%|██████████████████████████████████████████████████████████████████████████████████| 21/21 [00:21<00:00,  1.03s/it]\n"
     ]
    }
   ],
   "source": [
    "X_l = []\n",
    "y_l = []\n",
    "\n",
    "for df in tqdm(data_dict[\"train\"]):\n",
    "  X, y = get_windows_data(df[FEATURES], [0] * df.shape[0], window_size=WINDOW_SIZE_transformer, tsfresh=True)\n",
    "  X_l.append(X)\n",
    "  y_l.append(y)"
   ]
  },
  {
   "cell_type": "code",
   "execution_count": 19,
   "metadata": {
    "colab": {
     "base_uri": "https://localhost:8080/",
     "height": 1000
    },
    "id": "u_v2lwV9NkBS",
    "outputId": "95c39170-d5cb-4dc5-8fb2-7a291e7c6d01",
    "scrolled": true
   },
   "outputs": [
    {
     "name": "stderr",
     "output_type": "stream",
     "text": [
      "  0%|                                                                                           | 0/21 [00:00<?, ?it/s]\n",
      "Feature Extraction:   0%|                                                                       | 0/40 [00:00<?, ?it/s]\u001b[A\n",
      "Feature Extraction:   2%|█▌                                                             | 1/40 [00:02<01:49,  2.81s/it]\u001b[A\n",
      "Feature Extraction:  15%|█████████▍                                                     | 6/40 [00:02<00:12,  2.74it/s]\u001b[A\n",
      "Feature Extraction:  28%|█████████████████                                             | 11/40 [00:03<00:05,  5.72it/s]\u001b[A\n",
      "Feature Extraction:  38%|███████████████████████▎                                      | 15/40 [00:03<00:03,  7.54it/s]\u001b[A\n",
      "Feature Extraction:  48%|█████████████████████████████▍                                | 19/40 [00:03<00:01, 10.52it/s]\u001b[A\n",
      "Feature Extraction:  60%|█████████████████████████████████████▏                        | 24/40 [00:03<00:01, 14.97it/s]\u001b[A\n",
      "Feature Extraction:  72%|████████████████████████████████████████████▉                 | 29/40 [00:03<00:00, 19.28it/s]\u001b[A\n",
      "Feature Extraction:  85%|████████████████████████████████████████████████████▋         | 34/40 [00:03<00:00, 23.88it/s]\u001b[A\n",
      "Feature Extraction: 100%|██████████████████████████████████████████████████████████████| 40/40 [00:04<00:00,  9.86it/s]\u001b[A\n",
      "  5%|███▉                                                                               | 1/21 [00:04<01:26,  4.32s/it]\n",
      "Feature Extraction:   0%|                                                                       | 0/40 [00:00<?, ?it/s]\u001b[A\n",
      "Feature Extraction:   2%|█▌                                                             | 1/40 [00:02<01:44,  2.69s/it]\u001b[A\n",
      "Feature Extraction:  10%|██████▎                                                        | 4/40 [00:02<00:19,  1.86it/s]\u001b[A\n",
      "Feature Extraction:  18%|███████████                                                    | 7/40 [00:02<00:08,  3.71it/s]\u001b[A\n",
      "Feature Extraction:  25%|███████████████▌                                              | 10/40 [00:03<00:05,  5.21it/s]\u001b[A\n",
      "Feature Extraction:  32%|████████████████████▏                                         | 13/40 [00:03<00:03,  7.36it/s]\u001b[A\n",
      "Feature Extraction:  42%|██████████████████████████▎                                   | 17/40 [00:03<00:02, 10.00it/s]\u001b[A\n",
      "Feature Extraction:  50%|███████████████████████████████                               | 20/40 [00:03<00:01, 12.21it/s]\u001b[A\n",
      "Feature Extraction:  57%|███████████████████████████████████▋                          | 23/40 [00:03<00:01, 12.70it/s]\u001b[A\n",
      "Feature Extraction:  65%|████████████████████████████████████████▎                     | 26/40 [00:04<00:00, 14.70it/s]\u001b[A\n",
      "Feature Extraction:  75%|██████████████████████████████████████████████▌               | 30/40 [00:04<00:00, 17.53it/s]\u001b[A\n",
      "Feature Extraction:  85%|████████████████████████████████████████████████████▋         | 34/40 [00:04<00:00, 19.95it/s]\u001b[A\n",
      "Feature Extraction:  92%|█████████████████████████████████████████████████████████▎    | 37/40 [00:04<00:00, 17.33it/s]\u001b[A\n",
      "Feature Extraction: 100%|██████████████████████████████████████████████████████████████| 40/40 [00:04<00:00,  8.54it/s]\u001b[A\n",
      " 10%|███████▉                                                                           | 2/21 [00:09<01:29,  4.70s/it]\n",
      "Feature Extraction:   0%|                                                                       | 0/40 [00:00<?, ?it/s]\u001b[A\n",
      "Feature Extraction:   2%|█▌                                                             | 1/40 [00:02<01:46,  2.74s/it]\u001b[A\n",
      "Feature Extraction:  12%|███████▉                                                       | 5/40 [00:02<00:15,  2.29it/s]\u001b[A\n",
      "Feature Extraction:  20%|████████████▌                                                  | 8/40 [00:03<00:07,  4.04it/s]\u001b[A\n",
      "Feature Extraction:  28%|█████████████████                                             | 11/40 [00:03<00:05,  5.39it/s]\u001b[A\n",
      "Feature Extraction:  35%|█████████████████████▋                                        | 14/40 [00:03<00:03,  7.60it/s]\u001b[A\n",
      "Feature Extraction:  42%|██████████████████████████▎                                   | 17/40 [00:03<00:02,  9.16it/s]\u001b[A\n",
      "Feature Extraction:  50%|███████████████████████████████                               | 20/40 [00:03<00:02,  9.56it/s]\u001b[A\n",
      "Feature Extraction:  60%|█████████████████████████████████████▏                        | 24/40 [00:04<00:01, 12.56it/s]\u001b[A\n",
      "Feature Extraction:  72%|████████████████████████████████████████████▉                 | 29/40 [00:04<00:00, 16.94it/s]\u001b[A\n",
      "Feature Extraction:  80%|█████████████████████████████████████████████████▌            | 32/40 [00:04<00:00, 18.47it/s]\u001b[A\n",
      "Feature Extraction:  88%|██████████████████████████████████████████████████████▎       | 35/40 [00:04<00:00, 16.33it/s]\u001b[A\n",
      "Feature Extraction: 100%|██████████████████████████████████████████████████████████████| 40/40 [00:04<00:00,  8.36it/s]\u001b[A\n",
      " 14%|███████████▊                                                                       | 3/21 [00:14<01:27,  4.87s/it]\n",
      "Feature Extraction:   0%|                                                                       | 0/40 [00:00<?, ?it/s]\u001b[A\n",
      "Feature Extraction:   2%|█▌                                                             | 1/40 [00:03<01:58,  3.04s/it]\u001b[A\n",
      "Feature Extraction:  10%|██████▎                                                        | 4/40 [00:03<00:23,  1.55it/s]\u001b[A\n",
      "Feature Extraction:  15%|█████████▍                                                     | 6/40 [00:03<00:14,  2.28it/s]\u001b[A\n",
      "Feature Extraction:  22%|██████████████▏                                                | 9/40 [00:03<00:07,  3.91it/s]\u001b[A\n",
      "Feature Extraction:  28%|█████████████████                                             | 11/40 [00:03<00:05,  4.95it/s]\u001b[A\n",
      "Feature Extraction:  32%|████████████████████▏                                         | 13/40 [00:04<00:04,  5.62it/s]\u001b[A\n",
      "Feature Extraction:  35%|█████████████████████▋                                        | 14/40 [00:04<00:04,  5.63it/s]\u001b[A\n",
      "Feature Extraction:  40%|████████████████████████▊                                     | 16/40 [00:04<00:03,  6.94it/s]\u001b[A\n",
      "Feature Extraction:  42%|██████████████████████████▎                                   | 17/40 [00:04<00:03,  6.05it/s]\u001b[A\n",
      "Feature Extraction:  48%|█████████████████████████████▍                                | 19/40 [00:05<00:03,  6.57it/s]\u001b[A\n",
      "Feature Extraction:  52%|████████████████████████████████▌                             | 21/40 [00:05<00:03,  6.17it/s]\u001b[A\n",
      "Feature Extraction:  60%|█████████████████████████████████████▏                        | 24/40 [00:05<00:02,  7.78it/s]\u001b[A\n",
      "Feature Extraction:  68%|█████████████████████████████████████████▊                    | 27/40 [00:06<00:01,  8.01it/s]\u001b[A\n",
      "Feature Extraction:  75%|██████████████████████████████████████████████▌               | 30/40 [00:06<00:01,  8.99it/s]\u001b[A\n",
      "Feature Extraction:  80%|█████████████████████████████████████████████████▌            | 32/40 [00:06<00:00,  9.84it/s]\u001b[A\n",
      "Feature Extraction:  85%|████████████████████████████████████████████████████▋         | 34/40 [00:06<00:00,  9.32it/s]\u001b[A\n",
      "Feature Extraction:  88%|██████████████████████████████████████████████████████▎       | 35/40 [00:06<00:00,  7.48it/s]\u001b[A\n",
      "Feature Extraction:  92%|█████████████████████████████████████████████████████████▎    | 37/40 [00:07<00:00,  6.77it/s]\u001b[A\n",
      "Feature Extraction: 100%|██████████████████████████████████████████████████████████████| 40/40 [00:07<00:00,  5.30it/s]\u001b[A\n",
      " 19%|███████████████▊                                                                   | 4/21 [00:22<01:43,  6.10s/it]\n",
      "Feature Extraction:   0%|                                                                       | 0/40 [00:00<?, ?it/s]\u001b[A\n",
      "Feature Extraction:   2%|█▌                                                             | 1/40 [00:02<01:45,  2.72s/it]\u001b[A\n",
      "Feature Extraction:  12%|███████▉                                                       | 5/40 [00:02<00:15,  2.31it/s]\u001b[A\n",
      "Feature Extraction:  22%|██████████████▏                                                | 9/40 [00:02<00:06,  4.65it/s]\u001b[A\n",
      "Feature Extraction:  30%|██████████████████▌                                           | 12/40 [00:03<00:04,  6.09it/s]\u001b[A\n",
      "Feature Extraction:  35%|█████████████████████▋                                        | 14/40 [00:03<00:03,  7.22it/s]\u001b[A\n",
      "Feature Extraction:  42%|██████████████████████████▎                                   | 17/40 [00:03<00:02,  9.08it/s]\u001b[A\n",
      "Feature Extraction:  50%|███████████████████████████████                               | 20/40 [00:03<00:01, 11.33it/s]\u001b[A\n",
      "Feature Extraction:  57%|███████████████████████████████████▋                          | 23/40 [00:03<00:01, 10.95it/s]\u001b[A\n",
      "Feature Extraction:  70%|███████████████████████████████████████████▍                  | 28/40 [00:04<00:00, 15.88it/s]\u001b[A\n",
      "Feature Extraction:  80%|█████████████████████████████████████████████████▌            | 32/40 [00:04<00:00, 18.55it/s]\u001b[A\n",
      "Feature Extraction:  88%|██████████████████████████████████████████████████████▎       | 35/40 [00:04<00:00, 19.76it/s]\u001b[A\n",
      "Feature Extraction: 100%|██████████████████████████████████████████████████████████████| 40/40 [00:04<00:00,  8.50it/s]\u001b[A\n",
      " 24%|███████████████████▊                                                               | 5/21 [00:27<01:30,  5.69s/it]\n",
      "Feature Extraction:   0%|                                                                       | 0/40 [00:00<?, ?it/s]\u001b[A\n",
      "Feature Extraction:   2%|█▌                                                             | 1/40 [00:02<01:43,  2.65s/it]\u001b[A\n",
      "Feature Extraction:  12%|███████▉                                                       | 5/40 [00:02<00:14,  2.38it/s]\u001b[A\n",
      "Feature Extraction:  22%|██████████████▏                                                | 9/40 [00:02<00:06,  4.90it/s]\u001b[A\n",
      "Feature Extraction:  32%|████████████████████▏                                         | 13/40 [00:02<00:03,  7.86it/s]\u001b[A\n",
      "Feature Extraction:  42%|██████████████████████████▎                                   | 17/40 [00:03<00:02, 11.31it/s]\u001b[A\n",
      "Feature Extraction:  52%|████████████████████████████████▌                             | 21/40 [00:03<00:01, 12.25it/s]\u001b[A\n",
      "Feature Extraction:  62%|██████████████████████████████████████▊                       | 25/40 [00:03<00:00, 15.88it/s]\u001b[A\n",
      "Feature Extraction:  72%|████████████████████████████████████████████▉                 | 29/40 [00:03<00:00, 19.19it/s]\u001b[A\n",
      "Feature Extraction:  82%|███████████████████████████████████████████████████▏          | 33/40 [00:03<00:00, 20.41it/s]\u001b[A\n",
      "Feature Extraction: 100%|██████████████████████████████████████████████████████████████| 40/40 [00:03<00:00, 10.08it/s]\u001b[A\n",
      " 29%|███████████████████████▋                                                           | 6/21 [00:31<01:17,  5.17s/it]\n",
      "Feature Extraction:   0%|                                                                       | 0/40 [00:00<?, ?it/s]\u001b[A\n",
      "Feature Extraction:   2%|█▌                                                             | 1/40 [00:02<01:50,  2.85s/it]\u001b[A\n",
      "Feature Extraction:  12%|███████▉                                                       | 5/40 [00:02<00:15,  2.23it/s]\u001b[A\n",
      "Feature Extraction:  25%|███████████████▌                                              | 10/40 [00:03<00:05,  5.24it/s]\u001b[A\n",
      "Feature Extraction:  38%|███████████████████████▎                                      | 15/40 [00:03<00:02,  8.88it/s]\u001b[A\n",
      "Feature Extraction:  50%|███████████████████████████████                               | 20/40 [00:03<00:01, 13.03it/s]\u001b[A\n",
      "Feature Extraction:  62%|██████████████████████████████████████▊                       | 25/40 [00:03<00:01, 14.90it/s]\u001b[A\n",
      "Feature Extraction:  72%|████████████████████████████████████████████▉                 | 29/40 [00:03<00:00, 18.24it/s]\u001b[A\n",
      "Feature Extraction:  85%|████████████████████████████████████████████████████▋         | 34/40 [00:03<00:00, 22.85it/s]\u001b[A\n",
      "Feature Extraction: 100%|██████████████████████████████████████████████████████████████| 40/40 [00:03<00:00, 10.32it/s]\u001b[A\n",
      " 33%|███████████████████████████▋                                                       | 7/21 [00:35<01:07,  4.81s/it]\n",
      "Feature Extraction:   0%|                                                                       | 0/40 [00:00<?, ?it/s]\u001b[A\n",
      "Feature Extraction:   2%|█▌                                                             | 1/40 [00:02<01:47,  2.74s/it]\u001b[A\n",
      "Feature Extraction:  15%|█████████▍                                                     | 6/40 [00:02<00:12,  2.80it/s]\u001b[A\n",
      "Feature Extraction:  25%|███████████████▌                                              | 10/40 [00:02<00:05,  5.24it/s]\u001b[A\n",
      "Feature Extraction:  35%|█████████████████████▋                                        | 14/40 [00:03<00:03,  7.22it/s]\u001b[A\n",
      "Feature Extraction:  48%|█████████████████████████████▍                                | 19/40 [00:03<00:01, 11.18it/s]\u001b[A\n",
      "Feature Extraction:  60%|█████████████████████████████████████▏                        | 24/40 [00:03<00:01, 15.36it/s]\u001b[A\n",
      "Feature Extraction:  70%|███████████████████████████████████████████▍                  | 28/40 [00:03<00:00, 18.82it/s]\u001b[A\n",
      "Feature Extraction:  82%|███████████████████████████████████████████████████▏          | 33/40 [00:03<00:00, 17.09it/s]\u001b[A\n",
      "Feature Extraction: 100%|██████████████████████████████████████████████████████████████| 40/40 [00:04<00:00,  9.86it/s]\u001b[A\n",
      " 38%|███████████████████████████████▌                                                   | 8/21 [00:39<01:00,  4.63s/it]\n",
      "Feature Extraction:   0%|                                                                       | 0/40 [00:00<?, ?it/s]\u001b[A\n",
      "Feature Extraction:   2%|█▌                                                             | 1/40 [00:02<01:45,  2.71s/it]\u001b[A\n",
      "Feature Extraction:  12%|███████▉                                                       | 5/40 [00:02<00:14,  2.35it/s]\u001b[A\n",
      "Feature Extraction:  25%|███████████████▌                                              | 10/40 [00:02<00:05,  5.44it/s]\u001b[A\n",
      "Feature Extraction:  35%|█████████████████████▋                                        | 14/40 [00:03<00:03,  8.17it/s]\u001b[A\n",
      "Feature Extraction:  45%|███████████████████████████▉                                  | 18/40 [00:03<00:02, 10.04it/s]\u001b[A\n",
      "Feature Extraction:  52%|████████████████████████████████▌                             | 21/40 [00:03<00:01, 12.19it/s]\u001b[A\n",
      "Feature Extraction:  62%|██████████████████████████████████████▊                       | 25/40 [00:03<00:00, 16.01it/s]\u001b[A\n",
      "Feature Extraction:  75%|██████████████████████████████████████████████▌               | 30/40 [00:03<00:00, 20.90it/s]\u001b[A\n",
      "Feature Extraction:  85%|████████████████████████████████████████████████████▋         | 34/40 [00:03<00:00, 21.40it/s]\u001b[A\n",
      "Feature Extraction: 100%|██████████████████████████████████████████████████████████████| 40/40 [00:03<00:00, 10.03it/s]\u001b[A\n",
      " 43%|███████████████████████████████████▌                                               | 9/21 [00:43<00:53,  4.49s/it]\n",
      "Feature Extraction:   0%|                                                                       | 0/40 [00:00<?, ?it/s]\u001b[A\n",
      "Feature Extraction:   2%|█▌                                                             | 1/40 [00:02<01:49,  2.81s/it]\u001b[A\n",
      "Feature Extraction:  10%|██████▎                                                        | 4/40 [00:02<00:20,  1.79it/s]\u001b[A\n",
      "Feature Extraction:  20%|████████████▌                                                  | 8/40 [00:03<00:07,  4.25it/s]\u001b[A\n",
      "Feature Extraction:  32%|████████████████████▏                                         | 13/40 [00:03<00:03,  7.93it/s]\u001b[A\n",
      "Feature Extraction:  42%|██████████████████████████▎                                   | 17/40 [00:03<00:02, 11.18it/s]\u001b[A\n",
      "Feature Extraction:  52%|████████████████████████████████▌                             | 21/40 [00:03<00:01, 14.85it/s]\u001b[A\n",
      "Feature Extraction:  62%|██████████████████████████████████████▊                       | 25/40 [00:03<00:00, 15.03it/s]\u001b[A\n",
      "Feature Extraction:  72%|████████████████████████████████████████████▉                 | 29/40 [00:03<00:00, 18.72it/s]\u001b[A\n",
      "Feature Extraction:  82%|███████████████████████████████████████████████████▏          | 33/40 [00:03<00:00, 22.38it/s]\u001b[A\n",
      "Feature Extraction: 100%|██████████████████████████████████████████████████████████████| 40/40 [00:03<00:00, 10.04it/s]\u001b[A\n",
      " 48%|███████████████████████████████████████                                           | 10/21 [00:48<00:48,  4.39s/it]\n",
      "Feature Extraction:   0%|                                                                       | 0/40 [00:00<?, ?it/s]\u001b[A\n",
      "Feature Extraction:   2%|█▌                                                             | 1/40 [00:02<01:46,  2.73s/it]\u001b[A\n",
      "Feature Extraction:  12%|███████▉                                                       | 5/40 [00:02<00:15,  2.32it/s]\u001b[A\n",
      "Feature Extraction:  20%|████████████▌                                                  | 8/40 [00:03<00:08,  3.73it/s]\u001b[A\n",
      "Feature Extraction:  28%|█████████████████                                             | 11/40 [00:03<00:05,  5.71it/s]\u001b[A\n",
      "Feature Extraction:  35%|█████████████████████▋                                        | 14/40 [00:03<00:03,  8.03it/s]\u001b[A\n",
      "Feature Extraction:  42%|██████████████████████████▎                                   | 17/40 [00:03<00:02, 10.69it/s]\u001b[A\n",
      "Feature Extraction:  52%|████████████████████████████████▌                             | 21/40 [00:03<00:01, 14.34it/s]\u001b[A\n",
      "Feature Extraction:  60%|█████████████████████████████████████▏                        | 24/40 [00:03<00:01, 13.19it/s]\u001b[A\n",
      "Feature Extraction:  68%|█████████████████████████████████████████▊                    | 27/40 [00:04<00:00, 14.51it/s]\u001b[A\n",
      "Feature Extraction:  75%|██████████████████████████████████████████████▌               | 30/40 [00:04<00:00, 16.79it/s]\u001b[A\n",
      "Feature Extraction:  88%|██████████████████████████████████████████████████████▎       | 35/40 [00:04<00:00, 22.43it/s]\u001b[A\n",
      "Feature Extraction: 100%|██████████████████████████████████████████████████████████████| 40/40 [00:04<00:00,  8.79it/s]\u001b[A\n",
      " 52%|██████████████████████████████████████████▉                                       | 11/21 [00:52<00:45,  4.51s/it]\n",
      "Feature Extraction:   0%|                                                                       | 0/40 [00:00<?, ?it/s]\u001b[A\n",
      "Feature Extraction:   2%|█▌                                                             | 1/40 [00:02<01:46,  2.74s/it]\u001b[A\n",
      "Feature Extraction:  12%|███████▉                                                       | 5/40 [00:02<00:15,  2.31it/s]\u001b[A\n",
      "Feature Extraction:  22%|██████████████▏                                                | 9/40 [00:02<00:06,  4.71it/s]\u001b[A\n",
      "Feature Extraction:  32%|████████████████████▏                                         | 13/40 [00:03<00:03,  7.59it/s]\u001b[A\n",
      "Feature Extraction:  42%|██████████████████████████▎                                   | 17/40 [00:03<00:02, 10.91it/s]\u001b[A\n",
      "Feature Extraction:  52%|████████████████████████████████▌                             | 21/40 [00:03<00:01, 12.22it/s]\u001b[A\n",
      "Feature Extraction:  60%|█████████████████████████████████████▏                        | 24/40 [00:03<00:01, 14.24it/s]\u001b[A\n",
      "Feature Extraction:  70%|███████████████████████████████████████████▍                  | 28/40 [00:03<00:00, 18.02it/s]\u001b[A\n",
      "Feature Extraction:  80%|█████████████████████████████████████████████████▌            | 32/40 [00:03<00:00, 21.48it/s]\u001b[A\n",
      "Feature Extraction:  90%|███████████████████████████████████████████████████████▊      | 36/40 [00:03<00:00, 21.96it/s]\u001b[A\n",
      "Feature Extraction: 100%|██████████████████████████████████████████████████████████████| 40/40 [00:04<00:00,  9.79it/s]\u001b[A\n",
      " 57%|██████████████████████████████████████████████▊                                   | 12/21 [00:57<00:39,  4.44s/it]\n",
      "Feature Extraction:   0%|                                                                       | 0/40 [00:00<?, ?it/s]\u001b[A\n",
      "Feature Extraction:   2%|█▌                                                             | 1/40 [00:02<01:45,  2.70s/it]\u001b[A\n",
      "Feature Extraction:   5%|███▏                                                           | 2/40 [00:02<00:47,  1.25s/it]\u001b[A\n",
      "Feature Extraction:  18%|███████████                                                    | 7/40 [00:03<00:08,  3.87it/s]\u001b[A\n",
      "Feature Extraction:  25%|███████████████▌                                              | 10/40 [00:03<00:05,  5.98it/s]\u001b[A\n",
      "Feature Extraction:  35%|█████████████████████▋                                        | 14/40 [00:03<00:02,  9.44it/s]\u001b[A\n",
      "Feature Extraction:  45%|███████████████████████████▉                                  | 18/40 [00:03<00:01, 13.14it/s]\u001b[A\n",
      "Feature Extraction:  55%|██████████████████████████████████                            | 22/40 [00:03<00:01, 16.77it/s]\u001b[A\n",
      "Feature Extraction:  65%|████████████████████████████████████████▎                     | 26/40 [00:03<00:00, 16.54it/s]\u001b[A\n",
      "Feature Extraction:  72%|████████████████████████████████████████████▉                 | 29/40 [00:03<00:00, 17.78it/s]\u001b[A\n",
      "Feature Extraction:  80%|█████████████████████████████████████████████████▌            | 32/40 [00:03<00:00, 19.61it/s]\u001b[A\n",
      "Feature Extraction:  88%|██████████████████████████████████████████████████████▎       | 35/40 [00:04<00:00, 21.00it/s]\u001b[A\n",
      "Feature Extraction: 100%|██████████████████████████████████████████████████████████████| 40/40 [00:04<00:00,  9.49it/s]\u001b[A\n",
      " 62%|██████████████████████████████████████████████████▊                               | 13/21 [01:01<00:35,  4.43s/it]\n",
      "Feature Extraction:   0%|                                                                       | 0/40 [00:00<?, ?it/s]\u001b[A\n",
      "Feature Extraction:   2%|█▌                                                             | 1/40 [00:02<01:44,  2.67s/it]\u001b[A\n",
      "Feature Extraction:  12%|███████▉                                                       | 5/40 [00:02<00:14,  2.35it/s]\u001b[A\n",
      "Feature Extraction:  18%|███████████                                                    | 7/40 [00:03<00:10,  3.27it/s]\u001b[A\n",
      "Feature Extraction:  32%|████████████████████▏                                         | 13/40 [00:03<00:03,  7.85it/s]\u001b[A\n",
      "Feature Extraction:  45%|███████████████████████████▉                                  | 18/40 [00:03<00:01, 12.17it/s]\u001b[A\n",
      "Feature Extraction:  60%|█████████████████████████████████████▏                        | 24/40 [00:03<00:00, 18.10it/s]\u001b[A\n",
      "Feature Extraction:  72%|████████████████████████████████████████████▉                 | 29/40 [00:03<00:00, 22.77it/s]\u001b[A\n",
      "Feature Extraction: 100%|██████████████████████████████████████████████████████████████| 40/40 [00:03<00:00, 10.98it/s]\u001b[A\n",
      " 67%|██████████████████████████████████████████████████████▋                           | 14/21 [01:05<00:29,  4.24s/it]\n",
      "Feature Extraction:   0%|                                                                       | 0/40 [00:00<?, ?it/s]\u001b[A\n",
      "Feature Extraction:   2%|█▌                                                             | 1/40 [00:02<01:53,  2.91s/it]\u001b[A\n",
      "Feature Extraction:   8%|████▋                                                          | 3/40 [00:03<00:29,  1.26it/s]\u001b[A\n",
      "Feature Extraction:  20%|████████████▌                                                  | 8/40 [00:03<00:07,  4.23it/s]\u001b[A\n",
      "Feature Extraction:  30%|██████████████████▌                                           | 12/40 [00:03<00:03,  7.09it/s]\u001b[A\n",
      "Feature Extraction:  40%|████████████████████████▊                                     | 16/40 [00:03<00:02, 10.28it/s]\u001b[A\n",
      "Feature Extraction:  50%|███████████████████████████████                               | 20/40 [00:03<00:01, 11.39it/s]\u001b[A\n",
      "Feature Extraction:  60%|█████████████████████████████████████▏                        | 24/40 [00:03<00:01, 14.84it/s]\u001b[A\n",
      "Feature Extraction:  70%|███████████████████████████████████████████▍                  | 28/40 [00:03<00:00, 18.18it/s]\u001b[A\n",
      "Feature Extraction:  80%|█████████████████████████████████████████████████▌            | 32/40 [00:04<00:00, 21.56it/s]\u001b[A\n",
      "Feature Extraction:  90%|███████████████████████████████████████████████████████▊      | 36/40 [00:04<00:00, 22.30it/s]\u001b[A\n",
      "Feature Extraction: 100%|██████████████████████████████████████████████████████████████| 40/40 [00:04<00:00,  9.37it/s]\u001b[A\n",
      " 71%|██████████████████████████████████████████████████████████▌                       | 15/21 [01:09<00:25,  4.31s/it]\n",
      "Feature Extraction:   0%|                                                                       | 0/40 [00:00<?, ?it/s]\u001b[A\n",
      "Feature Extraction:   2%|█▌                                                             | 1/40 [00:02<01:52,  2.88s/it]\u001b[A\n",
      "Feature Extraction:   5%|███▏                                                           | 2/40 [00:03<00:47,  1.26s/it]\u001b[A\n",
      "Feature Extraction:  10%|██████▎                                                        | 4/40 [00:03<00:18,  1.98it/s]\u001b[A\n",
      "Feature Extraction:  15%|█████████▍                                                     | 6/40 [00:03<00:09,  3.41it/s]\u001b[A\n",
      "Feature Extraction:  20%|████████████▌                                                  | 8/40 [00:03<00:07,  4.24it/s]\u001b[A\n",
      "Feature Extraction:  25%|███████████████▌                                              | 10/40 [00:03<00:05,  5.44it/s]\u001b[A\n",
      "Feature Extraction:  30%|██████████████████▌                                           | 12/40 [00:03<00:03,  7.04it/s]\u001b[A\n",
      "Feature Extraction:  35%|█████████████████████▋                                        | 14/40 [00:03<00:03,  8.61it/s]\u001b[A\n",
      "Feature Extraction:  40%|████████████████████████▊                                     | 16/40 [00:04<00:02,  8.59it/s]\u001b[A\n",
      "Feature Extraction:  45%|███████████████████████████▉                                  | 18/40 [00:04<00:02, 10.15it/s]\u001b[A\n",
      "Feature Extraction:  50%|███████████████████████████████                               | 20/40 [00:04<00:01, 11.63it/s]\u001b[A\n",
      "Feature Extraction:  55%|██████████████████████████████████                            | 22/40 [00:04<00:01, 12.81it/s]\u001b[A\n",
      "Feature Extraction:  60%|█████████████████████████████████████▏                        | 24/40 [00:04<00:01, 10.32it/s]\u001b[A\n",
      "Feature Extraction:  68%|█████████████████████████████████████████▊                    | 27/40 [00:05<00:01, 12.16it/s]\u001b[A\n",
      "Feature Extraction:  72%|████████████████████████████████████████████▉                 | 29/40 [00:05<00:00, 13.49it/s]\u001b[A\n",
      "Feature Extraction:  78%|████████████████████████████████████████████████              | 31/40 [00:05<00:00, 14.23it/s]\u001b[A\n",
      "Feature Extraction:  82%|███████████████████████████████████████████████████▏          | 33/40 [00:05<00:00, 11.82it/s]\u001b[A\n",
      "Feature Extraction:  88%|██████████████████████████████████████████████████████▎       | 35/40 [00:05<00:00, 10.48it/s]\u001b[A\n",
      "Feature Extraction:  92%|█████████████████████████████████████████████████████████▎    | 37/40 [00:05<00:00, 12.09it/s]\u001b[A\n",
      "Feature Extraction: 100%|██████████████████████████████████████████████████████████████| 40/40 [00:05<00:00,  6.71it/s]\u001b[A\n",
      " 76%|██████████████████████████████████████████████████████████████▍                   | 16/21 [01:16<00:24,  4.90s/it]\n",
      "Feature Extraction:   0%|                                                                       | 0/40 [00:00<?, ?it/s]\u001b[A\n",
      "Feature Extraction:   2%|█▌                                                             | 1/40 [00:02<01:44,  2.69s/it]\u001b[A\n",
      "Feature Extraction:   8%|████▋                                                          | 3/40 [00:02<00:29,  1.27it/s]\u001b[A\n",
      "Feature Extraction:  18%|███████████                                                    | 7/40 [00:03<00:09,  3.64it/s]\u001b[A\n",
      "Feature Extraction:  30%|██████████████████▌                                           | 12/40 [00:03<00:03,  7.25it/s]\u001b[A\n",
      "Feature Extraction:  40%|████████████████████████▊                                     | 16/40 [00:03<00:02, 10.41it/s]\u001b[A\n",
      "Feature Extraction:  50%|███████████████████████████████                               | 20/40 [00:03<00:01, 13.90it/s]\u001b[A\n",
      "Feature Extraction:  60%|█████████████████████████████████████▏                        | 24/40 [00:03<00:01, 14.65it/s]\u001b[A\n",
      "Feature Extraction:  68%|█████████████████████████████████████████▊                    | 27/40 [00:03<00:00, 16.18it/s]\u001b[A\n",
      "Feature Extraction:  78%|████████████████████████████████████████████████              | 31/40 [00:03<00:00, 19.84it/s]\u001b[A\n",
      "Feature Extraction:  85%|████████████████████████████████████████████████████▋         | 34/40 [00:04<00:00, 19.53it/s]\u001b[A\n",
      "Feature Extraction: 100%|██████████████████████████████████████████████████████████████| 40/40 [00:04<00:00,  9.46it/s]\u001b[A\n",
      " 81%|██████████████████████████████████████████████████████████████████▍               | 17/21 [01:20<00:19,  4.76s/it]\n",
      "Feature Extraction:   0%|                                                                       | 0/40 [00:00<?, ?it/s]\u001b[A\n",
      "Feature Extraction:   2%|█▌                                                             | 1/40 [00:02<01:51,  2.87s/it]\u001b[A\n",
      "Feature Extraction:  12%|███████▉                                                       | 5/40 [00:02<00:15,  2.22it/s]\u001b[A\n",
      "Feature Extraction:  25%|███████████████▌                                              | 10/40 [00:03<00:05,  5.15it/s]\u001b[A\n",
      "Feature Extraction:  35%|█████████████████████▋                                        | 14/40 [00:03<00:03,  7.80it/s]\u001b[A\n",
      "Feature Extraction:  45%|███████████████████████████▉                                  | 18/40 [00:03<00:02, 10.94it/s]\u001b[A\n",
      "Feature Extraction:  55%|██████████████████████████████████                            | 22/40 [00:03<00:01, 14.15it/s]\u001b[A\n",
      "Feature Extraction:  65%|████████████████████████████████████████▎                     | 26/40 [00:03<00:00, 14.10it/s]\u001b[A\n",
      "Feature Extraction:  75%|██████████████████████████████████████████████▌               | 30/40 [00:03<00:00, 17.73it/s]\u001b[A\n",
      "Feature Extraction:  85%|████████████████████████████████████████████████████▋         | 34/40 [00:04<00:00, 19.07it/s]\u001b[A\n",
      "Feature Extraction: 100%|██████████████████████████████████████████████████████████████| 40/40 [00:04<00:00,  9.56it/s]\u001b[A\n",
      " 86%|██████████████████████████████████████████████████████████████████████▎           | 18/21 [01:24<00:13,  4.64s/it]\n",
      "Feature Extraction:   0%|                                                                       | 0/40 [00:00<?, ?it/s]\u001b[A\n",
      "Feature Extraction:   2%|█▌                                                             | 1/40 [00:02<01:53,  2.91s/it]\u001b[A\n",
      "Feature Extraction:   8%|████▋                                                          | 3/40 [00:03<00:32,  1.13it/s]\u001b[A\n",
      "Feature Extraction:  15%|█████████▍                                                     | 6/40 [00:03<00:13,  2.50it/s]\u001b[A\n",
      "Feature Extraction:  18%|███████████                                                    | 7/40 [00:03<00:11,  2.96it/s]\u001b[A\n",
      "Feature Extraction:  20%|████████████▌                                                  | 8/40 [00:03<00:10,  3.14it/s]\u001b[A\n",
      "Feature Extraction:  28%|█████████████████                                             | 11/40 [00:04<00:05,  5.20it/s]\u001b[A\n",
      "Feature Extraction:  32%|████████████████████▏                                         | 13/40 [00:04<00:04,  6.34it/s]\u001b[A\n",
      "Feature Extraction:  35%|█████████████████████▋                                        | 14/40 [00:04<00:04,  5.75it/s]\u001b[A\n",
      "Feature Extraction:  40%|████████████████████████▊                                     | 16/40 [00:04<00:03,  6.75it/s]\u001b[A\n",
      "Feature Extraction:  42%|██████████████████████████▎                                   | 17/40 [00:04<00:03,  6.53it/s]\u001b[A\n",
      "Feature Extraction:  45%|███████████████████████████▉                                  | 18/40 [00:05<00:03,  5.62it/s]\u001b[A\n",
      "Feature Extraction:  52%|████████████████████████████████▌                             | 21/40 [00:05<00:02,  7.38it/s]\u001b[A\n",
      "Feature Extraction:  57%|███████████████████████████████████▋                          | 23/40 [00:05<00:02,  8.18it/s]\u001b[A\n",
      "Feature Extraction:  60%|█████████████████████████████████████▏                        | 24/40 [00:05<00:02,  6.98it/s]\u001b[A\n",
      "Feature Extraction:  68%|█████████████████████████████████████████▊                    | 27/40 [00:06<00:01,  8.53it/s]\u001b[A\n",
      "Feature Extraction:  72%|████████████████████████████████████████████▉                 | 29/40 [00:06<00:01,  9.08it/s]\u001b[A\n",
      "Feature Extraction:  75%|██████████████████████████████████████████████▌               | 30/40 [00:06<00:01,  7.64it/s]\u001b[A\n",
      "Feature Extraction:  80%|█████████████████████████████████████████████████▌            | 32/40 [00:06<00:01,  7.83it/s]\u001b[A\n",
      "Feature Extraction:  82%|███████████████████████████████████████████████████▏          | 33/40 [00:06<00:00,  7.39it/s]\u001b[A\n",
      "Feature Extraction:  85%|████████████████████████████████████████████████████▋         | 34/40 [00:07<00:00,  6.27it/s]\u001b[A\n",
      "Feature Extraction:  92%|█████████████████████████████████████████████████████████▎    | 37/40 [00:07<00:00,  7.52it/s]\u001b[A\n",
      "Feature Extraction: 100%|██████████████████████████████████████████████████████████████| 40/40 [00:07<00:00,  5.14it/s]\u001b[A\n",
      " 90%|██████████████████████████████████████████████████████████████████████████▏       | 19/21 [01:33<00:11,  5.72s/it]\n",
      "Feature Extraction:   0%|                                                                       | 0/40 [00:00<?, ?it/s]\u001b[A\n",
      "Feature Extraction:   2%|█▌                                                             | 1/40 [00:02<01:48,  2.79s/it]\u001b[A\n",
      "Feature Extraction:  12%|███████▉                                                       | 5/40 [00:03<00:16,  2.11it/s]\u001b[A\n",
      "Feature Extraction:  22%|██████████████▏                                                | 9/40 [00:03<00:07,  4.38it/s]\u001b[A\n",
      "Feature Extraction:  32%|████████████████████▏                                         | 13/40 [00:03<00:03,  7.19it/s]\u001b[A\n",
      "Feature Extraction:  45%|███████████████████████████▉                                  | 18/40 [00:03<00:01, 11.14it/s]\u001b[A\n",
      "Feature Extraction:  55%|██████████████████████████████████                            | 22/40 [00:03<00:01, 14.67it/s]\u001b[A\n",
      "Feature Extraction:  65%|████████████████████████████████████████▎                     | 26/40 [00:03<00:00, 18.41it/s]\u001b[A\n",
      "Feature Extraction:  75%|██████████████████████████████████████████████▌               | 30/40 [00:03<00:00, 17.65it/s]\u001b[A\n",
      "Feature Extraction:  82%|███████████████████████████████████████████████████▏          | 33/40 [00:04<00:00, 17.87it/s]\u001b[A\n",
      "Feature Extraction: 100%|██████████████████████████████████████████████████████████████| 40/40 [00:04<00:00,  9.65it/s]\u001b[A\n",
      " 95%|██████████████████████████████████████████████████████████████████████████████    | 20/21 [01:37<00:05,  5.30s/it]\n",
      "Feature Extraction:   0%|                                                                       | 0/40 [00:00<?, ?it/s]\u001b[A\n",
      "Feature Extraction:   2%|█▌                                                             | 1/40 [00:02<01:47,  2.75s/it]\u001b[A\n",
      "Feature Extraction:  10%|██████▎                                                        | 4/40 [00:02<00:19,  1.82it/s]\u001b[A\n",
      "Feature Extraction:  18%|███████████                                                    | 7/40 [00:03<00:10,  3.27it/s]\u001b[A\n",
      "Feature Extraction:  25%|███████████████▌                                              | 10/40 [00:03<00:05,  5.21it/s]\u001b[A\n",
      "Feature Extraction:  35%|█████████████████████▋                                        | 14/40 [00:03<00:03,  8.22it/s]\u001b[A\n",
      "Feature Extraction:  42%|██████████████████████████▎                                   | 17/40 [00:03<00:02,  9.82it/s]\u001b[A\n",
      "Feature Extraction:  48%|█████████████████████████████▍                                | 19/40 [00:03<00:02,  9.67it/s]\u001b[A\n",
      "Feature Extraction:  55%|██████████████████████████████████                            | 22/40 [00:03<00:01, 11.70it/s]\u001b[A\n",
      "Feature Extraction:  68%|█████████████████████████████████████████▊                    | 27/40 [00:04<00:00, 16.88it/s]\u001b[A\n",
      "Feature Extraction:  75%|██████████████████████████████████████████████▌               | 30/40 [00:04<00:00, 18.59it/s]\u001b[A\n",
      "Feature Extraction:  82%|███████████████████████████████████████████████████▏          | 33/40 [00:04<00:00, 19.90it/s]\u001b[A\n",
      "Feature Extraction:  90%|███████████████████████████████████████████████████████▊      | 36/40 [00:04<00:00, 16.36it/s]\u001b[A\n",
      "Feature Extraction: 100%|██████████████████████████████████████████████████████████████| 40/40 [00:04<00:00,  8.35it/s]\u001b[A\n",
      "100%|██████████████████████████████████████████████████████████████████████████████████| 21/21 [01:42<00:00,  4.88s/it]\n"
     ]
    }
   ],
   "source": [
    "# 收集所有处理后的DataFrame  \n",
    "X_train_list = []  \n",
    "  \n",
    "# 初始化y_train为列表，因为我们可以直接扩展列表  \n",
    "y_train = []  \n",
    "  \n",
    "for i in tqdm(range(len(X_l))):  \n",
    "    try:  \n",
    "        # 提取特征并处理DataFrame  \n",
    "        X_temp = impute(extract_features(X_l[i], column_id=\"id\", column_sort=\"time\", default_fc_parameters=MinimalFCParameters()))  \n",
    "        X_train_list.append(X_temp)  \n",
    "  \n",
    "        # 假设y_l[i]已经是NumPy数组或者可以转换为NumPy数组  \n",
    "        y_train.extend(y_l[i])  # 使用extend来扩展列表  \n",
    "  \n",
    "    except Exception as e:  \n",
    "        print(e)  \n",
    "        continue  \n",
    "  \n",
    "# 使用pd.concat连接所有的DataFrame  \n",
    "X_train = pd.concat(X_train_list, ignore_index=True)  \n",
    "  \n",
    "# 将y_train转换为NumPy数组（如果它还不是）  \n",
    "y_train = np.array(y_train)  \n",
    "  \n",
    "# 断言检查X_train和y_train的长度是否相等  \n",
    "assert len(X_train) == len(y_train)"
   ]
  },
  {
   "cell_type": "code",
   "execution_count": 20,
   "metadata": {
    "colab": {
     "base_uri": "https://localhost:8080/",
     "height": 208
    },
    "id": "rFpDACNQ_216",
    "outputId": "f71b2e0c-d2ac-430e-855b-b30fb5aff1f9"
   },
   "outputs": [
    {
     "data": {
      "text/html": [
       "<div>\n",
       "<style scoped>\n",
       "    .dataframe tbody tr th:only-of-type {\n",
       "        vertical-align: middle;\n",
       "    }\n",
       "\n",
       "    .dataframe tbody tr th {\n",
       "        vertical-align: top;\n",
       "    }\n",
       "\n",
       "    .dataframe thead th {\n",
       "        text-align: right;\n",
       "    }\n",
       "</style>\n",
       "<table border=\"1\" class=\"dataframe\">\n",
       "  <thead>\n",
       "    <tr style=\"text-align: right;\">\n",
       "      <th></th>\n",
       "      <th>altitude__sum_values</th>\n",
       "      <th>altitude__median</th>\n",
       "      <th>altitude__mean</th>\n",
       "      <th>altitude__length</th>\n",
       "      <th>altitude__standard_deviation</th>\n",
       "      <th>altitude__variance</th>\n",
       "      <th>altitude__root_mean_square</th>\n",
       "      <th>altitude__maximum</th>\n",
       "      <th>altitude__absolute_maximum</th>\n",
       "      <th>altitude__minimum</th>\n",
       "      <th>...</th>\n",
       "      <th>y__sum_values</th>\n",
       "      <th>y__median</th>\n",
       "      <th>y__mean</th>\n",
       "      <th>y__length</th>\n",
       "      <th>y__standard_deviation</th>\n",
       "      <th>y__variance</th>\n",
       "      <th>y__root_mean_square</th>\n",
       "      <th>y__maximum</th>\n",
       "      <th>y__absolute_maximum</th>\n",
       "      <th>y__minimum</th>\n",
       "    </tr>\n",
       "  </thead>\n",
       "  <tbody>\n",
       "    <tr>\n",
       "      <th>0</th>\n",
       "      <td>25.000000</td>\n",
       "      <td>0.0</td>\n",
       "      <td>0.416667</td>\n",
       "      <td>60.0</td>\n",
       "      <td>3.810060</td>\n",
       "      <td>14.516560</td>\n",
       "      <td>3.832776</td>\n",
       "      <td>25.0</td>\n",
       "      <td>25.0</td>\n",
       "      <td>-1.923077</td>\n",
       "      <td>...</td>\n",
       "      <td>1077.305907</td>\n",
       "      <td>17.314034</td>\n",
       "      <td>17.955098</td>\n",
       "      <td>60.0</td>\n",
       "      <td>5.031956</td>\n",
       "      <td>25.320583</td>\n",
       "      <td>18.646880</td>\n",
       "      <td>36.059727</td>\n",
       "      <td>36.059727</td>\n",
       "      <td>6.266093</td>\n",
       "    </tr>\n",
       "    <tr>\n",
       "      <th>1</th>\n",
       "      <td>16.666667</td>\n",
       "      <td>0.0</td>\n",
       "      <td>0.277778</td>\n",
       "      <td>60.0</td>\n",
       "      <td>3.668188</td>\n",
       "      <td>13.455603</td>\n",
       "      <td>3.678690</td>\n",
       "      <td>25.0</td>\n",
       "      <td>25.0</td>\n",
       "      <td>-1.923077</td>\n",
       "      <td>...</td>\n",
       "      <td>1066.889846</td>\n",
       "      <td>17.314034</td>\n",
       "      <td>17.781497</td>\n",
       "      <td>60.0</td>\n",
       "      <td>4.833882</td>\n",
       "      <td>23.366419</td>\n",
       "      <td>18.426830</td>\n",
       "      <td>36.059727</td>\n",
       "      <td>36.059727</td>\n",
       "      <td>6.266093</td>\n",
       "    </tr>\n",
       "    <tr>\n",
       "      <th>2</th>\n",
       "      <td>8.333333</td>\n",
       "      <td>0.0</td>\n",
       "      <td>0.138889</td>\n",
       "      <td>60.0</td>\n",
       "      <td>3.515120</td>\n",
       "      <td>12.356066</td>\n",
       "      <td>3.517862</td>\n",
       "      <td>25.0</td>\n",
       "      <td>25.0</td>\n",
       "      <td>-1.923077</td>\n",
       "      <td>...</td>\n",
       "      <td>1056.483108</td>\n",
       "      <td>17.314034</td>\n",
       "      <td>17.608052</td>\n",
       "      <td>60.0</td>\n",
       "      <td>4.620843</td>\n",
       "      <td>21.352189</td>\n",
       "      <td>18.204276</td>\n",
       "      <td>36.059727</td>\n",
       "      <td>36.059727</td>\n",
       "      <td>6.266093</td>\n",
       "    </tr>\n",
       "    <tr>\n",
       "      <th>3</th>\n",
       "      <td>0.000000</td>\n",
       "      <td>0.0</td>\n",
       "      <td>0.000000</td>\n",
       "      <td>60.0</td>\n",
       "      <td>3.349321</td>\n",
       "      <td>11.217949</td>\n",
       "      <td>3.349321</td>\n",
       "      <td>25.0</td>\n",
       "      <td>25.0</td>\n",
       "      <td>-1.923077</td>\n",
       "      <td>...</td>\n",
       "      <td>1048.029497</td>\n",
       "      <td>17.314034</td>\n",
       "      <td>17.467158</td>\n",
       "      <td>60.0</td>\n",
       "      <td>4.404147</td>\n",
       "      <td>19.396513</td>\n",
       "      <td>18.013832</td>\n",
       "      <td>36.059727</td>\n",
       "      <td>36.059727</td>\n",
       "      <td>6.266093</td>\n",
       "    </tr>\n",
       "    <tr>\n",
       "      <th>4</th>\n",
       "      <td>0.000000</td>\n",
       "      <td>0.0</td>\n",
       "      <td>0.000000</td>\n",
       "      <td>60.0</td>\n",
       "      <td>3.349321</td>\n",
       "      <td>11.217949</td>\n",
       "      <td>3.349321</td>\n",
       "      <td>25.0</td>\n",
       "      <td>25.0</td>\n",
       "      <td>-1.923077</td>\n",
       "      <td>...</td>\n",
       "      <td>1052.753726</td>\n",
       "      <td>17.322465</td>\n",
       "      <td>17.545895</td>\n",
       "      <td>60.0</td>\n",
       "      <td>4.411214</td>\n",
       "      <td>19.458812</td>\n",
       "      <td>18.091911</td>\n",
       "      <td>36.059727</td>\n",
       "      <td>36.059727</td>\n",
       "      <td>6.266093</td>\n",
       "    </tr>\n",
       "  </tbody>\n",
       "</table>\n",
       "<p>5 rows × 50 columns</p>\n",
       "</div>"
      ],
      "text/plain": [
       "   altitude__sum_values  altitude__median  altitude__mean  altitude__length  \\\n",
       "0             25.000000               0.0        0.416667              60.0   \n",
       "1             16.666667               0.0        0.277778              60.0   \n",
       "2              8.333333               0.0        0.138889              60.0   \n",
       "3              0.000000               0.0        0.000000              60.0   \n",
       "4              0.000000               0.0        0.000000              60.0   \n",
       "\n",
       "   altitude__standard_deviation  altitude__variance  \\\n",
       "0                      3.810060           14.516560   \n",
       "1                      3.668188           13.455603   \n",
       "2                      3.515120           12.356066   \n",
       "3                      3.349321           11.217949   \n",
       "4                      3.349321           11.217949   \n",
       "\n",
       "   altitude__root_mean_square  altitude__maximum  altitude__absolute_maximum  \\\n",
       "0                    3.832776               25.0                        25.0   \n",
       "1                    3.678690               25.0                        25.0   \n",
       "2                    3.517862               25.0                        25.0   \n",
       "3                    3.349321               25.0                        25.0   \n",
       "4                    3.349321               25.0                        25.0   \n",
       "\n",
       "   altitude__minimum  ...  y__sum_values  y__median    y__mean  y__length  \\\n",
       "0          -1.923077  ...    1077.305907  17.314034  17.955098       60.0   \n",
       "1          -1.923077  ...    1066.889846  17.314034  17.781497       60.0   \n",
       "2          -1.923077  ...    1056.483108  17.314034  17.608052       60.0   \n",
       "3          -1.923077  ...    1048.029497  17.314034  17.467158       60.0   \n",
       "4          -1.923077  ...    1052.753726  17.322465  17.545895       60.0   \n",
       "\n",
       "   y__standard_deviation  y__variance  y__root_mean_square  y__maximum  \\\n",
       "0               5.031956    25.320583            18.646880   36.059727   \n",
       "1               4.833882    23.366419            18.426830   36.059727   \n",
       "2               4.620843    21.352189            18.204276   36.059727   \n",
       "3               4.404147    19.396513            18.013832   36.059727   \n",
       "4               4.411214    19.458812            18.091911   36.059727   \n",
       "\n",
       "   y__absolute_maximum  y__minimum  \n",
       "0            36.059727    6.266093  \n",
       "1            36.059727    6.266093  \n",
       "2            36.059727    6.266093  \n",
       "3            36.059727    6.266093  \n",
       "4            36.059727    6.266093  \n",
       "\n",
       "[5 rows x 50 columns]"
      ]
     },
     "execution_count": 20,
     "metadata": {},
     "output_type": "execute_result"
    }
   ],
   "source": [
    "X_train.head()"
   ]
  },
  {
   "cell_type": "code",
   "execution_count": 21,
   "metadata": {
    "id": "8-Fx-sOtVhYL"
   },
   "outputs": [
    {
     "data": {
      "text/plain": [
       "array([[0.50676786, 0.42939481, 0.50676786, ..., 0.27077391, 0.01134121,\n",
       "        0.98440845],\n",
       "       [0.50617857, 0.42939481, 0.50617857, ..., 0.27077391, 0.01134121,\n",
       "        0.98440845],\n",
       "       [0.50558929, 0.42939481, 0.50558929, ..., 0.27077391, 0.01134121,\n",
       "        0.98440845],\n",
       "       ...,\n",
       "       [0.50323214, 0.42939481, 0.50323214, ..., 0.50393952, 0.02119863,\n",
       "        0.98417911],\n",
       "       [0.50323214, 0.42939481, 0.50323214, ..., 0.50393952, 0.02119863,\n",
       "        0.98417911],\n",
       "       [0.50323214, 0.42939481, 0.50323214, ..., 0.50393952, 0.02119863,\n",
       "        0.98417911]])"
      ]
     },
     "execution_count": 21,
     "metadata": {},
     "output_type": "execute_result"
    }
   ],
   "source": [
    "X_train_n = transformer_model_feature_pipeline.fit_transform(X_train)\n",
    "X_train_n"
   ]
  },
  {
   "cell_type": "code",
   "execution_count": 22,
   "metadata": {
    "id": "ff4k6JwGV7-Z"
   },
   "outputs": [],
   "source": [
    "logs = \"logs/transformer/\" + datetime.now().strftime(\"%Y%m%d-%H%M%S\")\n",
    "\n",
    "tboard_callback = TensorBoard(log_dir = logs, histogram_freq = 1, profile_batch = [500,520])"
   ]
  },
  {
   "cell_type": "code",
   "execution_count": 23,
   "metadata": {},
   "outputs": [
    {
     "data": {
      "text/plain": [
       "(69263, 50)"
      ]
     },
     "execution_count": 23,
     "metadata": {},
     "output_type": "execute_result"
    }
   ],
   "source": [
    "X_train_n.shape"
   ]
  },
  {
   "cell_type": "code",
   "execution_count": 110,
   "metadata": {
    "id": "ZcmR9_15VlZN"
   },
   "outputs": [],
   "source": [
    "model.compile(loss='mse', optimizer='adam')"
   ]
  },
  {
   "cell_type": "code",
   "execution_count": 111,
   "metadata": {
    "colab": {
     "base_uri": "https://localhost:8080/",
     "height": 1000
    },
    "id": "nLLTyWWqV_XX",
    "outputId": "7c94d5e2-d347-4be6-9e2a-b6162d25bd88",
    "scrolled": true
   },
   "outputs": [
    {
     "name": "stdout",
     "output_type": "stream",
     "text": [
      "Epoch 1/10\n",
      "2165/2165 [==============================] - 26s 11ms/step - loss: 0.0089\n",
      "Epoch 2/10\n",
      "2165/2165 [==============================] - 24s 11ms/step - loss: 0.0042\n",
      "Epoch 3/10\n",
      "2165/2165 [==============================] - 24s 11ms/step - loss: 0.0040\n",
      "Epoch 4/10\n",
      "2165/2165 [==============================] - 25s 11ms/step - loss: 0.0039\n",
      "Epoch 5/10\n",
      "2165/2165 [==============================] - 24s 11ms/step - loss: 0.0038\n",
      "Epoch 6/10\n",
      "2165/2165 [==============================] - 23s 11ms/step - loss: 0.0037\n",
      "Epoch 7/10\n",
      "2165/2165 [==============================] - 24s 11ms/step - loss: 0.0037\n",
      "Epoch 8/10\n",
      "2165/2165 [==============================] - 25s 11ms/step - loss: 0.0037\n",
      "Epoch 9/10\n",
      "2165/2165 [==============================] - 24s 11ms/step - loss: 0.0037\n",
      "Epoch 10/10\n",
      "2165/2165 [==============================] - 24s 11ms/step - loss: 0.0037\n"
     ]
    }
   ],
   "source": [
    "history = model.fit(X_train_n, X_train_n,\n",
    "                    epochs=10,\n",
    "                    batch_size=32,\n",
    "                    shuffle=True,\n",
    "                    callbacks=[tboard_callback]).history"
   ]
  },
  {
   "cell_type": "markdown",
   "metadata": {
    "id": "ms75PHO1-Iot"
   },
   "source": [
    "### 3.2 Validation"
   ]
  },
  {
   "cell_type": "code",
   "execution_count": 26,
   "metadata": {
    "colab": {
     "base_uri": "https://localhost:8080/",
     "height": 790
    },
    "id": "agP10vqmXBEP",
    "outputId": "dec55ad5-d58b-45bb-afab-ce76062e6131"
   },
   "outputs": [
    {
     "name": "stderr",
     "output_type": "stream",
     "text": [
      "100%|████████████████████████████████████████████████████████████████████████████████████| 9/9 [00:12<00:00,  1.40s/it]\n"
     ]
    }
   ],
   "source": [
    "X_l = []\n",
    "y_l = []\n",
    "\n",
    "for df in tqdm(data_dict[\"validation\"]):\n",
    "  X, y = get_windows_data(df[FEATURES], [0] * df.shape[0], window_size=WINDOW_SIZE_transformer, tsfresh=True)\n",
    "  X_l.append(X)\n",
    "  y_l.append(y)"
   ]
  },
  {
   "cell_type": "code",
   "execution_count": 27,
   "metadata": {
    "colab": {
     "base_uri": "https://localhost:8080/",
     "height": 1000
    },
    "id": "l6GXdbtE-NV6",
    "outputId": "7bc08180-e97e-4f76-e146-3179a11a7598",
    "scrolled": true
   },
   "outputs": [
    {
     "name": "stderr",
     "output_type": "stream",
     "text": [
      "  0%|                                                                                            | 0/9 [00:00<?, ?it/s]\n",
      "Feature Extraction:   0%|                                                                       | 0/40 [00:00<?, ?it/s]\u001b[A\n",
      "Feature Extraction:   2%|█▌                                                             | 1/40 [00:02<01:54,  2.93s/it]\u001b[A\n",
      "Feature Extraction:   8%|████▋                                                          | 3/40 [00:03<00:32,  1.13it/s]\u001b[A\n",
      "Feature Extraction:  15%|█████████▍                                                     | 6/40 [00:03<00:13,  2.50it/s]\u001b[A\n",
      "Feature Extraction:  18%|███████████                                                    | 7/40 [00:03<00:10,  3.01it/s]\u001b[A\n",
      "Feature Extraction:  20%|████████████▌                                                  | 8/40 [00:03<00:10,  3.16it/s]\u001b[A\n",
      "Feature Extraction:  28%|█████████████████                                             | 11/40 [00:04<00:05,  5.29it/s]\u001b[A\n",
      "Feature Extraction:  32%|████████████████████▏                                         | 13/40 [00:04<00:04,  6.38it/s]\u001b[A\n",
      "Feature Extraction:  35%|█████████████████████▋                                        | 14/40 [00:04<00:04,  5.65it/s]\u001b[A\n",
      "Feature Extraction:  40%|████████████████████████▊                                     | 16/40 [00:04<00:03,  6.71it/s]\u001b[A\n",
      "Feature Extraction:  42%|██████████████████████████▎                                   | 17/40 [00:04<00:03,  6.44it/s]\u001b[A\n",
      "Feature Extraction:  45%|███████████████████████████▉                                  | 18/40 [00:05<00:04,  5.47it/s]\u001b[A\n",
      "Feature Extraction:  52%|████████████████████████████████▌                             | 21/40 [00:05<00:02,  7.39it/s]\u001b[A\n",
      "Feature Extraction:  55%|██████████████████████████████████                            | 22/40 [00:05<00:02,  7.73it/s]\u001b[A\n",
      "Feature Extraction:  57%|███████████████████████████████████▋                          | 23/40 [00:05<00:02,  6.06it/s]\u001b[A\n",
      "Feature Extraction:  65%|████████████████████████████████████████▎                     | 26/40 [00:06<00:01,  8.35it/s]\u001b[A\n",
      "Feature Extraction:  68%|█████████████████████████████████████████▊                    | 27/40 [00:06<00:01,  7.86it/s]\u001b[A\n",
      "Feature Extraction:  72%|████████████████████████████████████████████▉                 | 29/40 [00:06<00:01,  7.44it/s]\u001b[A\n",
      "Feature Extraction:  78%|████████████████████████████████████████████████              | 31/40 [00:06<00:01,  8.17it/s]\u001b[A\n",
      "Feature Extraction:  80%|█████████████████████████████████████████████████▌            | 32/40 [00:06<00:01,  7.70it/s]\u001b[A\n",
      "Feature Extraction:  85%|████████████████████████████████████████████████████▋         | 34/40 [00:07<00:00,  7.44it/s]\u001b[A\n",
      "Feature Extraction:  90%|███████████████████████████████████████████████████████▊      | 36/40 [00:07<00:00,  7.55it/s]\u001b[A\n",
      "Feature Extraction:  95%|██████████████████████████████████████████████████████████▉   | 38/40 [00:07<00:00,  9.20it/s]\u001b[A\n",
      "Feature Extraction: 100%|██████████████████████████████████████████████████████████████| 40/40 [00:07<00:00,  5.16it/s]\u001b[A\n",
      "100%|████████████████████████████████████████████████████████████████████████████████████| 9/9 [00:08<00:00,  1.10it/s]\n"
     ]
    }
   ],
   "source": [
    "assert len(X_l) == len(y_l)\n",
    "\n",
    "y_val = np.array([])\n",
    "first = True\n",
    "\n",
    "for i in tqdm(range(len(X_l))):\n",
    "  try:\n",
    "    if first:\n",
    "      X_val = impute(extract_features(X_l[i], column_id=\"id\", column_sort=\"time\", default_fc_parameters=MinimalFCParameters()))\n",
    "      first = False\n",
    "    else:\n",
    "      X_val = X_val.append(impute(extract_features(X_l[i], column_id=\"id\", column_sort=\"time\", default_fc_parameters=MinimalFCParameters())), ignore_index=True)\n",
    "\n",
    "    y_val = np.append(y_val, y_l[i])\n",
    "  except:\n",
    "    continue"
   ]
  },
  {
   "cell_type": "code",
   "execution_count": 28,
   "metadata": {
    "id": "tIxe3pwp-icI",
    "scrolled": true
   },
   "outputs": [],
   "source": [
    "X_val_n = transformer_model_feature_pipeline.transform(X_val)"
   ]
  },
  {
   "cell_type": "code",
   "execution_count": 112,
   "metadata": {
    "id": "ydTg72gC-nXr"
   },
   "outputs": [
    {
     "name": "stdout",
     "output_type": "stream",
     "text": [
      "267/267 [==============================] - 1s 2ms/step\n"
     ]
    }
   ],
   "source": [
    "preds_val = model.predict(X_val_n)"
   ]
  },
  {
   "cell_type": "code",
   "execution_count": 113,
   "metadata": {
    "id": "8kmBg8JVDZbN"
   },
   "outputs": [],
   "source": [
    "reconstruction_errors = []\n",
    "\n",
    "for i, row in enumerate(X_val_n):\n",
    "  reconstruction_errors.append(np.linalg.norm(X_val_n[i] - preds_val[i]) ** 2)\n",
    "\n",
    "reconstruction_errors_df = pd.DataFrame(columns=[\"reconstruction_errors\"], data=reconstruction_errors)"
   ]
  },
  {
   "cell_type": "code",
   "execution_count": 114,
   "metadata": {
    "colab": {
     "base_uri": "https://localhost:8080/",
     "height": 272
    },
    "id": "kySY-EBkFES-",
    "outputId": "1b259c36-94d9-4a30-a1fa-199fa4501113"
   },
   "outputs": [
    {
     "data": {
      "text/html": [
       "<div>\n",
       "<style scoped>\n",
       "    .dataframe tbody tr th:only-of-type {\n",
       "        vertical-align: middle;\n",
       "    }\n",
       "\n",
       "    .dataframe tbody tr th {\n",
       "        vertical-align: top;\n",
       "    }\n",
       "\n",
       "    .dataframe thead th {\n",
       "        text-align: right;\n",
       "    }\n",
       "</style>\n",
       "<table border=\"1\" class=\"dataframe\">\n",
       "  <thead>\n",
       "    <tr style=\"text-align: right;\">\n",
       "      <th></th>\n",
       "      <th>reconstruction_errors</th>\n",
       "    </tr>\n",
       "  </thead>\n",
       "  <tbody>\n",
       "    <tr>\n",
       "      <th>count</th>\n",
       "      <td>8530.000000</td>\n",
       "    </tr>\n",
       "    <tr>\n",
       "      <th>mean</th>\n",
       "      <td>0.029970</td>\n",
       "    </tr>\n",
       "    <tr>\n",
       "      <th>std</th>\n",
       "      <td>0.063123</td>\n",
       "    </tr>\n",
       "    <tr>\n",
       "      <th>min</th>\n",
       "      <td>0.005341</td>\n",
       "    </tr>\n",
       "    <tr>\n",
       "      <th>25%</th>\n",
       "      <td>0.011767</td>\n",
       "    </tr>\n",
       "    <tr>\n",
       "      <th>50%</th>\n",
       "      <td>0.011767</td>\n",
       "    </tr>\n",
       "    <tr>\n",
       "      <th>75%</th>\n",
       "      <td>0.011767</td>\n",
       "    </tr>\n",
       "    <tr>\n",
       "      <th>max</th>\n",
       "      <td>0.593256</td>\n",
       "    </tr>\n",
       "  </tbody>\n",
       "</table>\n",
       "</div>"
      ],
      "text/plain": [
       "       reconstruction_errors\n",
       "count            8530.000000\n",
       "mean                0.029970\n",
       "std                 0.063123\n",
       "min                 0.005341\n",
       "25%                 0.011767\n",
       "50%                 0.011767\n",
       "75%                 0.011767\n",
       "max                 0.593256"
      ]
     },
     "execution_count": 114,
     "metadata": {},
     "output_type": "execute_result"
    }
   ],
   "source": [
    "reconstruction_errors_df.describe()"
   ]
  },
  {
   "cell_type": "code",
   "execution_count": 115,
   "metadata": {
    "colab": {
     "base_uri": "https://localhost:8080/",
     "height": 50
    },
    "id": "XmtOPSjb7K4a",
    "outputId": "74ee8ccd-ae45-4d53-dab5-b32daddaabb8"
   },
   "outputs": [
    {
     "name": "stdout",
     "output_type": "stream",
     "text": [
      "p-value: 3.798293837934747e-61\n",
      "The null hypothesis can be rejected\n"
     ]
    }
   ],
   "source": [
    "test_noraml_dist(reconstruction_errors_df.values)"
   ]
  },
  {
   "cell_type": "code",
   "execution_count": 116,
   "metadata": {
    "colab": {
     "base_uri": "https://localhost:8080/",
     "height": 34
    },
    "id": "OBXecPYAtVdJ",
    "outputId": "589ec048-c51e-479e-e5b8-52fbaf9a8f62"
   },
   "outputs": [
    {
     "data": {
      "text/plain": [
       "0.02997043883503327"
      ]
     },
     "execution_count": 116,
     "metadata": {},
     "output_type": "execute_result"
    }
   ],
   "source": [
    "mu = np.mean(reconstruction_errors_df[\"reconstruction_errors\"].values)\n",
    "mu"
   ]
  },
  {
   "cell_type": "code",
   "execution_count": 117,
   "metadata": {
    "colab": {
     "base_uri": "https://localhost:8080/",
     "height": 34
    },
    "id": "jag-6mgftlxZ",
    "outputId": "faf4d0f2-f851-4dca-9ccf-12b471637a65"
   },
   "outputs": [
    {
     "data": {
      "text/plain": [
       "0.06311930869224804"
      ]
     },
     "execution_count": 117,
     "metadata": {},
     "output_type": "execute_result"
    }
   ],
   "source": [
    "std = np.std(reconstruction_errors_df[\"reconstruction_errors\"].values)\n",
    "std"
   ]
  },
  {
   "cell_type": "markdown",
   "metadata": {
    "id": "ziLdT6OcFQlW"
   },
   "source": [
    "### 3.3 Test"
   ]
  },
  {
   "cell_type": "code",
   "execution_count": 35,
   "metadata": {
    "colab": {
     "base_uri": "https://localhost:8080/",
     "height": 34
    },
    "id": "W2vVcv3oF3F6",
    "outputId": "0c003ebc-2ea0-458c-bb41-dfebfcd03dcd"
   },
   "outputs": [
    {
     "data": {
      "text/plain": [
       "['test_noise',\n",
       " 'test_landing',\n",
       " 'test_departing',\n",
       " 'test_manoeuver',\n",
       " 'test_deviation',\n",
       " 'test_stand']"
      ]
     },
     "execution_count": 35,
     "metadata": {},
     "output_type": "execute_result"
    }
   ],
   "source": [
    "keys = [x for x in data_dict.keys() if x.startswith(\"test_\")]\n",
    "keys"
   ]
  },
  {
   "cell_type": "code",
   "execution_count": 36,
   "metadata": {
    "colab": {
     "base_uri": "https://localhost:8080/",
     "height": 1000
    },
    "id": "ygx2YWiGFTiS",
    "outputId": "02c45c0b-c785-4def-e20c-dfa16e2b77cd",
    "scrolled": true
   },
   "outputs": [
    {
     "name": "stderr",
     "output_type": "stream",
     "text": [
      "  0%|                                                                                            | 0/6 [00:00<?, ?it/s]\n",
      "  0%|                                                                                            | 0/7 [00:00<?, ?it/s]\u001b[A\n",
      " 14%|████████████                                                                        | 1/7 [00:00<00:05,  1.12it/s]\u001b[A\n",
      " 29%|████████████████████████                                                            | 2/7 [00:01<00:03,  1.62it/s]\u001b[A\n",
      " 43%|████████████████████████████████████                                                | 3/7 [00:01<00:02,  1.56it/s]\u001b[A\n",
      " 57%|████████████████████████████████████████████████                                    | 4/7 [00:02<00:01,  1.55it/s]\u001b[A\n",
      " 71%|████████████████████████████████████████████████████████████                        | 5/7 [00:03<00:01,  1.32it/s]\u001b[A\n",
      " 86%|████████████████████████████████████████████████████████████████████████            | 6/7 [00:04<00:00,  1.38it/s]\u001b[A\n",
      "100%|████████████████████████████████████████████████████████████████████████████████████| 7/7 [00:04<00:00,  1.41it/s]\u001b[A\n",
      " 17%|██████████████                                                                      | 1/6 [00:04<00:24,  4.99s/it]\n",
      "  0%|                                                                                            | 0/7 [00:00<?, ?it/s]\u001b[A\n",
      " 14%|████████████                                                                        | 1/7 [00:00<00:05,  1.12it/s]\u001b[A\n",
      " 29%|████████████████████████                                                            | 2/7 [00:01<00:03,  1.62it/s]\u001b[A\n",
      " 43%|████████████████████████████████████                                                | 3/7 [00:01<00:02,  1.57it/s]\u001b[A\n",
      " 57%|████████████████████████████████████████████████                                    | 4/7 [00:02<00:01,  1.56it/s]\u001b[A\n",
      " 71%|████████████████████████████████████████████████████████████                        | 5/7 [00:03<00:01,  1.33it/s]\u001b[A\n",
      " 86%|████████████████████████████████████████████████████████████████████████            | 6/7 [00:04<00:00,  1.50it/s]\u001b[A\n",
      "100%|████████████████████████████████████████████████████████████████████████████████████| 7/7 [00:04<00:00,  1.41it/s]\u001b[A\n",
      " 33%|████████████████████████████                                                        | 2/6 [00:09<00:19,  4.97s/it]\n",
      "  0%|                                                                                            | 0/7 [00:00<?, ?it/s]\u001b[A\n",
      " 14%|████████████                                                                        | 1/7 [00:00<00:05,  1.13it/s]\u001b[A\n",
      " 29%|████████████████████████                                                            | 2/7 [00:01<00:03,  1.61it/s]\u001b[A\n",
      " 43%|████████████████████████████████████                                                | 3/7 [00:02<00:02,  1.54it/s]\u001b[A\n",
      " 57%|████████████████████████████████████████████████                                    | 4/7 [00:02<00:01,  1.56it/s]\u001b[A\n",
      " 71%|████████████████████████████████████████████████████████████                        | 5/7 [00:03<00:01,  1.33it/s]\u001b[A\n",
      " 86%|████████████████████████████████████████████████████████████████████████            | 6/7 [00:04<00:00,  1.50it/s]\u001b[A\n",
      "100%|████████████████████████████████████████████████████████████████████████████████████| 7/7 [00:04<00:00,  1.41it/s]\u001b[A\n",
      " 50%|██████████████████████████████████████████                                          | 3/6 [00:14<00:14,  4.98s/it]\n",
      "  0%|                                                                                            | 0/7 [00:00<?, ?it/s]\u001b[A\n",
      " 14%|████████████                                                                        | 1/7 [00:00<00:05,  1.11it/s]\u001b[A\n",
      " 29%|████████████████████████                                                            | 2/7 [00:01<00:03,  1.61it/s]\u001b[A\n",
      " 43%|████████████████████████████████████                                                | 3/7 [00:01<00:02,  1.78it/s]\u001b[A\n",
      " 57%|████████████████████████████████████████████████                                    | 4/7 [00:02<00:01,  1.51it/s]\u001b[A\n",
      " 71%|████████████████████████████████████████████████████████████                        | 5/7 [00:03<00:01,  1.29it/s]\u001b[A\n",
      " 86%|████████████████████████████████████████████████████████████████████████            | 6/7 [00:04<00:00,  1.47it/s]\u001b[A\n",
      "100%|████████████████████████████████████████████████████████████████████████████████████| 7/7 [00:05<00:00,  1.39it/s]\u001b[A\n",
      " 67%|████████████████████████████████████████████████████████                            | 4/6 [00:19<00:10,  5.00s/it]\n",
      "  0%|                                                                                            | 0/7 [00:00<?, ?it/s]\u001b[A\n",
      " 14%|████████████                                                                        | 1/7 [00:00<00:04,  1.42it/s]\u001b[A\n",
      " 29%|████████████████████████                                                            | 2/7 [00:01<00:03,  1.53it/s]\u001b[A\n",
      " 43%|████████████████████████████████████                                                | 3/7 [00:01<00:02,  1.69it/s]\u001b[A\n",
      " 57%|████████████████████████████████████████████████                                    | 4/7 [00:02<00:02,  1.44it/s]\u001b[A\n",
      " 71%|████████████████████████████████████████████████████████████                        | 5/7 [00:03<00:01,  1.38it/s]\u001b[A\n",
      " 86%|████████████████████████████████████████████████████████████████████████            | 6/7 [00:04<00:00,  1.41it/s]\u001b[A\n",
      "100%|████████████████████████████████████████████████████████████████████████████████████| 7/7 [00:04<00:00,  1.44it/s]\u001b[A\n",
      " 83%|██████████████████████████████████████████████████████████████████████              | 5/6 [00:24<00:04,  4.96s/it]\n",
      "  0%|                                                                                            | 0/7 [00:00<?, ?it/s]\u001b[A\n",
      " 14%|████████████                                                                        | 1/7 [00:00<00:05,  1.13it/s]\u001b[A\n",
      " 29%|████████████████████████                                                            | 2/7 [00:01<00:03,  1.61it/s]\u001b[A\n",
      " 43%|████████████████████████████████████                                                | 3/7 [00:01<00:02,  1.55it/s]\u001b[A\n",
      " 57%|████████████████████████████████████████████████                                    | 4/7 [00:02<00:01,  1.56it/s]\u001b[A\n",
      " 71%|████████████████████████████████████████████████████████████                        | 5/7 [00:03<00:01,  1.32it/s]\u001b[A\n",
      " 86%|████████████████████████████████████████████████████████████████████████            | 6/7 [00:04<00:00,  1.50it/s]\u001b[A\n",
      "100%|████████████████████████████████████████████████████████████████████████████████████| 7/7 [00:04<00:00,  1.40it/s]\u001b[A\n",
      "100%|████████████████████████████████████████████████████████████████████████████████████| 6/6 [00:29<00:00,  4.97s/it]\n"
     ]
    }
   ],
   "source": [
    "X_t_l = []\n",
    "y_t_l = []\n",
    "\n",
    "for key in tqdm(keys):\n",
    "  X_l = []\n",
    "  y_l = []\n",
    "  for df in tqdm(data_dict[key]):\n",
    "    X, y = get_windows_data(df[FEATURES], df[\"anomaly\"], window_size=WINDOW_SIZE_transformer, tsfresh=True)\n",
    "    X_l.append(X)\n",
    "    y_l.append(y)\n",
    "\n",
    "  X_t_l.append(X_l)\n",
    "  y_t_l.append(y_l)\n"
   ]
  },
  {
   "cell_type": "code",
   "execution_count": 37,
   "metadata": {
    "colab": {
     "base_uri": "https://localhost:8080/",
     "height": 1000
    },
    "id": "Kl6s1YmNFbMt",
    "outputId": "f38f4f3e-fbd9-4bcb-d85a-964704be2f78",
    "scrolled": true
   },
   "outputs": [
    {
     "name": "stderr",
     "output_type": "stream",
     "text": [
      "  0%|                                                                                            | 0/6 [00:00<?, ?it/s]\n",
      "  0%|                                                                                            | 0/7 [00:00<?, ?it/s]\u001b[A\n",
      "\n",
      "Feature Extraction:   0%|                                                                       | 0/40 [00:00<?, ?it/s]\u001b[A\u001b[A\n",
      "\n",
      "Feature Extraction:   2%|█▌                                                             | 1/40 [00:02<01:44,  2.68s/it]\u001b[A\u001b[A\n",
      "\n",
      "Feature Extraction:  12%|███████▉                                                       | 5/40 [00:02<00:14,  2.37it/s]\u001b[A\u001b[A\n",
      "\n",
      "Feature Extraction:  22%|██████████████▏                                                | 9/40 [00:02<00:06,  4.85it/s]\u001b[A\u001b[A\n",
      "\n",
      "Feature Extraction:  30%|██████████████████▌                                           | 12/40 [00:03<00:04,  6.24it/s]\u001b[A\u001b[A\n",
      "\n",
      "Feature Extraction:  40%|████████████████████████▊                                     | 16/40 [00:03<00:02,  9.43it/s]\u001b[A\u001b[A\n",
      "\n",
      "Feature Extraction:  50%|███████████████████████████████                               | 20/40 [00:03<00:01, 12.88it/s]\u001b[A\u001b[A\n",
      "\n",
      "Feature Extraction:  60%|█████████████████████████████████████▏                        | 24/40 [00:03<00:00, 16.43it/s]\u001b[A\u001b[A\n",
      "\n",
      "Feature Extraction:  70%|███████████████████████████████████████████▍                  | 28/40 [00:03<00:00, 20.26it/s]\u001b[A\u001b[A\n",
      "\n",
      "Feature Extraction:  80%|█████████████████████████████████████████████████▌            | 32/40 [00:03<00:00, 23.51it/s]\u001b[A\u001b[A\n",
      "\n",
      "Feature Extraction: 100%|██████████████████████████████████████████████████████████████| 40/40 [00:04<00:00,  9.62it/s]\u001b[A\u001b[A\n",
      "\n",
      " 14%|████████████                                                                        | 1/7 [00:04<00:26,  4.35s/it]\u001b[A\n",
      "\n",
      "Feature Extraction:   0%|                                                                       | 0/40 [00:00<?, ?it/s]\u001b[A\u001b[A\n",
      "\n",
      "Feature Extraction:   2%|█▌                                                             | 1/40 [00:02<01:44,  2.68s/it]\u001b[A\u001b[A\n",
      "\n",
      "Feature Extraction:  20%|████████████▌                                                  | 8/40 [00:02<00:08,  3.88it/s]\u001b[A\u001b[A\n",
      "\n",
      "Feature Extraction:  38%|███████████████████████▎                                      | 15/40 [00:02<00:03,  8.17it/s]\u001b[A\u001b[A\n",
      "\n",
      "Feature Extraction:  55%|██████████████████████████████████                            | 22/40 [00:03<00:01, 13.38it/s]\u001b[A\u001b[A\n",
      "\n",
      "Feature Extraction:  70%|███████████████████████████████████████████▍                  | 28/40 [00:03<00:00, 18.34it/s]\u001b[A\u001b[A\n",
      "\n",
      "Feature Extraction: 100%|██████████████████████████████████████████████████████████████| 40/40 [00:03<00:00, 11.44it/s]\u001b[A\u001b[A\n",
      "\n",
      " 29%|████████████████████████                                                            | 2/7 [00:08<00:19,  3.95s/it]\u001b[A"
     ]
    },
    {
     "name": "stdout",
     "output_type": "stream",
     "text": [
      "'DataFrame' object has no attribute 'append'\n"
     ]
    },
    {
     "name": "stderr",
     "output_type": "stream",
     "text": [
      "\n",
      "\n",
      "Feature Extraction:   0%|                                                                       | 0/40 [00:00<?, ?it/s]\u001b[A\u001b[A\n",
      "\n",
      "Feature Extraction:   2%|█▌                                                             | 1/40 [00:02<01:43,  2.66s/it]\u001b[A\u001b[A\n",
      "\n",
      "Feature Extraction:  18%|███████████                                                    | 7/40 [00:02<00:09,  3.41it/s]\u001b[A\u001b[A\n",
      "\n",
      "Feature Extraction:  32%|████████████████████▏                                         | 13/40 [00:02<00:03,  7.18it/s]\u001b[A\u001b[A\n",
      "\n",
      "Feature Extraction:  45%|███████████████████████████▉                                  | 18/40 [00:02<00:02, 10.92it/s]\u001b[A\u001b[A\n",
      "\n",
      "Feature Extraction:  57%|███████████████████████████████████▋                          | 23/40 [00:03<00:01, 15.26it/s]\u001b[A\u001b[A\n",
      "\n",
      "Feature Extraction:  72%|████████████████████████████████████████████▉                 | 29/40 [00:03<00:00, 21.03it/s]\u001b[A\u001b[A\n",
      "\n",
      "Feature Extraction:  85%|████████████████████████████████████████████████████▋         | 34/40 [00:03<00:00, 20.51it/s]\u001b[A\u001b[A\n",
      "\n",
      "Feature Extraction: 100%|██████████████████████████████████████████████████████████████| 40/40 [00:03<00:00, 11.19it/s]\u001b[A\u001b[A\n",
      "\n",
      " 43%|████████████████████████████████████                                                | 3/7 [00:11<00:15,  3.85s/it]\u001b[A"
     ]
    },
    {
     "name": "stdout",
     "output_type": "stream",
     "text": [
      "'DataFrame' object has no attribute 'append'\n"
     ]
    },
    {
     "name": "stderr",
     "output_type": "stream",
     "text": [
      "\n",
      "\n",
      "Feature Extraction:   0%|                                                                       | 0/40 [00:00<?, ?it/s]\u001b[A\u001b[A\n",
      "\n",
      "Feature Extraction:   2%|█▌                                                             | 1/40 [00:02<01:44,  2.68s/it]\u001b[A\u001b[A\n",
      "\n",
      "Feature Extraction:  15%|█████████▍                                                     | 6/40 [00:02<00:11,  2.86it/s]\u001b[A\u001b[A\n",
      "\n",
      "Feature Extraction:  28%|█████████████████                                             | 11/40 [00:02<00:04,  5.92it/s]\u001b[A\u001b[A\n",
      "\n",
      "Feature Extraction:  40%|████████████████████████▊                                     | 16/40 [00:03<00:02,  9.56it/s]\u001b[A\u001b[A\n",
      "\n",
      "Feature Extraction:  50%|███████████████████████████████                               | 20/40 [00:03<00:01, 10.78it/s]\u001b[A\u001b[A\n",
      "\n",
      "Feature Extraction:  62%|██████████████████████████████████████▊                       | 25/40 [00:03<00:01, 14.96it/s]\u001b[A\u001b[A\n",
      "\n",
      "Feature Extraction:  75%|██████████████████████████████████████████████▌               | 30/40 [00:03<00:00, 19.31it/s]\u001b[A\u001b[A\n",
      "\n",
      "Feature Extraction:  85%|████████████████████████████████████████████████████▋         | 34/40 [00:03<00:00, 20.44it/s]\u001b[A\u001b[A\n",
      "\n",
      "Feature Extraction: 100%|██████████████████████████████████████████████████████████████| 40/40 [00:03<00:00, 10.44it/s]\u001b[A\u001b[A\n",
      "\n",
      " 57%|████████████████████████████████████████████████                                    | 4/7 [00:15<00:11,  3.91s/it]\u001b[A"
     ]
    },
    {
     "name": "stdout",
     "output_type": "stream",
     "text": [
      "'DataFrame' object has no attribute 'append'\n"
     ]
    },
    {
     "name": "stderr",
     "output_type": "stream",
     "text": [
      "\n",
      "\n",
      "Feature Extraction:   0%|                                                                       | 0/40 [00:00<?, ?it/s]\u001b[A\u001b[A\n",
      "\n",
      "Feature Extraction:   2%|█▌                                                             | 1/40 [00:02<01:45,  2.71s/it]\u001b[A\u001b[A\n",
      "\n",
      "Feature Extraction:   5%|███▏                                                           | 2/40 [00:02<00:47,  1.24s/it]\u001b[A\u001b[A\n",
      "\n",
      "Feature Extraction:  15%|█████████▍                                                     | 6/40 [00:03<00:10,  3.26it/s]\u001b[A\u001b[A\n",
      "\n",
      "Feature Extraction:  25%|███████████████▌                                              | 10/40 [00:03<00:04,  6.24it/s]\u001b[A\u001b[A\n",
      "\n",
      "Feature Extraction:  35%|█████████████████████▋                                        | 14/40 [00:03<00:02,  9.51it/s]\u001b[A\u001b[A\n",
      "\n",
      "Feature Extraction:  45%|███████████████████████████▉                                  | 18/40 [00:03<00:01, 13.04it/s]\u001b[A\u001b[A\n",
      "\n",
      "Feature Extraction:  55%|██████████████████████████████████                            | 22/40 [00:03<00:01, 16.86it/s]\u001b[A\u001b[A\n",
      "\n",
      "Feature Extraction:  65%|████████████████████████████████████████▎                     | 26/40 [00:03<00:00, 15.24it/s]\u001b[A\u001b[A\n",
      "\n",
      "Feature Extraction:  75%|██████████████████████████████████████████████▌               | 30/40 [00:03<00:00, 18.77it/s]\u001b[A\u001b[A\n",
      "\n",
      "Feature Extraction:  82%|███████████████████████████████████████████████████▏          | 33/40 [00:04<00:00, 19.36it/s]\u001b[A\u001b[A\n",
      "\n",
      "Feature Extraction: 100%|██████████████████████████████████████████████████████████████| 40/40 [00:04<00:00,  9.36it/s]\u001b[A\u001b[A\n",
      "\n",
      " 71%|████████████████████████████████████████████████████████████                        | 5/7 [00:20<00:08,  4.12s/it]\u001b[A"
     ]
    },
    {
     "name": "stdout",
     "output_type": "stream",
     "text": [
      "'DataFrame' object has no attribute 'append'\n"
     ]
    },
    {
     "name": "stderr",
     "output_type": "stream",
     "text": [
      "\n",
      "\n",
      "Feature Extraction:   0%|                                                                       | 0/40 [00:00<?, ?it/s]\u001b[A\u001b[A\n",
      "\n",
      "Feature Extraction:   2%|█▌                                                             | 1/40 [00:02<01:44,  2.67s/it]\u001b[A\u001b[A\n",
      "\n",
      "Feature Extraction:  18%|███████████                                                    | 7/40 [00:02<00:10,  3.14it/s]\u001b[A\u001b[A\n",
      "\n",
      "Feature Extraction:  30%|██████████████████▌                                           | 12/40 [00:03<00:04,  6.07it/s]\u001b[A\u001b[A\n",
      "\n",
      "Feature Extraction:  45%|███████████████████████████▉                                  | 18/40 [00:03<00:02, 10.35it/s]\u001b[A\u001b[A\n",
      "\n",
      "Feature Extraction:  60%|█████████████████████████████████████▏                        | 24/40 [00:03<00:01, 15.21it/s]\u001b[A\u001b[A\n",
      "\n",
      "Feature Extraction:  75%|██████████████████████████████████████████████▌               | 30/40 [00:03<00:00, 20.45it/s]\u001b[A\u001b[A\n",
      "\n",
      "Feature Extraction: 100%|██████████████████████████████████████████████████████████████| 40/40 [00:03<00:00, 11.16it/s]\u001b[A\u001b[A\n",
      "\n",
      " 86%|████████████████████████████████████████████████████████████████████████            | 6/7 [00:23<00:03,  3.99s/it]\u001b[A"
     ]
    },
    {
     "name": "stdout",
     "output_type": "stream",
     "text": [
      "'DataFrame' object has no attribute 'append'\n"
     ]
    },
    {
     "name": "stderr",
     "output_type": "stream",
     "text": [
      "\n",
      "\n",
      "Feature Extraction:   0%|                                                                       | 0/40 [00:00<?, ?it/s]\u001b[A\u001b[A\n",
      "\n",
      "Feature Extraction:   2%|█▌                                                             | 1/40 [00:02<01:51,  2.85s/it]\u001b[A\u001b[A\n",
      "\n",
      "Feature Extraction:  12%|███████▉                                                       | 5/40 [00:02<00:15,  2.22it/s]\u001b[A\u001b[A\n",
      "\n",
      "Feature Extraction:  22%|██████████████▏                                                | 9/40 [00:03<00:06,  4.60it/s]\u001b[A\u001b[A\n",
      "\n",
      "Feature Extraction:  32%|████████████████████▏                                         | 13/40 [00:03<00:03,  7.42it/s]\u001b[A\u001b[A\n",
      "\n",
      "Feature Extraction:  42%|██████████████████████████▎                                   | 17/40 [00:03<00:02, 10.63it/s]\u001b[A\u001b[A\n",
      "\n",
      "Feature Extraction:  52%|████████████████████████████████▌                             | 21/40 [00:03<00:01, 14.16it/s]\u001b[A\u001b[A\n",
      "\n",
      "Feature Extraction:  62%|██████████████████████████████████████▊                       | 25/40 [00:03<00:01, 13.97it/s]\u001b[A\u001b[A\n",
      "\n",
      "Feature Extraction:  72%|████████████████████████████████████████████▉                 | 29/40 [00:03<00:00, 17.41it/s]\u001b[A\u001b[A\n",
      "\n",
      "Feature Extraction:  82%|███████████████████████████████████████████████████▏          | 33/40 [00:04<00:00, 19.14it/s]\u001b[A\u001b[A\n",
      "\n",
      "Feature Extraction: 100%|██████████████████████████████████████████████████████████████| 40/40 [00:04<00:00,  9.57it/s]\u001b[A\u001b[A\n",
      "\n",
      "100%|████████████████████████████████████████████████████████████████████████████████████| 7/7 [00:28<00:00,  4.05s/it]\u001b[A\n",
      " 17%|██████████████                                                                      | 1/6 [00:28<02:21, 28.33s/it]"
     ]
    },
    {
     "name": "stdout",
     "output_type": "stream",
     "text": [
      "'DataFrame' object has no attribute 'append'\n"
     ]
    },
    {
     "name": "stderr",
     "output_type": "stream",
     "text": [
      "\n",
      "  0%|                                                                                            | 0/7 [00:00<?, ?it/s]\u001b[A\n",
      "\n",
      "Feature Extraction:   0%|                                                                       | 0/40 [00:00<?, ?it/s]\u001b[A\u001b[A\n",
      "\n",
      "Feature Extraction:   2%|█▌                                                             | 1/40 [00:02<01:45,  2.70s/it]\u001b[A\u001b[A\n",
      "\n",
      "Feature Extraction:  15%|█████████▍                                                     | 6/40 [00:02<00:12,  2.62it/s]\u001b[A\u001b[A\n",
      "\n",
      "Feature Extraction:  25%|███████████████▌                                              | 10/40 [00:03<00:06,  4.86it/s]\u001b[A\u001b[A\n",
      "\n",
      "Feature Extraction:  35%|█████████████████████▋                                        | 14/40 [00:03<00:03,  7.60it/s]\u001b[A\u001b[A\n",
      "\n",
      "Feature Extraction:  45%|███████████████████████████▉                                  | 18/40 [00:03<00:02, 10.72it/s]\u001b[A\u001b[A\n",
      "\n",
      "Feature Extraction:  55%|██████████████████████████████████                            | 22/40 [00:03<00:01, 14.15it/s]\u001b[A\u001b[A\n",
      "\n",
      "Feature Extraction:  65%|████████████████████████████████████████▎                     | 26/40 [00:03<00:00, 17.85it/s]\u001b[A\u001b[A\n",
      "\n",
      "Feature Extraction:  75%|██████████████████████████████████████████████▌               | 30/40 [00:03<00:00, 17.34it/s]\u001b[A\u001b[A\n",
      "\n",
      "Feature Extraction:  82%|███████████████████████████████████████████████████▏          | 33/40 [00:03<00:00, 17.05it/s]\u001b[A\u001b[A\n",
      "\n",
      "Feature Extraction: 100%|██████████████████████████████████████████████████████████████| 40/40 [00:04<00:00,  9.58it/s]\u001b[A\u001b[A\n",
      "\n",
      " 14%|████████████                                                                        | 1/7 [00:04<00:26,  4.37s/it]\u001b[A\n",
      "\n",
      "Feature Extraction:   0%|                                                                       | 0/40 [00:00<?, ?it/s]\u001b[A\u001b[A\n",
      "\n",
      "Feature Extraction:   2%|█▌                                                             | 1/40 [00:02<01:42,  2.64s/it]\u001b[A\u001b[A\n",
      "\n",
      "Feature Extraction:  18%|███████████                                                    | 7/40 [00:02<00:09,  3.41it/s]\u001b[A\u001b[A\n",
      "\n",
      "Feature Extraction:  32%|████████████████████▏                                         | 13/40 [00:02<00:03,  7.25it/s]\u001b[A\u001b[A\n",
      "\n",
      "Feature Extraction:  50%|███████████████████████████████                               | 20/40 [00:02<00:01, 12.66it/s]\u001b[A\u001b[A\n",
      "\n",
      "Feature Extraction:  65%|████████████████████████████████████████▎                     | 26/40 [00:03<00:00, 14.97it/s]\u001b[A\u001b[A\n",
      "\n",
      "Feature Extraction:  82%|███████████████████████████████████████████████████▏          | 33/40 [00:03<00:00, 21.24it/s]\u001b[A\u001b[A\n",
      "\n",
      "Feature Extraction: 100%|██████████████████████████████████████████████████████████████| 40/40 [00:03<00:00, 11.56it/s]\u001b[A\u001b[A\n",
      "\n",
      " 29%|████████████████████████                                                            | 2/7 [00:08<00:19,  3.94s/it]\u001b[A"
     ]
    },
    {
     "name": "stdout",
     "output_type": "stream",
     "text": [
      "'DataFrame' object has no attribute 'append'\n"
     ]
    },
    {
     "name": "stderr",
     "output_type": "stream",
     "text": [
      "\n",
      "\n",
      "Feature Extraction:   0%|                                                                       | 0/40 [00:00<?, ?it/s]\u001b[A\u001b[A\n",
      "\n",
      "Feature Extraction:   2%|█▌                                                             | 1/40 [00:02<01:43,  2.66s/it]\u001b[A\u001b[A\n",
      "\n",
      "Feature Extraction:  18%|███████████                                                    | 7/40 [00:02<00:09,  3.40it/s]\u001b[A\u001b[A\n",
      "\n",
      "Feature Extraction:  32%|████████████████████▏                                         | 13/40 [00:02<00:03,  7.14it/s]\u001b[A\u001b[A\n",
      "\n",
      "Feature Extraction:  48%|█████████████████████████████▍                                | 19/40 [00:03<00:01, 11.56it/s]\u001b[A\u001b[A\n",
      "\n",
      "Feature Extraction:  60%|█████████████████████████████████████▏                        | 24/40 [00:03<00:01, 13.55it/s]\u001b[A\u001b[A\n",
      "\n",
      "Feature Extraction:  72%|████████████████████████████████████████████▉                 | 29/40 [00:03<00:00, 17.45it/s]\u001b[A\u001b[A\n",
      "\n",
      "Feature Extraction:  85%|████████████████████████████████████████████████████▋         | 34/40 [00:03<00:00, 21.98it/s]\u001b[A\u001b[A\n",
      "\n",
      "Feature Extraction: 100%|██████████████████████████████████████████████████████████████| 40/40 [00:03<00:00, 11.16it/s]\u001b[A\u001b[A\n",
      "\n",
      " 43%|████████████████████████████████████                                                | 3/7 [00:11<00:15,  3.85s/it]\u001b[A"
     ]
    },
    {
     "name": "stdout",
     "output_type": "stream",
     "text": [
      "'DataFrame' object has no attribute 'append'\n"
     ]
    },
    {
     "name": "stderr",
     "output_type": "stream",
     "text": [
      "\n",
      "\n",
      "Feature Extraction:   0%|                                                                       | 0/40 [00:00<?, ?it/s]\u001b[A\u001b[A\n",
      "\n",
      "Feature Extraction:   2%|█▌                                                             | 1/40 [00:02<01:45,  2.70s/it]\u001b[A\u001b[A\n",
      "\n",
      "Feature Extraction:  15%|█████████▍                                                     | 6/40 [00:02<00:11,  2.84it/s]\u001b[A\u001b[A\n",
      "\n",
      "Feature Extraction:  28%|█████████████████                                             | 11/40 [00:02<00:04,  5.93it/s]\u001b[A\u001b[A\n",
      "\n",
      "Feature Extraction:  38%|███████████████████████▎                                      | 15/40 [00:03<00:03,  7.68it/s]\u001b[A\u001b[A\n",
      "\n",
      "Feature Extraction:  50%|███████████████████████████████                               | 20/40 [00:03<00:01, 11.54it/s]\u001b[A\u001b[A\n",
      "\n",
      "Feature Extraction:  60%|█████████████████████████████████████▏                        | 24/40 [00:03<00:01, 14.66it/s]\u001b[A\u001b[A\n",
      "\n",
      "Feature Extraction:  72%|████████████████████████████████████████████▉                 | 29/40 [00:03<00:00, 19.56it/s]\u001b[A\u001b[A\n",
      "\n",
      "Feature Extraction:  82%|███████████████████████████████████████████████████▏          | 33/40 [00:03<00:00, 20.89it/s]\u001b[A\u001b[A\n",
      "\n",
      "Feature Extraction: 100%|██████████████████████████████████████████████████████████████| 40/40 [00:03<00:00, 10.40it/s]\u001b[A\u001b[A\n",
      "\n",
      " 57%|████████████████████████████████████████████████                                    | 4/7 [00:15<00:11,  3.92s/it]\u001b[A"
     ]
    },
    {
     "name": "stdout",
     "output_type": "stream",
     "text": [
      "'DataFrame' object has no attribute 'append'\n"
     ]
    },
    {
     "name": "stderr",
     "output_type": "stream",
     "text": [
      "\n",
      "\n",
      "Feature Extraction:   0%|                                                                       | 0/40 [00:00<?, ?it/s]\u001b[A\u001b[A\n",
      "\n",
      "Feature Extraction:   2%|█▌                                                             | 1/40 [00:02<01:51,  2.85s/it]\u001b[A\u001b[A\n",
      "\n",
      "Feature Extraction:   8%|████▋                                                          | 3/40 [00:02<00:28,  1.28it/s]\u001b[A\u001b[A\n",
      "\n",
      "Feature Extraction:  18%|███████████                                                    | 7/40 [00:03<00:08,  3.72it/s]\u001b[A\u001b[A\n",
      "\n",
      "Feature Extraction:  28%|█████████████████                                             | 11/40 [00:03<00:04,  6.60it/s]\u001b[A\u001b[A\n",
      "\n",
      "Feature Extraction:  38%|███████████████████████▎                                      | 15/40 [00:03<00:02,  9.95it/s]\u001b[A\u001b[A\n",
      "\n",
      "Feature Extraction:  48%|█████████████████████████████▍                                | 19/40 [00:03<00:01, 13.44it/s]\u001b[A\u001b[A\n",
      "\n",
      "Feature Extraction:  57%|███████████████████████████████████▋                          | 23/40 [00:03<00:01, 13.35it/s]\u001b[A\u001b[A\n",
      "\n",
      "Feature Extraction:  68%|█████████████████████████████████████████▊                    | 27/40 [00:03<00:00, 16.78it/s]\u001b[A\u001b[A\n",
      "\n",
      "Feature Extraction:  78%|████████████████████████████████████████████████              | 31/40 [00:03<00:00, 20.02it/s]\u001b[A\u001b[A\n",
      "\n",
      "Feature Extraction:  85%|████████████████████████████████████████████████████▋         | 34/40 [00:04<00:00, 20.26it/s]\u001b[A\u001b[A\n",
      "\n",
      "Feature Extraction: 100%|██████████████████████████████████████████████████████████████| 40/40 [00:04<00:00,  9.00it/s]\u001b[A\u001b[A\n",
      "\n",
      " 71%|████████████████████████████████████████████████████████████                        | 5/7 [00:20<00:08,  4.18s/it]\u001b[A"
     ]
    },
    {
     "name": "stdout",
     "output_type": "stream",
     "text": [
      "'DataFrame' object has no attribute 'append'\n"
     ]
    },
    {
     "name": "stderr",
     "output_type": "stream",
     "text": [
      "\n",
      "\n",
      "Feature Extraction:   0%|                                                                       | 0/40 [00:00<?, ?it/s]\u001b[A\u001b[A\n",
      "\n",
      "Feature Extraction:   2%|█▌                                                             | 1/40 [00:02<01:43,  2.67s/it]\u001b[A\u001b[A\n",
      "\n",
      "Feature Extraction:  18%|███████████                                                    | 7/40 [00:02<00:09,  3.39it/s]\u001b[A\u001b[A\n",
      "\n",
      "Feature Extraction:  32%|████████████████████▏                                         | 13/40 [00:02<00:03,  7.11it/s]\u001b[A\u001b[A\n",
      "\n",
      "Feature Extraction:  45%|███████████████████████████▉                                  | 18/40 [00:03<00:02, 10.81it/s]\u001b[A\u001b[A\n",
      "\n",
      "Feature Extraction:  60%|█████████████████████████████████████▏                        | 24/40 [00:03<00:00, 16.05it/s]\u001b[A\u001b[A\n",
      "\n",
      "Feature Extraction:  75%|██████████████████████████████████████████████▌               | 30/40 [00:03<00:00, 21.36it/s]\u001b[A\u001b[A\n",
      "\n",
      "Feature Extraction:  88%|██████████████████████████████████████████████████████▎       | 35/40 [00:03<00:00, 20.83it/s]\u001b[A\u001b[A\n",
      "\n",
      "Feature Extraction: 100%|██████████████████████████████████████████████████████████████| 40/40 [00:03<00:00, 11.12it/s]\u001b[A\u001b[A\n",
      "\n",
      " 86%|████████████████████████████████████████████████████████████████████████            | 6/7 [00:24<00:04,  4.04s/it]\u001b[A"
     ]
    },
    {
     "name": "stdout",
     "output_type": "stream",
     "text": [
      "'DataFrame' object has no attribute 'append'\n"
     ]
    },
    {
     "name": "stderr",
     "output_type": "stream",
     "text": [
      "\n",
      "\n",
      "Feature Extraction:   0%|                                                                       | 0/40 [00:00<?, ?it/s]\u001b[A\u001b[A\n",
      "\n",
      "Feature Extraction:   2%|█▌                                                             | 1/40 [00:02<01:45,  2.72s/it]\u001b[A\u001b[A\n",
      "\n",
      "Feature Extraction:  15%|█████████▍                                                     | 6/40 [00:02<00:12,  2.82it/s]\u001b[A\u001b[A\n",
      "\n",
      "Feature Extraction:  25%|███████████████▌                                              | 10/40 [00:02<00:05,  5.20it/s]\u001b[A\u001b[A\n",
      "\n",
      "Feature Extraction:  35%|█████████████████████▋                                        | 14/40 [00:03<00:03,  8.07it/s]\u001b[A\u001b[A\n",
      "\n",
      "Feature Extraction:  45%|███████████████████████████▉                                  | 18/40 [00:03<00:01, 11.36it/s]\u001b[A\u001b[A\n",
      "\n",
      "Feature Extraction:  55%|██████████████████████████████████                            | 22/40 [00:03<00:01, 12.06it/s]\u001b[A\u001b[A\n",
      "\n",
      "Feature Extraction:  65%|████████████████████████████████████████▎                     | 26/40 [00:03<00:00, 15.62it/s]\u001b[A\u001b[A\n",
      "\n",
      "Feature Extraction:  75%|██████████████████████████████████████████████▌               | 30/40 [00:03<00:00, 18.31it/s]\u001b[A\u001b[A\n",
      "\n",
      "Feature Extraction:  82%|███████████████████████████████████████████████████▏          | 33/40 [00:03<00:00, 20.22it/s]\u001b[A\u001b[A\n",
      "\n",
      "Feature Extraction: 100%|██████████████████████████████████████████████████████████████| 40/40 [00:04<00:00,  9.93it/s]\u001b[A\u001b[A\n",
      "\n",
      "100%|████████████████████████████████████████████████████████████████████████████████████| 7/7 [00:28<00:00,  4.06s/it]\u001b[A\n",
      " 33%|████████████████████████████                                                        | 2/6 [00:56<01:53, 28.37s/it]"
     ]
    },
    {
     "name": "stdout",
     "output_type": "stream",
     "text": [
      "'DataFrame' object has no attribute 'append'\n"
     ]
    },
    {
     "name": "stderr",
     "output_type": "stream",
     "text": [
      "\n",
      "  0%|                                                                                            | 0/7 [00:00<?, ?it/s]\u001b[A\n",
      "\n",
      "Feature Extraction:   0%|                                                                       | 0/40 [00:00<?, ?it/s]\u001b[A\u001b[A\n",
      "\n",
      "Feature Extraction:   2%|█▌                                                             | 1/40 [00:02<01:45,  2.71s/it]\u001b[A\u001b[A\n",
      "\n",
      "Feature Extraction:   5%|███▏                                                           | 2/40 [00:02<00:46,  1.23s/it]\u001b[A\u001b[A\n",
      "\n",
      "Feature Extraction:  15%|█████████▍                                                     | 6/40 [00:03<00:10,  3.28it/s]\u001b[A\u001b[A\n",
      "\n",
      "Feature Extraction:  25%|███████████████▌                                              | 10/40 [00:03<00:04,  6.29it/s]\u001b[A\u001b[A\n",
      "\n",
      "Feature Extraction:  35%|█████████████████████▋                                        | 14/40 [00:03<00:02,  9.67it/s]\u001b[A\u001b[A\n",
      "\n",
      "Feature Extraction:  45%|███████████████████████████▉                                  | 18/40 [00:03<00:01, 13.38it/s]\u001b[A\u001b[A\n",
      "\n",
      "Feature Extraction:  55%|██████████████████████████████████                            | 22/40 [00:03<00:01, 17.03it/s]\u001b[A\u001b[A\n",
      "\n",
      "Feature Extraction:  65%|████████████████████████████████████████▎                     | 26/40 [00:03<00:00, 15.73it/s]\u001b[A\u001b[A\n",
      "\n",
      "Feature Extraction:  75%|██████████████████████████████████████████████▌               | 30/40 [00:03<00:00, 19.26it/s]\u001b[A\u001b[A\n",
      "\n",
      "Feature Extraction:  82%|███████████████████████████████████████████████████▏          | 33/40 [00:04<00:00, 19.80it/s]\u001b[A\u001b[A\n",
      "\n",
      "Feature Extraction: 100%|██████████████████████████████████████████████████████████████| 40/40 [00:04<00:00,  9.53it/s]\u001b[A\u001b[A\n",
      "\n",
      " 14%|████████████                                                                        | 1/7 [00:04<00:26,  4.41s/it]\u001b[A\n",
      "\n",
      "Feature Extraction:   0%|                                                                       | 0/40 [00:00<?, ?it/s]\u001b[A\u001b[A\n",
      "\n",
      "Feature Extraction:   2%|█▌                                                             | 1/40 [00:02<01:45,  2.72s/it]\u001b[A\u001b[A\n",
      "\n",
      "Feature Extraction:  20%|████████████▌                                                  | 8/40 [00:02<00:08,  3.83it/s]\u001b[A\u001b[A\n",
      "\n",
      "Feature Extraction:  32%|████████████████████▏                                         | 13/40 [00:03<00:04,  6.24it/s]\u001b[A\u001b[A\n",
      "\n",
      "Feature Extraction:  48%|█████████████████████████████▍                                | 19/40 [00:03<00:02, 10.46it/s]\u001b[A\u001b[A\n",
      "\n",
      "Feature Extraction:  62%|██████████████████████████████████████▊                       | 25/40 [00:03<00:00, 15.42it/s]\u001b[A\u001b[A\n",
      "\n",
      "Feature Extraction:  80%|█████████████████████████████████████████████████▌            | 32/40 [00:03<00:00, 21.94it/s]\u001b[A\u001b[A\n",
      "\n",
      "Feature Extraction: 100%|██████████████████████████████████████████████████████████████| 40/40 [00:03<00:00, 11.34it/s]\u001b[A\u001b[A\n",
      "\n",
      " 29%|████████████████████████                                                            | 2/7 [00:08<00:19,  3.99s/it]\u001b[A"
     ]
    },
    {
     "name": "stdout",
     "output_type": "stream",
     "text": [
      "'DataFrame' object has no attribute 'append'\n"
     ]
    },
    {
     "name": "stderr",
     "output_type": "stream",
     "text": [
      "\n",
      "\n",
      "Feature Extraction:   0%|                                                                       | 0/40 [00:00<?, ?it/s]\u001b[A\u001b[A\n",
      "\n",
      "Feature Extraction:   2%|█▌                                                             | 1/40 [00:02<01:45,  2.69s/it]\u001b[A\u001b[A\n",
      "\n",
      "Feature Extraction:  15%|█████████▍                                                     | 6/40 [00:02<00:11,  2.86it/s]\u001b[A\u001b[A\n",
      "\n",
      "Feature Extraction:  30%|██████████████████▌                                           | 12/40 [00:02<00:04,  6.64it/s]\u001b[A\u001b[A\n",
      "\n",
      "Feature Extraction:  42%|██████████████████████████▎                                   | 17/40 [00:03<00:02,  9.02it/s]\u001b[A\u001b[A\n",
      "\n",
      "Feature Extraction:  57%|███████████████████████████████████▋                          | 23/40 [00:03<00:01, 13.84it/s]\u001b[A\u001b[A\n",
      "\n",
      "Feature Extraction:  72%|████████████████████████████████████████████▉                 | 29/40 [00:03<00:00, 19.06it/s]\u001b[A\u001b[A\n",
      "\n",
      "Feature Extraction: 100%|██████████████████████████████████████████████████████████████| 40/40 [00:03<00:00, 11.01it/s]\u001b[A\u001b[A\n",
      "\n",
      " 43%|████████████████████████████████████                                                | 3/7 [00:11<00:15,  3.89s/it]\u001b[A"
     ]
    },
    {
     "name": "stdout",
     "output_type": "stream",
     "text": [
      "'DataFrame' object has no attribute 'append'\n"
     ]
    },
    {
     "name": "stderr",
     "output_type": "stream",
     "text": [
      "\n",
      "\n",
      "Feature Extraction:   0%|                                                                       | 0/40 [00:00<?, ?it/s]\u001b[A\u001b[A\n",
      "\n",
      "Feature Extraction:   2%|█▌                                                             | 1/40 [00:02<01:44,  2.69s/it]\u001b[A\u001b[A\n",
      "\n",
      "Feature Extraction:  12%|███████▉                                                       | 5/40 [00:02<00:14,  2.36it/s]\u001b[A\u001b[A\n",
      "\n",
      "Feature Extraction:  20%|████████████▌                                                  | 8/40 [00:03<00:08,  3.89it/s]\u001b[A\u001b[A\n",
      "\n",
      "Feature Extraction:  28%|█████████████████                                             | 11/40 [00:03<00:04,  5.98it/s]\u001b[A\u001b[A\n",
      "\n",
      "Feature Extraction:  40%|████████████████████████▊                                     | 16/40 [00:03<00:02, 10.29it/s]\u001b[A\u001b[A\n",
      "\n",
      "Feature Extraction:  52%|████████████████████████████████▌                             | 21/40 [00:03<00:01, 14.93it/s]\u001b[A\u001b[A\n",
      "\n",
      "Feature Extraction:  62%|██████████████████████████████████████▊                       | 25/40 [00:03<00:00, 18.66it/s]\u001b[A\u001b[A\n",
      "\n",
      "Feature Extraction:  72%|████████████████████████████████████████████▉                 | 29/40 [00:03<00:00, 22.17it/s]\u001b[A\u001b[A\n",
      "\n",
      "Feature Extraction:  82%|███████████████████████████████████████████████████▏          | 33/40 [00:03<00:00, 18.79it/s]\u001b[A\u001b[A\n",
      "\n",
      "Feature Extraction: 100%|██████████████████████████████████████████████████████████████| 40/40 [00:04<00:00,  9.86it/s]\u001b[A\u001b[A\n",
      "\n",
      " 57%|████████████████████████████████████████████████                                    | 4/7 [00:16<00:12,  4.02s/it]\u001b[A"
     ]
    },
    {
     "name": "stdout",
     "output_type": "stream",
     "text": [
      "'DataFrame' object has no attribute 'append'\n"
     ]
    },
    {
     "name": "stderr",
     "output_type": "stream",
     "text": [
      "\n",
      "\n",
      "Feature Extraction:   0%|                                                                       | 0/40 [00:00<?, ?it/s]\u001b[A\u001b[A\n",
      "\n",
      "Feature Extraction:   2%|█▌                                                             | 1/40 [00:02<01:44,  2.68s/it]\u001b[A\u001b[A\n",
      "\n",
      "Feature Extraction:  12%|███████▉                                                       | 5/40 [00:02<00:14,  2.37it/s]\u001b[A\u001b[A\n",
      "\n",
      "Feature Extraction:  22%|██████████████▏                                                | 9/40 [00:02<00:06,  4.83it/s]\u001b[A\u001b[A\n",
      "\n",
      "Feature Extraction:  32%|████████████████████▏                                         | 13/40 [00:03<00:03,  7.71it/s]\u001b[A\u001b[A\n",
      "\n",
      "Feature Extraction:  40%|████████████████████████▊                                     | 16/40 [00:03<00:02,  8.84it/s]\u001b[A\u001b[A\n",
      "\n",
      "Feature Extraction:  48%|█████████████████████████████▍                                | 19/40 [00:03<00:01, 11.08it/s]\u001b[A\u001b[A\n",
      "\n",
      "Feature Extraction:  57%|███████████████████████████████████▋                          | 23/40 [00:03<00:01, 14.65it/s]\u001b[A\u001b[A\n",
      "\n",
      "Feature Extraction:  68%|█████████████████████████████████████████▊                    | 27/40 [00:03<00:00, 18.44it/s]\u001b[A\u001b[A\n",
      "\n",
      "Feature Extraction:  78%|████████████████████████████████████████████████              | 31/40 [00:03<00:00, 21.64it/s]\u001b[A\u001b[A\n",
      "\n",
      "Feature Extraction:  88%|██████████████████████████████████████████████████████▎       | 35/40 [00:04<00:00, 16.71it/s]\u001b[A\u001b[A\n",
      "\n",
      "Feature Extraction: 100%|██████████████████████████████████████████████████████████████| 40/40 [00:04<00:00,  9.43it/s]\u001b[A\u001b[A\n",
      "\n",
      " 71%|████████████████████████████████████████████████████████████                        | 5/7 [00:20<00:08,  4.19s/it]\u001b[A"
     ]
    },
    {
     "name": "stdout",
     "output_type": "stream",
     "text": [
      "'DataFrame' object has no attribute 'append'\n"
     ]
    },
    {
     "name": "stderr",
     "output_type": "stream",
     "text": [
      "\n",
      "\n",
      "Feature Extraction:   0%|                                                                       | 0/40 [00:00<?, ?it/s]\u001b[A\u001b[A\n",
      "\n",
      "Feature Extraction:   2%|█▌                                                             | 1/40 [00:02<01:44,  2.69s/it]\u001b[A\u001b[A\n",
      "\n",
      "Feature Extraction:  18%|███████████                                                    | 7/40 [00:02<00:09,  3.36it/s]\u001b[A\u001b[A\n",
      "\n",
      "Feature Extraction:  32%|████████████████████▏                                         | 13/40 [00:02<00:03,  7.13it/s]\u001b[A\u001b[A\n",
      "\n",
      "Feature Extraction:  48%|█████████████████████████████▍                                | 19/40 [00:03<00:01, 11.55it/s]\u001b[A\u001b[A\n",
      "\n",
      "Feature Extraction:  60%|█████████████████████████████████████▏                        | 24/40 [00:03<00:01, 15.70it/s]\u001b[A\u001b[A\n",
      "\n",
      "Feature Extraction:  75%|██████████████████████████████████████████████▌               | 30/40 [00:03<00:00, 21.13it/s]\u001b[A\u001b[A\n",
      "\n",
      "Feature Extraction: 100%|██████████████████████████████████████████████████████████████| 40/40 [00:03<00:00, 11.12it/s]\u001b[A\u001b[A\n",
      "\n",
      " 86%|████████████████████████████████████████████████████████████████████████            | 6/7 [00:24<00:04,  4.03s/it]\u001b[A"
     ]
    },
    {
     "name": "stdout",
     "output_type": "stream",
     "text": [
      "'DataFrame' object has no attribute 'append'\n"
     ]
    },
    {
     "name": "stderr",
     "output_type": "stream",
     "text": [
      "\n",
      "\n",
      "Feature Extraction:   0%|                                                                       | 0/40 [00:00<?, ?it/s]\u001b[A\u001b[A\n",
      "\n",
      "Feature Extraction:   2%|█▌                                                             | 1/40 [00:02<01:45,  2.71s/it]\u001b[A\u001b[A\n",
      "\n",
      "Feature Extraction:  15%|█████████▍                                                     | 6/40 [00:02<00:12,  2.83it/s]\u001b[A\u001b[A\n",
      "\n",
      "Feature Extraction:  25%|███████████████▌                                              | 10/40 [00:02<00:05,  5.28it/s]\u001b[A\u001b[A\n",
      "\n",
      "Feature Extraction:  35%|█████████████████████▋                                        | 14/40 [00:03<00:03,  8.15it/s]\u001b[A\u001b[A\n",
      "\n",
      "Feature Extraction:  45%|███████████████████████████▉                                  | 18/40 [00:03<00:02,  9.97it/s]\u001b[A\u001b[A\n",
      "\n",
      "Feature Extraction:  52%|████████████████████████████████▌                             | 21/40 [00:03<00:01, 12.07it/s]\u001b[A\u001b[A\n",
      "\n",
      "Feature Extraction:  62%|██████████████████████████████████████▊                       | 25/40 [00:03<00:00, 15.90it/s]\u001b[A\u001b[A\n",
      "\n",
      "Feature Extraction:  72%|████████████████████████████████████████████▉                 | 29/40 [00:03<00:00, 19.60it/s]\u001b[A\u001b[A\n",
      "\n",
      "Feature Extraction:  82%|███████████████████████████████████████████████████▏          | 33/40 [00:03<00:00, 20.77it/s]\u001b[A\u001b[A\n",
      "\n",
      "Feature Extraction: 100%|██████████████████████████████████████████████████████████████| 40/40 [00:03<00:00, 10.01it/s]\u001b[A\u001b[A\n",
      "\n",
      "100%|████████████████████████████████████████████████████████████████████████████████████| 7/7 [00:28<00:00,  4.07s/it]\u001b[A\n",
      " 50%|██████████████████████████████████████████                                          | 3/6 [01:25<01:25, 28.44s/it]"
     ]
    },
    {
     "name": "stdout",
     "output_type": "stream",
     "text": [
      "'DataFrame' object has no attribute 'append'\n"
     ]
    },
    {
     "name": "stderr",
     "output_type": "stream",
     "text": [
      "\n",
      "  0%|                                                                                            | 0/7 [00:00<?, ?it/s]\u001b[A\n",
      "\n",
      "Feature Extraction:   0%|                                                                       | 0/40 [00:00<?, ?it/s]\u001b[A\u001b[A\n",
      "\n",
      "Feature Extraction:   2%|█▌                                                             | 1/40 [00:02<01:52,  2.89s/it]\u001b[A\u001b[A\n",
      "\n",
      "Feature Extraction:  12%|███████▉                                                       | 5/40 [00:03<00:15,  2.20it/s]\u001b[A\u001b[A\n",
      "\n",
      "Feature Extraction:  22%|██████████████▏                                                | 9/40 [00:03<00:06,  4.56it/s]\u001b[A\u001b[A\n",
      "\n",
      "Feature Extraction:  32%|████████████████████▏                                         | 13/40 [00:03<00:03,  7.44it/s]\u001b[A\u001b[A\n",
      "\n",
      "Feature Extraction:  42%|██████████████████████████▎                                   | 17/40 [00:03<00:02, 10.66it/s]\u001b[A\u001b[A\n",
      "\n",
      "Feature Extraction:  52%|████████████████████████████████▌                             | 21/40 [00:03<00:01, 14.27it/s]\u001b[A\u001b[A\n",
      "\n",
      "Feature Extraction:  62%|██████████████████████████████████████▊                       | 25/40 [00:03<00:01, 14.60it/s]\u001b[A\u001b[A\n",
      "\n",
      "Feature Extraction:  70%|███████████████████████████████████████████▍                  | 28/40 [00:03<00:00, 16.79it/s]\u001b[A\u001b[A\n",
      "\n",
      "Feature Extraction:  80%|█████████████████████████████████████████████████▌            | 32/40 [00:03<00:00, 20.42it/s]\u001b[A\u001b[A\n",
      "\n",
      "Feature Extraction:  90%|███████████████████████████████████████████████████████▊      | 36/40 [00:04<00:00, 21.47it/s]\u001b[A\u001b[A\n",
      "\n",
      "Feature Extraction: 100%|██████████████████████████████████████████████████████████████| 40/40 [00:04<00:00,  9.56it/s]\u001b[A\u001b[A\n",
      "\n",
      " 14%|████████████                                                                        | 1/7 [00:04<00:26,  4.36s/it]\u001b[A\n",
      "\n",
      "Feature Extraction:   0%|                                                                       | 0/40 [00:00<?, ?it/s]\u001b[A\u001b[A\n",
      "\n",
      "Feature Extraction:   2%|█▌                                                             | 1/40 [00:02<01:46,  2.73s/it]\u001b[A\u001b[A\n",
      "\n",
      "Feature Extraction:  20%|████████████▌                                                  | 8/40 [00:02<00:08,  3.82it/s]\u001b[A\u001b[A\n",
      "\n",
      "Feature Extraction:  35%|█████████████████████▋                                        | 14/40 [00:03<00:03,  6.74it/s]\u001b[A\u001b[A\n",
      "\n",
      "Feature Extraction:  50%|███████████████████████████████                               | 20/40 [00:03<00:01, 10.87it/s]\u001b[A\u001b[A\n",
      "\n",
      "Feature Extraction:  68%|█████████████████████████████████████████▊                    | 27/40 [00:03<00:00, 16.54it/s]\u001b[A\u001b[A\n",
      "\n",
      "Feature Extraction:  82%|███████████████████████████████████████████████████▏          | 33/40 [00:03<00:00, 21.86it/s]\u001b[A\u001b[A\n",
      "\n",
      "Feature Extraction: 100%|██████████████████████████████████████████████████████████████| 40/40 [00:03<00:00, 11.29it/s]\u001b[A\u001b[A\n",
      "\n",
      " 29%|████████████████████████                                                            | 2/7 [00:08<00:19,  3.98s/it]\u001b[A"
     ]
    },
    {
     "name": "stdout",
     "output_type": "stream",
     "text": [
      "'DataFrame' object has no attribute 'append'\n"
     ]
    },
    {
     "name": "stderr",
     "output_type": "stream",
     "text": [
      "\n",
      "\n",
      "Feature Extraction:   0%|                                                                       | 0/40 [00:00<?, ?it/s]\u001b[A\u001b[A\n",
      "\n",
      "Feature Extraction:   2%|█▌                                                             | 1/40 [00:02<01:46,  2.72s/it]\u001b[A\u001b[A\n",
      "\n",
      "Feature Extraction:  18%|███████████                                                    | 7/40 [00:02<00:09,  3.33it/s]\u001b[A\u001b[A\n",
      "\n",
      "Feature Extraction:  30%|██████████████████▌                                           | 12/40 [00:02<00:04,  6.42it/s]\u001b[A\u001b[A\n",
      "\n",
      "Feature Extraction:  42%|██████████████████████████▎                                   | 17/40 [00:03<00:02,  9.00it/s]\u001b[A\u001b[A\n",
      "\n",
      "Feature Extraction:  55%|██████████████████████████████████                            | 22/40 [00:03<00:01, 12.86it/s]\u001b[A\u001b[A\n",
      "\n",
      "Feature Extraction:  70%|███████████████████████████████████████████▍                  | 28/40 [00:03<00:00, 18.20it/s]\u001b[A\u001b[A\n",
      "\n",
      "Feature Extraction:  85%|████████████████████████████████████████████████████▋         | 34/40 [00:03<00:00, 23.62it/s]\u001b[A\u001b[A\n",
      "\n",
      "Feature Extraction: 100%|██████████████████████████████████████████████████████████████| 40/40 [00:03<00:00, 10.96it/s]\u001b[A\u001b[A\n",
      "\n",
      " 43%|████████████████████████████████████                                                | 3/7 [00:11<00:15,  3.89s/it]\u001b[A"
     ]
    },
    {
     "name": "stdout",
     "output_type": "stream",
     "text": [
      "'DataFrame' object has no attribute 'append'\n"
     ]
    },
    {
     "name": "stderr",
     "output_type": "stream",
     "text": [
      "\n",
      "\n",
      "Feature Extraction:   0%|                                                                       | 0/40 [00:00<?, ?it/s]\u001b[A\u001b[A\n",
      "\n",
      "Feature Extraction:   2%|█▌                                                             | 1/40 [00:02<01:44,  2.69s/it]\u001b[A\u001b[A\n",
      "\n",
      "Feature Extraction:  15%|█████████▍                                                     | 6/40 [00:02<00:11,  2.85it/s]\u001b[A\u001b[A\n",
      "\n",
      "Feature Extraction:  22%|██████████████▏                                                | 9/40 [00:03<00:07,  4.23it/s]\u001b[A\u001b[A\n",
      "\n",
      "Feature Extraction:  35%|█████████████████████▋                                        | 14/40 [00:03<00:03,  7.71it/s]\u001b[A\u001b[A\n",
      "\n",
      "Feature Extraction:  45%|███████████████████████████▉                                  | 18/40 [00:03<00:02, 10.92it/s]\u001b[A\u001b[A\n",
      "\n",
      "Feature Extraction:  55%|██████████████████████████████████                            | 22/40 [00:03<00:01, 14.53it/s]\u001b[A\u001b[A\n",
      "\n",
      "Feature Extraction:  65%|████████████████████████████████████████▎                     | 26/40 [00:03<00:00, 18.35it/s]\u001b[A\u001b[A\n",
      "\n",
      "Feature Extraction:  78%|████████████████████████████████████████████████              | 31/40 [00:03<00:00, 22.35it/s]\u001b[A\u001b[A\n",
      "\n",
      "Feature Extraction:  88%|██████████████████████████████████████████████████████▎       | 35/40 [00:03<00:00, 19.83it/s]\u001b[A\u001b[A\n",
      "\n",
      "Feature Extraction: 100%|██████████████████████████████████████████████████████████████| 40/40 [00:04<00:00,  9.88it/s]\u001b[A\u001b[A\n",
      "\n",
      " 57%|████████████████████████████████████████████████                                    | 4/7 [00:16<00:12,  4.03s/it]\u001b[A"
     ]
    },
    {
     "name": "stdout",
     "output_type": "stream",
     "text": [
      "'DataFrame' object has no attribute 'append'\n"
     ]
    },
    {
     "name": "stderr",
     "output_type": "stream",
     "text": [
      "\n",
      "\n",
      "Feature Extraction:   0%|                                                                       | 0/40 [00:00<?, ?it/s]\u001b[A\u001b[A\n",
      "\n",
      "Feature Extraction:   2%|█▌                                                             | 1/40 [00:02<01:44,  2.69s/it]\u001b[A\u001b[A\n",
      "\n",
      "Feature Extraction:  10%|██████▎                                                        | 4/40 [00:02<00:19,  1.86it/s]\u001b[A\u001b[A\n",
      "\n",
      "Feature Extraction:  20%|████████████▌                                                  | 8/40 [00:02<00:07,  4.37it/s]\u001b[A\u001b[A\n",
      "\n",
      "Feature Extraction:  30%|██████████████████▌                                           | 12/40 [00:03<00:03,  7.29it/s]\u001b[A\u001b[A\n",
      "\n",
      "Feature Extraction:  38%|███████████████████████▎                                      | 15/40 [00:03<00:02,  8.62it/s]\u001b[A\u001b[A\n",
      "\n",
      "Feature Extraction:  45%|███████████████████████████▉                                  | 18/40 [00:03<00:02, 10.74it/s]\u001b[A\u001b[A\n",
      "\n",
      "Feature Extraction:  55%|██████████████████████████████████                            | 22/40 [00:03<00:01, 14.48it/s]\u001b[A\u001b[A\n",
      "\n",
      "Feature Extraction:  65%|████████████████████████████████████████▎                     | 26/40 [00:03<00:00, 17.95it/s]\u001b[A\u001b[A\n",
      "\n",
      "Feature Extraction:  75%|██████████████████████████████████████████████▌               | 30/40 [00:03<00:00, 21.04it/s]\u001b[A\u001b[A\n",
      "\n",
      "Feature Extraction:  82%|███████████████████████████████████████████████████▏          | 33/40 [00:04<00:00, 17.93it/s]\u001b[A\u001b[A\n",
      "\n",
      "Feature Extraction:  90%|███████████████████████████████████████████████████████▊      | 36/40 [00:04<00:00, 17.34it/s]\u001b[A\u001b[A\n",
      "\n",
      "Feature Extraction: 100%|██████████████████████████████████████████████████████████████| 40/40 [00:04<00:00,  9.31it/s]\u001b[A\u001b[A\n",
      "\n",
      " 71%|████████████████████████████████████████████████████████████                        | 5/7 [00:20<00:08,  4.20s/it]\u001b[A"
     ]
    },
    {
     "name": "stdout",
     "output_type": "stream",
     "text": [
      "'DataFrame' object has no attribute 'append'\n"
     ]
    },
    {
     "name": "stderr",
     "output_type": "stream",
     "text": [
      "\n",
      "\n",
      "Feature Extraction:   0%|                                                                       | 0/40 [00:00<?, ?it/s]\u001b[A\u001b[A\n",
      "\n",
      "Feature Extraction:   2%|█▌                                                             | 1/40 [00:02<01:45,  2.69s/it]\u001b[A\u001b[A\n",
      "\n",
      "Feature Extraction:  20%|████████████▌                                                  | 8/40 [00:02<00:08,  3.85it/s]\u001b[A\u001b[A\n",
      "\n",
      "Feature Extraction:  35%|█████████████████████▋                                        | 14/40 [00:02<00:03,  7.52it/s]\u001b[A\u001b[A\n",
      "\n",
      "Feature Extraction:  48%|█████████████████████████████▍                                | 19/40 [00:03<00:01, 11.14it/s]\u001b[A\u001b[A\n",
      "\n",
      "Feature Extraction:  60%|█████████████████████████████████████▏                        | 24/40 [00:03<00:01, 13.05it/s]\u001b[A\u001b[A\n",
      "\n",
      "Feature Extraction:  72%|████████████████████████████████████████████▉                 | 29/40 [00:03<00:00, 17.28it/s]\u001b[A\u001b[A\n",
      "\n",
      "Feature Extraction:  85%|████████████████████████████████████████████████████▋         | 34/40 [00:03<00:00, 21.81it/s]\u001b[A\u001b[A\n",
      "\n",
      "Feature Extraction: 100%|██████████████████████████████████████████████████████████████| 40/40 [00:03<00:00, 11.08it/s]\u001b[A\u001b[A\n",
      "\n",
      " 86%|████████████████████████████████████████████████████████████████████████            | 6/7 [00:24<00:04,  4.05s/it]\u001b[A"
     ]
    },
    {
     "name": "stdout",
     "output_type": "stream",
     "text": [
      "'DataFrame' object has no attribute 'append'\n"
     ]
    },
    {
     "name": "stderr",
     "output_type": "stream",
     "text": [
      "\n",
      "\n",
      "Feature Extraction:   0%|                                                                       | 0/40 [00:00<?, ?it/s]\u001b[A\u001b[A\n",
      "\n",
      "Feature Extraction:   2%|█▌                                                             | 1/40 [00:02<01:46,  2.73s/it]\u001b[A\u001b[A\n",
      "\n",
      "Feature Extraction:  12%|███████▉                                                       | 5/40 [00:02<00:15,  2.32it/s]\u001b[A\u001b[A\n",
      "\n",
      "Feature Extraction:  22%|██████████████▏                                                | 9/40 [00:02<00:06,  4.78it/s]\u001b[A\u001b[A\n",
      "\n",
      "Feature Extraction:  30%|██████████████████▌                                           | 12/40 [00:03<00:04,  6.12it/s]\u001b[A\u001b[A\n",
      "\n",
      "Feature Extraction:  40%|████████████████████████▊                                     | 16/40 [00:03<00:02,  9.27it/s]\u001b[A\u001b[A\n",
      "\n",
      "Feature Extraction:  50%|███████████████████████████████                               | 20/40 [00:03<00:01, 12.96it/s]\u001b[A\u001b[A\n",
      "\n",
      "Feature Extraction:  60%|█████████████████████████████████████▏                        | 24/40 [00:03<00:00, 16.56it/s]\u001b[A\u001b[A\n",
      "\n",
      "Feature Extraction:  70%|███████████████████████████████████████████▍                  | 28/40 [00:03<00:00, 20.34it/s]\u001b[A\u001b[A\n",
      "\n",
      "Feature Extraction:  80%|█████████████████████████████████████████████████▌            | 32/40 [00:03<00:00, 23.14it/s]\u001b[A\u001b[A\n",
      "\n",
      "Feature Extraction:  90%|███████████████████████████████████████████████████████▊      | 36/40 [00:04<00:00, 18.64it/s]\u001b[A\u001b[A\n",
      "\n",
      "Feature Extraction: 100%|██████████████████████████████████████████████████████████████| 40/40 [00:04<00:00,  9.47it/s]\u001b[A\u001b[A\n",
      "\n",
      "100%|████████████████████████████████████████████████████████████████████████████████████| 7/7 [00:28<00:00,  4.11s/it]\u001b[A\n",
      " 67%|████████████████████████████████████████████████████████                            | 4/6 [01:54<00:57, 28.57s/it]"
     ]
    },
    {
     "name": "stdout",
     "output_type": "stream",
     "text": [
      "'DataFrame' object has no attribute 'append'\n"
     ]
    },
    {
     "name": "stderr",
     "output_type": "stream",
     "text": [
      "\n",
      "  0%|                                                                                            | 0/7 [00:00<?, ?it/s]\u001b[A\n",
      "\n",
      "Feature Extraction:   0%|                                                                       | 0/40 [00:00<?, ?it/s]\u001b[A\u001b[A\n",
      "\n",
      "Feature Extraction:   2%|█▌                                                             | 1/40 [00:02<01:45,  2.69s/it]\u001b[A\u001b[A\n",
      "\n",
      "Feature Extraction:  15%|█████████▍                                                     | 6/40 [00:02<00:11,  2.84it/s]\u001b[A\u001b[A\n",
      "\n",
      "Feature Extraction:  25%|███████████████▌                                              | 10/40 [00:02<00:05,  5.27it/s]\u001b[A\u001b[A\n",
      "\n",
      "Feature Extraction:  35%|█████████████████████▋                                        | 14/40 [00:03<00:03,  8.18it/s]\u001b[A\u001b[A\n",
      "\n",
      "Feature Extraction:  45%|███████████████████████████▉                                  | 18/40 [00:03<00:01, 11.50it/s]\u001b[A\u001b[A\n",
      "\n",
      "Feature Extraction:  55%|██████████████████████████████████                            | 22/40 [00:03<00:01, 12.26it/s]\u001b[A\u001b[A\n",
      "\n",
      "Feature Extraction:  65%|████████████████████████████████████████▎                     | 26/40 [00:03<00:00, 15.76it/s]\u001b[A\u001b[A\n",
      "\n",
      "Feature Extraction:  75%|██████████████████████████████████████████████▌               | 30/40 [00:03<00:00, 19.30it/s]\u001b[A\u001b[A\n",
      "\n",
      "Feature Extraction:  85%|████████████████████████████████████████████████████▋         | 34/40 [00:03<00:00, 20.42it/s]\u001b[A\u001b[A\n",
      "\n",
      "Feature Extraction: 100%|██████████████████████████████████████████████████████████████| 40/40 [00:03<00:00, 10.05it/s]\u001b[A\u001b[A\n",
      "\n",
      " 14%|████████████                                                                        | 1/7 [00:04<00:24,  4.16s/it]\u001b[A\n",
      "\n",
      "Feature Extraction:   0%|                                                                       | 0/40 [00:00<?, ?it/s]\u001b[A\u001b[A\n",
      "\n",
      "Feature Extraction:   2%|█▌                                                             | 1/40 [00:02<01:44,  2.69s/it]\u001b[A\u001b[A\n",
      "\n",
      "Feature Extraction:   8%|████▋                                                          | 3/40 [00:02<00:28,  1.29it/s]\u001b[A\u001b[A\n",
      "\n",
      "Feature Extraction:  22%|██████████████▏                                                | 9/40 [00:03<00:06,  5.03it/s]\u001b[A\u001b[A\n",
      "\n",
      "Feature Extraction:  40%|████████████████████████▊                                     | 16/40 [00:03<00:02, 10.41it/s]\u001b[A\u001b[A\n",
      "\n",
      "Feature Extraction:  57%|███████████████████████████████████▋                          | 23/40 [00:03<00:01, 16.42it/s]\u001b[A\u001b[A\n",
      "\n",
      "Feature Extraction:  72%|████████████████████████████████████████████▉                 | 29/40 [00:03<00:00, 21.97it/s]\u001b[A\u001b[A\n",
      "\n",
      "Feature Extraction: 100%|██████████████████████████████████████████████████████████████| 40/40 [00:03<00:00, 11.34it/s]\u001b[A\u001b[A\n",
      "\n",
      " 29%|████████████████████████                                                            | 2/7 [00:07<00:19,  3.87s/it]\u001b[A"
     ]
    },
    {
     "name": "stdout",
     "output_type": "stream",
     "text": [
      "'DataFrame' object has no attribute 'append'\n"
     ]
    },
    {
     "name": "stderr",
     "output_type": "stream",
     "text": [
      "\n",
      "\n",
      "Feature Extraction:   0%|                                                                       | 0/40 [00:00<?, ?it/s]\u001b[A\u001b[A\n",
      "\n",
      "Feature Extraction:   2%|█▌                                                             | 1/40 [00:02<01:45,  2.72s/it]\u001b[A\u001b[A\n",
      "\n",
      "Feature Extraction:  15%|█████████▍                                                     | 6/40 [00:02<00:12,  2.62it/s]\u001b[A\u001b[A\n",
      "\n",
      "Feature Extraction:  30%|██████████████████▌                                           | 12/40 [00:03<00:04,  6.10it/s]\u001b[A\u001b[A\n",
      "\n",
      "Feature Extraction:  45%|███████████████████████████▉                                  | 18/40 [00:03<00:02, 10.31it/s]\u001b[A\u001b[A\n",
      "\n",
      "Feature Extraction:  60%|█████████████████████████████████████▏                        | 24/40 [00:03<00:01, 15.11it/s]\u001b[A\u001b[A\n",
      "\n",
      "Feature Extraction:  72%|████████████████████████████████████████████▉                 | 29/40 [00:03<00:00, 19.41it/s]\u001b[A\u001b[A\n",
      "\n",
      "Feature Extraction: 100%|██████████████████████████████████████████████████████████████| 40/40 [00:03<00:00, 10.96it/s]\u001b[A\u001b[A\n",
      "\n",
      " 43%|████████████████████████████████████                                                | 3/7 [00:11<00:15,  3.83s/it]\u001b[A"
     ]
    },
    {
     "name": "stdout",
     "output_type": "stream",
     "text": [
      "'DataFrame' object has no attribute 'append'\n"
     ]
    },
    {
     "name": "stderr",
     "output_type": "stream",
     "text": [
      "\n",
      "\n",
      "Feature Extraction:   0%|                                                                       | 0/40 [00:00<?, ?it/s]\u001b[A\u001b[A\n",
      "\n",
      "Feature Extraction:   2%|█▌                                                             | 1/40 [00:02<01:52,  2.88s/it]\u001b[A\u001b[A\n",
      "\n",
      "Feature Extraction:  15%|█████████▍                                                     | 6/40 [00:02<00:12,  2.67it/s]\u001b[A\u001b[A\n",
      "\n",
      "Feature Extraction:  25%|███████████████▌                                              | 10/40 [00:03<00:05,  5.01it/s]\u001b[A\u001b[A\n",
      "\n",
      "Feature Extraction:  38%|███████████████████████▎                                      | 15/40 [00:03<00:02,  8.53it/s]\u001b[A\u001b[A\n",
      "\n",
      "Feature Extraction:  48%|█████████████████████████████▍                                | 19/40 [00:03<00:01, 11.72it/s]\u001b[A\u001b[A\n",
      "\n",
      "Feature Extraction:  60%|█████████████████████████████████████▏                        | 24/40 [00:03<00:00, 16.10it/s]\u001b[A\u001b[A\n",
      "\n",
      "Feature Extraction:  70%|███████████████████████████████████████████▍                  | 28/40 [00:03<00:00, 15.68it/s]\u001b[A\u001b[A\n",
      "\n",
      "Feature Extraction:  80%|█████████████████████████████████████████████████▌            | 32/40 [00:03<00:00, 18.88it/s]\u001b[A\u001b[A\n",
      "\n",
      "Feature Extraction: 100%|██████████████████████████████████████████████████████████████| 40/40 [00:04<00:00,  9.85it/s]\u001b[A\u001b[A\n",
      "\n",
      " 57%|████████████████████████████████████████████████                                    | 4/7 [00:15<00:11,  3.99s/it]\u001b[A"
     ]
    },
    {
     "name": "stdout",
     "output_type": "stream",
     "text": [
      "'DataFrame' object has no attribute 'append'\n"
     ]
    },
    {
     "name": "stderr",
     "output_type": "stream",
     "text": [
      "\n",
      "\n",
      "Feature Extraction:   0%|                                                                       | 0/40 [00:00<?, ?it/s]\u001b[A\u001b[A\n",
      "\n",
      "Feature Extraction:   2%|█▌                                                             | 1/40 [00:02<01:45,  2.70s/it]\u001b[A\u001b[A\n",
      "\n",
      "Feature Extraction:  12%|███████▉                                                       | 5/40 [00:02<00:14,  2.36it/s]\u001b[A\u001b[A\n",
      "\n",
      "Feature Extraction:  22%|██████████████▏                                                | 9/40 [00:02<00:06,  4.81it/s]\u001b[A\u001b[A\n",
      "\n",
      "Feature Extraction:  30%|██████████████████▌                                           | 12/40 [00:03<00:04,  6.28it/s]\u001b[A\u001b[A\n",
      "\n",
      "Feature Extraction:  38%|███████████████████████▎                                      | 15/40 [00:03<00:02,  8.46it/s]\u001b[A\u001b[A\n",
      "\n",
      "Feature Extraction:  48%|█████████████████████████████▍                                | 19/40 [00:03<00:01, 11.99it/s]\u001b[A\u001b[A\n",
      "\n",
      "Feature Extraction:  57%|███████████████████████████████████▋                          | 23/40 [00:03<00:01, 15.44it/s]\u001b[A\u001b[A\n",
      "\n",
      "Feature Extraction:  68%|█████████████████████████████████████████▊                    | 27/40 [00:03<00:00, 19.29it/s]\u001b[A\u001b[A\n",
      "\n",
      "Feature Extraction:  78%|████████████████████████████████████████████████              | 31/40 [00:03<00:00, 22.39it/s]\u001b[A\u001b[A\n",
      "\n",
      "Feature Extraction:  88%|██████████████████████████████████████████████████████▎       | 35/40 [00:04<00:00, 17.04it/s]\u001b[A\u001b[A\n",
      "\n",
      "Feature Extraction: 100%|██████████████████████████████████████████████████████████████| 40/40 [00:04<00:00,  9.44it/s]\u001b[A\u001b[A\n",
      "\n",
      " 71%|████████████████████████████████████████████████████████████                        | 5/7 [00:20<00:08,  4.15s/it]\u001b[A"
     ]
    },
    {
     "name": "stdout",
     "output_type": "stream",
     "text": [
      "'DataFrame' object has no attribute 'append'\n"
     ]
    },
    {
     "name": "stderr",
     "output_type": "stream",
     "text": [
      "\n",
      "\n",
      "Feature Extraction:   0%|                                                                       | 0/40 [00:00<?, ?it/s]\u001b[A\u001b[A\n",
      "\n",
      "Feature Extraction:   2%|█▌                                                             | 1/40 [00:02<01:45,  2.69s/it]\u001b[A\u001b[A\n",
      "\n",
      "Feature Extraction:  18%|███████████                                                    | 7/40 [00:02<00:09,  3.36it/s]\u001b[A\u001b[A\n",
      "\n",
      "Feature Extraction:  32%|████████████████████▏                                         | 13/40 [00:02<00:03,  7.10it/s]\u001b[A\u001b[A\n",
      "\n",
      "Feature Extraction:  48%|█████████████████████████████▍                                | 19/40 [00:03<00:01, 11.52it/s]\u001b[A\u001b[A\n",
      "\n",
      "Feature Extraction:  60%|█████████████████████████████████████▏                        | 24/40 [00:03<00:01, 13.50it/s]\u001b[A\u001b[A\n",
      "\n",
      "Feature Extraction:  72%|████████████████████████████████████████████▉                 | 29/40 [00:03<00:00, 17.47it/s]\u001b[A\u001b[A\n",
      "\n",
      "Feature Extraction: 100%|██████████████████████████████████████████████████████████████| 40/40 [00:03<00:00, 11.10it/s]\u001b[A\u001b[A\n",
      "\n",
      " 86%|████████████████████████████████████████████████████████████████████████            | 6/7 [00:24<00:04,  4.01s/it]\u001b[A"
     ]
    },
    {
     "name": "stdout",
     "output_type": "stream",
     "text": [
      "'DataFrame' object has no attribute 'append'\n"
     ]
    },
    {
     "name": "stderr",
     "output_type": "stream",
     "text": [
      "\n",
      "\n",
      "Feature Extraction:   0%|                                                                       | 0/40 [00:00<?, ?it/s]\u001b[A\u001b[A\n",
      "\n",
      "Feature Extraction:   2%|█▌                                                             | 1/40 [00:02<01:46,  2.72s/it]\u001b[A\u001b[A\n",
      "\n",
      "Feature Extraction:  15%|█████████▍                                                     | 6/40 [00:02<00:12,  2.81it/s]\u001b[A\u001b[A\n",
      "\n",
      "Feature Extraction:  25%|███████████████▌                                              | 10/40 [00:02<00:05,  5.25it/s]\u001b[A\u001b[A\n",
      "\n",
      "Feature Extraction:  35%|█████████████████████▋                                        | 14/40 [00:03<00:03,  7.02it/s]\u001b[A\u001b[A\n",
      "\n",
      "Feature Extraction:  48%|█████████████████████████████▍                                | 19/40 [00:03<00:01, 10.90it/s]\u001b[A\u001b[A\n",
      "\n",
      "Feature Extraction:  57%|███████████████████████████████████▋                          | 23/40 [00:03<00:01, 13.98it/s]\u001b[A\u001b[A\n",
      "\n",
      "Feature Extraction:  68%|█████████████████████████████████████████▊                    | 27/40 [00:03<00:00, 17.60it/s]\u001b[A\u001b[A\n",
      "\n",
      "Feature Extraction:  78%|████████████████████████████████████████████████              | 31/40 [00:03<00:00, 20.57it/s]\u001b[A\u001b[A\n",
      "\n",
      "Feature Extraction:  88%|██████████████████████████████████████████████████████▎       | 35/40 [00:04<00:00, 17.28it/s]\u001b[A\u001b[A\n",
      "\n",
      "Feature Extraction: 100%|██████████████████████████████████████████████████████████████| 40/40 [00:04<00:00,  9.54it/s]\u001b[A\u001b[A\n",
      "\n",
      "100%|████████████████████████████████████████████████████████████████████████████████████| 7/7 [00:28<00:00,  4.06s/it]\u001b[A\n",
      " 83%|██████████████████████████████████████████████████████████████████████              | 5/6 [02:22<00:28, 28.51s/it]"
     ]
    },
    {
     "name": "stdout",
     "output_type": "stream",
     "text": [
      "'DataFrame' object has no attribute 'append'\n"
     ]
    },
    {
     "name": "stderr",
     "output_type": "stream",
     "text": [
      "\n",
      "  0%|                                                                                            | 0/7 [00:00<?, ?it/s]\u001b[A\n",
      "\n",
      "Feature Extraction:   0%|                                                                       | 0/40 [00:00<?, ?it/s]\u001b[A\u001b[A\n",
      "\n",
      "Feature Extraction:   2%|█▌                                                             | 1/40 [00:02<01:45,  2.71s/it]\u001b[A\u001b[A\n",
      "\n",
      "Feature Extraction:  15%|█████████▍                                                     | 6/40 [00:02<00:12,  2.83it/s]\u001b[A\u001b[A\n",
      "\n",
      "Feature Extraction:  25%|███████████████▌                                              | 10/40 [00:02<00:05,  5.28it/s]\u001b[A\u001b[A\n",
      "\n",
      "Feature Extraction:  35%|█████████████████████▋                                        | 14/40 [00:03<00:03,  8.15it/s]\u001b[A\u001b[A\n",
      "\n",
      "Feature Extraction:  45%|███████████████████████████▉                                  | 18/40 [00:03<00:01, 11.45it/s]\u001b[A\u001b[A\n",
      "\n",
      "Feature Extraction:  55%|██████████████████████████████████                            | 22/40 [00:03<00:01, 12.06it/s]\u001b[A\u001b[A\n",
      "\n",
      "Feature Extraction:  65%|████████████████████████████████████████▎                     | 26/40 [00:03<00:00, 15.61it/s]\u001b[A\u001b[A\n",
      "\n",
      "Feature Extraction:  75%|██████████████████████████████████████████████▌               | 30/40 [00:03<00:00, 19.11it/s]\u001b[A\u001b[A\n",
      "\n",
      "Feature Extraction:  85%|████████████████████████████████████████████████████▋         | 34/40 [00:03<00:00, 20.36it/s]\u001b[A\u001b[A\n",
      "\n",
      "Feature Extraction: 100%|██████████████████████████████████████████████████████████████| 40/40 [00:04<00:00,  9.98it/s]\u001b[A\u001b[A\n",
      "\n",
      " 14%|████████████                                                                        | 1/7 [00:04<00:25,  4.19s/it]\u001b[A\n",
      "\n",
      "Feature Extraction:   0%|                                                                       | 0/40 [00:00<?, ?it/s]\u001b[A\u001b[A\n",
      "\n",
      "Feature Extraction:   2%|█▌                                                             | 1/40 [00:02<01:44,  2.67s/it]\u001b[A\u001b[A\n",
      "\n",
      "Feature Extraction:  12%|███████▉                                                       | 5/40 [00:02<00:15,  2.23it/s]\u001b[A\u001b[A\n",
      "\n",
      "Feature Extraction:  28%|█████████████████                                             | 11/40 [00:03<00:04,  5.82it/s]\u001b[A\u001b[A\n",
      "\n",
      "Feature Extraction:  45%|███████████████████████████▉                                  | 18/40 [00:03<00:01, 11.03it/s]\u001b[A\u001b[A\n",
      "\n",
      "Feature Extraction:  62%|██████████████████████████████████████▊                       | 25/40 [00:03<00:00, 16.93it/s]\u001b[A\u001b[A\n",
      "\n",
      "Feature Extraction:  80%|█████████████████████████████████████████████████▌            | 32/40 [00:03<00:00, 23.20it/s]\u001b[A\u001b[A\n",
      "\n",
      "Feature Extraction: 100%|██████████████████████████████████████████████████████████████| 40/40 [00:03<00:00, 11.44it/s]\u001b[A\u001b[A\n",
      "\n",
      " 29%|████████████████████████                                                            | 2/7 [00:07<00:19,  3.86s/it]\u001b[A"
     ]
    },
    {
     "name": "stdout",
     "output_type": "stream",
     "text": [
      "'DataFrame' object has no attribute 'append'\n"
     ]
    },
    {
     "name": "stderr",
     "output_type": "stream",
     "text": [
      "\n",
      "\n",
      "Feature Extraction:   0%|                                                                       | 0/40 [00:00<?, ?it/s]\u001b[A\u001b[A\n",
      "\n",
      "Feature Extraction:   2%|█▌                                                             | 1/40 [00:02<01:44,  2.69s/it]\u001b[A\u001b[A\n",
      "\n",
      "Feature Extraction:  18%|███████████                                                    | 7/40 [00:02<00:10,  3.10it/s]\u001b[A\u001b[A\n",
      "\n",
      "Feature Extraction:  32%|████████████████████▏                                         | 13/40 [00:03<00:04,  6.58it/s]\u001b[A\u001b[A\n",
      "\n",
      "Feature Extraction:  48%|█████████████████████████████▍                                | 19/40 [00:03<00:01, 10.74it/s]\u001b[A\u001b[A\n",
      "\n",
      "Feature Extraction:  62%|██████████████████████████████████████▊                       | 25/40 [00:03<00:00, 15.59it/s]\u001b[A\u001b[A\n",
      "\n",
      "Feature Extraction:  78%|████████████████████████████████████████████████              | 31/40 [00:03<00:00, 20.89it/s]\u001b[A\u001b[A\n",
      "\n",
      "Feature Extraction: 100%|██████████████████████████████████████████████████████████████| 40/40 [00:03<00:00, 11.15it/s]\u001b[A\u001b[A\n",
      "\n",
      " 43%|████████████████████████████████████                                                | 3/7 [00:11<00:15,  3.81s/it]\u001b[A"
     ]
    },
    {
     "name": "stdout",
     "output_type": "stream",
     "text": [
      "'DataFrame' object has no attribute 'append'\n"
     ]
    },
    {
     "name": "stderr",
     "output_type": "stream",
     "text": [
      "\n",
      "\n",
      "Feature Extraction:   0%|                                                                       | 0/40 [00:00<?, ?it/s]\u001b[A\u001b[A\n",
      "\n",
      "Feature Extraction:   2%|█▌                                                             | 1/40 [00:02<01:45,  2.70s/it]\u001b[A\u001b[A\n",
      "\n",
      "Feature Extraction:   5%|███▏                                                           | 2/40 [00:02<00:46,  1.24s/it]\u001b[A\u001b[A\n",
      "\n",
      "Feature Extraction:  18%|███████████                                                    | 7/40 [00:03<00:08,  3.94it/s]\u001b[A\u001b[A\n",
      "\n",
      "Feature Extraction:  28%|█████████████████                                             | 11/40 [00:03<00:04,  6.93it/s]\u001b[A\u001b[A\n",
      "\n",
      "Feature Extraction:  40%|████████████████████████▊                                     | 16/40 [00:03<00:02, 11.34it/s]\u001b[A\u001b[A\n",
      "\n",
      "Feature Extraction:  50%|███████████████████████████████                               | 20/40 [00:03<00:01, 14.98it/s]\u001b[A\u001b[A\n",
      "\n",
      "Feature Extraction:  62%|██████████████████████████████████████▊                       | 25/40 [00:03<00:00, 19.71it/s]\u001b[A\u001b[A\n",
      "\n",
      "Feature Extraction:  72%|████████████████████████████████████████████▉                 | 29/40 [00:03<00:00, 18.06it/s]\u001b[A\u001b[A\n",
      "\n",
      "Feature Extraction:  82%|███████████████████████████████████████████████████▏          | 33/40 [00:03<00:00, 19.11it/s]\u001b[A\u001b[A\n",
      "\n",
      "Feature Extraction: 100%|██████████████████████████████████████████████████████████████| 40/40 [00:04<00:00,  9.90it/s]\u001b[A\u001b[A\n",
      "\n",
      " 57%|████████████████████████████████████████████████                                    | 4/7 [00:15<00:11,  3.96s/it]\u001b[A"
     ]
    },
    {
     "name": "stdout",
     "output_type": "stream",
     "text": [
      "'DataFrame' object has no attribute 'append'\n"
     ]
    },
    {
     "name": "stderr",
     "output_type": "stream",
     "text": [
      "\n",
      "\n",
      "Feature Extraction:   0%|                                                                       | 0/40 [00:00<?, ?it/s]\u001b[A\u001b[A\n",
      "\n",
      "Feature Extraction:   2%|█▌                                                             | 1/40 [00:02<01:45,  2.71s/it]\u001b[A\u001b[A\n",
      "\n",
      "Feature Extraction:  12%|███████▉                                                       | 5/40 [00:02<00:15,  2.33it/s]\u001b[A\u001b[A\n",
      "\n",
      "Feature Extraction:  22%|██████████████▏                                                | 9/40 [00:02<00:06,  4.74it/s]\u001b[A\u001b[A\n",
      "\n",
      "Feature Extraction:  32%|████████████████████▏                                         | 13/40 [00:03<00:04,  6.68it/s]\u001b[A\u001b[A\n",
      "\n",
      "Feature Extraction:  40%|████████████████████████▊                                     | 16/40 [00:03<00:02,  8.80it/s]\u001b[A\u001b[A\n",
      "\n",
      "Feature Extraction:  52%|████████████████████████████████▌                             | 21/40 [00:03<00:01, 13.20it/s]\u001b[A\u001b[A\n",
      "\n",
      "Feature Extraction:  62%|██████████████████████████████████████▊                       | 25/40 [00:03<00:00, 16.51it/s]\u001b[A\u001b[A\n",
      "\n",
      "Feature Extraction:  72%|████████████████████████████████████████████▉                 | 29/40 [00:03<00:00, 19.85it/s]\u001b[A\u001b[A\n",
      "\n",
      "Feature Extraction:  82%|███████████████████████████████████████████████████▏          | 33/40 [00:04<00:00, 17.33it/s]\u001b[A\u001b[A\n",
      "\n",
      "Feature Extraction: 100%|██████████████████████████████████████████████████████████████| 40/40 [00:04<00:00,  9.35it/s]\u001b[A\u001b[A\n",
      "\n",
      " 71%|████████████████████████████████████████████████████████████                        | 5/7 [00:20<00:08,  4.15s/it]\u001b[A"
     ]
    },
    {
     "name": "stdout",
     "output_type": "stream",
     "text": [
      "'DataFrame' object has no attribute 'append'\n"
     ]
    },
    {
     "name": "stderr",
     "output_type": "stream",
     "text": [
      "\n",
      "\n",
      "Feature Extraction:   0%|                                                                       | 0/40 [00:00<?, ?it/s]\u001b[A\u001b[A\n",
      "\n",
      "Feature Extraction:   2%|█▌                                                             | 1/40 [00:02<01:49,  2.82s/it]\u001b[A\u001b[A\n",
      "\n",
      "Feature Extraction:  18%|███████████                                                    | 7/40 [00:02<00:10,  3.22it/s]\u001b[A\u001b[A\n",
      "\n",
      "Feature Extraction:  30%|██████████████████▌                                           | 12/40 [00:03<00:04,  6.20it/s]\u001b[A\u001b[A\n",
      "\n",
      "Feature Extraction:  45%|███████████████████████████▉                                  | 18/40 [00:03<00:02, 10.55it/s]\u001b[A\u001b[A\n",
      "\n",
      "Feature Extraction:  60%|█████████████████████████████████████▏                        | 24/40 [00:03<00:01, 15.57it/s]\u001b[A\u001b[A\n",
      "\n",
      "Feature Extraction:  72%|████████████████████████████████████████████▉                 | 29/40 [00:03<00:00, 16.40it/s]\u001b[A\u001b[A\n",
      "\n",
      "Feature Extraction: 100%|██████████████████████████████████████████████████████████████| 40/40 [00:03<00:00, 10.69it/s]\u001b[A\u001b[A\n",
      "\n",
      " 86%|████████████████████████████████████████████████████████████████████████            | 6/7 [00:24<00:04,  4.06s/it]\u001b[A"
     ]
    },
    {
     "name": "stdout",
     "output_type": "stream",
     "text": [
      "'DataFrame' object has no attribute 'append'\n"
     ]
    },
    {
     "name": "stderr",
     "output_type": "stream",
     "text": [
      "\n",
      "\n",
      "Feature Extraction:   0%|                                                                       | 0/40 [00:00<?, ?it/s]\u001b[A\u001b[A\n",
      "\n",
      "Feature Extraction:   2%|█▌                                                             | 1/40 [00:02<01:46,  2.72s/it]\u001b[A\u001b[A\n",
      "\n",
      "Feature Extraction:  15%|█████████▍                                                     | 6/40 [00:02<00:12,  2.81it/s]\u001b[A\u001b[A\n",
      "\n",
      "Feature Extraction:  25%|███████████████▌                                              | 10/40 [00:02<00:05,  5.25it/s]\u001b[A\u001b[A\n",
      "\n",
      "Feature Extraction:  35%|█████████████████████▋                                        | 14/40 [00:03<00:03,  7.06it/s]\u001b[A\u001b[A\n",
      "\n",
      "Feature Extraction:  45%|███████████████████████████▉                                  | 18/40 [00:03<00:02, 10.10it/s]\u001b[A\u001b[A\n",
      "\n",
      "Feature Extraction:  55%|██████████████████████████████████                            | 22/40 [00:03<00:01, 13.46it/s]\u001b[A\u001b[A\n",
      "\n",
      "Feature Extraction:  65%|████████████████████████████████████████▎                     | 26/40 [00:03<00:00, 17.15it/s]\u001b[A\u001b[A\n",
      "\n",
      "Feature Extraction:  75%|██████████████████████████████████████████████▌               | 30/40 [00:03<00:00, 20.45it/s]\u001b[A\u001b[A\n",
      "\n",
      "Feature Extraction:  85%|████████████████████████████████████████████████████▋         | 34/40 [00:03<00:00, 21.43it/s]\u001b[A\u001b[A\n",
      "\n",
      "Feature Extraction: 100%|██████████████████████████████████████████████████████████████| 40/40 [00:04<00:00,  9.55it/s]\u001b[A\u001b[A\n",
      "\n",
      "100%|████████████████████████████████████████████████████████████████████████████████████| 7/7 [00:28<00:00,  4.07s/it]\u001b[A\n",
      "100%|████████████████████████████████████████████████████████████████████████████████████| 6/6 [02:50<00:00, 28.49s/it]"
     ]
    },
    {
     "name": "stdout",
     "output_type": "stream",
     "text": [
      "'DataFrame' object has no attribute 'append'\n"
     ]
    },
    {
     "name": "stderr",
     "output_type": "stream",
     "text": [
      "\n"
     ]
    }
   ],
   "source": [
    "X_t_test = []\n",
    "y_t_test = []\n",
    "\n",
    "for i in tqdm(range(len(keys))):\n",
    "  X_l = X_t_l[i]\n",
    "  y_l = y_t_l[i]\n",
    "\n",
    "  assert len(X_l) == len(y_l)\n",
    "\n",
    "  y_test = np.array([])\n",
    "  first = True\n",
    "\n",
    "  for i in tqdm(range(len(X_l))):\n",
    "    try:\n",
    "      if first:\n",
    "        X_test = impute(extract_features(X_l[i], column_id=\"id\", column_sort=\"time\", default_fc_parameters=MinimalFCParameters()))\n",
    "        first = False\n",
    "      else:\n",
    "        val = impute(extract_features(X_l[i], column_id=\"id\", column_sort=\"time\", default_fc_parameters=MinimalFCParameters()))\n",
    "        X_test = X_test.append(val, ignore_index=True)\n",
    "\n",
    "      y_test = np.append(y_test, y_l[i])\n",
    "    except Exception as e:\n",
    "      print(e)\n",
    "      continue\n",
    "\n",
    "  X_t_test.append(X_test)\n",
    "  y_t_test.append(y_test)    "
   ]
  },
  {
   "cell_type": "code",
   "execution_count": 38,
   "metadata": {
    "id": "p9tpwWszFtML"
   },
   "outputs": [],
   "source": [
    "X_test_n = []\n",
    "\n",
    "for x in X_t_test:\n",
    "  X_test_n.append(transformer_model_feature_pipeline.transform(x))"
   ]
  },
  {
   "cell_type": "code",
   "execution_count": 39,
   "metadata": {
    "scrolled": true
   },
   "outputs": [
    {
     "name": "stdout",
     "output_type": "stream",
     "text": [
      "[[[0.505      0.42939481 0.505      ... 0.31660319 0.01327871 0.9851847 ]\n",
      "  [0.505      0.42939481 0.505      ... 0.31660319 0.01327871 0.9851847 ]\n",
      "  [0.505      0.42939481 0.505      ... 0.31660319 0.01327871 0.9851847 ]\n",
      "  ...\n",
      "  [0.505      0.42939481 0.505      ... 0.23904918 0.01       0.98417911]\n",
      "  [0.505      0.42939481 0.505      ... 0.23904918 0.01       0.98417911]\n",
      "  [0.505      0.42939481 0.505      ... 0.23904918 0.01       0.98417911]]\n",
      "\n",
      " [[0.505      0.42939481 0.505      ... 0.31660319 0.01327871 0.9851847 ]\n",
      "  [0.505      0.42939481 0.505      ... 0.31660319 0.01327871 0.9851847 ]\n",
      "  [0.505      0.42939481 0.505      ... 0.31660319 0.01327871 0.9851847 ]\n",
      "  ...\n",
      "  [0.505      0.42939481 0.505      ... 0.23904918 0.01       0.98417911]\n",
      "  [0.505      0.42939481 0.505      ... 0.23904918 0.01       0.98417911]\n",
      "  [0.505      0.42939481 0.505      ... 0.23904918 0.01       0.98417911]]\n",
      "\n",
      " [[0.505      0.42939481 0.505      ... 0.31660319 0.01327871 0.9851847 ]\n",
      "  [0.505      0.42939481 0.505      ... 0.31660319 0.01327871 0.9851847 ]\n",
      "  [0.505      0.42939481 0.505      ... 0.31660319 0.01327871 0.9851847 ]\n",
      "  ...\n",
      "  [0.505      0.42939481 0.505      ... 0.23904918 0.01       0.98417911]\n",
      "  [0.505      0.42939481 0.505      ... 0.23904918 0.01       0.98417911]\n",
      "  [0.505      0.42939481 0.505      ... 0.23904918 0.01       0.98417911]]\n",
      "\n",
      " [[0.505      0.42939481 0.505      ... 0.31660319 0.01327871 0.9851847 ]\n",
      "  [0.505      0.42939481 0.505      ... 0.31660319 0.01327871 0.9851847 ]\n",
      "  [0.505      0.42939481 0.505      ... 0.31660319 0.01327871 0.9851847 ]\n",
      "  ...\n",
      "  [0.505      0.42939481 0.505      ... 0.23904918 0.01       0.98417911]\n",
      "  [0.505      0.42939481 0.505      ... 0.23904918 0.01       0.98417911]\n",
      "  [0.505      0.42939481 0.505      ... 0.23904918 0.01       0.98417911]]\n",
      "\n",
      " [[0.505      0.42939481 0.505      ... 0.31660319 0.01327871 0.9851847 ]\n",
      "  [0.505      0.42939481 0.505      ... 0.31660319 0.01327871 0.9851847 ]\n",
      "  [0.505      0.42939481 0.505      ... 0.31660319 0.01327871 0.9851847 ]\n",
      "  ...\n",
      "  [0.505      0.42939481 0.505      ... 0.23904918 0.01       0.98417911]\n",
      "  [0.505      0.42939481 0.505      ... 0.23904918 0.01       0.98417911]\n",
      "  [0.505      0.42939481 0.505      ... 0.23904918 0.01       0.98417911]]\n",
      "\n",
      " [[0.505      0.42939481 0.505      ... 0.31660319 0.01327871 0.9851847 ]\n",
      "  [0.505      0.42939481 0.505      ... 0.31660319 0.01327871 0.9851847 ]\n",
      "  [0.505      0.42939481 0.505      ... 0.31660319 0.01327871 0.9851847 ]\n",
      "  ...\n",
      "  [0.505      0.42939481 0.505      ... 0.23904918 0.01       0.98417911]\n",
      "  [0.505      0.42939481 0.505      ... 0.23904918 0.01       0.98417911]\n",
      "  [0.505      0.42939481 0.505      ... 0.23904918 0.01       0.98417911]]]\n"
     ]
    }
   ],
   "source": [
    "X_test_n = np.array(X_test_n)\n",
    "print(X_test_n)\n",
    "X_test_n[ X_test_n < 0] = 0"
   ]
  },
  {
   "cell_type": "code",
   "execution_count": 118,
   "metadata": {
    "id": "uSuva0AtFysn"
   },
   "outputs": [
    {
     "name": "stdout",
     "output_type": "stream",
     "text": [
      "79/79 [==============================] - 0s 3ms/step\n",
      "79/79 [==============================] - 0s 3ms/step\n",
      "79/79 [==============================] - 0s 3ms/step\n",
      "79/79 [==============================] - 0s 3ms/step\n",
      "79/79 [==============================] - 0s 3ms/step\n",
      "79/79 [==============================] - 0s 2ms/step\n"
     ]
    }
   ],
   "source": [
    "preds_l = []\n",
    "\n",
    "for x in X_test_n:\n",
    "  preds_l.append(model.predict(x))"
   ]
  },
  {
   "cell_type": "code",
   "execution_count": 41,
   "metadata": {
    "id": "DRZmJkO-Fy1w"
   },
   "outputs": [],
   "source": [
    "reconstruction_errors_l = []\n",
    "\n",
    "for i, x in enumerate(X_test_n):\n",
    "  reconstruction_errors = []\n",
    "  for j, row in enumerate(x):\n",
    "    reconstruction_errors.append(np.linalg.norm(x[i] - preds_l[i][j]) ** 2)\n",
    "\n",
    "  reconstruction_errors_l.append(reconstruction_errors)"
   ]
  },
  {
   "cell_type": "code",
   "execution_count": 102,
   "metadata": {
    "id": "BDMEUkjqxn1Y"
   },
   "outputs": [],
   "source": [
    "reconstruction_errors_dos_df = pd.DataFrame(columns=['reconstruction_errors'], data=reconstruction_errors_l[5])"
   ]
  },
  {
   "cell_type": "code",
   "execution_count": 104,
   "metadata": {
    "id": "zfmvdjjqLOoq"
   },
   "outputs": [],
   "source": [
    "preds_label_test_stand = q_verdict(reconstruction_errors_dos_df[\"reconstruction_errors\"], mu, std, Q_THRESHOLD)"
   ]
  },
  {
   "cell_type": "code",
   "execution_count": 103,
   "metadata": {
    "id": "mkmHXs5m_mZt"
   },
   "outputs": [
    {
     "data": {
      "text/plain": [
       "array([0., 0., 0., ..., 0., 0., 0.])"
      ]
     },
     "execution_count": 103,
     "metadata": {},
     "output_type": "execute_result"
    }
   ],
   "source": [
    "y_test = y_t_test[5]\n",
    "y_test"
   ]
  },
  {
   "cell_type": "markdown",
   "metadata": {},
   "source": [
    "## CAE result"
   ]
  },
  {
   "cell_type": "code",
   "execution_count": 82,
   "metadata": {},
   "outputs": [
    {
     "data": {
      "text/plain": [
       "0.7370517928286853"
      ]
     },
     "execution_count": 82,
     "metadata": {},
     "output_type": "execute_result"
    }
   ],
   "source": [
    "accuracy_score(y_test, preds_label_test_noise)"
   ]
  },
  {
   "cell_type": "code",
   "execution_count": 86,
   "metadata": {},
   "outputs": [
    {
     "data": {
      "text/plain": [
       "0.7601593625498008"
      ]
     },
     "execution_count": 86,
     "metadata": {},
     "output_type": "execute_result"
    }
   ],
   "source": [
    "accuracy_score(y_test, preds_label_test_landing)"
   ]
  },
  {
   "cell_type": "code",
   "execution_count": 97,
   "metadata": {},
   "outputs": [
    {
     "data": {
      "text/plain": [
       "0.7601593625498008"
      ]
     },
     "execution_count": 97,
     "metadata": {},
     "output_type": "execute_result"
    }
   ],
   "source": [
    "accuracy_score(y_test, preds_label_test_departing)"
   ]
  },
  {
   "cell_type": "code",
   "execution_count": 91,
   "metadata": {},
   "outputs": [
    {
     "data": {
      "text/plain": [
       "0.7601593625498008"
      ]
     },
     "execution_count": 91,
     "metadata": {},
     "output_type": "execute_result"
    }
   ],
   "source": [
    "accuracy_score(y_test, preds_label_test_manoeuver)"
   ]
  },
  {
   "cell_type": "code",
   "execution_count": 101,
   "metadata": {},
   "outputs": [
    {
     "data": {
      "text/plain": [
       "0.7374501992031872"
      ]
     },
     "execution_count": 101,
     "metadata": {},
     "output_type": "execute_result"
    }
   ],
   "source": [
    "accuracy_score(y_test, preds_label_test_deviation)"
   ]
  },
  {
   "cell_type": "code",
   "execution_count": 105,
   "metadata": {},
   "outputs": [
    {
     "data": {
      "text/plain": [
       "0.7613545816733067"
      ]
     },
     "execution_count": 105,
     "metadata": {},
     "output_type": "execute_result"
    }
   ],
   "source": [
    "accuracy_score(y_test, preds_label_test_stand)"
   ]
  },
  {
   "cell_type": "markdown",
   "metadata": {},
   "source": [
    "## Transformer result"
   ]
  },
  {
   "cell_type": "code",
   "execution_count": 54,
   "metadata": {
    "colab": {
     "base_uri": "https://localhost:8080/",
     "height": 34
    },
    "id": "PeTHYEoALvU1",
    "outputId": "68cf81e3-3e41-49f3-e1ba-dd86361d81be"
   },
   "outputs": [
    {
     "data": {
      "text/plain": [
       "0.9574381840291852"
      ]
     },
     "execution_count": 54,
     "metadata": {},
     "output_type": "execute_result"
    }
   ],
   "source": [
    "accuracy_score(y_test, preds_label_test_noise)"
   ]
  },
  {
   "cell_type": "code",
   "execution_count": 74,
   "metadata": {},
   "outputs": [
    {
     "data": {
      "text/plain": [
       "0.8721115537848606"
      ]
     },
     "execution_count": 74,
     "metadata": {},
     "output_type": "execute_result"
    }
   ],
   "source": [
    "accuracy_score(y_test, preds_label_test_landing)"
   ]
  },
  {
   "cell_type": "code",
   "execution_count": 64,
   "metadata": {},
   "outputs": [
    {
     "data": {
      "text/plain": [
       "0.9366533864541833"
      ]
     },
     "execution_count": 64,
     "metadata": {},
     "output_type": "execute_result"
    }
   ],
   "source": [
    "accuracy_score(y_test, preds_label_test_departing)"
   ]
  },
  {
   "cell_type": "code",
   "execution_count": 84,
   "metadata": {},
   "outputs": [
    {
     "data": {
      "text/plain": [
       "0.8095617529880478"
      ]
     },
     "execution_count": 84,
     "metadata": {},
     "output_type": "execute_result"
    }
   ],
   "source": [
    "accuracy_score(y_test, preds_label_test_manoeuver)"
   ]
  },
  {
   "cell_type": "code",
   "execution_count": 55,
   "metadata": {},
   "outputs": [
    {
     "data": {
      "text/plain": [
       "0.7374501992031872"
      ]
     },
     "execution_count": 55,
     "metadata": {},
     "output_type": "execute_result"
    }
   ],
   "source": [
    "accuracy_score(y_test, preds_label_test_deviation)"
   ]
  },
  {
   "cell_type": "code",
   "execution_count": 119,
   "metadata": {},
   "outputs": [
    {
     "data": {
      "text/plain": [
       "0.7613545816733067"
      ]
     },
     "execution_count": 119,
     "metadata": {},
     "output_type": "execute_result"
    }
   ],
   "source": [
    "accuracy_score(y_test, preds_label_test_stand)"
   ]
  },
  {
   "cell_type": "code",
   "execution_count": null,
   "metadata": {},
   "outputs": [],
   "source": []
  },
  {
   "cell_type": "code",
   "execution_count": 66,
   "metadata": {
    "id": "wk-ypWju-Q-N"
   },
   "outputs": [
    {
     "name": "stderr",
     "output_type": "stream",
     "text": [
      "D:\\anaconda\\Lib\\site-packages\\sklearn\\metrics\\_classification.py:1469: UndefinedMetricWarning: Precision is ill-defined and being set to 0.0 due to no predicted samples. Use `zero_division` parameter to control this behavior.\n",
      "  _warn_prf(average, modifier, msg_start, len(result))\n"
     ]
    },
    {
     "data": {
      "text/html": [
       "<div>\n",
       "<style scoped>\n",
       "    .dataframe tbody tr th:only-of-type {\n",
       "        vertical-align: middle;\n",
       "    }\n",
       "\n",
       "    .dataframe tbody tr th {\n",
       "        vertical-align: top;\n",
       "    }\n",
       "\n",
       "    .dataframe thead th {\n",
       "        text-align: right;\n",
       "    }\n",
       "</style>\n",
       "<table border=\"1\" class=\"dataframe\">\n",
       "  <thead>\n",
       "    <tr style=\"text-align: right;\">\n",
       "      <th></th>\n",
       "      <th>Detector</th>\n",
       "      <th>Precision</th>\n",
       "      <th>TPR</th>\n",
       "      <th>Average Detection Delay</th>\n",
       "    </tr>\n",
       "  </thead>\n",
       "  <tbody>\n",
       "    <tr>\n",
       "      <th>0</th>\n",
       "      <td>Perfect Detector</td>\n",
       "      <td>1.000</td>\n",
       "      <td>1.000</td>\n",
       "      <td>0.0</td>\n",
       "    </tr>\n",
       "    <tr>\n",
       "      <th>1</th>\n",
       "      <td>transformer_diff</td>\n",
       "      <td>1.000</td>\n",
       "      <td>0.091</td>\n",
       "      <td>0.0</td>\n",
       "    </tr>\n",
       "    <tr>\n",
       "      <th>2</th>\n",
       "      <td>Null Detector 1</td>\n",
       "      <td>0.000</td>\n",
       "      <td>0.000</td>\n",
       "      <td>660.0</td>\n",
       "    </tr>\n",
       "    <tr>\n",
       "      <th>3</th>\n",
       "      <td>Null Detector 2</td>\n",
       "      <td>0.263</td>\n",
       "      <td>1.000</td>\n",
       "      <td>0.0</td>\n",
       "    </tr>\n",
       "    <tr>\n",
       "      <th>4</th>\n",
       "      <td>Random Detector</td>\n",
       "      <td>0.251</td>\n",
       "      <td>0.479</td>\n",
       "      <td>1.0</td>\n",
       "    </tr>\n",
       "  </tbody>\n",
       "</table>\n",
       "</div>"
      ],
      "text/plain": [
       "           Detector  Precision    TPR  Average Detection Delay\n",
       "0  Perfect Detector      1.000  1.000                      0.0\n",
       "1  transformer_diff      1.000  0.091                      0.0\n",
       "2   Null Detector 1      0.000  0.000                    660.0\n",
       "3   Null Detector 2      0.263  1.000                      0.0\n",
       "4   Random Detector      0.251  0.479                      1.0"
      ]
     },
     "execution_count": 66,
     "metadata": {},
     "output_type": "execute_result"
    }
   ],
   "source": [
    "classification_report(\n",
    "    [y_test],\n",
    "    transformer_diff=preds_label_test_dos,\n",
    ")"
   ]
  },
  {
   "cell_type": "code",
   "execution_count": 65,
   "metadata": {},
   "outputs": [
    {
     "data": {
      "image/png": "[encoded data removed]",
      "text/plain": [
       "<Figure size 1000x1000 with 1 Axes>"
      ]
     },
     "metadata": {},
     "output_type": "display_data"
    }
   ],
   "source": [
    "roc_fig_plot(\n",
    "    [y_test],\n",
    "    transformer_diff=reconstruction_errors_dos_df[\"reconstruction_errors\"],\n",
    ")"
   ]
  },
  {
   "cell_type": "code",
   "execution_count": null,
   "metadata": {},
   "outputs": [],
   "source": []
  }
 ],
 "metadata": {
  "colab": {
   "authorship_tag": "ABX9TyPdcQOGNMsm+BqoPo66ItNC",
   "collapsed_sections": [],
   "include_colab_link": true,
   "name": "facing_airborne_attacks.ipynb",
   "provenance": [],
   "toc_visible": true
  },
  "kernelspec": {
   "display_name": "Python 3 (ipykernel)",
   "language": "python",
   "name": "python3"
  },
  "language_info": {
   "codemirror_mode": {
    "name": "ipython",
    "version": 3
   },
   "file_extension": ".py",
   "mimetype": "text/x-python",
   "name": "python",
   "nbconvert_exporter": "python",
   "pygments_lexer": "ipython3",
   "version": "3.11.5"
  }
 },
 "nbformat": 4,
 "nbformat_minor": 4
}

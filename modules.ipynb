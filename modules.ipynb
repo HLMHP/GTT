{
 "cells": [
  {
   "cell_type": "markdown",
   "metadata": {
    "colab_type": "text",
    "id": "view-in-github"
   },
   "source": [
    "<a href=\"https://colab.research.google.com/github/asifri/facing_airborne_attacks/blob/main/facing_airborne_attacks.ipynb\" target=\"_parent\"><img src=\"https://colab.research.google.com/assets/colab-badge.svg\" alt=\"Open In Colab\"/></a>"
   ]
  },
  {
   "cell_type": "markdown",
   "metadata": {
    "id": "0KJF_YZRsXUN"
   },
   "source": [
    "# Facing Airborne Attacks on ADS-B Data with Autoencoders"
   ]
  },
  {
   "cell_type": "markdown",
   "metadata": {
    "id": "xXN73Wsfsoiw"
   },
   "source": [
    "## 0. Package Setup"
   ]
  },
  {
   "cell_type": "markdown",
   "metadata": {
    "id": "WwF_4qj71aSJ"
   },
   "source": [
    "### 0.1 Install"
   ]
  },
  {
   "cell_type": "markdown",
   "metadata": {
    "id": "OHwUVH141fJc"
   },
   "source": [
    "### 0.2 Imports"
   ]
  },
  {
   "cell_type": "code",
   "execution_count": 62,
   "metadata": {
    "colab": {
     "base_uri": "https://localhost:8080/",
     "height": 82
    },
    "id": "PADKnEB0tWtN",
    "outputId": "214b2df4-4e53-47a2-cdbf-59119107a6df",
    "scrolled": true
   },
   "outputs": [],
   "source": [
    "import os\n",
    "import pickle\n",
    "import scipy\n",
    "import math\n",
    "\n",
    "import pandas as pd\n",
    "import tensorflow as tf\n",
    "import matplotlib.pyplot as plt\n",
    "import numpy as np\n",
    "import tsfresh as tsf\n",
    "\n",
    "from tqdm import tqdm\n",
    "from tsfresh import extract_features\n",
    "from tsfresh.utilities.dataframe_functions import impute\n",
    "from tsfresh.feature_extraction import MinimalFCParameters, EfficientFCParameters\n",
    "from sklearn.metrics import mean_squared_error, accuracy_score, recall_score, precision_score, roc_curve, auc, precision_recall_curve\n",
    "from sklearn.preprocessing import StandardScaler\n",
    "from sklearn.pipeline import Pipeline\n",
    "from tensorflow.keras.models import Sequential, Model, load_model\n",
    "from tensorflow.keras.layers import Input, Dense, Flatten, Lambda, Dropout, BatchNormalization, LSTM, RepeatVector, TimeDistributed\n",
    "from tensorflow.keras.regularizers import l2\n",
    "from tensorflow.keras.callbacks import EarlyStopping, TensorBoard\n",
    "from datetime import datetime\n",
    "from packaging import version\n",
    "from collections import OrderedDict\n",
    "from scipy import stats\n",
    "from tensorflow.keras.layers import Input, Conv1D, BatchNormalization, LeakyReLU, Dense, Add \n",
    "from tensorflow.keras import layers\n",
    "from tensorflow import keras"
   ]
  },
  {
   "cell_type": "code",
   "execution_count": 3,
   "metadata": {
    "colab": {
     "base_uri": "https://localhost:8080/",
     "height": 34
    },
    "id": "riDYGCDVtqzU",
    "outputId": "c970358d-9d3e-44bc-d5f4-82165e10ca98"
   },
   "outputs": [
    {
     "name": "stdout",
     "output_type": "stream",
     "text": [
      "TensorFlow version:  2.15.0\n"
     ]
    }
   ],
   "source": [
    "print(\"TensorFlow version: \", tf.__version__)"
   ]
  },
  {
   "cell_type": "markdown",
   "metadata": {
    "id": "OyW4gt4U1ox5"
   },
   "source": [
    "### 0.3 Constants"
   ]
  },
  {
   "cell_type": "code",
   "execution_count": 2,
   "metadata": {
    "id": "SA4retyn147B"
   },
   "outputs": [],
   "source": [
    "FEATURES = [\"altitude\", \"groundspeed\", \"vertical_rate\", \"x\", \"y\"]\n",
    "DIFF_FEATURES = [\"altitude\", \"groundspeed\", \"x\", \"y\"]\n",
    "STATE_VECTOR_FEATURES = [\"groundspeed\", \"vertical_rate\", \"longitude\", \"latitude\", \"altitude\"]\n",
    "\n",
    "MODEL_DIR = \"models\"\n",
    "MODEL_STANDARD_DIR = os.path.join(MODEL_DIR, \"standard\")\n",
    "MODEL_LSTM_DIR = os.path.join(MODEL_DIR, \"lstm\")\n",
    "\n",
    "DATA_DIR = \"data\"\n",
    "DATA_TRAIN_DIR = os.path.join(DATA_DIR, \"clean_train\")\n",
    "DATA_VALIDATION_DIR = os.path.join(DATA_DIR, \"validation\")\n",
    "DATA_TEST_DIR = os.path.join(DATA_DIR, \"test\")\n",
    "DATA_TEST_DEPARTING_DIR = os.path.join(DATA_TEST_DIR, \"departing\")\n",
    "DATA_TEST_LANDING_DIR = os.path.join(DATA_TEST_DIR, \"landing\")\n",
    "DATA_TEST_MANOEUVER_DIR = os.path.join(DATA_TEST_DIR, \"manoeuver\")\n",
    "DATA_TEST_NOISE_DIR = os.path.join(DATA_TEST_DIR, \"noise\")\n",
    "DATA_TEST_STAND_DIR = os.path.join(DATA_TEST_DIR, \"stand\")\n",
    "DATA_TEST_DEVIATION_DIR = os.path.join(DATA_TEST_DIR, \"deviation\")\n",
    "\n",
    "\n",
    "########################################\n",
    "#             DIFFERENCING             #\n",
    "########################################\n",
    "\n",
    "DIFF_DATA = True\n",
    "\n",
    "########################################\n",
    "#        SYSTEM HYPERPARAMETERS        #\n",
    "########################################\n",
    "\n",
    "K_LAG = 1\n",
    "K_ORDER = 1\n",
    "WINDOW_SIZE_STANDARD_AUTOENCODER = WINDOW_SIZE_LSTM_AUTOENCODER = 60\n",
    "STANDARD_AUTOENCODER_ENCODING_DIMENSION = 10\n",
    "LSTM_AUTOENCODER_ENCODING_DIMENSION = 10\n",
    "STANDARD_Q_THRESHOLD = 10e-4\n",
    "LSTM_Q_THRESHOLD = 10e-2"
   ]
  },
  {
   "cell_type": "code",
   "execution_count": 3,
   "metadata": {
    "id": "g7RJnQUT-2We"
   },
   "outputs": [],
   "source": [
    "if not os.path.exists(MODEL_STANDARD_DIR):\n",
    "    os.makedirs(MODEL_STANDARD_DIR)\n",
    "\n",
    "if not os.path.exists(MODEL_LSTM_DIR):\n",
    "    os.makedirs(MODEL_LSTM_DIR)\n",
    "\n",
    "if not os.path.exists(DATA_DIR):\n",
    "    os.makedirs(DATA_DIR)"
   ]
  },
  {
   "cell_type": "markdown",
   "metadata": {
    "id": "HDO44Uuqu4XJ"
   },
   "source": [
    "## 1. Util Functions"
   ]
  },
  {
   "cell_type": "code",
   "execution_count": 4,
   "metadata": {},
   "outputs": [],
   "source": [
    " def rolled(list_, window_size):\n",
    "\n",
    "    count = 0\n",
    "    while count <= len(list_) - window_size:\n",
    "        yield list_[count: count + window_size]\n",
    "        count += 1  \n",
    "  \n",
    "def max_rolled(list_, window_size):  \n",
    "    y = []  \n",
    "    for val in rolled(list_, window_size):  \n",
    "        y.append(max(val))  \n",
    "    return np.array(y)  \n",
    "  \n",
    "def get_windows_data(df, labels, window_size, tsfresh=True):\n",
    "    if tsfresh:\n",
    "        windows_list = []  # 存储所有窗口DataFrame的列表\n",
    "        for i, window_df in enumerate(rolled(df, window_size)):\n",
    "            # 创建窗口副本避免修改原始数据\n",
    "            window_copy = window_df.copy()\n",
    "            window_copy[\"id\"] = i\n",
    "            window_copy[\"time\"] = range(len(window_copy))\n",
    "            windows_list.append(window_copy)\n",
    "        \n",
    "        # 一次性连接所有窗口\n",
    "        X = pd.concat(windows_list, ignore_index=True)\n",
    "    else:\n",
    "        X = []\n",
    "        for val in rolled(df, window_size):\n",
    "            X.append(val.values)\n",
    "        X = np.array(X)\n",
    "\n",
    "    y = max_rolled(labels, window_size)\n",
    "    return X, y"
   ]
  },
  {
   "cell_type": "code",
   "execution_count": 5,
   "metadata": {
    "id": "-lMUqcRovCh2"
   },
   "outputs": [],
   "source": [
    "def diff_data(df, cols, lag, order):\n",
    "  \"\"\"\n",
    "  apply time series differrencing to the data\n",
    "  :param df: dataframe\n",
    "  :param cols: columns to apply differencing\n",
    "  :param lag: k-lag\n",
    "  :param order: k-order\n",
    "  :return: df_diff - dataframe with differencing \n",
    "  \"\"\"\n",
    "  assert lag > 0\n",
    "  assert order > 0\n",
    "\n",
    "  df_diff = df[cols]\n",
    "\n",
    "  for i in range(order):\n",
    "      df_diff = df_diff.diff(periods=lag)\n",
    "\n",
    "      # remove NAN value rows from df_diff\n",
    "      df_diff = df_diff[lag:]\n",
    "\n",
    "  # return excluded columns\n",
    "  excluded_cols = [x for x in df.columns if x not in cols]\n",
    "\n",
    "  for col in excluded_cols:\n",
    "    df_diff[col] = df[col][lag * order:]\n",
    "\n",
    "  return df_diff"
   ]
  },
  {
   "cell_type": "code",
   "execution_count": 6,
   "metadata": {
    "id": "L9n1jPUm4hNr"
   },
   "outputs": [],
   "source": [
    "def filter_outliers(df, std=5, cols=None):\n",
    "  \"\"\"\n",
    "  remove extreme outliers in data \n",
    "  :param df: data (data frame)\n",
    "  :param std: amount of standard deviation (remove values withe larger values)\n",
    "  :param df: columns to apply\n",
    "  :return: filtered data frame\n",
    "  \"\"\"\n",
    "  selected_cols = df.columns if cols is None else cols\n",
    "\n",
    "  return df[(np.abs(stats.zscore(df[selected_cols])) < std).all(axis=1)]"
   ]
  },
  {
   "cell_type": "code",
   "execution_count": 7,
   "metadata": {
    "id": "IdMEmnYD2y3w"
   },
   "outputs": [],
   "source": [
    "def get_average_detection_delay(y_true, y_pred):\n",
    "  \"\"\"\n",
    "  return average detection delay for labels and predections\n",
    "  :param y_true: labels\n",
    "  :param y_pred: predections\n",
    "  :return: average detection delay\n",
    "  \"\"\"\n",
    "  assert len(y_true) == len(y_pred)\n",
    "\n",
    "  in_window = False\n",
    "  detected_in_window = False\n",
    "  detection_delay_sum = 0\n",
    "  windows_count = 0\n",
    "\n",
    "  for i in range(len(y_true) - 1):\n",
    "    curr_true = y_true[i]\n",
    "    next_true = y_true[i + 1]\n",
    "    curr_pred = y_pred[i]\n",
    "\n",
    "    if in_window and not detected_in_window:\n",
    "      if curr_pred == 1:\n",
    "        detected_in_window = True\n",
    "      else:\n",
    "        detection_delay_sum += 1\n",
    "\n",
    "    if (curr_true == 0 and next_true == 1) or (curr_true == 1 and i == 0):\n",
    "      in_window = True\n",
    "      windows_count += 1\n",
    "\n",
    "    if curr_true == 1 and next_true == 0:\n",
    "      in_window = False\n",
    "      detected_in_window = False\n",
    "\n",
    "  # window is not padded\n",
    "  if next_true == 1:\n",
    "    detection_delay_sum += 1\n",
    "\n",
    "  # window is not padded\n",
    "  if y_true[0] == 1:\n",
    "    detection_delay_sum += 1\n",
    "\n",
    "  return detection_delay_sum / windows_count if windows_count > 0 else 0"
   ]
  },
  {
   "cell_type": "code",
   "execution_count": 63,
   "metadata": {
    "id": "a7QyFctV6PK8"
   },
   "outputs": [],
   "source": [
    "def classification_report(y_true_l, **kwargs):\n",
    "  \"\"\"\n",
    "  classification report with benchmark results (input classifier names and predictions)\n",
    "  :param y_true: labels list (should be same lenght as detectors in kwargs)\n",
    "  :return: filtered data frame\n",
    "  \"\"\"\n",
    "  detector_dict = OrderedDict()\n",
    "  detector_dict[\"Perfect Detector\"] = y_true_l[0], y_true_l[0]\n",
    "\n",
    "  for i, (key, value) in enumerate(kwargs.items()):\n",
    "    assert len(y_true_l[i]) == len(value)\n",
    "    detector_dict[key] = value, y_true_l[i]\n",
    "\n",
    "  detector_dict[\"Null Detector 1\"] = [0] * len(y_true_l[0]), y_true_l[0]\n",
    "  detector_dict[\"Null Detector 2\"] = [1] * len(y_true_l[0]), y_true_l[0]\n",
    "\n",
    "  np.random.seed(0)\n",
    "  detector_dict[\"Random Detector\"] = np.where(np.random.rand(len(y_true_l[0])) >= 0.5, 1, 0), y_true_l[0]\n",
    "\n",
    "  data = []\n",
    "\n",
    "  for key, value in detector_dict.items():\n",
    "    data.append(\n",
    "        [\n",
    "         key,\n",
    "         round(precision_score(value[1], value[0]), 3),\n",
    "         round(recall_score(value[1], value[0]), 3),\n",
    "         round(get_average_detection_delay(value[1], value[0]), 3)\n",
    "        ]\n",
    "    )\n",
    "  \n",
    "  return pd.DataFrame(columns=[\"Detector\", \"Precision\", \"TPR\", \"Average Detection Delay\"], data=data)"
   ]
  },
  {
   "cell_type": "code",
   "execution_count": 9,
   "metadata": {
    "id": "8rITc6Y3TT_p"
   },
   "outputs": [],
   "source": [
    "def roc_fig_plot(y_true_l, **kwargs):\n",
    "  \"\"\"\n",
    "  plot roc curves (input classifier names and scores)\n",
    "  :param y_true_l: labels list (should be same lenght as detectors in kwargs)\n",
    "  :return: \n",
    "  \"\"\"\n",
    "  plt.rcParams[\"figure.figsize\"] = (7.5, 7.5)\n",
    "  styles = [\"-\", \"--\",\"-.\"]\n",
    "  colors = [\"b\", \"g\", \"r\", \"c\", \"m\", \"y\", \"k\", \"orange\"]\n",
    "\n",
    "  for i, (key, value) in enumerate(kwargs.items()):\n",
    "    assert len(y_true_l[i]) == len(value)\n",
    "\n",
    "    style = styles[i % 2]\n",
    "    color_idx = math.floor(i / 2)\n",
    "    color = colors[color_idx % (len(colors) - 1)]\n",
    "\n",
    "    fpr, tpr, threshold = roc_curve(y_true_l[i], value)\n",
    "    roc_auc = auc(fpr, tpr)\n",
    "    plt.plot(fpr, tpr, style, label=f'{key.replace(\"_\", \" \")} = {round(roc_auc, 3)}', color=color)\n",
    "\n",
    "  plt.title('Receiver Operating Characteristic')\n",
    "  plt.legend(loc = 'lower right')\n",
    "  #plt.plot([0, 1], [0, 1],'r--')\n",
    "  plt.xlim([0, 1])\n",
    "  plt.ylim([0, 1])\n",
    "  plt.ylabel('TPR')\n",
    "  plt.xlabel('FPR')\n",
    "  plt.show()"
   ]
  },
  {
   "cell_type": "code",
   "execution_count": 10,
   "metadata": {
    "id": "sDaKm2YPYOhQ"
   },
   "outputs": [],
   "source": [
    "def precision_recall_fig_plot(y_true_l, **kwargs):\n",
    "  \"\"\"\n",
    "  plot precision recall curve (input classifier names and scores)\n",
    "  :param y_true_l: labels list (should be same lenght as detectors in kwargs)\n",
    "  :return: \n",
    "  \"\"\"\n",
    "  plt.rcParams[\"figure.figsize\"] = (8, 8)\n",
    "  styles = [\"-\", \"--\"]\n",
    "  colors = [\"b\", \"g\", \"r\", \"c\", \"m\", \"y\", \"k\", \"orange\"]\n",
    "\n",
    "  for i, (key, value) in enumerate(kwargs.items()):\n",
    "    assert len(y_true_l[i]) == len(value)\n",
    "\n",
    "    style = styles[i % 2]\n",
    "    color_idx = math.floor(i / 2) \n",
    "    color = colors[color_idx % (len(colors) - 1)]\n",
    "\n",
    "    precision, recall, thresholds = precision_recall_curve(y_true_l[i], value)\n",
    "    prc_auc = auc(recall, precision)\n",
    "    plt.plot(recall, precision, style, label=f'AUC {key.replace(\"_\", \" \")} = {round(prc_auc, 3)}', color=color)\n",
    "\n",
    "  plt.title('Precision Recall Curve')\n",
    "  plt.legend(loc = 'lower right')\n",
    "  plt.xlim([0.1, 1])\n",
    "  plt.ylim([0, 1])\n",
    "  plt.ylabel('precision')\n",
    "  plt.xlabel('recall')\n",
    "  plt.show()"
   ]
  },
  {
   "cell_type": "code",
   "execution_count": 11,
   "metadata": {
    "id": "G7lPkvBVQTnB"
   },
   "outputs": [],
   "source": [
    "def anomaly_score(score, mu, sig):\n",
    "  \"\"\"\n",
    "  anomaly scores based on CDF func\n",
    "  :param score: list of scores given by model\n",
    "  :param mu: mean of normal dist\n",
    "  :param sig: std of normal dist\n",
    "  :return: anomaly scores\n",
    "  \"\"\"\n",
    "  return 1 - stats.norm.sf(score, mu, sig)"
   ]
  },
  {
   "cell_type": "code",
   "execution_count": 12,
   "metadata": {
    "id": "s2LJcw-XQslY"
   },
   "outputs": [],
   "source": [
    "def q_verdict(x, mu, sig, n=0.1):\n",
    "  \"\"\"\n",
    "  verdict based on CDF func\n",
    "  :param score: list of scores given by model\n",
    "  :param mu: mean of normal dist\n",
    "  :param sig: std of normal dist\n",
    "  :param n: threshold (hyperparameter)\n",
    "  :return: verdicts\n",
    "  \"\"\"\n",
    "  return np.where(anomaly_score(x, mu, sig) >= 1 - n, 1, 0)"
   ]
  },
  {
   "cell_type": "code",
   "execution_count": 13,
   "metadata": {
    "id": "LX_x1CMi5Xsd"
   },
   "outputs": [],
   "source": [
    "def test_noraml_dist(x, alpha=0.05):\n",
    "  \"\"\"\n",
    "  Perform the Shapiro-Wilk test for normality\n",
    "\n",
    "  :param x: The array containing the sample to be tested\n",
    "  :param alpha: threshold for rejection of null hypothesis\n",
    "  \"\"\"\n",
    "  # For N > 5000 the W test statistic is accurate but the p-value may not be.\n",
    "  # The chance of rejecting the null hypothesis when it is true is close to 5% regardless of sample size.\n",
    "  length = min(len(x), 2500)\n",
    "  stats, p = scipy.stats.shapiro(x[:length])\n",
    "  print(f\"p-value: {p}\")\n",
    "  if p < alpha:  # null hypothesis: the data was drawn from a normal distribution\n",
    "      print(\"The null hypothesis can be rejected\")\n",
    "  else:\n",
    "      print(\"The null hypothesis cannot be rejected\")\n"
   ]
  },
  {
   "cell_type": "markdown",
   "metadata": {
    "id": "hGNpRvfLxiCy"
   },
   "source": [
    "## 2. Load Data"
   ]
  },
  {
   "cell_type": "markdown",
   "metadata": {
    "id": "C3OsDrY9rs2R"
   },
   "source": [
    "### 2.2 Real Data"
   ]
  },
  {
   "cell_type": "code",
   "execution_count": 14,
   "metadata": {
    "id": "u34eCXtduFyt"
   },
   "outputs": [],
   "source": [
    "data_dict = {\n",
    "    \"clean_train\": [],\n",
    "    \"validation\": [],\n",
    "    \"test_noise\": [],\n",
    "    \"test_landing\": [],\n",
    "    \"test_departing\": [],\n",
    "    \"test_manoeuver\": [],\n",
    "    \"test_deviation\":[],\n",
    "    \"test_stand\": [],\n",
    "}"
   ]
  },
  {
   "cell_type": "code",
   "execution_count": 15,
   "metadata": {
    "id": "Xx-wbxObuiof"
   },
   "outputs": [],
   "source": [
    "paths = {\n",
    "    \"clean_train\": DATA_TRAIN_DIR,\n",
    "    \"validation\": DATA_VALIDATION_DIR,\n",
    "    \"test_noise\": DATA_TEST_NOISE_DIR,\n",
    "    \"test_landing\": DATA_TEST_LANDING_DIR,\n",
    "    \"test_departing\": DATA_TEST_DEPARTING_DIR,\n",
    "    \"test_manoeuver\": DATA_TEST_MANOEUVER_DIR,\n",
    "    \"test_deviation\": DATA_TEST_DEVIATION_DIR,\n",
    "    \"test_stand\": DATA_TEST_STAND_DIR,\n",
    "}"
   ]
  },
  {
   "cell_type": "code",
   "execution_count": 16,
   "metadata": {
    "colab": {
     "base_uri": "https://localhost:8080/",
     "height": 146
    },
    "id": "HEMmrj9WvfQF",
    "outputId": "e185d522-e281-448f-f9b6-eb08736dd667",
    "scrolled": true
   },
   "outputs": [],
   "source": [
    "for key, path in paths.items():\n",
    "  files = os.listdir(path)\n",
    "\n",
    "  for file in files:\n",
    "    df = pd.read_csv(os.path.join(path, file))\n",
    "    if key == \"clean_train\":\n",
    "      df = filter_outliers(df, cols=[\"longitude\", \"latitude\", \"altitude\", \"groundspeed\", \"x\", \"y\"], std=5)\n",
    "    if key == \"validation\":\n",
    "      df = filter_outliers(df, cols=[\"longitude\", \"latitude\", \"altitude\", \"groundspeed\", \"x\", \"y\"], std=8)\n",
    "\n",
    "    if DIFF_DATA:\n",
    "      df = diff_data(df, cols=DIFF_FEATURES, lag=K_LAG, order=K_ORDER)\n",
    "    \n",
    "    data_dict[key].append(df)"
   ]
  },
  {
   "cell_type": "code",
   "execution_count": 64,
   "metadata": {},
   "outputs": [],
   "source": [
    "def causal_conv_block(input_layer, filters, kernel_size, dilation_rate, dropout=0.0):  \n",
    "    \"\"\"  \n",
    "    定义一个因果卷积块  \n",
    "    \"\"\"  \n",
    "    # 扩张卷积  \n",
    "    dilation_conv = Conv1D(filters=filters,  \n",
    "                           kernel_size=kernel_size,  \n",
    "                           padding='causal',  \n",
    "                           dilation_rate=dilation_rate,  \n",
    "                           activation=None)(input_layer)  \n",
    "      \n",
    "    # 批归一化  \n",
    "    bn = BatchNormalization()(dilation_conv)  \n",
    "      \n",
    "    # 激活函数  \n",
    "    relu = LeakyReLU(alpha=0.01)(bn)  \n",
    "      \n",
    "    # Dropout (可选)  \n",
    "    if dropout > 0.0:  \n",
    "        relu = tf.keras.layers.Dropout(dropout)(relu)  \n",
    "      \n",
    "    # 残差连接  \n",
    "    residual = Add()([input_layer, relu])  \n",
    "      \n",
    "    return residual"
   ]
  },
  {
   "cell_type": "code",
   "execution_count": 65,
   "metadata": {},
   "outputs": [],
   "source": [
    "def TCN(input_shape, num_filters, kernel_size, num_levels, dropout=0.0):  \n",
    "    \"\"\"  \n",
    "    构建 TCN 模型  \n",
    "    \"\"\"  \n",
    "    inputs = Input(shape=input_shape)  \n",
    "    x = inputs  \n",
    "      \n",
    "    # 堆叠多个残差块  \n",
    "    for level in range(num_levels):  \n",
    "        dilation_rate = 2 ** level  \n",
    "        x = causal_conv_block(x, num_filters, kernel_size, dilation_rate, dropout)  \n",
    "      \n",
    "    # 输出层  \n",
    "    output = Dense(1, activation='linear')(x)  # 假设是回归任务  \n",
    "      \n",
    "    # 创建模型  \n",
    "    model = Model(inputs=inputs, outputs=output)  \n",
    "      \n",
    "    return model "
   ]
  },
  {
   "cell_type": "code",
   "execution_count": 68,
   "metadata": {},
   "outputs": [
    {
     "name": "stdout",
     "output_type": "stream",
     "text": [
      "Model: \"model_1\"\n",
      "__________________________________________________________________________________________________\n",
      " Layer (type)                Output Shape                 Param #   Connected to                  \n",
      "==================================================================================================\n",
      " input_4 (InputLayer)        [(None, None, 1)]            0         []                            \n",
      "                                                                                                  \n",
      " conv1d_3 (Conv1D)           (None, None, 64)             256       ['input_4[0][0]']             \n",
      "                                                                                                  \n",
      " batch_normalization (Batch  (None, None, 64)             256       ['conv1d_3[0][0]']            \n",
      " Normalization)                                                                                   \n",
      "                                                                                                  \n",
      " leaky_re_lu (LeakyReLU)     (None, None, 64)             0         ['batch_normalization[0][0]'] \n",
      "                                                                                                  \n",
      " dropout (Dropout)           (None, None, 64)             0         ['leaky_re_lu[0][0]']         \n",
      "                                                                                                  \n",
      " add (Add)                   (None, None, 64)             0         ['input_4[0][0]',             \n",
      "                                                                     'dropout[0][0]']             \n",
      "                                                                                                  \n",
      " conv1d_4 (Conv1D)           (None, None, 64)             12352     ['add[0][0]']                 \n",
      "                                                                                                  \n",
      " batch_normalization_1 (Bat  (None, None, 64)             256       ['conv1d_4[0][0]']            \n",
      " chNormalization)                                                                                 \n",
      "                                                                                                  \n",
      " leaky_re_lu_1 (LeakyReLU)   (None, None, 64)             0         ['batch_normalization_1[0][0]'\n",
      "                                                                    ]                             \n",
      "                                                                                                  \n",
      " dropout_1 (Dropout)         (None, None, 64)             0         ['leaky_re_lu_1[0][0]']       \n",
      "                                                                                                  \n",
      " add_1 (Add)                 (None, None, 64)             0         ['add[0][0]',                 \n",
      "                                                                     'dropout_1[0][0]']           \n",
      "                                                                                                  \n",
      " conv1d_5 (Conv1D)           (None, None, 64)             12352     ['add_1[0][0]']               \n",
      "                                                                                                  \n",
      " batch_normalization_2 (Bat  (None, None, 64)             256       ['conv1d_5[0][0]']            \n",
      " chNormalization)                                                                                 \n",
      "                                                                                                  \n",
      " leaky_re_lu_2 (LeakyReLU)   (None, None, 64)             0         ['batch_normalization_2[0][0]'\n",
      "                                                                    ]                             \n",
      "                                                                                                  \n",
      " dropout_2 (Dropout)         (None, None, 64)             0         ['leaky_re_lu_2[0][0]']       \n",
      "                                                                                                  \n",
      " add_2 (Add)                 (None, None, 64)             0         ['add_1[0][0]',               \n",
      "                                                                     'dropout_2[0][0]']           \n",
      "                                                                                                  \n",
      " conv1d_6 (Conv1D)           (None, None, 64)             12352     ['add_2[0][0]']               \n",
      "                                                                                                  \n",
      " batch_normalization_3 (Bat  (None, None, 64)             256       ['conv1d_6[0][0]']            \n",
      " chNormalization)                                                                                 \n",
      "                                                                                                  \n",
      " leaky_re_lu_3 (LeakyReLU)   (None, None, 64)             0         ['batch_normalization_3[0][0]'\n",
      "                                                                    ]                             \n",
      "                                                                                                  \n",
      " dropout_3 (Dropout)         (None, None, 64)             0         ['leaky_re_lu_3[0][0]']       \n",
      "                                                                                                  \n",
      " add_3 (Add)                 (None, None, 64)             0         ['add_2[0][0]',               \n",
      "                                                                     'dropout_3[0][0]']           \n",
      "                                                                                                  \n",
      " conv1d_7 (Conv1D)           (None, None, 64)             12352     ['add_3[0][0]']               \n",
      "                                                                                                  \n",
      " batch_normalization_4 (Bat  (None, None, 64)             256       ['conv1d_7[0][0]']            \n",
      " chNormalization)                                                                                 \n",
      "                                                                                                  \n",
      " leaky_re_lu_4 (LeakyReLU)   (None, None, 64)             0         ['batch_normalization_4[0][0]'\n",
      "                                                                    ]                             \n",
      "                                                                                                  \n",
      " dropout_4 (Dropout)         (None, None, 64)             0         ['leaky_re_lu_4[0][0]']       \n",
      "                                                                                                  \n",
      " add_4 (Add)                 (None, None, 64)             0         ['add_3[0][0]',               \n",
      "                                                                     'dropout_4[0][0]']           \n",
      "                                                                                                  \n",
      " conv1d_8 (Conv1D)           (None, None, 64)             12352     ['add_4[0][0]']               \n",
      "                                                                                                  \n",
      " batch_normalization_5 (Bat  (None, None, 64)             256       ['conv1d_8[0][0]']            \n",
      " chNormalization)                                                                                 \n",
      "                                                                                                  \n",
      " leaky_re_lu_5 (LeakyReLU)   (None, None, 64)             0         ['batch_normalization_5[0][0]'\n",
      "                                                                    ]                             \n",
      "                                                                                                  \n",
      " dropout_5 (Dropout)         (None, None, 64)             0         ['leaky_re_lu_5[0][0]']       \n",
      "                                                                                                  \n",
      " add_5 (Add)                 (None, None, 64)             0         ['add_4[0][0]',               \n",
      "                                                                     'dropout_5[0][0]']           \n",
      "                                                                                                  \n",
      " conv1d_9 (Conv1D)           (None, None, 64)             12352     ['add_5[0][0]']               \n",
      "                                                                                                  \n",
      " batch_normalization_6 (Bat  (None, None, 64)             256       ['conv1d_9[0][0]']            \n",
      " chNormalization)                                                                                 \n",
      "                                                                                                  \n",
      " leaky_re_lu_6 (LeakyReLU)   (None, None, 64)             0         ['batch_normalization_6[0][0]'\n",
      "                                                                    ]                             \n",
      "                                                                                                  \n",
      " dropout_6 (Dropout)         (None, None, 64)             0         ['leaky_re_lu_6[0][0]']       \n",
      "                                                                                                  \n",
      " add_6 (Add)                 (None, None, 64)             0         ['add_5[0][0]',               \n",
      "                                                                     'dropout_6[0][0]']           \n",
      "                                                                                                  \n",
      " conv1d_10 (Conv1D)          (None, None, 64)             12352     ['add_6[0][0]']               \n",
      "                                                                                                  \n",
      " batch_normalization_7 (Bat  (None, None, 64)             256       ['conv1d_10[0][0]']           \n",
      " chNormalization)                                                                                 \n",
      "                                                                                                  \n",
      " leaky_re_lu_7 (LeakyReLU)   (None, None, 64)             0         ['batch_normalization_7[0][0]'\n",
      "                                                                    ]                             \n",
      "                                                                                                  \n",
      " dropout_7 (Dropout)         (None, None, 64)             0         ['leaky_re_lu_7[0][0]']       \n",
      "                                                                                                  \n",
      " add_7 (Add)                 (None, None, 64)             0         ['add_6[0][0]',               \n",
      "                                                                     'dropout_7[0][0]']           \n",
      "                                                                                                  \n",
      " dense (Dense)               (None, None, 1)              65        ['add_7[0][0]']               \n",
      "                                                                                                  \n",
      "==================================================================================================\n",
      "Total params: 88833 (347.00 KB)\n",
      "Trainable params: 87809 (343.00 KB)\n",
      "Non-trainable params: 1024 (4.00 KB)\n",
      "__________________________________________________________________________________________________\n"
     ]
    }
   ],
   "source": [
    "# 示例参数  \n",
    "input_shape = (None, 1)  # 假设输入是单通道时间序列  \n",
    "num_filters = 64  \n",
    "kernel_size = 3  \n",
    "num_levels = 8  \n",
    "dropout = 0.2  \n",
    "  \n",
    "# 实例化模型  \n",
    "model = TCN(input_shape, num_filters, kernel_size, num_levels, dropout)  \n",
    "model.compile(optimizer='adam', loss='mse')  \n",
    "model.summary()"
   ]
  },
  {
   "cell_type": "markdown",
   "metadata": {},
   "source": [
    "### VAE"
   ]
  },
  {
   "cell_type": "code",
   "execution_count": 67,
   "metadata": {
    "scrolled": true
   },
   "outputs": [
    {
     "ename": "ValueError",
     "evalue": "Input 0 of layer \"lstm\" is incompatible with the layer: expected ndim=3, found ndim=2. Full shape received: (None, 50)",
     "output_type": "error",
     "traceback": [
      "\u001b[1;31m---------------------------------------------------------------------------\u001b[0m",
      "\u001b[1;31mValueError\u001b[0m                                Traceback (most recent call last)",
      "Cell \u001b[1;32mIn[67], line 7\u001b[0m\n\u001b[0;32m      5\u001b[0m \u001b[38;5;66;03m# 编码器\u001b[39;00m\n\u001b[0;32m      6\u001b[0m encoder_inputs \u001b[38;5;241m=\u001b[39m layers\u001b[38;5;241m.\u001b[39mInput(shape\u001b[38;5;241m=\u001b[39m(input_dim,))\n\u001b[1;32m----> 7\u001b[0m x \u001b[38;5;241m=\u001b[39m LSTM(\u001b[38;5;241m128\u001b[39m, activation\u001b[38;5;241m=\u001b[39m\u001b[38;5;124m'\u001b[39m\u001b[38;5;124mrelu\u001b[39m\u001b[38;5;124m'\u001b[39m)(encoder_inputs)\n\u001b[0;32m      8\u001b[0m x \u001b[38;5;241m=\u001b[39m layers\u001b[38;5;241m.\u001b[39mDense(\u001b[38;5;241m64\u001b[39m, activation\u001b[38;5;241m=\u001b[39m\u001b[38;5;124m'\u001b[39m\u001b[38;5;124mrelu\u001b[39m\u001b[38;5;124m'\u001b[39m)(x)\n\u001b[0;32m      9\u001b[0m z_mean \u001b[38;5;241m=\u001b[39m layers\u001b[38;5;241m.\u001b[39mDense(latent_dim)(x)\n",
      "File \u001b[1;32mD:\\anaconda\\Lib\\site-packages\\keras\\src\\layers\\rnn\\base_rnn.py:556\u001b[0m, in \u001b[0;36mRNN.__call__\u001b[1;34m(self, inputs, initial_state, constants, **kwargs)\u001b[0m\n\u001b[0;32m    551\u001b[0m inputs, initial_state, constants \u001b[38;5;241m=\u001b[39m rnn_utils\u001b[38;5;241m.\u001b[39mstandardize_args(\n\u001b[0;32m    552\u001b[0m     inputs, initial_state, constants, \u001b[38;5;28mself\u001b[39m\u001b[38;5;241m.\u001b[39m_num_constants\n\u001b[0;32m    553\u001b[0m )\n\u001b[0;32m    555\u001b[0m \u001b[38;5;28;01mif\u001b[39;00m initial_state \u001b[38;5;129;01mis\u001b[39;00m \u001b[38;5;28;01mNone\u001b[39;00m \u001b[38;5;129;01mand\u001b[39;00m constants \u001b[38;5;129;01mis\u001b[39;00m \u001b[38;5;28;01mNone\u001b[39;00m:\n\u001b[1;32m--> 556\u001b[0m     \u001b[38;5;28;01mreturn\u001b[39;00m \u001b[38;5;28msuper\u001b[39m()\u001b[38;5;241m.\u001b[39m\u001b[38;5;21m__call__\u001b[39m(inputs, \u001b[38;5;241m*\u001b[39m\u001b[38;5;241m*\u001b[39mkwargs)\n\u001b[0;32m    558\u001b[0m \u001b[38;5;66;03m# If any of `initial_state` or `constants` are specified and are Keras\u001b[39;00m\n\u001b[0;32m    559\u001b[0m \u001b[38;5;66;03m# tensors, then add them to the inputs and temporarily modify the\u001b[39;00m\n\u001b[0;32m    560\u001b[0m \u001b[38;5;66;03m# input_spec to include them.\u001b[39;00m\n\u001b[0;32m    562\u001b[0m additional_inputs \u001b[38;5;241m=\u001b[39m []\n",
      "File \u001b[1;32mD:\\anaconda\\Lib\\site-packages\\keras\\src\\utils\\traceback_utils.py:70\u001b[0m, in \u001b[0;36mfilter_traceback.<locals>.error_handler\u001b[1;34m(*args, **kwargs)\u001b[0m\n\u001b[0;32m     67\u001b[0m     filtered_tb \u001b[38;5;241m=\u001b[39m _process_traceback_frames(e\u001b[38;5;241m.\u001b[39m__traceback__)\n\u001b[0;32m     68\u001b[0m     \u001b[38;5;66;03m# To get the full stack trace, call:\u001b[39;00m\n\u001b[0;32m     69\u001b[0m     \u001b[38;5;66;03m# `tf.debugging.disable_traceback_filtering()`\u001b[39;00m\n\u001b[1;32m---> 70\u001b[0m     \u001b[38;5;28;01mraise\u001b[39;00m e\u001b[38;5;241m.\u001b[39mwith_traceback(filtered_tb) \u001b[38;5;28;01mfrom\u001b[39;00m \u001b[38;5;28;01mNone\u001b[39;00m\n\u001b[0;32m     71\u001b[0m \u001b[38;5;28;01mfinally\u001b[39;00m:\n\u001b[0;32m     72\u001b[0m     \u001b[38;5;28;01mdel\u001b[39;00m filtered_tb\n",
      "File \u001b[1;32mD:\\anaconda\\Lib\\site-packages\\keras\\src\\engine\\input_spec.py:235\u001b[0m, in \u001b[0;36massert_input_compatibility\u001b[1;34m(input_spec, inputs, layer_name)\u001b[0m\n\u001b[0;32m    233\u001b[0m     ndim \u001b[38;5;241m=\u001b[39m shape\u001b[38;5;241m.\u001b[39mrank\n\u001b[0;32m    234\u001b[0m     \u001b[38;5;28;01mif\u001b[39;00m ndim \u001b[38;5;241m!=\u001b[39m spec\u001b[38;5;241m.\u001b[39mndim:\n\u001b[1;32m--> 235\u001b[0m         \u001b[38;5;28;01mraise\u001b[39;00m \u001b[38;5;167;01mValueError\u001b[39;00m(\n\u001b[0;32m    236\u001b[0m             \u001b[38;5;124mf\u001b[39m\u001b[38;5;124m'\u001b[39m\u001b[38;5;124mInput \u001b[39m\u001b[38;5;132;01m{\u001b[39;00minput_index\u001b[38;5;132;01m}\u001b[39;00m\u001b[38;5;124m of layer \u001b[39m\u001b[38;5;124m\"\u001b[39m\u001b[38;5;132;01m{\u001b[39;00mlayer_name\u001b[38;5;132;01m}\u001b[39;00m\u001b[38;5;124m\"\u001b[39m\u001b[38;5;124m \u001b[39m\u001b[38;5;124m'\u001b[39m\n\u001b[0;32m    237\u001b[0m             \u001b[38;5;124m\"\u001b[39m\u001b[38;5;124mis incompatible with the layer: \u001b[39m\u001b[38;5;124m\"\u001b[39m\n\u001b[0;32m    238\u001b[0m             \u001b[38;5;124mf\u001b[39m\u001b[38;5;124m\"\u001b[39m\u001b[38;5;124mexpected ndim=\u001b[39m\u001b[38;5;132;01m{\u001b[39;00mspec\u001b[38;5;241m.\u001b[39mndim\u001b[38;5;132;01m}\u001b[39;00m\u001b[38;5;124m, found ndim=\u001b[39m\u001b[38;5;132;01m{\u001b[39;00mndim\u001b[38;5;132;01m}\u001b[39;00m\u001b[38;5;124m. \u001b[39m\u001b[38;5;124m\"\u001b[39m\n\u001b[0;32m    239\u001b[0m             \u001b[38;5;124mf\u001b[39m\u001b[38;5;124m\"\u001b[39m\u001b[38;5;124mFull shape received: \u001b[39m\u001b[38;5;132;01m{\u001b[39;00m\u001b[38;5;28mtuple\u001b[39m(shape)\u001b[38;5;132;01m}\u001b[39;00m\u001b[38;5;124m\"\u001b[39m\n\u001b[0;32m    240\u001b[0m         )\n\u001b[0;32m    241\u001b[0m \u001b[38;5;28;01mif\u001b[39;00m spec\u001b[38;5;241m.\u001b[39mmax_ndim \u001b[38;5;129;01mis\u001b[39;00m \u001b[38;5;129;01mnot\u001b[39;00m \u001b[38;5;28;01mNone\u001b[39;00m:\n\u001b[0;32m    242\u001b[0m     ndim \u001b[38;5;241m=\u001b[39m x\u001b[38;5;241m.\u001b[39mshape\u001b[38;5;241m.\u001b[39mrank\n",
      "\u001b[1;31mValueError\u001b[0m: Input 0 of layer \"lstm\" is incompatible with the layer: expected ndim=3, found ndim=2. Full shape received: (None, 50)"
     ]
    }
   ],
   "source": [
    "# 参数\n",
    "input_dim = 50\n",
    "latent_dim = 10  # 潜在空间维度\n",
    "\n",
    "# 编码器\n",
    "encoder_inputs = layers.Input(shape=(input_dim,))\n",
    "x = layers.Dense(128, activation='relu')(encoder_inputs)\n",
    "x = layers.Dense(64, activation='relu')(x)\n",
    "z_mean = layers.Dense(latent_dim)(x)\n",
    "z_log_var = layers.Dense(latent_dim)(x)\n",
    "\n",
    "# 重参数化采样\n",
    "def sampling(args):\n",
    "    z_mean, z_log_var = args\n",
    "    epsilon = tf.random.normal(shape=tf.shape(z_mean))\n",
    "    return z_mean + tf.exp(0.5 * z_log_var) * epsilon\n",
    "\n",
    "z = layers.Lambda(sampling)([z_mean, z_log_var])\n",
    "\n",
    "# 解码器\n",
    "decoder_inputs = layers.Input(shape=(latent_dim,))\n",
    "x = layers.Dense(64, activation='relu')(decoder_inputs)\n",
    "x = layers.Dense(128, activation='relu')(x)\n",
    "decoder_outputs = layers.Dense(input_dim, activation='linear')(x)\n",
    "\n",
    "# 定义编码器和解码器模型\n",
    "encoder = Model(encoder_inputs, [z_mean, z_log_var, z], name=\"encoder\")\n",
    "decoder = Model(decoder_inputs, decoder_outputs, name=\"decoder\")\n",
    "\n",
    "# VAE模型\n",
    "outputs = decoder(encoder(encoder_inputs)[2])\n",
    "model = Model(encoder_inputs, outputs, name=\"vae\")\n",
    "model.summary"
   ]
  },
  {
   "cell_type": "markdown",
   "metadata": {},
   "source": [
    "### CAE"
   ]
  },
  {
   "cell_type": "code",
   "execution_count": 87,
   "metadata": {},
   "outputs": [],
   "source": [
    "# 定义CAE\n",
    "input_seq = layers.Input(shape=(50, 1))\n",
    "x = layers.Conv1D(32, 3, activation='relu', padding='same')(input_seq)\n",
    "x = layers.MaxPooling1D(1)(x)\n",
    "x = layers.Conv1D(64, 3, activation='relu', padding='same')(x)\n",
    "encoded = layers.MaxPooling1D(1)(x)\n",
    "\n",
    "x = layers.Conv1DTranspose(64, 3, activation='relu', padding='same')(encoded)\n",
    "x = layers.UpSampling1D(1)(x)\n",
    "x = layers.Conv1DTranspose(32, 3, activation='relu', padding='same')(x)\n",
    "x = layers.UpSampling1D(1)(x)\n",
    "decoded = layers.Conv1D(1, 3, activation='sigmoid', padding='same')(x)\n",
    "\n",
    "model = Model(input_seq, decoded)"
   ]
  },
  {
   "cell_type": "markdown",
   "metadata": {
    "id": "3z1O1saDvDpD"
   },
   "source": [
    "## 3. Standard Autoencoder"
   ]
  },
  {
   "cell_type": "code",
   "execution_count": 56,
   "metadata": {
    "id": "5TQsNOXRvKUR"
   },
   "outputs": [],
   "source": [
    "def get_standard_autoencoder_model(input_dim, encoding_dim):\n",
    "  input_layer = Input(shape=input_dim)\n",
    "  hidden_layer = Dense(encoding_dim, activation=\"relu\")(input_layer)\n",
    "  output_layer = Dense(input_dim, activation='relu')(hidden_layer)\n",
    "\n",
    "  autoencoder = Model(inputs=input_layer, outputs=output_layer)\n",
    "\n",
    "  return autoencoder"
   ]
  },
  {
   "cell_type": "code",
   "execution_count": 18,
   "metadata": {
    "id": "PgTIOVkIxY0R"
   },
   "outputs": [],
   "source": [
    "autoencoder_model_feature_pipeline = Pipeline(\n",
    "    steps=[('normalize', StandardScaler())]\n",
    ")"
   ]
  },
  {
   "cell_type": "markdown",
   "metadata": {
    "id": "iK6vZbw9-A_Z"
   },
   "source": [
    "### 3.1 Train"
   ]
  },
  {
   "cell_type": "code",
   "execution_count": 17,
   "metadata": {},
   "outputs": [],
   "source": [
    "import networkx as nx\n",
    "from visibility_graph import visibility_graph"
   ]
  },
  {
   "cell_type": "code",
   "execution_count": 106,
   "metadata": {},
   "outputs": [],
   "source": [
    "df_al = pd.DataFrame(df['altitude'])\n",
    "label = df[\"anomaly\"]"
   ]
  },
  {
   "cell_type": "code",
   "execution_count": 19,
   "metadata": {},
   "outputs": [
    {
     "name": "stdout",
     "output_type": "stream",
     "text": [
      "2587\n",
      "2587\n"
     ]
    }
   ],
   "source": [
    "print(len(df_al))\n",
    "print(len(label))"
   ]
  },
  {
   "cell_type": "code",
   "execution_count": 20,
   "metadata": {},
   "outputs": [
    {
     "data": {
      "text/plain": [
       "pandas.core.frame.DataFrame"
      ]
     },
     "execution_count": 20,
     "metadata": {},
     "output_type": "execute_result"
    }
   ],
   "source": [
    "type(df_al)"
   ]
  },
  {
   "cell_type": "code",
   "execution_count": 19,
   "metadata": {
    "colab": {
     "base_uri": "https://localhost:8080/",
     "height": 1000
    },
    "id": "lCUDwRAYAs6y",
    "outputId": "735b89fa-d25f-495e-92b9-eb8f6a8e655a",
    "scrolled": true
   },
   "outputs": [
    {
     "name": "stderr",
     "output_type": "stream",
     "text": [
      "100%|██████████████████████████████████████████████████████████████████████████████████| 20/20 [00:24<00:00,  1.24s/it]\n"
     ]
    }
   ],
   "source": [
    "X_l = []\n",
    "y_l = []\n",
    "for df in tqdm(data_dict[\"clean_train\"]):\n",
    "  X, y = get_windows_data(df[FEATURES], [0] * df.shape[0], window_size=WINDOW_SIZE_STANDARD_AUTOENCODER, tsfresh=True)\n",
    "  \n",
    "  X_l.append(X)\n",
    "  y_l.append(y)"
   ]
  },
  {
   "cell_type": "code",
   "execution_count": 20,
   "metadata": {},
   "outputs": [
    {
     "data": {
      "text/html": [
       "<div>\n",
       "<style scoped>\n",
       "    .dataframe tbody tr th:only-of-type {\n",
       "        vertical-align: middle;\n",
       "    }\n",
       "\n",
       "    .dataframe tbody tr th {\n",
       "        vertical-align: top;\n",
       "    }\n",
       "\n",
       "    .dataframe thead th {\n",
       "        text-align: right;\n",
       "    }\n",
       "</style>\n",
       "<table border=\"1\" class=\"dataframe\">\n",
       "  <thead>\n",
       "    <tr style=\"text-align: right;\">\n",
       "      <th></th>\n",
       "      <th>altitude</th>\n",
       "      <th>groundspeed</th>\n",
       "      <th>vertical_rate</th>\n",
       "      <th>x</th>\n",
       "      <th>y</th>\n",
       "      <th>id</th>\n",
       "      <th>time</th>\n",
       "    </tr>\n",
       "  </thead>\n",
       "  <tbody>\n",
       "    <tr>\n",
       "      <th>0</th>\n",
       "      <td>4.166667</td>\n",
       "      <td>0.000000</td>\n",
       "      <td>0.0</td>\n",
       "      <td>0.565408</td>\n",
       "      <td>14.352325</td>\n",
       "      <td>0</td>\n",
       "      <td>0</td>\n",
       "    </tr>\n",
       "    <tr>\n",
       "      <th>1</th>\n",
       "      <td>4.166667</td>\n",
       "      <td>0.000000</td>\n",
       "      <td>0.0</td>\n",
       "      <td>0.565408</td>\n",
       "      <td>14.352325</td>\n",
       "      <td>0</td>\n",
       "      <td>1</td>\n",
       "    </tr>\n",
       "    <tr>\n",
       "      <th>2</th>\n",
       "      <td>4.166667</td>\n",
       "      <td>0.000000</td>\n",
       "      <td>0.0</td>\n",
       "      <td>0.565408</td>\n",
       "      <td>14.352330</td>\n",
       "      <td>0</td>\n",
       "      <td>2</td>\n",
       "    </tr>\n",
       "    <tr>\n",
       "      <th>3</th>\n",
       "      <td>4.166667</td>\n",
       "      <td>0.000000</td>\n",
       "      <td>0.0</td>\n",
       "      <td>0.565408</td>\n",
       "      <td>14.352330</td>\n",
       "      <td>0</td>\n",
       "      <td>3</td>\n",
       "    </tr>\n",
       "    <tr>\n",
       "      <th>4</th>\n",
       "      <td>8.333333</td>\n",
       "      <td>0.000000</td>\n",
       "      <td>0.0</td>\n",
       "      <td>1.130817</td>\n",
       "      <td>28.704671</td>\n",
       "      <td>0</td>\n",
       "      <td>4</td>\n",
       "    </tr>\n",
       "    <tr>\n",
       "      <th>...</th>\n",
       "      <td>...</td>\n",
       "      <td>...</td>\n",
       "      <td>...</td>\n",
       "      <td>...</td>\n",
       "      <td>...</td>\n",
       "      <td>...</td>\n",
       "      <td>...</td>\n",
       "    </tr>\n",
       "    <tr>\n",
       "      <th>132715</th>\n",
       "      <td>0.000000</td>\n",
       "      <td>0.000000</td>\n",
       "      <td>-64.0</td>\n",
       "      <td>130.950469</td>\n",
       "      <td>-30.254194</td>\n",
       "      <td>2211</td>\n",
       "      <td>55</td>\n",
       "    </tr>\n",
       "    <tr>\n",
       "      <th>132716</th>\n",
       "      <td>-25.000000</td>\n",
       "      <td>0.000000</td>\n",
       "      <td>0.0</td>\n",
       "      <td>292.841033</td>\n",
       "      <td>-63.292907</td>\n",
       "      <td>2211</td>\n",
       "      <td>56</td>\n",
       "    </tr>\n",
       "    <tr>\n",
       "      <th>132717</th>\n",
       "      <td>0.000000</td>\n",
       "      <td>0.000000</td>\n",
       "      <td>0.0</td>\n",
       "      <td>264.852681</td>\n",
       "      <td>-57.811689</td>\n",
       "      <td>2211</td>\n",
       "      <td>57</td>\n",
       "    </tr>\n",
       "    <tr>\n",
       "      <th>132718</th>\n",
       "      <td>0.000000</td>\n",
       "      <td>-0.246083</td>\n",
       "      <td>0.0</td>\n",
       "      <td>264.856795</td>\n",
       "      <td>-57.802823</td>\n",
       "      <td>2211</td>\n",
       "      <td>58</td>\n",
       "    </tr>\n",
       "    <tr>\n",
       "      <th>132719</th>\n",
       "      <td>0.000000</td>\n",
       "      <td>0.000000</td>\n",
       "      <td>0.0</td>\n",
       "      <td>370.770485</td>\n",
       "      <td>-79.879108</td>\n",
       "      <td>2211</td>\n",
       "      <td>59</td>\n",
       "    </tr>\n",
       "  </tbody>\n",
       "</table>\n",
       "<p>132720 rows × 7 columns</p>\n",
       "</div>"
      ],
      "text/plain": [
       "         altitude  groundspeed  vertical_rate           x          y    id  \\\n",
       "0        4.166667     0.000000            0.0    0.565408  14.352325     0   \n",
       "1        4.166667     0.000000            0.0    0.565408  14.352325     0   \n",
       "2        4.166667     0.000000            0.0    0.565408  14.352330     0   \n",
       "3        4.166667     0.000000            0.0    0.565408  14.352330     0   \n",
       "4        8.333333     0.000000            0.0    1.130817  28.704671     0   \n",
       "...           ...          ...            ...         ...        ...   ...   \n",
       "132715   0.000000     0.000000          -64.0  130.950469 -30.254194  2211   \n",
       "132716 -25.000000     0.000000            0.0  292.841033 -63.292907  2211   \n",
       "132717   0.000000     0.000000            0.0  264.852681 -57.811689  2211   \n",
       "132718   0.000000    -0.246083            0.0  264.856795 -57.802823  2211   \n",
       "132719   0.000000     0.000000            0.0  370.770485 -79.879108  2211   \n",
       "\n",
       "        time  \n",
       "0          0  \n",
       "1          1  \n",
       "2          2  \n",
       "3          3  \n",
       "4          4  \n",
       "...      ...  \n",
       "132715    55  \n",
       "132716    56  \n",
       "132717    57  \n",
       "132718    58  \n",
       "132719    59  \n",
       "\n",
       "[132720 rows x 7 columns]"
      ]
     },
     "execution_count": 20,
     "metadata": {},
     "output_type": "execute_result"
    }
   ],
   "source": [
    "X_l[0]"
   ]
  },
  {
   "cell_type": "code",
   "execution_count": 21,
   "metadata": {
    "colab": {
     "base_uri": "https://localhost:8080/",
     "height": 1000
    },
    "id": "u_v2lwV9NkBS",
    "outputId": "95c39170-d5cb-4dc5-8fb2-7a291e7c6d01",
    "scrolled": true
   },
   "outputs": [
    {
     "name": "stderr",
     "output_type": "stream",
     "text": [
      "  0%|                                                                                           | 0/20 [00:00<?, ?it/s]\n",
      "Feature Extraction:   0%|                                                                       | 0/40 [00:00<?, ?it/s]\u001b[A\n",
      "Feature Extraction:   2%|█▌                                                             | 1/40 [00:02<01:51,  2.86s/it]\u001b[A\n",
      "Feature Extraction:  15%|█████████▍                                                     | 6/40 [00:02<00:12,  2.69it/s]\u001b[A\n",
      "Feature Extraction:  28%|█████████████████                                             | 11/40 [00:03<00:05,  5.60it/s]\u001b[A\n",
      "Feature Extraction:  40%|████████████████████████▊                                     | 16/40 [00:03<00:02,  9.09it/s]\u001b[A\n",
      "Feature Extraction:  52%|████████████████████████████████▌                             | 21/40 [00:03<00:01, 13.00it/s]\u001b[A\n",
      "Feature Extraction:  65%|████████████████████████████████████████▎                     | 26/40 [00:03<00:00, 17.10it/s]\u001b[A\n",
      "Feature Extraction:  75%|██████████████████████████████████████████████▌               | 30/40 [00:03<00:00, 16.49it/s]\u001b[A\n",
      "Feature Extraction:  88%|██████████████████████████████████████████████████████▎       | 35/40 [00:03<00:00, 20.81it/s]\u001b[A\n",
      "Feature Extraction: 100%|██████████████████████████████████████████████████████████████| 40/40 [00:03<00:00, 10.10it/s]\u001b[A\n",
      "  5%|████▏                                                                              | 1/20 [00:04<01:19,  4.17s/it]\n",
      "Feature Extraction:   0%|                                                                       | 0/40 [00:00<?, ?it/s]\u001b[A\n",
      "Feature Extraction:   2%|█▌                                                             | 1/40 [00:02<01:50,  2.84s/it]\u001b[A\n",
      "Feature Extraction:  12%|███████▉                                                       | 5/40 [00:03<00:17,  2.04it/s]\u001b[A\n",
      "Feature Extraction:  20%|████████████▌                                                  | 8/40 [00:03<00:08,  3.66it/s]\u001b[A\n",
      "Feature Extraction:  28%|█████████████████                                             | 11/40 [00:03<00:05,  5.65it/s]\u001b[A\n",
      "Feature Extraction:  35%|█████████████████████▋                                        | 14/40 [00:03<00:03,  7.78it/s]\u001b[A\n",
      "Feature Extraction:  42%|██████████████████████████▎                                   | 17/40 [00:03<00:02,  7.90it/s]\u001b[A\n",
      "Feature Extraction:  52%|████████████████████████████████▌                             | 21/40 [00:04<00:01, 10.82it/s]\u001b[A\n",
      "Feature Extraction:  62%|██████████████████████████████████████▊                       | 25/40 [00:04<00:01, 14.50it/s]\u001b[A\n",
      "Feature Extraction:  70%|███████████████████████████████████████████▍                  | 28/40 [00:04<00:00, 16.86it/s]\u001b[A\n",
      "Feature Extraction:  78%|████████████████████████████████████████████████              | 31/40 [00:04<00:00, 18.41it/s]\u001b[A\n",
      "Feature Extraction:  85%|████████████████████████████████████████████████████▋         | 34/40 [00:04<00:00, 14.88it/s]\u001b[A\n",
      "Feature Extraction:  92%|█████████████████████████████████████████████████████████▎    | 37/40 [00:04<00:00, 16.96it/s]\u001b[A\n",
      "Feature Extraction: 100%|██████████████████████████████████████████████████████████████| 40/40 [00:04<00:00,  8.18it/s]\u001b[A\n",
      " 10%|████████▎                                                                          | 2/20 [00:09<01:25,  4.74s/it]\n",
      "Feature Extraction:   0%|                                                                       | 0/40 [00:00<?, ?it/s]\u001b[A\n",
      "Feature Extraction:   2%|█▌                                                             | 1/40 [00:02<01:46,  2.73s/it]\u001b[A\n",
      "Feature Extraction:  12%|███████▉                                                       | 5/40 [00:02<00:15,  2.30it/s]\u001b[A\n",
      "Feature Extraction:  18%|███████████                                                    | 7/40 [00:03<00:10,  3.21it/s]\u001b[A\n",
      "Feature Extraction:  22%|██████████████▏                                                | 9/40 [00:03<00:07,  4.38it/s]\u001b[A\n",
      "Feature Extraction:  30%|██████████████████▌                                           | 12/40 [00:03<00:04,  6.71it/s]\u001b[A\n",
      "Feature Extraction:  38%|███████████████████████▎                                      | 15/40 [00:03<00:02,  9.16it/s]\u001b[A\n",
      "Feature Extraction:  42%|██████████████████████████▎                                   | 17/40 [00:03<00:02,  8.35it/s]\u001b[A\n",
      "Feature Extraction:  50%|███████████████████████████████                               | 20/40 [00:03<00:01, 10.57it/s]\u001b[A\n",
      "Feature Extraction:  55%|██████████████████████████████████                            | 22/40 [00:04<00:01, 12.01it/s]\u001b[A\n",
      "Feature Extraction:  65%|████████████████████████████████████████▎                     | 26/40 [00:04<00:00, 16.34it/s]\u001b[A\n",
      "Feature Extraction:  72%|████████████████████████████████████████████▉                 | 29/40 [00:04<00:00, 17.73it/s]\u001b[A\n",
      "Feature Extraction:  80%|█████████████████████████████████████████████████▌            | 32/40 [00:04<00:00, 15.33it/s]\u001b[A\n",
      "Feature Extraction:  85%|████████████████████████████████████████████████████▋         | 34/40 [00:04<00:00, 15.34it/s]\u001b[A\n",
      "Feature Extraction:  92%|█████████████████████████████████████████████████████████▎    | 37/40 [00:04<00:00, 17.71it/s]\u001b[A\n",
      "Feature Extraction: 100%|██████████████████████████████████████████████████████████████| 40/40 [00:04<00:00,  8.11it/s]\u001b[A\n",
      " 15%|████████████▍                                                                      | 3/20 [00:14<01:24,  4.98s/it]\n",
      "Feature Extraction:   0%|                                                                       | 0/40 [00:00<?, ?it/s]\u001b[A\n",
      "Feature Extraction:   2%|█▌                                                             | 1/40 [00:03<01:56,  3.00s/it]\u001b[A\n",
      "Feature Extraction:   5%|███▏                                                           | 2/40 [00:03<00:52,  1.39s/it]\u001b[A\n",
      "Feature Extraction:  10%|██████▎                                                        | 4/40 [00:03<00:20,  1.74it/s]\u001b[A\n",
      "Feature Extraction:  12%|███████▉                                                       | 5/40 [00:03<00:16,  2.14it/s]\u001b[A\n",
      "Feature Extraction:  20%|████████████▌                                                  | 8/40 [00:03<00:08,  3.85it/s]\u001b[A\n",
      "Feature Extraction:  25%|███████████████▌                                              | 10/40 [00:04<00:05,  5.35it/s]\u001b[A\n",
      "Feature Extraction:  30%|██████████████████▌                                           | 12/40 [00:04<00:04,  5.91it/s]\u001b[A\n",
      "Feature Extraction:  32%|████████████████████▏                                         | 13/40 [00:04<00:04,  5.93it/s]\u001b[A\n",
      "Feature Extraction:  38%|███████████████████████▎                                      | 15/40 [00:04<00:03,  7.15it/s]\u001b[A\n",
      "Feature Extraction:  40%|████████████████████████▊                                     | 16/40 [00:04<00:03,  6.06it/s]\u001b[A\n",
      "Feature Extraction:  45%|███████████████████████████▉                                  | 18/40 [00:05<00:03,  6.40it/s]\u001b[A\n",
      "Feature Extraction:  50%|███████████████████████████████                               | 20/40 [00:05<00:02,  7.49it/s]\u001b[A\n",
      "Feature Extraction:  52%|████████████████████████████████▌                             | 21/40 [00:05<00:02,  6.56it/s]\u001b[A\n",
      "Feature Extraction:  60%|█████████████████████████████████████▏                        | 24/40 [00:05<00:02,  7.63it/s]\u001b[A\n",
      "Feature Extraction:  68%|█████████████████████████████████████████▊                    | 27/40 [00:06<00:01,  7.96it/s]\u001b[A\n",
      "Feature Extraction:  72%|████████████████████████████████████████████▉                 | 29/40 [00:06<00:01,  8.60it/s]\u001b[A\n",
      "Feature Extraction:  75%|██████████████████████████████████████████████▌               | 30/40 [00:06<00:01,  8.75it/s]\u001b[A\n",
      "Feature Extraction:  80%|█████████████████████████████████████████████████▌            | 32/40 [00:06<00:00,  9.67it/s]\u001b[A\n",
      "Feature Extraction:  85%|████████████████████████████████████████████████████▋         | 34/40 [00:07<00:00,  9.26it/s]\u001b[A\n",
      "Feature Extraction:  88%|██████████████████████████████████████████████████████▎       | 35/40 [00:07<00:00,  7.00it/s]\u001b[A\n",
      "Feature Extraction:  92%|█████████████████████████████████████████████████████████▎    | 37/40 [00:07<00:00,  6.41it/s]\u001b[A\n",
      "Feature Extraction: 100%|██████████████████████████████████████████████████████████████| 40/40 [00:07<00:00,  5.07it/s]\u001b[A\n",
      " 20%|████████████████▌                                                                  | 4/20 [00:22<01:40,  6.30s/it]\n",
      "Feature Extraction:   0%|                                                                       | 0/40 [00:00<?, ?it/s]\u001b[A\n",
      "Feature Extraction:   2%|█▌                                                             | 1/40 [00:02<01:48,  2.77s/it]\u001b[A\n",
      "Feature Extraction:  12%|███████▉                                                       | 5/40 [00:02<00:15,  2.29it/s]\u001b[A\n",
      "Feature Extraction:  22%|██████████████▏                                                | 9/40 [00:02<00:06,  4.73it/s]\u001b[A\n",
      "Feature Extraction:  32%|████████████████████▏                                         | 13/40 [00:03<00:03,  7.69it/s]\u001b[A\n",
      "Feature Extraction:  42%|██████████████████████████▎                                   | 17/40 [00:03<00:02, 10.87it/s]\u001b[A\n",
      "Feature Extraction:  52%|████████████████████████████████▌                             | 21/40 [00:03<00:01, 11.83it/s]\u001b[A\n",
      "Feature Extraction:  62%|██████████████████████████████████████▊                       | 25/40 [00:03<00:00, 15.42it/s]\u001b[A\n",
      "Feature Extraction:  72%|████████████████████████████████████████████▉                 | 29/40 [00:03<00:00, 18.71it/s]\u001b[A\n",
      "Feature Extraction:  82%|███████████████████████████████████████████████████▏          | 33/40 [00:03<00:00, 19.69it/s]\u001b[A\n",
      "Feature Extraction: 100%|██████████████████████████████████████████████████████████████| 40/40 [00:04<00:00,  9.78it/s]\u001b[A\n",
      " 25%|████████████████████▊                                                              | 5/20 [00:27<01:23,  5.58s/it]\n",
      "Feature Extraction:   0%|                                                                       | 0/40 [00:00<?, ?it/s]\u001b[A\n",
      "Feature Extraction:   2%|█▌                                                             | 1/40 [00:02<01:52,  2.88s/it]\u001b[A\n",
      "Feature Extraction:  12%|███████▉                                                       | 5/40 [00:03<00:15,  2.21it/s]\u001b[A\n",
      "Feature Extraction:  25%|███████████████▌                                              | 10/40 [00:03<00:05,  5.17it/s]\u001b[A\n",
      "Feature Extraction:  38%|███████████████████████▎                                      | 15/40 [00:03<00:02,  8.71it/s]\u001b[A\n",
      "Feature Extraction:  50%|███████████████████████████████                               | 20/40 [00:03<00:01, 12.82it/s]\u001b[A\n",
      "Feature Extraction:  62%|██████████████████████████████████████▊                       | 25/40 [00:03<00:00, 17.19it/s]\u001b[A\n",
      "Feature Extraction:  75%|██████████████████████████████████████████████▌               | 30/40 [00:03<00:00, 21.74it/s]\u001b[A\n",
      "Feature Extraction:  88%|██████████████████████████████████████████████████████▎       | 35/40 [00:03<00:00, 20.25it/s]\u001b[A\n",
      "Feature Extraction: 100%|██████████████████████████████████████████████████████████████| 40/40 [00:03<00:00, 10.07it/s]\u001b[A\n",
      " 30%|████████████████████████▉                                                          | 6/20 [00:31<01:11,  5.10s/it]\n",
      "Feature Extraction:   0%|                                                                       | 0/40 [00:00<?, ?it/s]\u001b[A\n",
      "Feature Extraction:   2%|█▌                                                             | 1/40 [00:02<01:47,  2.76s/it]\u001b[A\n",
      "Feature Extraction:  15%|█████████▍                                                     | 6/40 [00:02<00:12,  2.78it/s]\u001b[A\n",
      "Feature Extraction:  25%|███████████████▌                                              | 10/40 [00:02<00:05,  5.17it/s]\u001b[A\n",
      "Feature Extraction:  38%|███████████████████████▎                                      | 15/40 [00:03<00:02,  8.77it/s]\u001b[A\n",
      "Feature Extraction:  48%|█████████████████████████████▍                                | 19/40 [00:03<00:02, 10.10it/s]\u001b[A\n",
      "Feature Extraction:  57%|███████████████████████████████████▋                          | 23/40 [00:03<00:01, 13.40it/s]\u001b[A\n",
      "Feature Extraction:  68%|█████████████████████████████████████████▊                    | 27/40 [00:03<00:00, 16.87it/s]\u001b[A\n",
      "Feature Extraction:  78%|████████████████████████████████████████████████              | 31/40 [00:03<00:00, 20.43it/s]\u001b[A\n",
      "Feature Extraction: 100%|██████████████████████████████████████████████████████████████| 40/40 [00:03<00:00, 10.10it/s]\u001b[A\n",
      " 35%|█████████████████████████████                                                      | 7/20 [00:35<01:02,  4.79s/it]\n",
      "Feature Extraction:   0%|                                                                       | 0/40 [00:00<?, ?it/s]\u001b[A\n",
      "Feature Extraction:   2%|█▌                                                             | 1/40 [00:02<01:52,  2.89s/it]\u001b[A\n",
      "Feature Extraction:  12%|███████▉                                                       | 5/40 [00:03<00:15,  2.19it/s]\u001b[A\n",
      "Feature Extraction:  22%|██████████████▏                                                | 9/40 [00:03<00:06,  4.53it/s]\u001b[A\n",
      "Feature Extraction:  32%|████████████████████▏                                         | 13/40 [00:03<00:03,  7.35it/s]\u001b[A\n",
      "Feature Extraction:  42%|██████████████████████████▎                                   | 17/40 [00:03<00:02, 10.69it/s]\u001b[A\n",
      "Feature Extraction:  52%|████████████████████████████████▌                             | 21/40 [00:03<00:01, 14.33it/s]\u001b[A\n",
      "Feature Extraction:  62%|██████████████████████████████████████▊                       | 25/40 [00:03<00:01, 14.33it/s]\u001b[A\n",
      "Feature Extraction:  72%|████████████████████████████████████████████▉                 | 29/40 [00:03<00:00, 17.90it/s]\u001b[A\n",
      "Feature Extraction:  82%|███████████████████████████████████████████████████▏          | 33/40 [00:04<00:00, 19.44it/s]\u001b[A\n",
      "Feature Extraction: 100%|██████████████████████████████████████████████████████████████| 40/40 [00:04<00:00,  9.60it/s]\u001b[A\n",
      " 40%|█████████████████████████████████▏                                                 | 8/20 [00:39<00:55,  4.66s/it]\n",
      "Feature Extraction:   0%|                                                                       | 0/40 [00:00<?, ?it/s]\u001b[A\n",
      "Feature Extraction:   2%|█▌                                                             | 1/40 [00:02<01:51,  2.87s/it]\u001b[A\n",
      "Feature Extraction:  15%|█████████▍                                                     | 6/40 [00:02<00:12,  2.68it/s]\u001b[A\n",
      "Feature Extraction:  22%|██████████████▏                                                | 9/40 [00:03<00:07,  4.10it/s]\u001b[A\n",
      "Feature Extraction:  30%|██████████████████▌                                           | 12/40 [00:03<00:04,  6.06it/s]\u001b[A\n",
      "Feature Extraction:  40%|████████████████████████▊                                     | 16/40 [00:03<00:02,  9.37it/s]\u001b[A\n",
      "Feature Extraction:  52%|████████████████████████████████▌                             | 21/40 [00:03<00:01, 14.03it/s]\u001b[A\n",
      "Feature Extraction:  65%|████████████████████████████████████████▎                     | 26/40 [00:03<00:00, 18.85it/s]\u001b[A\n",
      "Feature Extraction:  75%|██████████████████████████████████████████████▌               | 30/40 [00:03<00:00, 21.63it/s]\u001b[A\n",
      "Feature Extraction:  85%|████████████████████████████████████████████████████▋         | 34/40 [00:04<00:00, 18.97it/s]\u001b[A\n",
      "Feature Extraction: 100%|██████████████████████████████████████████████████████████████| 40/40 [00:04<00:00,  9.54it/s]\u001b[A\n",
      " 45%|█████████████████████████████████████▎                                             | 9/20 [00:44<00:50,  4.57s/it]\n",
      "Feature Extraction:   0%|                                                                       | 0/40 [00:00<?, ?it/s]\u001b[A\n",
      "Feature Extraction:   2%|█▌                                                             | 1/40 [00:02<01:51,  2.85s/it]\u001b[A\n",
      "Feature Extraction:  12%|███████▉                                                       | 5/40 [00:02<00:15,  2.22it/s]\u001b[A\n",
      "Feature Extraction:  20%|████████████▌                                                  | 8/40 [00:03<00:08,  3.97it/s]\u001b[A\n",
      "Feature Extraction:  28%|█████████████████                                             | 11/40 [00:03<00:05,  5.42it/s]\u001b[A\n",
      "Feature Extraction:  35%|█████████████████████▋                                        | 14/40 [00:03<00:03,  7.67it/s]\u001b[A\n",
      "Feature Extraction:  42%|██████████████████████████▎                                   | 17/40 [00:03<00:02, 10.24it/s]\u001b[A\n",
      "Feature Extraction:  52%|████████████████████████████████▌                             | 21/40 [00:03<00:01, 13.92it/s]\u001b[A\n",
      "Feature Extraction:  60%|█████████████████████████████████████▏                        | 24/40 [00:03<00:00, 16.52it/s]\u001b[A\n",
      "Feature Extraction:  68%|█████████████████████████████████████████▊                    | 27/40 [00:04<00:00, 13.64it/s]\u001b[A\n",
      "Feature Extraction:  75%|██████████████████████████████████████████████▌               | 30/40 [00:04<00:00, 15.53it/s]\u001b[A\n",
      "Feature Extraction:  88%|██████████████████████████████████████████████████████▎       | 35/40 [00:04<00:00, 21.08it/s]\u001b[A\n",
      "Feature Extraction: 100%|██████████████████████████████████████████████████████████████| 40/40 [00:04<00:00,  8.92it/s]\u001b[A\n",
      " 50%|█████████████████████████████████████████                                         | 10/20 [00:48<00:46,  4.62s/it]\n",
      "Feature Extraction:   0%|                                                                       | 0/40 [00:00<?, ?it/s]\u001b[A\n",
      "Feature Extraction:   2%|█▌                                                             | 1/40 [00:02<01:46,  2.74s/it]\u001b[A\n",
      "Feature Extraction:  12%|███████▉                                                       | 5/40 [00:03<00:16,  2.15it/s]\u001b[A\n",
      "Feature Extraction:  22%|██████████████▏                                                | 9/40 [00:03<00:07,  4.41it/s]\u001b[A\n",
      "Feature Extraction:  32%|████████████████████▏                                         | 13/40 [00:03<00:03,  7.13it/s]\u001b[A\n",
      "Feature Extraction:  42%|██████████████████████████▎                                   | 17/40 [00:03<00:02, 10.34it/s]\u001b[A\n",
      "Feature Extraction:  52%|████████████████████████████████▌                             | 21/40 [00:03<00:01, 13.82it/s]\u001b[A\n",
      "Feature Extraction:  62%|██████████████████████████████████████▊                       | 25/40 [00:03<00:00, 16.59it/s]\u001b[A\n",
      "Feature Extraction:  72%|████████████████████████████████████████████▉                 | 29/40 [00:03<00:00, 15.66it/s]\u001b[A\n",
      "Feature Extraction:  82%|███████████████████████████████████████████████████▏          | 33/40 [00:04<00:00, 17.69it/s]\u001b[A\n",
      "Feature Extraction: 100%|██████████████████████████████████████████████████████████████| 40/40 [00:04<00:00,  9.40it/s]\u001b[A\n",
      " 55%|█████████████████████████████████████████████                                     | 11/20 [00:53<00:41,  4.57s/it]\n",
      "Feature Extraction:   0%|                                                                       | 0/40 [00:00<?, ?it/s]\u001b[A\n",
      "Feature Extraction:   2%|█▌                                                             | 1/40 [00:02<01:46,  2.74s/it]\u001b[A\n",
      "Feature Extraction:  15%|█████████▍                                                     | 6/40 [00:02<00:12,  2.80it/s]\u001b[A\n",
      "Feature Extraction:  22%|██████████████▏                                                | 9/40 [00:03<00:07,  4.29it/s]\u001b[A\n",
      "Feature Extraction:  30%|██████████████████▌                                           | 12/40 [00:03<00:04,  6.21it/s]\u001b[A\n",
      "Feature Extraction:  40%|████████████████████████▊                                     | 16/40 [00:03<00:02,  9.45it/s]\u001b[A\n",
      "Feature Extraction:  50%|███████████████████████████████                               | 20/40 [00:03<00:01, 13.02it/s]\u001b[A\n",
      "Feature Extraction:  60%|█████████████████████████████████████▏                        | 24/40 [00:03<00:00, 16.15it/s]\u001b[A\n",
      "Feature Extraction:  70%|███████████████████████████████████████████▍                  | 28/40 [00:03<00:00, 19.75it/s]\u001b[A\n",
      "Feature Extraction:  80%|█████████████████████████████████████████████████▌            | 32/40 [00:03<00:00, 17.64it/s]\u001b[A\n",
      "Feature Extraction:  88%|██████████████████████████████████████████████████████▎       | 35/40 [00:04<00:00, 18.51it/s]\u001b[A\n",
      "Feature Extraction: 100%|██████████████████████████████████████████████████████████████| 40/40 [00:04<00:00,  9.48it/s]\u001b[A\n",
      " 60%|█████████████████████████████████████████████████▏                                | 12/20 [00:57<00:36,  4.52s/it]\n",
      "Feature Extraction:   0%|                                                                       | 0/40 [00:00<?, ?it/s]\u001b[A\n",
      "Feature Extraction:   2%|█▌                                                             | 1/40 [00:02<01:46,  2.74s/it]\u001b[A\n",
      "Feature Extraction:  18%|███████████                                                    | 7/40 [00:02<00:09,  3.31it/s]\u001b[A\n",
      "Feature Extraction:  32%|████████████████████▏                                         | 13/40 [00:02<00:03,  6.98it/s]\u001b[A\n",
      "Feature Extraction:  45%|███████████████████████████▉                                  | 18/40 [00:03<00:02,  9.32it/s]\u001b[A\n",
      "Feature Extraction:  60%|█████████████████████████████████████▏                        | 24/40 [00:03<00:01, 14.07it/s]\u001b[A\n",
      "Feature Extraction:  75%|██████████████████████████████████████████████▌               | 30/40 [00:03<00:00, 19.29it/s]\u001b[A\n",
      "Feature Extraction: 100%|██████████████████████████████████████████████████████████████| 40/40 [00:03<00:00, 10.96it/s]\u001b[A\n",
      " 65%|█████████████████████████████████████████████████████▎                            | 13/20 [01:01<00:30,  4.30s/it]\n",
      "Feature Extraction:   0%|                                                                       | 0/40 [00:00<?, ?it/s]\u001b[A\n",
      "Feature Extraction:   2%|█▌                                                             | 1/40 [00:02<01:50,  2.82s/it]\u001b[A\n",
      "Feature Extraction:  15%|█████████▍                                                     | 6/40 [00:02<00:12,  2.72it/s]\u001b[A\n",
      "Feature Extraction:  22%|██████████████▏                                                | 9/40 [00:03<00:07,  4.07it/s]\u001b[A\n",
      "Feature Extraction:  32%|████████████████████▏                                         | 13/40 [00:03<00:04,  6.74it/s]\u001b[A\n",
      "Feature Extraction:  42%|██████████████████████████▎                                   | 17/40 [00:03<00:02,  9.90it/s]\u001b[A\n",
      "Feature Extraction:  52%|████████████████████████████████▌                             | 21/40 [00:03<00:01, 13.36it/s]\u001b[A\n",
      "Feature Extraction:  62%|██████████████████████████████████████▊                       | 25/40 [00:03<00:00, 16.98it/s]\u001b[A\n",
      "Feature Extraction:  72%|████████████████████████████████████████████▉                 | 29/40 [00:03<00:00, 20.60it/s]\u001b[A\n",
      "Feature Extraction:  82%|███████████████████████████████████████████████████▏          | 33/40 [00:04<00:00, 16.44it/s]\u001b[A\n",
      "Feature Extraction: 100%|██████████████████████████████████████████████████████████████| 40/40 [00:04<00:00,  9.37it/s]\u001b[A\n",
      " 70%|█████████████████████████████████████████████████████████▍                        | 14/20 [01:06<00:26,  4.37s/it]\n",
      "Feature Extraction:   0%|                                                                       | 0/40 [00:00<?, ?it/s]\u001b[A\n",
      "Feature Extraction:   2%|█▌                                                             | 1/40 [00:02<01:53,  2.92s/it]\u001b[A\n",
      "Feature Extraction:  10%|██████▎                                                        | 4/40 [00:03<00:22,  1.60it/s]\u001b[A\n",
      "Feature Extraction:  15%|█████████▍                                                     | 6/40 [00:03<00:13,  2.54it/s]\u001b[A\n",
      "Feature Extraction:  22%|██████████████▏                                                | 9/40 [00:03<00:07,  4.28it/s]\u001b[A\n",
      "Feature Extraction:  28%|█████████████████                                             | 11/40 [00:03<00:05,  4.83it/s]\u001b[A\n",
      "Feature Extraction:  35%|█████████████████████▋                                        | 14/40 [00:04<00:03,  6.76it/s]\u001b[A\n",
      "Feature Extraction:  40%|████████████████████████▊                                     | 16/40 [00:04<00:02,  8.03it/s]\u001b[A\n",
      "Feature Extraction:  48%|█████████████████████████████▍                                | 19/40 [00:04<00:01, 10.83it/s]\u001b[A\n",
      "Feature Extraction:  52%|████████████████████████████████▌                             | 21/40 [00:04<00:01,  9.97it/s]\u001b[A\n",
      "Feature Extraction:  57%|███████████████████████████████████▋                          | 23/40 [00:04<00:01, 10.33it/s]\u001b[A\n",
      "Feature Extraction:  65%|████████████████████████████████████████▎                     | 26/40 [00:04<00:01, 12.42it/s]\u001b[A\n",
      "Feature Extraction:  70%|███████████████████████████████████████████▍                  | 28/40 [00:04<00:00, 13.63it/s]\u001b[A\n",
      "Feature Extraction:  75%|██████████████████████████████████████████████▌               | 30/40 [00:05<00:00, 11.78it/s]\u001b[A\n",
      "Feature Extraction:  80%|█████████████████████████████████████████████████▌            | 32/40 [00:05<00:00, 10.63it/s]\u001b[A\n",
      "Feature Extraction:  85%|████████████████████████████████████████████████████▋         | 34/40 [00:05<00:00, 12.13it/s]\u001b[A\n",
      "Feature Extraction:  90%|███████████████████████████████████████████████████████▊      | 36/40 [00:05<00:00, 13.17it/s]\u001b[A\n",
      "Feature Extraction:  95%|██████████████████████████████████████████████████████████▉   | 38/40 [00:05<00:00, 11.19it/s]\u001b[A\n",
      "Feature Extraction: 100%|██████████████████████████████████████████████████████████████| 40/40 [00:06<00:00,  6.60it/s]\u001b[A\n",
      " 75%|█████████████████████████████████████████████████████████████▌                    | 15/20 [01:12<00:24,  4.98s/it]\n",
      "Feature Extraction:   0%|                                                                       | 0/40 [00:00<?, ?it/s]\u001b[A\n",
      "Feature Extraction:   2%|█▌                                                             | 1/40 [00:02<01:48,  2.79s/it]\u001b[A\n",
      "Feature Extraction:  12%|███████▉                                                       | 5/40 [00:02<00:15,  2.26it/s]\u001b[A\n",
      "Feature Extraction:  22%|██████████████▏                                                | 9/40 [00:03<00:06,  4.62it/s]\u001b[A\n",
      "Feature Extraction:  30%|██████████████████▌                                           | 12/40 [00:03<00:04,  6.68it/s]\u001b[A\n",
      "Feature Extraction:  38%|███████████████████████▎                                      | 15/40 [00:03<00:02,  9.14it/s]\u001b[A\n",
      "Feature Extraction:  45%|███████████████████████████▉                                  | 18/40 [00:03<00:02,  9.73it/s]\u001b[A\n",
      "Feature Extraction:  55%|██████████████████████████████████                            | 22/40 [00:03<00:01, 13.25it/s]\u001b[A\n",
      "Feature Extraction:  65%|████████████████████████████████████████▎                     | 26/40 [00:03<00:00, 16.77it/s]\u001b[A\n",
      "Feature Extraction:  75%|██████████████████████████████████████████████▌               | 30/40 [00:03<00:00, 20.01it/s]\u001b[A\n",
      "Feature Extraction:  82%|███████████████████████████████████████████████████▏          | 33/40 [00:04<00:00, 20.01it/s]\u001b[A\n",
      "Feature Extraction: 100%|██████████████████████████████████████████████████████████████| 40/40 [00:04<00:00,  9.45it/s]\u001b[A\n",
      " 80%|█████████████████████████████████████████████████████████████████▌                | 16/20 [01:17<00:19,  4.81s/it]\n",
      "Feature Extraction:   0%|                                                                       | 0/40 [00:00<?, ?it/s]\u001b[A\n",
      "Feature Extraction:   2%|█▌                                                             | 1/40 [00:03<01:58,  3.03s/it]\u001b[A\n",
      "Feature Extraction:  12%|███████▉                                                       | 5/40 [00:03<00:16,  2.11it/s]\u001b[A\n",
      "Feature Extraction:  22%|██████████████▏                                                | 9/40 [00:03<00:07,  4.35it/s]\u001b[A\n",
      "Feature Extraction:  32%|████████████████████▏                                         | 13/40 [00:03<00:03,  6.99it/s]\u001b[A\n",
      "Feature Extraction:  42%|██████████████████████████▎                                   | 17/40 [00:03<00:02, 10.17it/s]\u001b[A\n",
      "Feature Extraction:  52%|████████████████████████████████▌                             | 21/40 [00:03<00:01, 11.47it/s]\u001b[A\n",
      "Feature Extraction:  60%|█████████████████████████████████████▏                        | 24/40 [00:03<00:01, 13.77it/s]\u001b[A\n",
      "Feature Extraction:  70%|███████████████████████████████████████████▍                  | 28/40 [00:03<00:00, 17.60it/s]\u001b[A\n",
      "Feature Extraction:  80%|█████████████████████████████████████████████████▌            | 32/40 [00:04<00:00, 20.94it/s]\u001b[A\n",
      "Feature Extraction: 100%|██████████████████████████████████████████████████████████████| 40/40 [00:04<00:00,  9.16it/s]\u001b[A\n",
      " 85%|█████████████████████████████████████████████████████████████████████▋            | 17/20 [01:21<00:14,  4.74s/it]\n",
      "Feature Extraction:   0%|                                                                       | 0/40 [00:00<?, ?it/s]\u001b[A\n",
      "Feature Extraction:   2%|█▌                                                             | 1/40 [00:03<02:00,  3.09s/it]\u001b[A\n",
      "Feature Extraction:   8%|████▋                                                          | 3/40 [00:03<00:34,  1.07it/s]\u001b[A\n",
      "Feature Extraction:  15%|█████████▍                                                     | 6/40 [00:03<00:14,  2.39it/s]\u001b[A\n",
      "Feature Extraction:  20%|████████████▌                                                  | 8/40 [00:04<00:10,  3.01it/s]\u001b[A\n",
      "Feature Extraction:  28%|█████████████████                                             | 11/40 [00:04<00:06,  4.67it/s]\u001b[A\n",
      "Feature Extraction:  32%|████████████████████▏                                         | 13/40 [00:04<00:04,  5.63it/s]\u001b[A\n",
      "Feature Extraction:  38%|███████████████████████▎                                      | 15/40 [00:04<00:04,  5.91it/s]\u001b[A\n",
      "Feature Extraction:  42%|██████████████████████████▎                                   | 17/40 [00:05<00:03,  6.05it/s]\u001b[A\n",
      "Feature Extraction:  48%|█████████████████████████████▍                                | 19/40 [00:05<00:03,  5.88it/s]\u001b[A\n",
      "Feature Extraction:  55%|██████████████████████████████████                            | 22/40 [00:05<00:02,  7.25it/s]\u001b[A\n",
      "Feature Extraction:  60%|█████████████████████████████████████▏                        | 24/40 [00:06<00:02,  6.81it/s]\u001b[A\n",
      "Feature Extraction:  68%|█████████████████████████████████████████▊                    | 27/40 [00:06<00:01,  8.44it/s]\u001b[A\n",
      "Feature Extraction:  72%|████████████████████████████████████████████▉                 | 29/40 [00:06<00:01,  9.09it/s]\u001b[A\n",
      "Feature Extraction:  78%|████████████████████████████████████████████████              | 31/40 [00:06<00:01,  8.62it/s]\u001b[A\n",
      "Feature Extraction:  80%|█████████████████████████████████████████████████▌            | 32/40 [00:06<00:01,  7.75it/s]\u001b[A\n",
      "Feature Extraction:  82%|███████████████████████████████████████████████████▏          | 33/40 [00:07<00:00,  7.49it/s]\u001b[A\n",
      "Feature Extraction:  85%|████████████████████████████████████████████████████▋         | 34/40 [00:07<00:00,  6.03it/s]\u001b[A\n",
      "Feature Extraction:  92%|█████████████████████████████████████████████████████████▎    | 37/40 [00:07<00:00,  7.59it/s]\u001b[A\n",
      "Feature Extraction:  95%|██████████████████████████████████████████████████████████▉   | 38/40 [00:07<00:00,  7.86it/s]\u001b[A\n",
      "Feature Extraction: 100%|██████████████████████████████████████████████████████████████| 40/40 [00:07<00:00,  5.07it/s]\u001b[A\n",
      " 90%|█████████████████████████████████████████████████████████████████████████▊        | 18/20 [01:29<00:11,  5.83s/it]\n",
      "Feature Extraction:   0%|                                                                       | 0/40 [00:00<?, ?it/s]\u001b[A\n",
      "Feature Extraction:   2%|█▌                                                             | 1/40 [00:02<01:47,  2.75s/it]\u001b[A\n",
      "Feature Extraction:  15%|█████████▍                                                     | 6/40 [00:02<00:12,  2.80it/s]\u001b[A\n",
      "Feature Extraction:  22%|██████████████▏                                                | 9/40 [00:03<00:07,  4.31it/s]\u001b[A\n",
      "Feature Extraction:  30%|██████████████████▌                                           | 12/40 [00:03<00:04,  6.29it/s]\u001b[A\n",
      "Feature Extraction:  42%|██████████████████████████▎                                   | 17/40 [00:03<00:02, 10.57it/s]\u001b[A\n",
      "Feature Extraction:  55%|██████████████████████████████████                            | 22/40 [00:03<00:01, 15.04it/s]\u001b[A\n",
      "Feature Extraction:  68%|█████████████████████████████████████████▊                    | 27/40 [00:03<00:00, 19.53it/s]\u001b[A\n",
      "Feature Extraction:  78%|████████████████████████████████████████████████              | 31/40 [00:03<00:00, 17.80it/s]\u001b[A\n",
      "Feature Extraction:  85%|████████████████████████████████████████████████████▋         | 34/40 [00:03<00:00, 18.52it/s]\u001b[A\n",
      "Feature Extraction: 100%|██████████████████████████████████████████████████████████████| 40/40 [00:04<00:00,  9.82it/s]\u001b[A\n",
      " 95%|█████████████████████████████████████████████████████████████████████████████▉    | 19/20 [01:34<00:05,  5.36s/it]\n",
      "Feature Extraction:   0%|                                                                       | 0/40 [00:00<?, ?it/s]\u001b[A\n",
      "Feature Extraction:   2%|█▌                                                             | 1/40 [00:02<01:49,  2.81s/it]\u001b[A\n",
      "Feature Extraction:  10%|██████▎                                                        | 4/40 [00:02<00:20,  1.78it/s]\u001b[A\n",
      "Feature Extraction:  18%|███████████                                                    | 7/40 [00:03<00:10,  3.20it/s]\u001b[A\n",
      "Feature Extraction:  25%|███████████████▌                                              | 10/40 [00:03<00:05,  5.15it/s]\u001b[A\n",
      "Feature Extraction:  32%|████████████████████▏                                         | 13/40 [00:03<00:03,  7.52it/s]\u001b[A\n",
      "Feature Extraction:  40%|████████████████████████▊                                     | 16/40 [00:03<00:02,  9.92it/s]\u001b[A\n",
      "Feature Extraction:  48%|█████████████████████████████▍                                | 19/40 [00:03<00:01, 11.42it/s]\u001b[A\n",
      "Feature Extraction:  55%|██████████████████████████████████                            | 22/40 [00:03<00:01, 11.73it/s]\u001b[A\n",
      "Feature Extraction:  60%|█████████████████████████████████████▏                        | 24/40 [00:04<00:01, 12.39it/s]\u001b[A\n",
      "Feature Extraction:  70%|███████████████████████████████████████████▍                  | 28/40 [00:04<00:00, 16.65it/s]\u001b[A\n",
      "Feature Extraction:  78%|████████████████████████████████████████████████              | 31/40 [00:04<00:00, 18.80it/s]\u001b[A\n",
      "Feature Extraction:  85%|████████████████████████████████████████████████████▋         | 34/40 [00:04<00:00, 19.69it/s]\u001b[A\n",
      "Feature Extraction:  92%|█████████████████████████████████████████████████████████▎    | 37/40 [00:04<00:00, 16.08it/s]\u001b[A\n",
      "Feature Extraction: 100%|██████████████████████████████████████████████████████████████| 40/40 [00:04<00:00,  8.17it/s]\u001b[A\n",
      "100%|██████████████████████████████████████████████████████████████████████████████████| 20/20 [01:39<00:00,  4.97s/it]\n"
     ]
    }
   ],
   "source": [
    "# 收集所有处理后的DataFrame  \n",
    "X_train_list = []  \n",
    "  \n",
    "# 初始化y_train为列表，因为我们可以直接扩展列表  \n",
    "y_train = []  \n",
    "  \n",
    "for i in tqdm(range(len(X_l))):  \n",
    "    try:  \n",
    "        # 提取特征并处理DataFrame  \n",
    "        X_temp = impute(extract_features(X_l[i], column_id=\"id\", column_sort=\"time\", default_fc_parameters=MinimalFCParameters()))  \n",
    "        X_train_list.append(X_temp)  \n",
    "  \n",
    "        # 假设y_l[i]已经是NumPy数组或者可以转换为NumPy数组  \n",
    "        y_train.extend(y_l[i])  # 使用extend来扩展列表  \n",
    "  \n",
    "    except Exception as e:  \n",
    "        print(e)  \n",
    "        continue  \n",
    "  \n",
    "# 使用pd.concat连接所有的DataFrame  \n",
    "X_train = pd.concat(X_train_list, ignore_index=True)  \n",
    "  \n",
    "# 将y_train转换为NumPy数组（如果它还不是）  \n",
    "y_train = np.array(y_train)  \n",
    "  \n",
    "# 断言检查X_train和y_train的长度是否相等  \n",
    "assert len(X_train) == len(y_train)"
   ]
  },
  {
   "cell_type": "code",
   "execution_count": 22,
   "metadata": {
    "scrolled": true
   },
   "outputs": [
    {
     "data": {
      "text/html": [
       "<div>\n",
       "<style scoped>\n",
       "    .dataframe tbody tr th:only-of-type {\n",
       "        vertical-align: middle;\n",
       "    }\n",
       "\n",
       "    .dataframe tbody tr th {\n",
       "        vertical-align: top;\n",
       "    }\n",
       "\n",
       "    .dataframe thead th {\n",
       "        text-align: right;\n",
       "    }\n",
       "</style>\n",
       "<table border=\"1\" class=\"dataframe\">\n",
       "  <thead>\n",
       "    <tr style=\"text-align: right;\">\n",
       "      <th></th>\n",
       "      <th>altitude__sum_values</th>\n",
       "      <th>altitude__median</th>\n",
       "      <th>altitude__mean</th>\n",
       "      <th>altitude__length</th>\n",
       "      <th>altitude__standard_deviation</th>\n",
       "      <th>altitude__variance</th>\n",
       "      <th>altitude__root_mean_square</th>\n",
       "      <th>altitude__maximum</th>\n",
       "      <th>altitude__absolute_maximum</th>\n",
       "      <th>altitude__minimum</th>\n",
       "      <th>...</th>\n",
       "      <th>y__sum_values</th>\n",
       "      <th>y__median</th>\n",
       "      <th>y__mean</th>\n",
       "      <th>y__length</th>\n",
       "      <th>y__standard_deviation</th>\n",
       "      <th>y__variance</th>\n",
       "      <th>y__root_mean_square</th>\n",
       "      <th>y__maximum</th>\n",
       "      <th>y__absolute_maximum</th>\n",
       "      <th>y__minimum</th>\n",
       "    </tr>\n",
       "  </thead>\n",
       "  <tbody>\n",
       "    <tr>\n",
       "      <th>0</th>\n",
       "      <td>25.000000</td>\n",
       "      <td>0.0</td>\n",
       "      <td>0.416667</td>\n",
       "      <td>60.0</td>\n",
       "      <td>3.655017</td>\n",
       "      <td>13.359152</td>\n",
       "      <td>3.678690</td>\n",
       "      <td>2.500000e+01</td>\n",
       "      <td>25.0</td>\n",
       "      <td>-1.923077</td>\n",
       "      <td>...</td>\n",
       "      <td>1050.972352</td>\n",
       "      <td>17.297173</td>\n",
       "      <td>17.516206</td>\n",
       "      <td>60.0</td>\n",
       "      <td>4.591943</td>\n",
       "      <td>21.085937</td>\n",
       "      <td>18.108103</td>\n",
       "      <td>36.059727</td>\n",
       "      <td>36.059727</td>\n",
       "      <td>6.266093</td>\n",
       "    </tr>\n",
       "    <tr>\n",
       "      <th>1</th>\n",
       "      <td>20.833333</td>\n",
       "      <td>0.0</td>\n",
       "      <td>0.347222</td>\n",
       "      <td>60.0</td>\n",
       "      <td>3.622547</td>\n",
       "      <td>13.122848</td>\n",
       "      <td>3.639150</td>\n",
       "      <td>2.500000e+01</td>\n",
       "      <td>25.0</td>\n",
       "      <td>-1.923077</td>\n",
       "      <td>...</td>\n",
       "      <td>1052.743073</td>\n",
       "      <td>17.297173</td>\n",
       "      <td>17.545718</td>\n",
       "      <td>60.0</td>\n",
       "      <td>4.577180</td>\n",
       "      <td>20.950578</td>\n",
       "      <td>18.132920</td>\n",
       "      <td>36.059727</td>\n",
       "      <td>36.059727</td>\n",
       "      <td>6.266093</td>\n",
       "    </tr>\n",
       "    <tr>\n",
       "      <th>2</th>\n",
       "      <td>16.666667</td>\n",
       "      <td>0.0</td>\n",
       "      <td>0.277778</td>\n",
       "      <td>60.0</td>\n",
       "      <td>3.588440</td>\n",
       "      <td>12.876899</td>\n",
       "      <td>3.599175</td>\n",
       "      <td>2.500000e+01</td>\n",
       "      <td>25.0</td>\n",
       "      <td>-1.923077</td>\n",
       "      <td>...</td>\n",
       "      <td>1048.601257</td>\n",
       "      <td>17.297173</td>\n",
       "      <td>17.476688</td>\n",
       "      <td>60.0</td>\n",
       "      <td>4.655385</td>\n",
       "      <td>21.672605</td>\n",
       "      <td>18.086106</td>\n",
       "      <td>36.059727</td>\n",
       "      <td>36.059727</td>\n",
       "      <td>6.266093</td>\n",
       "    </tr>\n",
       "    <tr>\n",
       "      <th>3</th>\n",
       "      <td>12.500000</td>\n",
       "      <td>0.0</td>\n",
       "      <td>0.208333</td>\n",
       "      <td>60.0</td>\n",
       "      <td>3.552648</td>\n",
       "      <td>12.621305</td>\n",
       "      <td>3.558751</td>\n",
       "      <td>2.500000e+01</td>\n",
       "      <td>25.0</td>\n",
       "      <td>-1.923077</td>\n",
       "      <td>...</td>\n",
       "      <td>1052.537516</td>\n",
       "      <td>17.305604</td>\n",
       "      <td>17.542292</td>\n",
       "      <td>60.0</td>\n",
       "      <td>4.638598</td>\n",
       "      <td>21.516594</td>\n",
       "      <td>18.145209</td>\n",
       "      <td>36.059727</td>\n",
       "      <td>36.059727</td>\n",
       "      <td>6.266093</td>\n",
       "    </tr>\n",
       "    <tr>\n",
       "      <th>4</th>\n",
       "      <td>8.333333</td>\n",
       "      <td>0.0</td>\n",
       "      <td>0.138889</td>\n",
       "      <td>60.0</td>\n",
       "      <td>3.515120</td>\n",
       "      <td>12.356066</td>\n",
       "      <td>3.517862</td>\n",
       "      <td>2.500000e+01</td>\n",
       "      <td>25.0</td>\n",
       "      <td>-1.923077</td>\n",
       "      <td>...</td>\n",
       "      <td>1056.483108</td>\n",
       "      <td>17.314034</td>\n",
       "      <td>17.608052</td>\n",
       "      <td>60.0</td>\n",
       "      <td>4.620843</td>\n",
       "      <td>21.352189</td>\n",
       "      <td>18.204276</td>\n",
       "      <td>36.059727</td>\n",
       "      <td>36.059727</td>\n",
       "      <td>6.266093</td>\n",
       "    </tr>\n",
       "    <tr>\n",
       "      <th>...</th>\n",
       "      <td>...</td>\n",
       "      <td>...</td>\n",
       "      <td>...</td>\n",
       "      <td>...</td>\n",
       "      <td>...</td>\n",
       "      <td>...</td>\n",
       "      <td>...</td>\n",
       "      <td>...</td>\n",
       "      <td>...</td>\n",
       "      <td>...</td>\n",
       "      <td>...</td>\n",
       "      <td>...</td>\n",
       "      <td>...</td>\n",
       "      <td>...</td>\n",
       "      <td>...</td>\n",
       "      <td>...</td>\n",
       "      <td>...</td>\n",
       "      <td>...</td>\n",
       "      <td>...</td>\n",
       "      <td>...</td>\n",
       "      <td>...</td>\n",
       "    </tr>\n",
       "    <tr>\n",
       "      <th>65755</th>\n",
       "      <td>-25.000000</td>\n",
       "      <td>0.0</td>\n",
       "      <td>-0.416667</td>\n",
       "      <td>60.0</td>\n",
       "      <td>3.200477</td>\n",
       "      <td>10.243056</td>\n",
       "      <td>3.227486</td>\n",
       "      <td>7.275958e-12</td>\n",
       "      <td>25.0</td>\n",
       "      <td>-25.000000</td>\n",
       "      <td>...</td>\n",
       "      <td>8895.073883</td>\n",
       "      <td>150.399472</td>\n",
       "      <td>148.251231</td>\n",
       "      <td>60.0</td>\n",
       "      <td>52.703497</td>\n",
       "      <td>2777.658549</td>\n",
       "      <td>157.340669</td>\n",
       "      <td>301.086031</td>\n",
       "      <td>301.086031</td>\n",
       "      <td>0.000000</td>\n",
       "    </tr>\n",
       "    <tr>\n",
       "      <th>65756</th>\n",
       "      <td>-25.000000</td>\n",
       "      <td>0.0</td>\n",
       "      <td>-0.416667</td>\n",
       "      <td>60.0</td>\n",
       "      <td>3.200477</td>\n",
       "      <td>10.243056</td>\n",
       "      <td>3.227486</td>\n",
       "      <td>7.275958e-12</td>\n",
       "      <td>25.0</td>\n",
       "      <td>-25.000000</td>\n",
       "      <td>...</td>\n",
       "      <td>8755.137920</td>\n",
       "      <td>150.399472</td>\n",
       "      <td>145.918965</td>\n",
       "      <td>60.0</td>\n",
       "      <td>55.722385</td>\n",
       "      <td>3104.984188</td>\n",
       "      <td>156.196442</td>\n",
       "      <td>301.086031</td>\n",
       "      <td>301.086031</td>\n",
       "      <td>0.000000</td>\n",
       "    </tr>\n",
       "    <tr>\n",
       "      <th>65757</th>\n",
       "      <td>-25.000000</td>\n",
       "      <td>0.0</td>\n",
       "      <td>-0.416667</td>\n",
       "      <td>60.0</td>\n",
       "      <td>3.200477</td>\n",
       "      <td>10.243056</td>\n",
       "      <td>3.227486</td>\n",
       "      <td>7.275958e-12</td>\n",
       "      <td>25.0</td>\n",
       "      <td>-25.000000</td>\n",
       "      <td>...</td>\n",
       "      <td>8597.451125</td>\n",
       "      <td>149.272429</td>\n",
       "      <td>143.290852</td>\n",
       "      <td>60.0</td>\n",
       "      <td>58.473031</td>\n",
       "      <td>3419.095345</td>\n",
       "      <td>154.762281</td>\n",
       "      <td>301.086031</td>\n",
       "      <td>301.086031</td>\n",
       "      <td>0.000000</td>\n",
       "    </tr>\n",
       "    <tr>\n",
       "      <th>65758</th>\n",
       "      <td>-25.000000</td>\n",
       "      <td>0.0</td>\n",
       "      <td>-0.416667</td>\n",
       "      <td>60.0</td>\n",
       "      <td>3.200477</td>\n",
       "      <td>10.243056</td>\n",
       "      <td>3.227486</td>\n",
       "      <td>7.275958e-12</td>\n",
       "      <td>25.0</td>\n",
       "      <td>-25.000000</td>\n",
       "      <td>...</td>\n",
       "      <td>8436.924055</td>\n",
       "      <td>148.058472</td>\n",
       "      <td>140.615401</td>\n",
       "      <td>60.0</td>\n",
       "      <td>60.869943</td>\n",
       "      <td>3705.150016</td>\n",
       "      <td>153.224805</td>\n",
       "      <td>301.086031</td>\n",
       "      <td>301.086031</td>\n",
       "      <td>0.000000</td>\n",
       "    </tr>\n",
       "    <tr>\n",
       "      <th>65759</th>\n",
       "      <td>-25.000000</td>\n",
       "      <td>0.0</td>\n",
       "      <td>-0.416667</td>\n",
       "      <td>60.0</td>\n",
       "      <td>3.200477</td>\n",
       "      <td>10.243056</td>\n",
       "      <td>3.227486</td>\n",
       "      <td>7.275958e-12</td>\n",
       "      <td>25.0</td>\n",
       "      <td>-25.000000</td>\n",
       "      <td>...</td>\n",
       "      <td>8292.621895</td>\n",
       "      <td>148.058472</td>\n",
       "      <td>138.210365</td>\n",
       "      <td>60.0</td>\n",
       "      <td>63.338568</td>\n",
       "      <td>4011.774203</td>\n",
       "      <td>152.032494</td>\n",
       "      <td>301.086031</td>\n",
       "      <td>301.086031</td>\n",
       "      <td>0.000000</td>\n",
       "    </tr>\n",
       "  </tbody>\n",
       "</table>\n",
       "<p>65760 rows × 50 columns</p>\n",
       "</div>"
      ],
      "text/plain": [
       "       altitude__sum_values  altitude__median  altitude__mean  \\\n",
       "0                 25.000000               0.0        0.416667   \n",
       "1                 20.833333               0.0        0.347222   \n",
       "2                 16.666667               0.0        0.277778   \n",
       "3                 12.500000               0.0        0.208333   \n",
       "4                  8.333333               0.0        0.138889   \n",
       "...                     ...               ...             ...   \n",
       "65755            -25.000000               0.0       -0.416667   \n",
       "65756            -25.000000               0.0       -0.416667   \n",
       "65757            -25.000000               0.0       -0.416667   \n",
       "65758            -25.000000               0.0       -0.416667   \n",
       "65759            -25.000000               0.0       -0.416667   \n",
       "\n",
       "       altitude__length  altitude__standard_deviation  altitude__variance  \\\n",
       "0                  60.0                      3.655017           13.359152   \n",
       "1                  60.0                      3.622547           13.122848   \n",
       "2                  60.0                      3.588440           12.876899   \n",
       "3                  60.0                      3.552648           12.621305   \n",
       "4                  60.0                      3.515120           12.356066   \n",
       "...                 ...                           ...                 ...   \n",
       "65755              60.0                      3.200477           10.243056   \n",
       "65756              60.0                      3.200477           10.243056   \n",
       "65757              60.0                      3.200477           10.243056   \n",
       "65758              60.0                      3.200477           10.243056   \n",
       "65759              60.0                      3.200477           10.243056   \n",
       "\n",
       "       altitude__root_mean_square  altitude__maximum  \\\n",
       "0                        3.678690       2.500000e+01   \n",
       "1                        3.639150       2.500000e+01   \n",
       "2                        3.599175       2.500000e+01   \n",
       "3                        3.558751       2.500000e+01   \n",
       "4                        3.517862       2.500000e+01   \n",
       "...                           ...                ...   \n",
       "65755                    3.227486       7.275958e-12   \n",
       "65756                    3.227486       7.275958e-12   \n",
       "65757                    3.227486       7.275958e-12   \n",
       "65758                    3.227486       7.275958e-12   \n",
       "65759                    3.227486       7.275958e-12   \n",
       "\n",
       "       altitude__absolute_maximum  altitude__minimum  ...  y__sum_values  \\\n",
       "0                            25.0          -1.923077  ...    1050.972352   \n",
       "1                            25.0          -1.923077  ...    1052.743073   \n",
       "2                            25.0          -1.923077  ...    1048.601257   \n",
       "3                            25.0          -1.923077  ...    1052.537516   \n",
       "4                            25.0          -1.923077  ...    1056.483108   \n",
       "...                           ...                ...  ...            ...   \n",
       "65755                        25.0         -25.000000  ...    8895.073883   \n",
       "65756                        25.0         -25.000000  ...    8755.137920   \n",
       "65757                        25.0         -25.000000  ...    8597.451125   \n",
       "65758                        25.0         -25.000000  ...    8436.924055   \n",
       "65759                        25.0         -25.000000  ...    8292.621895   \n",
       "\n",
       "        y__median     y__mean  y__length  y__standard_deviation  y__variance  \\\n",
       "0       17.297173   17.516206       60.0               4.591943    21.085937   \n",
       "1       17.297173   17.545718       60.0               4.577180    20.950578   \n",
       "2       17.297173   17.476688       60.0               4.655385    21.672605   \n",
       "3       17.305604   17.542292       60.0               4.638598    21.516594   \n",
       "4       17.314034   17.608052       60.0               4.620843    21.352189   \n",
       "...           ...         ...        ...                    ...          ...   \n",
       "65755  150.399472  148.251231       60.0              52.703497  2777.658549   \n",
       "65756  150.399472  145.918965       60.0              55.722385  3104.984188   \n",
       "65757  149.272429  143.290852       60.0              58.473031  3419.095345   \n",
       "65758  148.058472  140.615401       60.0              60.869943  3705.150016   \n",
       "65759  148.058472  138.210365       60.0              63.338568  4011.774203   \n",
       "\n",
       "       y__root_mean_square  y__maximum  y__absolute_maximum  y__minimum  \n",
       "0                18.108103   36.059727            36.059727    6.266093  \n",
       "1                18.132920   36.059727            36.059727    6.266093  \n",
       "2                18.086106   36.059727            36.059727    6.266093  \n",
       "3                18.145209   36.059727            36.059727    6.266093  \n",
       "4                18.204276   36.059727            36.059727    6.266093  \n",
       "...                    ...         ...                  ...         ...  \n",
       "65755           157.340669  301.086031           301.086031    0.000000  \n",
       "65756           156.196442  301.086031           301.086031    0.000000  \n",
       "65757           154.762281  301.086031           301.086031    0.000000  \n",
       "65758           153.224805  301.086031           301.086031    0.000000  \n",
       "65759           152.032494  301.086031           301.086031    0.000000  \n",
       "\n",
       "[65760 rows x 50 columns]"
      ]
     },
     "execution_count": 22,
     "metadata": {},
     "output_type": "execute_result"
    }
   ],
   "source": [
    "X_train"
   ]
  },
  {
   "cell_type": "code",
   "execution_count": 128,
   "metadata": {},
   "outputs": [],
   "source": [
    "#保存\n",
    "with open('X_train.pkl', 'wb') as file:  \n",
    "    pickle.dump(X_train, file)"
   ]
  },
  {
   "cell_type": "code",
   "execution_count": 145,
   "metadata": {
    "scrolled": true
   },
   "outputs": [
    {
     "name": "stderr",
     "output_type": "stream",
     "text": [
      "100%|█████████████████████████████████████████████████████████████████████████| 17766/17766 [00:01<00:00, 10876.89it/s]\n"
     ]
    }
   ],
   "source": [
    "x_vi_g_al = []\n",
    "for i in tqdm(range(len(X_train))):\n",
    "    x = visibility_graph(X_train.loc[i])\n",
    "    x_vi_g_al.append(x)"
   ]
  },
  {
   "cell_type": "code",
   "execution_count": 146,
   "metadata": {},
   "outputs": [],
   "source": [
    "labels = y_train\n",
    "for G in x_vi_g_al:\n",
    "   label_dict = {node: label for node, label in zip(G.nodes(), labels)}  \n",
    "   nx.set_node_attributes(G, label_dict, 'vertical_rate') "
   ]
  },
  {
   "cell_type": "code",
   "execution_count": 147,
   "metadata": {
    "scrolled": true
   },
   "outputs": [
    {
     "name": "stdout",
     "output_type": "stream",
     "text": [
      "Node 0 has label 0\n",
      "Node 1 has label 0\n",
      "Node 2 has label 0\n",
      "Node 3 has label 0\n",
      "Node 4 has label 0\n",
      "Node 5 has label 0\n",
      "Node 6 has label 0\n",
      "Node 7 has label 0\n",
      "Node 8 has label 0\n",
      "Node 9 has label 0\n"
     ]
    }
   ],
   "source": [
    "for node in G.nodes():  \n",
    "    print(f'Node {node} has label {x_vi_g_al[0].nodes[node].get(\"vertical_rate\")}')"
   ]
  },
  {
   "cell_type": "code",
   "execution_count": 69,
   "metadata": {},
   "outputs": [],
   "source": [
    "from grakel.utils import graph_from_networkx"
   ]
  },
  {
   "cell_type": "code",
   "execution_count": 161,
   "metadata": {},
   "outputs": [],
   "source": [
    "G = []\n",
    "G = graph_from_networkx(x_vi_g_al, node_labels_tag='vertical_rate')"
   ]
  },
  {
   "cell_type": "code",
   "execution_count": 162,
   "metadata": {},
   "outputs": [],
   "source": [
    "from grakel import WeisfeilerLehman,VertexHistogram\n",
    "gk = WeisfeilerLehman(n_iter=1, normalize=False, base_graph_kernel=VertexHistogram)"
   ]
  },
  {
   "cell_type": "code",
   "execution_count": 163,
   "metadata": {
    "scrolled": true
   },
   "outputs": [],
   "source": [
    "K_train = gk.fit_transform(G)"
   ]
  },
  {
   "cell_type": "code",
   "execution_count": 164,
   "metadata": {},
   "outputs": [
    {
     "data": {
      "text/plain": [
       "(17766, 17766)"
      ]
     },
     "execution_count": 164,
     "metadata": {},
     "output_type": "execute_result"
    }
   ],
   "source": [
    "K_train.shape"
   ]
  },
  {
   "cell_type": "code",
   "execution_count": 116,
   "metadata": {},
   "outputs": [],
   "source": [
    "#with open('X_train.pkl', 'wb') as file:  \n",
    "    #pickle.dump(X_train, file)"
   ]
  },
  {
   "cell_type": "code",
   "execution_count": 117,
   "metadata": {},
   "outputs": [],
   "source": [
    "from sklearn.preprocessing import StandardScaler\n",
    "scaler = StandardScaler()\n",
    "K_train = scaler.fit_transform(K_train)"
   ]
  },
  {
   "cell_type": "code",
   "execution_count": 118,
   "metadata": {},
   "outputs": [],
   "source": [
    "from sklearn.model_selection import train_test_split"
   ]
  },
  {
   "cell_type": "code",
   "execution_count": 169,
   "metadata": {
    "scrolled": true
   },
   "outputs": [],
   "source": [
    "G_train, G_test, y_tr, y_test = train_test_split(K_train, y_train, test_size=0.4, shuffle=True)"
   ]
  },
  {
   "cell_type": "code",
   "execution_count": 37,
   "metadata": {},
   "outputs": [],
   "source": [
    "from sklearn.svm import SVC\n",
    "from sklearn.cluster import KMeans\n",
    "from sklearn.svm import OneClassSVM"
   ]
  },
  {
   "cell_type": "code",
   "execution_count": 38,
   "metadata": {},
   "outputs": [],
   "source": [
    "# 无监督训练（无需 y_train）\n",
    "model = OneClassSVM(nu=0.1)\n",
    "model.fit(G_train)  # 仅传入 G_train\n",
    "\n",
    "# 预测（1为正常点，-1为异常点）\n",
    "anomaly_labels = model.predict(G_test)"
   ]
  },
  {
   "cell_type": "code",
   "execution_count": 39,
   "metadata": {},
   "outputs": [],
   "source": [
    "y_pred = []\n",
    "for i in anomaly_labels:\n",
    " y_pred.append(np.where(i == -1, 1, 0))"
   ]
  },
  {
   "cell_type": "code",
   "execution_count": null,
   "metadata": {},
   "outputs": [],
   "source": []
  },
  {
   "cell_type": "code",
   "execution_count": 170,
   "metadata": {},
   "outputs": [
    {
     "name": "stderr",
     "output_type": "stream",
     "text": [
      "D:\\anaconda\\Lib\\site-packages\\sklearn\\cluster\\_kmeans.py:1412: FutureWarning: The default value of `n_init` will change from 10 to 'auto' in 1.4. Set the value of `n_init` explicitly to suppress the warning\n",
      "  super()._check_params_vs_input(X, default_n_init=10)\n"
     ]
    },
    {
     "data": {
      "text/html": [
       "<style>#sk-container-id-15 {color: black;}#sk-container-id-15 pre{padding: 0;}#sk-container-id-15 div.sk-toggleable {background-color: white;}#sk-container-id-15 label.sk-toggleable__label {cursor: pointer;display: block;width: 100%;margin-bottom: 0;padding: 0.3em;box-sizing: border-box;text-align: center;}#sk-container-id-15 label.sk-toggleable__label-arrow:before {content: \"▸\";float: left;margin-right: 0.25em;color: #696969;}#sk-container-id-15 label.sk-toggleable__label-arrow:hover:before {color: black;}#sk-container-id-15 div.sk-estimator:hover label.sk-toggleable__label-arrow:before {color: black;}#sk-container-id-15 div.sk-toggleable__content {max-height: 0;max-width: 0;overflow: hidden;text-align: left;background-color: #f0f8ff;}#sk-container-id-15 div.sk-toggleable__content pre {margin: 0.2em;color: black;border-radius: 0.25em;background-color: #f0f8ff;}#sk-container-id-15 input.sk-toggleable__control:checked~div.sk-toggleable__content {max-height: 200px;max-width: 100%;overflow: auto;}#sk-container-id-15 input.sk-toggleable__control:checked~label.sk-toggleable__label-arrow:before {content: \"▾\";}#sk-container-id-15 div.sk-estimator input.sk-toggleable__control:checked~label.sk-toggleable__label {background-color: #d4ebff;}#sk-container-id-15 div.sk-label input.sk-toggleable__control:checked~label.sk-toggleable__label {background-color: #d4ebff;}#sk-container-id-15 input.sk-hidden--visually {border: 0;clip: rect(1px 1px 1px 1px);clip: rect(1px, 1px, 1px, 1px);height: 1px;margin: -1px;overflow: hidden;padding: 0;position: absolute;width: 1px;}#sk-container-id-15 div.sk-estimator {font-family: monospace;background-color: #f0f8ff;border: 1px dotted black;border-radius: 0.25em;box-sizing: border-box;margin-bottom: 0.5em;}#sk-container-id-15 div.sk-estimator:hover {background-color: #d4ebff;}#sk-container-id-15 div.sk-parallel-item::after {content: \"\";width: 100%;border-bottom: 1px solid gray;flex-grow: 1;}#sk-container-id-15 div.sk-label:hover label.sk-toggleable__label {background-color: #d4ebff;}#sk-container-id-15 div.sk-serial::before {content: \"\";position: absolute;border-left: 1px solid gray;box-sizing: border-box;top: 0;bottom: 0;left: 50%;z-index: 0;}#sk-container-id-15 div.sk-serial {display: flex;flex-direction: column;align-items: center;background-color: white;padding-right: 0.2em;padding-left: 0.2em;position: relative;}#sk-container-id-15 div.sk-item {position: relative;z-index: 1;}#sk-container-id-15 div.sk-parallel {display: flex;align-items: stretch;justify-content: center;background-color: white;position: relative;}#sk-container-id-15 div.sk-item::before, #sk-container-id-15 div.sk-parallel-item::before {content: \"\";position: absolute;border-left: 1px solid gray;box-sizing: border-box;top: 0;bottom: 0;left: 50%;z-index: -1;}#sk-container-id-15 div.sk-parallel-item {display: flex;flex-direction: column;z-index: 1;position: relative;background-color: white;}#sk-container-id-15 div.sk-parallel-item:first-child::after {align-self: flex-end;width: 50%;}#sk-container-id-15 div.sk-parallel-item:last-child::after {align-self: flex-start;width: 50%;}#sk-container-id-15 div.sk-parallel-item:only-child::after {width: 0;}#sk-container-id-15 div.sk-dashed-wrapped {border: 1px dashed gray;margin: 0 0.4em 0.5em 0.4em;box-sizing: border-box;padding-bottom: 0.4em;background-color: white;}#sk-container-id-15 div.sk-label label {font-family: monospace;font-weight: bold;display: inline-block;line-height: 1.2em;}#sk-container-id-15 div.sk-label-container {text-align: center;}#sk-container-id-15 div.sk-container {/* jupyter's `normalize.less` sets `[hidden] { display: none; }` but bootstrap.min.css set `[hidden] { display: none !important; }` so we also need the `!important` here to be able to override the default hidden behavior on the sphinx rendered scikit-learn.org. See: https://github.com/scikit-learn/scikit-learn/issues/21755 */display: inline-block !important;position: relative;}#sk-container-id-15 div.sk-text-repr-fallback {display: none;}</style><div id=\"sk-container-id-15\" class=\"sk-top-container\"><div class=\"sk-text-repr-fallback\"><pre>SVC()</pre><b>In a Jupyter environment, please rerun this cell to show the HTML representation or trust the notebook. <br />On GitHub, the HTML representation is unable to render, please try loading this page with nbviewer.org.</b></div><div class=\"sk-container\" hidden><div class=\"sk-item\"><div class=\"sk-estimator sk-toggleable\"><input class=\"sk-toggleable__control sk-hidden--visually\" id=\"sk-estimator-id-15\" type=\"checkbox\" checked><label for=\"sk-estimator-id-15\" class=\"sk-toggleable__label sk-toggleable__label-arrow\">SVC</label><div class=\"sk-toggleable__content\"><pre>SVC()</pre></div></div></div></div></div>"
      ],
      "text/plain": [
       "SVC()"
      ]
     },
     "execution_count": 170,
     "metadata": {},
     "output_type": "execute_result"
    }
   ],
   "source": [
    "# 先用聚类生成伪标签\n",
    "kmeans = KMeans(n_clusters=2)\n",
    "pseudo_labels = kmeans.fit_predict(G_train)  # 无监督生成标签\n",
    "\n",
    "# 基于伪标签训练 SVM（半监督学习）\n",
    "svm = SVC(kernel=\"rbf\")\n",
    "svm.fit(G_train, pseudo_labels)  # 使用伪标签而非真实标签"
   ]
  },
  {
   "cell_type": "code",
   "execution_count": 171,
   "metadata": {},
   "outputs": [],
   "source": [
    "y_pred = svm.predict(G_test)"
   ]
  },
  {
   "cell_type": "code",
   "execution_count": null,
   "metadata": {},
   "outputs": [],
   "source": []
  },
  {
   "cell_type": "code",
   "execution_count": 65,
   "metadata": {},
   "outputs": [],
   "source": [
    "from sklearn.metrics import accuracy_score, classification_report, roc_curve, confusion_matrix,accuracy_score,f1_score, auc"
   ]
  },
  {
   "cell_type": "code",
   "execution_count": 172,
   "metadata": {
    "scrolled": true
   },
   "outputs": [
    {
     "name": "stdout",
     "output_type": "stream",
     "text": [
      "Accuracy: 88.73%\n",
      "              precision    recall  f1-score   support\n",
      "\n",
      "           0       0.88      0.97      0.93      5241\n",
      "           1       0.90      0.64      0.75      1866\n",
      "\n",
      "    accuracy                           0.89      7107\n",
      "   macro avg       0.89      0.81      0.84      7107\n",
      "weighted avg       0.89      0.89      0.88      7107\n",
      "\n"
     ]
    }
   ],
   "source": [
    "acc = accuracy_score(y_test, y_pred)\n",
    "print(\"Accuracy:\", str(round(acc * 100, 2)) + \"%\")\n",
    "print(classification_report(y_test, y_pred))"
   ]
  },
  {
   "cell_type": "code",
   "execution_count": null,
   "metadata": {},
   "outputs": [],
   "source": []
  },
  {
   "cell_type": "code",
   "execution_count": 95,
   "metadata": {},
   "outputs": [
    {
     "data": {
      "text/plain": [
       "(14907321, 25)"
      ]
     },
     "execution_count": 95,
     "metadata": {},
     "output_type": "execute_result"
    }
   ],
   "source": [
    "K_train_reshaped = K_train.reshape(-1, 25)\n",
    "K_train_reshaped.shape"
   ]
  },
  {
   "cell_type": "code",
   "execution_count": 23,
   "metadata": {
    "id": "8-Fx-sOtVhYL"
   },
   "outputs": [],
   "source": [
    "X_train_n = autoencoder_model_feature_pipeline.fit_transform(X_train)"
   ]
  },
  {
   "cell_type": "code",
   "execution_count": 24,
   "metadata": {
    "id": "ff4k6JwGV7-Z"
   },
   "outputs": [],
   "source": [
    "logs = \"logs/autoencoder/\" + datetime.now().strftime(\"%Y%m%d-%H%M%S\")\n",
    "\n",
    "tboard_callback = TensorBoard(log_dir = logs, histogram_freq = 1, profile_batch = [500,520])"
   ]
  },
  {
   "cell_type": "code",
   "execution_count": 25,
   "metadata": {},
   "outputs": [
    {
     "ename": "NameError",
     "evalue": "name 'get_standard_autoencoder_model' is not defined",
     "output_type": "error",
     "traceback": [
      "\u001b[1;31m---------------------------------------------------------------------------\u001b[0m",
      "\u001b[1;31mNameError\u001b[0m                                 Traceback (most recent call last)",
      "Cell \u001b[1;32mIn[25], line 1\u001b[0m\n\u001b[1;32m----> 1\u001b[0m model \u001b[38;5;241m=\u001b[39m get_standard_autoencoder_model(input_dim\u001b[38;5;241m=\u001b[39mX_train_n\u001b[38;5;241m.\u001b[39mshape[\u001b[38;5;241m1\u001b[39m], encoding_dim\u001b[38;5;241m=\u001b[39mSTANDARD_AUTOENCODER_ENCODING_DIMENSION)\n",
      "\u001b[1;31mNameError\u001b[0m: name 'get_standard_autoencoder_model' is not defined"
     ]
    }
   ],
   "source": [
    "model = get_standard_autoencoder_model(input_dim=X_train_n.shape[1], encoding_dim=STANDARD_AUTOENCODER_ENCODING_DIMENSION)"
   ]
  },
  {
   "cell_type": "code",
   "execution_count": 88,
   "metadata": {
    "id": "ZcmR9_15VlZN"
   },
   "outputs": [],
   "source": [
    "model.compile(loss='mean_squared_error', optimizer='adam')"
   ]
  },
  {
   "cell_type": "code",
   "execution_count": 89,
   "metadata": {
    "colab": {
     "base_uri": "https://localhost:8080/",
     "height": 242
    },
    "id": "dES-8ZJnNG_P",
    "outputId": "1f2e9159-1ae3-40a7-940f-cb3b25e29486",
    "scrolled": true
   },
   "outputs": [
    {
     "name": "stdout",
     "output_type": "stream",
     "text": [
      "Model: \"model_2\"\n",
      "_________________________________________________________________\n",
      " Layer (type)                Output Shape              Param #   \n",
      "=================================================================\n",
      " input_5 (InputLayer)        [(None, 50, 1)]           0         \n",
      "                                                                 \n",
      " conv1d_11 (Conv1D)          (None, 50, 32)            128       \n",
      "                                                                 \n",
      " max_pooling1d_2 (MaxPoolin  (None, 50, 32)            0         \n",
      " g1D)                                                            \n",
      "                                                                 \n",
      " conv1d_12 (Conv1D)          (None, 50, 64)            6208      \n",
      "                                                                 \n",
      " max_pooling1d_3 (MaxPoolin  (None, 50, 64)            0         \n",
      " g1D)                                                            \n",
      "                                                                 \n",
      " conv1d_transpose_2 (Conv1D  (None, 50, 64)            12352     \n",
      " Transpose)                                                      \n",
      "                                                                 \n",
      " up_sampling1d_2 (UpSamplin  (None, 50, 64)            0         \n",
      " g1D)                                                            \n",
      "                                                                 \n",
      " conv1d_transpose_3 (Conv1D  (None, 50, 32)            6176      \n",
      " Transpose)                                                      \n",
      "                                                                 \n",
      " up_sampling1d_3 (UpSamplin  (None, 50, 32)            0         \n",
      " g1D)                                                            \n",
      "                                                                 \n",
      " conv1d_13 (Conv1D)          (None, 50, 1)             97        \n",
      "                                                                 \n",
      "=================================================================\n",
      "Total params: 24961 (97.50 KB)\n",
      "Trainable params: 24961 (97.50 KB)\n",
      "Non-trainable params: 0 (0.00 Byte)\n",
      "_________________________________________________________________\n"
     ]
    }
   ],
   "source": [
    "model.summary()"
   ]
  },
  {
   "cell_type": "code",
   "execution_count": 90,
   "metadata": {
    "colab": {
     "base_uri": "https://localhost:8080/",
     "height": 1000
    },
    "id": "nLLTyWWqV_XX",
    "outputId": "7c94d5e2-d347-4be6-9e2a-b6162d25bd88",
    "scrolled": true
   },
   "outputs": [
    {
     "name": "stdout",
     "output_type": "stream",
     "text": [
      "Epoch 1/10\n",
      "514/514 [==============================] - 5s 7ms/step - loss: 0.7054\n",
      "Epoch 2/10\n",
      "514/514 [==============================] - 4s 7ms/step - loss: 0.6895\n",
      "Epoch 3/10\n",
      "514/514 [==============================] - 4s 7ms/step - loss: 0.6894\n",
      "Epoch 4/10\n",
      "514/514 [==============================] - 4s 7ms/step - loss: 0.6893\n",
      "Epoch 5/10\n",
      "514/514 [==============================] - 4s 7ms/step - loss: 0.6893\n",
      "Epoch 6/10\n",
      "514/514 [==============================] - 4s 7ms/step - loss: 0.6893\n",
      "Epoch 7/10\n",
      "514/514 [==============================] - 4s 7ms/step - loss: 0.6893\n",
      "Epoch 8/10\n",
      "514/514 [==============================] - 4s 7ms/step - loss: 0.6893\n",
      "Epoch 9/10\n",
      "514/514 [==============================] - 4s 7ms/step - loss: 0.6893\n",
      "Epoch 10/10\n",
      "514/514 [==============================] - 4s 7ms/step - loss: 0.6893\n"
     ]
    }
   ],
   "source": [
    "history = model.fit(X_train_n, X_train_n,\n",
    "                    epochs=10,\n",
    "                    batch_size=128,\n",
    "                    shuffle=True,\n",
    "                    callbacks=[tboard_callback]).history"
   ]
  },
  {
   "cell_type": "markdown",
   "metadata": {
    "id": "ms75PHO1-Iot"
   },
   "source": [
    "### 3.2 Validation"
   ]
  },
  {
   "cell_type": "code",
   "execution_count": 29,
   "metadata": {
    "colab": {
     "base_uri": "https://localhost:8080/",
     "height": 790
    },
    "id": "agP10vqmXBEP",
    "outputId": "dec55ad5-d58b-45bb-afab-ce76062e6131",
    "scrolled": true
   },
   "outputs": [
    {
     "name": "stderr",
     "output_type": "stream",
     "text": [
      "100%|████████████████████████████████████████████████████████████████████████████████████| 9/9 [00:15<00:00,  1.75s/it]\n"
     ]
    }
   ],
   "source": [
    "X_l = []\n",
    "y_l = []\n",
    "\n",
    "for df in tqdm(data_dict[\"validation\"]):\n",
    "  X, y = get_windows_data(df[FEATURES], [0] * df.shape[0], window_size=WINDOW_SIZE_STANDARD_AUTOENCODER, tsfresh=True)\n",
    "  X_l.append(X)\n",
    "  y_l.append(y)"
   ]
  },
  {
   "cell_type": "code",
   "execution_count": 30,
   "metadata": {
    "colab": {
     "base_uri": "https://localhost:8080/",
     "height": 1000
    },
    "id": "l6GXdbtE-NV6",
    "outputId": "7bc08180-e97e-4f76-e146-3179a11a7598",
    "scrolled": true
   },
   "outputs": [
    {
     "name": "stderr",
     "output_type": "stream",
     "text": [
      "  0%|                                                                                            | 0/9 [00:00<?, ?it/s]\n",
      "Feature Extraction:   0%|                                                                       | 0/40 [00:00<?, ?it/s]\u001b[A\n",
      "Feature Extraction:   2%|█▌                                                             | 1/40 [00:03<02:13,  3.41s/it]\u001b[A\n",
      "Feature Extraction:  10%|██████▎                                                        | 4/40 [00:03<00:26,  1.38it/s]\u001b[A\n",
      "Feature Extraction:  12%|███████▉                                                       | 5/40 [00:03<00:19,  1.81it/s]\u001b[A\n",
      "Feature Extraction:  18%|███████████                                                    | 7/40 [00:04<00:13,  2.50it/s]\u001b[A\n",
      "Feature Extraction:  25%|███████████████▌                                              | 10/40 [00:04<00:07,  4.18it/s]\u001b[A\n",
      "Feature Extraction:  28%|█████████████████                                             | 11/40 [00:04<00:06,  4.69it/s]\u001b[A\n",
      "Feature Extraction:  32%|████████████████████▏                                         | 13/40 [00:04<00:05,  4.69it/s]\u001b[A\n",
      "Feature Extraction:  38%|███████████████████████▎                                      | 15/40 [00:05<00:04,  5.56it/s]\u001b[A\n",
      "Feature Extraction:  42%|██████████████████████████▎                                   | 17/40 [00:05<00:03,  5.98it/s]\u001b[A\n",
      "Feature Extraction:  45%|███████████████████████████▉                                  | 18/40 [00:05<00:04,  5.09it/s]\u001b[A\n",
      "Feature Extraction:  52%|████████████████████████████████▌                             | 21/40 [00:06<00:02,  6.61it/s]\u001b[A\n",
      "Feature Extraction:  55%|██████████████████████████████████                            | 22/40 [00:06<00:02,  6.93it/s]\u001b[A\n",
      "Feature Extraction:  57%|███████████████████████████████████▋                          | 23/40 [00:06<00:02,  7.29it/s]\u001b[A\n",
      "Feature Extraction:  60%|█████████████████████████████████████▏                        | 24/40 [00:06<00:02,  5.83it/s]\u001b[A\n",
      "Feature Extraction:  68%|█████████████████████████████████████████▊                    | 27/40 [00:06<00:01,  7.16it/s]\u001b[A\n",
      "Feature Extraction:  72%|████████████████████████████████████████████▉                 | 29/40 [00:07<00:01,  7.73it/s]\u001b[A\n",
      "Feature Extraction:  75%|██████████████████████████████████████████████▌               | 30/40 [00:07<00:01,  6.51it/s]\u001b[A\n",
      "Feature Extraction:  82%|███████████████████████████████████████████████████▏          | 33/40 [00:07<00:00,  7.61it/s]\u001b[A\n",
      "Feature Extraction:  85%|████████████████████████████████████████████████████▋         | 34/40 [00:07<00:00,  7.34it/s]\u001b[A\n",
      "Feature Extraction:  90%|███████████████████████████████████████████████████████▊      | 36/40 [00:08<00:00,  7.03it/s]\u001b[A\n",
      "Feature Extraction:  95%|██████████████████████████████████████████████████████████▉   | 38/40 [00:08<00:00,  7.33it/s]\u001b[A\n",
      "Feature Extraction: 100%|██████████████████████████████████████████████████████████████| 40/40 [00:08<00:00,  4.66it/s]\u001b[A\n",
      "100%|████████████████████████████████████████████████████████████████████████████████████| 9/9 [00:09<00:00,  1.01s/it]\n"
     ]
    }
   ],
   "source": [
    "assert len(X_l) == len(y_l)\n",
    "\n",
    "y_val = np.array([])\n",
    "first = True\n",
    "\n",
    "for i in tqdm(range(len(X_l))):\n",
    "  try:\n",
    "    if first:\n",
    "      X_val = impute(extract_features(X_l[i], column_id=\"id\", column_sort=\"time\", default_fc_parameters=MinimalFCParameters()))\n",
    "      first = False\n",
    "    else:\n",
    "      X_val = X_val.append(impute(extract_features(X_l[i], column_id=\"id\", column_sort=\"time\", default_fc_parameters=MinimalFCParameters())), ignore_index=True)\n",
    "\n",
    "    y_val = np.append(y_val, y_l[i])\n",
    "  except:\n",
    "    continue"
   ]
  },
  {
   "cell_type": "code",
   "execution_count": null,
   "metadata": {},
   "outputs": [],
   "source": []
  },
  {
   "cell_type": "code",
   "execution_count": 31,
   "metadata": {},
   "outputs": [
    {
     "name": "stderr",
     "output_type": "stream",
     "text": [
      "  0%|                                                                                         | 0/8530 [00:00<?, ?it/s]\n"
     ]
    },
    {
     "ename": "NameError",
     "evalue": "name 'visibility_graph' is not defined",
     "output_type": "error",
     "traceback": [
      "\u001b[1;31m---------------------------------------------------------------------------\u001b[0m",
      "\u001b[1;31mNameError\u001b[0m                                 Traceback (most recent call last)",
      "Cell \u001b[1;32mIn[31], line 4\u001b[0m\n\u001b[0;32m      2\u001b[0m x \u001b[38;5;241m=\u001b[39m []\n\u001b[0;32m      3\u001b[0m \u001b[38;5;28;01mfor\u001b[39;00m i \u001b[38;5;129;01min\u001b[39;00m tqdm(\u001b[38;5;28mrange\u001b[39m(\u001b[38;5;28mlen\u001b[39m(X_val))):\n\u001b[1;32m----> 4\u001b[0m     x \u001b[38;5;241m=\u001b[39m visibility_graph(X_val\u001b[38;5;241m.\u001b[39mloc[i])\n\u001b[0;32m      5\u001b[0m     x_vi_v_al\u001b[38;5;241m.\u001b[39mappend(x)\n",
      "\u001b[1;31mNameError\u001b[0m: name 'visibility_graph' is not defined"
     ]
    }
   ],
   "source": [
    "x_vi_v_al = []\n",
    "x = []\n",
    "for i in tqdm(range(len(X_val))):\n",
    "    x = visibility_graph(X_val.loc[i])\n",
    "    x_vi_v_al.append(x)"
   ]
  },
  {
   "cell_type": "code",
   "execution_count": 51,
   "metadata": {},
   "outputs": [],
   "source": [
    "labels = y_val\n",
    "for G in x_vi_v_al:\n",
    "   label_dict = {node: label for node, label in zip(G.nodes(), labels)}  \n",
    "   nx.set_node_attributes(G, label_dict, 'vertical_rate') "
   ]
  },
  {
   "cell_type": "code",
   "execution_count": 52,
   "metadata": {
    "scrolled": true
   },
   "outputs": [
    {
     "name": "stdout",
     "output_type": "stream",
     "text": [
      "Node 0 has label 0.0\n",
      "Node 1 has label 0.0\n",
      "Node 2 has label 0.0\n",
      "Node 3 has label 0.0\n",
      "Node 4 has label 0.0\n",
      "Node 5 has label 0.0\n",
      "Node 6 has label 0.0\n",
      "Node 7 has label 0.0\n",
      "Node 8 has label 0.0\n",
      "Node 9 has label 0.0\n",
      "Node 10 has label 0.0\n",
      "Node 11 has label 0.0\n",
      "Node 12 has label 0.0\n",
      "Node 13 has label 0.0\n",
      "Node 14 has label 0.0\n",
      "Node 15 has label 0.0\n",
      "Node 16 has label 0.0\n",
      "Node 17 has label 0.0\n",
      "Node 18 has label 0.0\n",
      "Node 19 has label 0.0\n",
      "Node 20 has label 0.0\n",
      "Node 21 has label 0.0\n",
      "Node 22 has label 0.0\n",
      "Node 23 has label 0.0\n",
      "Node 24 has label 0.0\n",
      "Node 25 has label 0.0\n",
      "Node 26 has label 0.0\n",
      "Node 27 has label 0.0\n",
      "Node 28 has label 0.0\n",
      "Node 29 has label 0.0\n",
      "Node 30 has label 0.0\n",
      "Node 31 has label 0.0\n",
      "Node 32 has label 0.0\n",
      "Node 33 has label 0.0\n",
      "Node 34 has label 0.0\n",
      "Node 35 has label 0.0\n",
      "Node 36 has label 0.0\n",
      "Node 37 has label 0.0\n",
      "Node 38 has label 0.0\n",
      "Node 39 has label 0.0\n",
      "Node 40 has label 0.0\n",
      "Node 41 has label 0.0\n",
      "Node 42 has label 0.0\n",
      "Node 43 has label 0.0\n",
      "Node 44 has label 0.0\n",
      "Node 45 has label 0.0\n",
      "Node 46 has label 0.0\n",
      "Node 47 has label 0.0\n",
      "Node 48 has label 0.0\n",
      "Node 49 has label 0.0\n"
     ]
    }
   ],
   "source": [
    "for node in G.nodes():  \n",
    "    print(f'Node {node} has label {x_vi_v_al[0].nodes[node].get(\"vertical_rate\")}')"
   ]
  },
  {
   "cell_type": "code",
   "execution_count": 53,
   "metadata": {},
   "outputs": [],
   "source": [
    "G = []\n",
    "G = graph_from_networkx(x_vi_v_al, node_labels_tag='vertical_rate')"
   ]
  },
  {
   "cell_type": "code",
   "execution_count": 54,
   "metadata": {
    "scrolled": true
   },
   "outputs": [],
   "source": [
    "K_val = gk.fit_transform(G)"
   ]
  },
  {
   "cell_type": "code",
   "execution_count": 55,
   "metadata": {
    "id": "Vo0mjnDzkMZ_"
   },
   "outputs": [],
   "source": [
    "# with open('standard_x_val.pkl', 'rb') as f:\n",
    "#   X_val = pickle.load(f)"
   ]
  },
  {
   "cell_type": "code",
   "execution_count": 56,
   "metadata": {},
   "outputs": [
    {
     "data": {
      "text/plain": [
       "(2453, 2453)"
      ]
     },
     "execution_count": 56,
     "metadata": {},
     "output_type": "execute_result"
    }
   ],
   "source": [
    "K_val.shape"
   ]
  },
  {
   "cell_type": "code",
   "execution_count": null,
   "metadata": {},
   "outputs": [],
   "source": []
  },
  {
   "cell_type": "code",
   "execution_count": 32,
   "metadata": {
    "id": "tIxe3pwp-icI",
    "scrolled": true
   },
   "outputs": [],
   "source": [
    "X_val_n = autoencoder_model_feature_pipeline.transform(X_val)"
   ]
  },
  {
   "cell_type": "code",
   "execution_count": 91,
   "metadata": {
    "id": "ydTg72gC-nXr",
    "scrolled": true
   },
   "outputs": [
    {
     "name": "stdout",
     "output_type": "stream",
     "text": [
      "267/267 [==============================] - 1s 2ms/step\n"
     ]
    }
   ],
   "source": [
    "preds_val = model.predict(X_val_n)"
   ]
  },
  {
   "cell_type": "code",
   "execution_count": 92,
   "metadata": {
    "id": "8kmBg8JVDZbN"
   },
   "outputs": [],
   "source": [
    "reconstruction_errors = []\n",
    "\n",
    "for i, row in enumerate(X_val_n):\n",
    "  reconstruction_errors.append(np.linalg.norm(X_val_n[i] - preds_val[i]) ** 2)\n",
    "\n",
    "reconstruction_errors_df = pd.DataFrame(columns=[\"reconstruction_errors\"], data=reconstruction_errors)"
   ]
  },
  {
   "cell_type": "code",
   "execution_count": 93,
   "metadata": {
    "colab": {
     "base_uri": "https://localhost:8080/",
     "height": 272
    },
    "id": "kySY-EBkFES-",
    "outputId": "1b259c36-94d9-4a30-a1fa-199fa4501113"
   },
   "outputs": [
    {
     "data": {
      "text/html": [
       "<div>\n",
       "<style scoped>\n",
       "    .dataframe tbody tr th:only-of-type {\n",
       "        vertical-align: middle;\n",
       "    }\n",
       "\n",
       "    .dataframe tbody tr th {\n",
       "        vertical-align: top;\n",
       "    }\n",
       "\n",
       "    .dataframe thead th {\n",
       "        text-align: right;\n",
       "    }\n",
       "</style>\n",
       "<table border=\"1\" class=\"dataframe\">\n",
       "  <thead>\n",
       "    <tr style=\"text-align: right;\">\n",
       "      <th></th>\n",
       "      <th>reconstruction_errors</th>\n",
       "    </tr>\n",
       "  </thead>\n",
       "  <tbody>\n",
       "    <tr>\n",
       "      <th>count</th>\n",
       "      <td>8530.000000</td>\n",
       "    </tr>\n",
       "    <tr>\n",
       "      <th>mean</th>\n",
       "      <td>1006.815694</td>\n",
       "    </tr>\n",
       "    <tr>\n",
       "      <th>std</th>\n",
       "      <td>4428.283767</td>\n",
       "    </tr>\n",
       "    <tr>\n",
       "      <th>min</th>\n",
       "      <td>278.939502</td>\n",
       "    </tr>\n",
       "    <tr>\n",
       "      <th>25%</th>\n",
       "      <td>512.819767</td>\n",
       "    </tr>\n",
       "    <tr>\n",
       "      <th>50%</th>\n",
       "      <td>512.819767</td>\n",
       "    </tr>\n",
       "    <tr>\n",
       "      <th>75%</th>\n",
       "      <td>512.819767</td>\n",
       "    </tr>\n",
       "    <tr>\n",
       "      <th>max</th>\n",
       "      <td>54002.506411</td>\n",
       "    </tr>\n",
       "  </tbody>\n",
       "</table>\n",
       "</div>"
      ],
      "text/plain": [
       "       reconstruction_errors\n",
       "count            8530.000000\n",
       "mean             1006.815694\n",
       "std              4428.283767\n",
       "min               278.939502\n",
       "25%               512.819767\n",
       "50%               512.819767\n",
       "75%               512.819767\n",
       "max             54002.506411"
      ]
     },
     "execution_count": 93,
     "metadata": {},
     "output_type": "execute_result"
    }
   ],
   "source": [
    "reconstruction_errors_df.describe()"
   ]
  },
  {
   "cell_type": "code",
   "execution_count": 94,
   "metadata": {
    "colab": {
     "base_uri": "https://localhost:8080/",
     "height": 282
    },
    "id": "BvlJb_MDDarG",
    "outputId": "6c45a1eb-cbee-4b4e-da72-db50813a5662"
   },
   "outputs": [
    {
     "data": {
      "text/plain": [
       "<Axes: ylabel='Frequency'>"
      ]
     },
     "execution_count": 94,
     "metadata": {},
     "output_type": "execute_result"
    },
    {
     "data": {
      "image/png": "[encoded data removed]",
      "text/plain": [
       "<Figure size 640x480 with 1 Axes>"
      ]
     },
     "metadata": {},
     "output_type": "display_data"
    }
   ],
   "source": [
    "reconstruction_errors_df.plot.hist()"
   ]
  },
  {
   "cell_type": "code",
   "execution_count": 95,
   "metadata": {
    "colab": {
     "base_uri": "https://localhost:8080/",
     "height": 50
    },
    "id": "XmtOPSjb7K4a",
    "outputId": "74ee8ccd-ae45-4d53-dab5-b32daddaabb8"
   },
   "outputs": [
    {
     "name": "stdout",
     "output_type": "stream",
     "text": [
      "p-value: 9.808267657381759e-74\n",
      "The null hypothesis can be rejected\n"
     ]
    }
   ],
   "source": [
    "test_noraml_dist(reconstruction_errors_df.values)"
   ]
  },
  {
   "cell_type": "code",
   "execution_count": 96,
   "metadata": {
    "colab": {
     "base_uri": "https://localhost:8080/",
     "height": 34
    },
    "id": "OBXecPYAtVdJ",
    "outputId": "589ec048-c51e-479e-e5b8-52fbaf9a8f62"
   },
   "outputs": [
    {
     "data": {
      "text/plain": [
       "1006.8156941084425"
      ]
     },
     "execution_count": 96,
     "metadata": {},
     "output_type": "execute_result"
    }
   ],
   "source": [
    "mu = np.mean(reconstruction_errors_df[\"reconstruction_errors\"].values)\n",
    "mu"
   ]
  },
  {
   "cell_type": "code",
   "execution_count": 97,
   "metadata": {
    "colab": {
     "base_uri": "https://localhost:8080/",
     "height": 34
    },
    "id": "jag-6mgftlxZ",
    "outputId": "faf4d0f2-f851-4dca-9ccf-12b471637a65"
   },
   "outputs": [
    {
     "data": {
      "text/plain": [
       "4428.024188119983"
      ]
     },
     "execution_count": 97,
     "metadata": {},
     "output_type": "execute_result"
    }
   ],
   "source": [
    "std = np.std(reconstruction_errors_df[\"reconstruction_errors\"].values)\n",
    "std"
   ]
  },
  {
   "cell_type": "markdown",
   "metadata": {
    "id": "ziLdT6OcFQlW"
   },
   "source": [
    "### 3.3 Test"
   ]
  },
  {
   "cell_type": "code",
   "execution_count": 40,
   "metadata": {
    "colab": {
     "base_uri": "https://localhost:8080/",
     "height": 34
    },
    "id": "W2vVcv3oF3F6",
    "outputId": "0c003ebc-2ea0-458c-bb41-dfebfcd03dcd"
   },
   "outputs": [
    {
     "data": {
      "text/plain": [
       "['test_noise',\n",
       " 'test_landing',\n",
       " 'test_departing',\n",
       " 'test_manoeuver',\n",
       " 'test_deviation',\n",
       " 'test_stand']"
      ]
     },
     "execution_count": 40,
     "metadata": {},
     "output_type": "execute_result"
    }
   ],
   "source": [
    "keys = [x for x in data_dict.keys() if x.startswith(\"test\")]\n",
    "keys"
   ]
  },
  {
   "cell_type": "code",
   "execution_count": 41,
   "metadata": {
    "colab": {
     "base_uri": "https://localhost:8080/",
     "height": 1000
    },
    "id": "ygx2YWiGFTiS",
    "outputId": "02c45c0b-c785-4def-e20c-dfa16e2b77cd",
    "scrolled": true
   },
   "outputs": [
    {
     "name": "stderr",
     "output_type": "stream",
     "text": [
      "  0%|                                                                                            | 0/6 [00:00<?, ?it/s]\n",
      "  0%|                                                                                            | 0/7 [00:00<?, ?it/s]\u001b[A\n",
      " 14%|████████████                                                                        | 1/7 [00:01<00:06,  1.08s/it]\u001b[A\n",
      " 29%|████████████████████████                                                            | 2/7 [00:01<00:03,  1.35it/s]\u001b[A\n",
      " 43%|████████████████████████████████████                                                | 3/7 [00:02<00:02,  1.47it/s]\u001b[A\n",
      " 57%|████████████████████████████████████████████████                                    | 4/7 [00:03<00:02,  1.26it/s]\u001b[A\n",
      " 71%|████████████████████████████████████████████████████████████                        | 5/7 [00:04<00:01,  1.08it/s]\u001b[A\n",
      " 86%|████████████████████████████████████████████████████████████████████████            | 6/7 [00:04<00:00,  1.23it/s]\u001b[A\n",
      "100%|████████████████████████████████████████████████████████████████████████████████████| 7/7 [00:05<00:00,  1.22it/s]\u001b[A\n",
      " 17%|██████████████                                                                      | 1/6 [00:05<00:28,  5.76s/it]\n",
      "  0%|                                                                                            | 0/7 [00:00<?, ?it/s]\u001b[A\n",
      " 14%|████████████                                                                        | 1/7 [00:01<00:06,  1.04s/it]\u001b[A\n",
      " 29%|████████████████████████                                                            | 2/7 [00:01<00:04,  1.17it/s]\u001b[A\n",
      " 43%|████████████████████████████████████                                                | 3/7 [00:02<00:02,  1.37it/s]\u001b[A\n",
      " 57%|████████████████████████████████████████████████                                    | 4/7 [00:03<00:02,  1.33it/s]\u001b[A\n",
      " 71%|████████████████████████████████████████████████████████████                        | 5/7 [00:04<00:01,  1.13it/s]\u001b[A\n",
      " 86%|████████████████████████████████████████████████████████████████████████            | 6/7 [00:05<00:00,  1.16it/s]\u001b[A\n",
      "100%|████████████████████████████████████████████████████████████████████████████████████| 7/7 [00:05<00:00,  1.17it/s]\u001b[A\n",
      " 33%|████████████████████████████                                                        | 2/6 [00:11<00:23,  5.88s/it]\n",
      "  0%|                                                                                            | 0/7 [00:00<?, ?it/s]\u001b[A\n",
      " 14%|████████████                                                                        | 1/7 [00:01<00:06,  1.06s/it]\u001b[A\n",
      " 29%|████████████████████████                                                            | 2/7 [00:01<00:03,  1.37it/s]\u001b[A\n",
      " 43%|████████████████████████████████████                                                | 3/7 [00:02<00:03,  1.29it/s]\u001b[A\n",
      " 57%|████████████████████████████████████████████████                                    | 4/7 [00:03<00:02,  1.30it/s]\u001b[A\n",
      " 71%|████████████████████████████████████████████████████████████                        | 5/7 [00:04<00:01,  1.10it/s]\u001b[A\n",
      " 86%|████████████████████████████████████████████████████████████████████████            | 6/7 [00:04<00:00,  1.26it/s]\u001b[A\n",
      "100%|████████████████████████████████████████████████████████████████████████████████████| 7/7 [00:05<00:00,  1.17it/s]\u001b[A\n",
      " 50%|██████████████████████████████████████████                                          | 3/6 [00:17<00:17,  5.92s/it]\n",
      "  0%|                                                                                            | 0/7 [00:00<?, ?it/s]\u001b[A\n",
      " 14%|████████████                                                                        | 1/7 [00:00<00:05,  1.18it/s]\u001b[A\n",
      " 29%|████████████████████████                                                            | 2/7 [00:01<00:03,  1.30it/s]\u001b[A\n",
      " 43%|████████████████████████████████████                                                | 3/7 [00:02<00:02,  1.44it/s]\u001b[A\n",
      " 57%|████████████████████████████████████████████████                                    | 4/7 [00:03<00:02,  1.22it/s]\u001b[A\n",
      " 71%|████████████████████████████████████████████████████████████                        | 5/7 [00:04<00:01,  1.17it/s]\u001b[A\n",
      " 86%|████████████████████████████████████████████████████████████████████████            | 6/7 [00:04<00:00,  1.19it/s]\u001b[A\n",
      "100%|████████████████████████████████████████████████████████████████████████████████████| 7/7 [00:05<00:00,  1.21it/s]\u001b[A\n",
      " 67%|████████████████████████████████████████████████████████                            | 4/6 [00:23<00:11,  5.87s/it]\n",
      "  0%|                                                                                            | 0/7 [00:00<?, ?it/s]\u001b[A\n",
      " 14%|████████████                                                                        | 1/7 [00:01<00:06,  1.13s/it]\u001b[A\n",
      " 29%|████████████████████████                                                            | 2/7 [00:01<00:03,  1.28it/s]\u001b[A\n",
      " 43%|████████████████████████████████████                                                | 3/7 [00:02<00:03,  1.25it/s]\u001b[A\n",
      " 57%|████████████████████████████████████████████████                                    | 4/7 [00:03<00:02,  1.26it/s]\u001b[A\n",
      " 71%|████████████████████████████████████████████████████████████                        | 5/7 [00:04<00:01,  1.08it/s]\u001b[A\n",
      " 86%|████████████████████████████████████████████████████████████████████████            | 6/7 [00:05<00:00,  1.23it/s]\u001b[A\n",
      "100%|████████████████████████████████████████████████████████████████████████████████████| 7/7 [00:06<00:00,  1.14it/s]\u001b[A\n",
      " 83%|██████████████████████████████████████████████████████████████████████              | 5/6 [00:29<00:05,  5.96s/it]\n",
      "  0%|                                                                                            | 0/7 [00:00<?, ?it/s]\u001b[A\n",
      " 14%|████████████                                                                        | 1/7 [00:00<00:05,  1.16it/s]\u001b[A\n",
      " 29%|████████████████████████                                                            | 2/7 [00:01<00:03,  1.26it/s]\u001b[A\n",
      " 43%|████████████████████████████████████                                                | 3/7 [00:02<00:02,  1.42it/s]\u001b[A\n",
      " 57%|████████████████████████████████████████████████                                    | 4/7 [00:03<00:02,  1.21it/s]\u001b[A\n",
      " 71%|████████████████████████████████████████████████████████████                        | 5/7 [00:04<00:01,  1.15it/s]\u001b[A\n",
      " 86%|████████████████████████████████████████████████████████████████████████            | 6/7 [00:05<00:00,  1.17it/s]\u001b[A\n",
      "100%|████████████████████████████████████████████████████████████████████████████████████| 7/7 [00:05<00:00,  1.19it/s]\u001b[A\n",
      "100%|████████████████████████████████████████████████████████████████████████████████████| 6/6 [00:35<00:00,  5.92s/it]\n"
     ]
    }
   ],
   "source": [
    "X_t_l = []\n",
    "y_t_l = []\n",
    "\n",
    "for key in tqdm(keys):\n",
    "  X_l = []\n",
    "  y_l = []\n",
    "  for df in tqdm(data_dict[key]):\n",
    "    X, y = get_windows_data(df[FEATURES], df[\"anomaly\"], window_size=WINDOW_SIZE_STANDARD_AUTOENCODER, tsfresh=True)\n",
    "    X_l.append(X)\n",
    "    y_l.append(y)\n",
    "\n",
    "  X_t_l.append(X_l)\n",
    "  y_t_l.append(y_l)"
   ]
  },
  {
   "cell_type": "code",
   "execution_count": 42,
   "metadata": {},
   "outputs": [
    {
     "data": {
      "text/plain": [
       "(150600, 7)"
      ]
     },
     "execution_count": 42,
     "metadata": {},
     "output_type": "execute_result"
    }
   ],
   "source": [
    "X_l[0].shape"
   ]
  },
  {
   "cell_type": "code",
   "execution_count": 43,
   "metadata": {
    "scrolled": true
   },
   "outputs": [
    {
     "name": "stderr",
     "output_type": "stream",
     "text": [
      "  0%|                                                                                            | 0/6 [00:00<?, ?it/s]\n",
      "  0%|                                                                                            | 0/7 [00:00<?, ?it/s]\u001b[A\n",
      "\n",
      "Feature Extraction:   0%|                                                                       | 0/40 [00:00<?, ?it/s]\u001b[A\u001b[A\n",
      "\n",
      "Feature Extraction:   2%|█▌                                                             | 1/40 [00:03<02:06,  3.24s/it]\u001b[A\u001b[A\n",
      "\n",
      "Feature Extraction:  10%|██████▎                                                        | 4/40 [00:03<00:23,  1.56it/s]\u001b[A\u001b[A\n",
      "\n",
      "Feature Extraction:  15%|█████████▍                                                     | 6/40 [00:03<00:14,  2.41it/s]\u001b[A\u001b[A\n",
      "\n",
      "Feature Extraction:  22%|██████████████▏                                                | 9/40 [00:03<00:07,  4.30it/s]\u001b[A\u001b[A\n",
      "\n",
      "Feature Extraction:  32%|████████████████████▏                                         | 13/40 [00:03<00:03,  7.46it/s]\u001b[A\u001b[A\n",
      "\n",
      "Feature Extraction:  42%|██████████████████████████▎                                   | 17/40 [00:03<00:02, 10.99it/s]\u001b[A\u001b[A\n",
      "\n",
      "Feature Extraction:  50%|███████████████████████████████                               | 20/40 [00:04<00:01, 13.56it/s]\u001b[A\u001b[A\n",
      "\n",
      "Feature Extraction:  60%|█████████████████████████████████████▏                        | 24/40 [00:04<00:00, 17.37it/s]\u001b[A\u001b[A\n",
      "\n",
      "Feature Extraction:  70%|███████████████████████████████████████████▍                  | 28/40 [00:04<00:00, 15.29it/s]\u001b[A\u001b[A\n",
      "\n",
      "Feature Extraction:  80%|█████████████████████████████████████████████████▌            | 32/40 [00:04<00:00, 18.41it/s]\u001b[A\u001b[A\n",
      "\n",
      "Feature Extraction:  88%|██████████████████████████████████████████████████████▎       | 35/40 [00:04<00:00, 19.64it/s]\u001b[A\u001b[A\n",
      "\n",
      "Feature Extraction: 100%|██████████████████████████████████████████████████████████████| 40/40 [00:04<00:00,  8.24it/s]\u001b[A\u001b[A\n",
      "\n",
      " 14%|████████████                                                                        | 1/7 [00:05<00:30,  5.07s/it]\u001b[A\n",
      "\n",
      "Feature Extraction:   0%|                                                                       | 0/40 [00:00<?, ?it/s]\u001b[A\u001b[A\n",
      "\n",
      "Feature Extraction:   2%|█▌                                                             | 1/40 [00:02<01:52,  2.89s/it]\u001b[A\u001b[A\n",
      "\n",
      "Feature Extraction:  20%|████████████▌                                                  | 8/40 [00:03<00:08,  3.60it/s]\u001b[A\u001b[A\n",
      "\n",
      "Feature Extraction:  35%|█████████████████████▋                                        | 14/40 [00:03<00:03,  7.09it/s]\u001b[A\u001b[A\n",
      "\n",
      "Feature Extraction:  50%|███████████████████████████████                               | 20/40 [00:03<00:01, 11.33it/s]\u001b[A\u001b[A\n",
      "\n",
      "Feature Extraction:  65%|████████████████████████████████████████▎                     | 26/40 [00:03<00:00, 16.20it/s]\u001b[A\u001b[A\n",
      "\n",
      "Feature Extraction:  80%|█████████████████████████████████████████████████▌            | 32/40 [00:03<00:00, 17.19it/s]\u001b[A\u001b[A\n",
      "\n",
      "Feature Extraction: 100%|██████████████████████████████████████████████████████████████| 40/40 [00:03<00:00, 10.54it/s]\u001b[A\u001b[A\n",
      "\n",
      " 29%|████████████████████████                                                            | 2/7 [00:09<00:22,  4.41s/it]\u001b[A\n",
      "\n",
      "Feature Extraction:   0%|                                                                       | 0/40 [00:00<?, ?it/s]\u001b[A\u001b[A\n",
      "\n",
      "Feature Extraction:   2%|█▌                                                             | 1/40 [00:02<01:53,  2.91s/it]\u001b[A\u001b[A\n",
      "\n",
      "Feature Extraction:  15%|█████████▍                                                     | 6/40 [00:03<00:12,  2.65it/s]\u001b[A\u001b[A\n",
      "\n",
      "Feature Extraction:  30%|██████████████████▌                                           | 12/40 [00:03<00:04,  6.14it/s]\u001b[A\u001b[A\n",
      "\n",
      "Feature Extraction:  45%|███████████████████████████▉                                  | 18/40 [00:03<00:02, 10.28it/s]\u001b[A\u001b[A\n",
      "\n",
      "Feature Extraction:  60%|█████████████████████████████████████▏                        | 24/40 [00:03<00:01, 15.03it/s]\u001b[A\u001b[A\n",
      "\n",
      "Feature Extraction:  75%|██████████████████████████████████████████████▌               | 30/40 [00:03<00:00, 20.09it/s]\u001b[A\u001b[A\n",
      "\n",
      "Feature Extraction: 100%|██████████████████████████████████████████████████████████████| 40/40 [00:03<00:00, 10.20it/s]\u001b[A\u001b[A\n",
      "\n",
      " 43%|████████████████████████████████████                                                | 3/7 [00:13<00:17,  4.26s/it]\u001b[A\n",
      "\n",
      "Feature Extraction:   0%|                                                                       | 0/40 [00:00<?, ?it/s]\u001b[A\u001b[A\n",
      "\n",
      "Feature Extraction:   2%|█▌                                                             | 1/40 [00:02<01:54,  2.93s/it]\u001b[A\u001b[A\n",
      "\n",
      "Feature Extraction:  15%|█████████▍                                                     | 6/40 [00:03<00:12,  2.63it/s]\u001b[A\u001b[A\n",
      "\n",
      "Feature Extraction:  25%|███████████████▌                                              | 10/40 [00:03<00:06,  4.92it/s]\u001b[A\u001b[A\n",
      "\n",
      "Feature Extraction:  35%|█████████████████████▋                                        | 14/40 [00:03<00:03,  7.72it/s]\u001b[A\u001b[A\n",
      "\n",
      "Feature Extraction:  45%|███████████████████████████▉                                  | 18/40 [00:03<00:02, 10.97it/s]\u001b[A\u001b[A\n",
      "\n",
      "Feature Extraction:  55%|██████████████████████████████████                            | 22/40 [00:03<00:01, 14.53it/s]\u001b[A\u001b[A\n",
      "\n",
      "Feature Extraction:  65%|████████████████████████████████████████▎                     | 26/40 [00:03<00:00, 14.20it/s]\u001b[A\u001b[A\n",
      "\n",
      "Feature Extraction:  72%|████████████████████████████████████████████▉                 | 29/40 [00:03<00:00, 16.43it/s]\u001b[A\u001b[A\n",
      "\n",
      "Feature Extraction:  82%|███████████████████████████████████████████████████▏          | 33/40 [00:04<00:00, 18.60it/s]\u001b[A\u001b[A\n",
      "\n",
      "Feature Extraction: 100%|██████████████████████████████████████████████████████████████| 40/40 [00:04<00:00,  9.59it/s]\u001b[A\u001b[A\n",
      "\n",
      " 57%|████████████████████████████████████████████████                                    | 4/7 [00:17<00:12,  4.30s/it]\u001b[A\n",
      "\n",
      "Feature Extraction:   0%|                                                                       | 0/40 [00:00<?, ?it/s]\u001b[A\u001b[A\n",
      "\n",
      "Feature Extraction:   2%|█▌                                                             | 1/40 [00:02<01:48,  2.79s/it]\u001b[A\u001b[A\n",
      "\n",
      "Feature Extraction:  12%|███████▉                                                       | 5/40 [00:02<00:15,  2.25it/s]\u001b[A\u001b[A\n",
      "\n",
      "Feature Extraction:  22%|██████████████▏                                                | 9/40 [00:03<00:06,  4.59it/s]\u001b[A\u001b[A\n",
      "\n",
      "Feature Extraction:  30%|██████████████████▌                                           | 12/40 [00:03<00:04,  5.94it/s]\u001b[A\u001b[A\n",
      "\n",
      "Feature Extraction:  35%|█████████████████████▋                                        | 14/40 [00:03<00:03,  7.13it/s]\u001b[A\u001b[A\n",
      "\n",
      "Feature Extraction:  45%|███████████████████████████▉                                  | 18/40 [00:03<00:02, 10.57it/s]\u001b[A\u001b[A\n",
      "\n",
      "Feature Extraction:  52%|████████████████████████████████▌                             | 21/40 [00:03<00:01, 13.16it/s]\u001b[A\u001b[A\n",
      "\n",
      "Feature Extraction:  60%|█████████████████████████████████████▏                        | 24/40 [00:03<00:01, 15.87it/s]\u001b[A\u001b[A\n",
      "\n",
      "Feature Extraction:  70%|███████████████████████████████████████████▍                  | 28/40 [00:03<00:00, 19.62it/s]\u001b[A\u001b[A\n",
      "\n",
      "Feature Extraction:  80%|█████████████████████████████████████████████████▌            | 32/40 [00:04<00:00, 15.67it/s]\u001b[A\u001b[A\n",
      "\n",
      "Feature Extraction:  88%|██████████████████████████████████████████████████████▎       | 35/40 [00:04<00:00, 16.52it/s]\u001b[A\u001b[A\n",
      "\n",
      "Feature Extraction: 100%|██████████████████████████████████████████████████████████████| 40/40 [00:04<00:00,  8.82it/s]\u001b[A\u001b[A\n",
      "\n",
      " 71%|████████████████████████████████████████████████████████████                        | 5/7 [00:22<00:08,  4.47s/it]\u001b[A\n",
      "\n",
      "Feature Extraction:   0%|                                                                       | 0/40 [00:00<?, ?it/s]\u001b[A\u001b[A\n",
      "\n",
      "Feature Extraction:   2%|█▌                                                             | 1/40 [00:02<01:51,  2.86s/it]\u001b[A\u001b[A\n",
      "\n",
      "Feature Extraction:  18%|███████████                                                    | 7/40 [00:02<00:10,  3.17it/s]\u001b[A\u001b[A\n",
      "\n",
      "Feature Extraction:  32%|████████████████████▏                                         | 13/40 [00:03<00:04,  6.71it/s]\u001b[A\u001b[A\n",
      "\n",
      "Feature Extraction:  48%|█████████████████████████████▍                                | 19/40 [00:03<00:01, 10.93it/s]\u001b[A\u001b[A\n",
      "\n",
      "Feature Extraction:  62%|██████████████████████████████████████▊                       | 25/40 [00:03<00:00, 15.75it/s]\u001b[A\u001b[A\n",
      "\n",
      "Feature Extraction:  75%|██████████████████████████████████████████████▌               | 30/40 [00:03<00:00, 15.98it/s]\u001b[A\u001b[A\n",
      "\n",
      "Feature Extraction: 100%|██████████████████████████████████████████████████████████████| 40/40 [00:03<00:00, 10.46it/s]\u001b[A\u001b[A\n",
      "\n",
      " 86%|████████████████████████████████████████████████████████████████████████            | 6/7 [00:26<00:04,  4.30s/it]\u001b[A\n",
      "\n",
      "Feature Extraction:   0%|                                                                       | 0/40 [00:00<?, ?it/s]\u001b[A\u001b[A\n",
      "\n",
      "Feature Extraction:   2%|█▌                                                             | 1/40 [00:02<01:54,  2.92s/it]\u001b[A\u001b[A\n",
      "\n",
      "Feature Extraction:  15%|█████████▍                                                     | 6/40 [00:03<00:12,  2.62it/s]\u001b[A\u001b[A\n",
      "\n",
      "Feature Extraction:  25%|███████████████▌                                              | 10/40 [00:03<00:06,  4.86it/s]\u001b[A\u001b[A\n",
      "\n",
      "Feature Extraction:  35%|█████████████████████▋                                        | 14/40 [00:03<00:03,  7.52it/s]\u001b[A\u001b[A\n",
      "\n",
      "Feature Extraction:  42%|██████████████████████████▎                                   | 17/40 [00:03<00:02,  8.49it/s]\u001b[A\u001b[A\n",
      "\n",
      "Feature Extraction:  50%|███████████████████████████████                               | 20/40 [00:03<00:01, 10.43it/s]\u001b[A\u001b[A\n",
      "\n",
      "Feature Extraction:  60%|█████████████████████████████████████▏                        | 24/40 [00:03<00:01, 13.92it/s]\u001b[A\u001b[A\n",
      "\n",
      "Feature Extraction:  70%|███████████████████████████████████████████▍                  | 28/40 [00:03<00:00, 17.36it/s]\u001b[A\u001b[A\n",
      "\n",
      "Feature Extraction:  80%|█████████████████████████████████████████████████▌            | 32/40 [00:04<00:00, 20.19it/s]\u001b[A\u001b[A\n",
      "\n",
      "Feature Extraction:  88%|██████████████████████████████████████████████████████▎       | 35/40 [00:04<00:00, 19.69it/s]\u001b[A\u001b[A\n",
      "\n",
      "Feature Extraction: 100%|██████████████████████████████████████████████████████████████| 40/40 [00:04<00:00,  9.19it/s]\u001b[A\u001b[A\n",
      "\n",
      "100%|████████████████████████████████████████████████████████████████████████████████████| 7/7 [00:30<00:00,  4.40s/it]\u001b[A\n",
      " 17%|██████████████                                                                      | 1/6 [00:30<02:33, 30.78s/it]\n",
      "  0%|                                                                                            | 0/7 [00:00<?, ?it/s]\u001b[A\n",
      "\n",
      "Feature Extraction:   0%|                                                                       | 0/40 [00:00<?, ?it/s]\u001b[A\u001b[A\n",
      "\n",
      "Feature Extraction:   2%|█▌                                                             | 1/40 [00:03<01:58,  3.03s/it]\u001b[A\u001b[A\n",
      "\n",
      "Feature Extraction:  12%|███████▉                                                       | 5/40 [00:03<00:16,  2.10it/s]\u001b[A\u001b[A\n",
      "\n",
      "Feature Extraction:  22%|██████████████▏                                                | 9/40 [00:03<00:07,  4.34it/s]\u001b[A\u001b[A\n",
      "\n",
      "Feature Extraction:  32%|████████████████████▏                                         | 13/40 [00:03<00:03,  7.08it/s]\u001b[A\u001b[A\n",
      "\n",
      "Feature Extraction:  42%|██████████████████████████▎                                   | 17/40 [00:03<00:02, 10.20it/s]\u001b[A\u001b[A\n",
      "\n",
      "Feature Extraction:  52%|████████████████████████████████▌                             | 21/40 [00:03<00:01, 13.70it/s]\u001b[A\u001b[A\n",
      "\n",
      "Feature Extraction:  62%|██████████████████████████████████████▊                       | 25/40 [00:03<00:00, 17.21it/s]\u001b[A\u001b[A\n",
      "\n",
      "Feature Extraction:  72%|████████████████████████████████████████████▉                 | 29/40 [00:04<00:00, 15.18it/s]\u001b[A\u001b[A\n",
      "\n",
      "Feature Extraction:  82%|███████████████████████████████████████████████████▏          | 33/40 [00:04<00:00, 17.22it/s]\u001b[A\u001b[A\n",
      "\n",
      "Feature Extraction: 100%|██████████████████████████████████████████████████████████████| 40/40 [00:04<00:00,  9.09it/s]\u001b[A\u001b[A\n",
      "\n",
      " 14%|████████████                                                                        | 1/7 [00:04<00:27,  4.62s/it]\u001b[A\n",
      "\n",
      "Feature Extraction:   0%|                                                                       | 0/40 [00:00<?, ?it/s]\u001b[A\u001b[A\n",
      "\n",
      "Feature Extraction:   2%|█▌                                                             | 1/40 [00:02<01:55,  2.96s/it]\u001b[A\u001b[A\n",
      "\n",
      "Feature Extraction:  18%|███████████                                                    | 7/40 [00:03<00:10,  3.08it/s]\u001b[A\u001b[A\n",
      "\n",
      "Feature Extraction:  32%|████████████████████▏                                         | 13/40 [00:03<00:04,  6.53it/s]\u001b[A\u001b[A\n",
      "\n",
      "Feature Extraction:  50%|███████████████████████████████                               | 20/40 [00:03<00:01, 11.45it/s]\u001b[A\u001b[A\n",
      "\n",
      "Feature Extraction:  65%|████████████████████████████████████████▎                     | 26/40 [00:03<00:00, 16.28it/s]\u001b[A\u001b[A\n",
      "\n",
      "Feature Extraction:  80%|█████████████████████████████████████████████████▌            | 32/40 [00:03<00:00, 16.92it/s]\u001b[A\u001b[A\n",
      "\n",
      "Feature Extraction: 100%|██████████████████████████████████████████████████████████████| 40/40 [00:03<00:00, 10.36it/s]\u001b[A\u001b[A\n",
      "\n",
      " 29%|████████████████████████                                                            | 2/7 [00:08<00:21,  4.26s/it]\u001b[A\n",
      "\n",
      "Feature Extraction:   0%|                                                                       | 0/40 [00:00<?, ?it/s]\u001b[A\u001b[A\n",
      "\n",
      "Feature Extraction:   2%|█▌                                                             | 1/40 [00:02<01:53,  2.92s/it]\u001b[A\u001b[A\n",
      "\n",
      "Feature Extraction:  15%|█████████▍                                                     | 6/40 [00:03<00:12,  2.65it/s]\u001b[A\u001b[A\n",
      "\n",
      "Feature Extraction:  28%|█████████████████                                             | 11/40 [00:03<00:05,  5.57it/s]\u001b[A\u001b[A\n",
      "\n",
      "Feature Extraction:  40%|████████████████████████▊                                     | 16/40 [00:03<00:02,  9.09it/s]\u001b[A\u001b[A\n",
      "\n",
      "Feature Extraction:  50%|███████████████████████████████                               | 20/40 [00:03<00:01, 12.04it/s]\u001b[A\u001b[A\n",
      "\n",
      "Feature Extraction:  62%|██████████████████████████████████████▊                       | 25/40 [00:03<00:00, 16.78it/s]\u001b[A\u001b[A\n",
      "\n",
      "Feature Extraction:  75%|██████████████████████████████████████████████▌               | 30/40 [00:03<00:00, 21.36it/s]\u001b[A\u001b[A\n",
      "\n",
      "Feature Extraction:  88%|██████████████████████████████████████████████████████▎       | 35/40 [00:03<00:00, 18.96it/s]\u001b[A\u001b[A\n",
      "\n",
      "Feature Extraction: 100%|██████████████████████████████████████████████████████████████| 40/40 [00:04<00:00,  9.98it/s]\u001b[A\u001b[A\n",
      "\n",
      " 43%|████████████████████████████████████                                                | 3/7 [00:12<00:16,  4.22s/it]\u001b[A\n",
      "\n",
      "Feature Extraction:   0%|                                                                       | 0/40 [00:00<?, ?it/s]\u001b[A\u001b[A\n",
      "\n",
      "Feature Extraction:   2%|█▌                                                             | 1/40 [00:03<01:59,  3.07s/it]\u001b[A\u001b[A\n",
      "\n",
      "Feature Extraction:  15%|█████████▍                                                     | 6/40 [00:03<00:13,  2.51it/s]\u001b[A\u001b[A\n",
      "\n",
      "Feature Extraction:  25%|███████████████▌                                              | 10/40 [00:03<00:06,  4.72it/s]\u001b[A\u001b[A\n",
      "\n",
      "Feature Extraction:  35%|█████████████████████▋                                        | 14/40 [00:03<00:03,  7.40it/s]\u001b[A\u001b[A\n",
      "\n",
      "Feature Extraction:  45%|███████████████████████████▉                                  | 18/40 [00:03<00:02, 10.52it/s]\u001b[A\u001b[A\n",
      "\n",
      "Feature Extraction:  55%|██████████████████████████████████                            | 22/40 [00:03<00:01, 13.91it/s]\u001b[A\u001b[A\n",
      "\n",
      "Feature Extraction:  65%|████████████████████████████████████████▎                     | 26/40 [00:03<00:01, 13.21it/s]\u001b[A\u001b[A\n",
      "\n",
      "Feature Extraction:  78%|████████████████████████████████████████████████              | 31/40 [00:04<00:00, 17.81it/s]\u001b[A\u001b[A\n",
      "\n",
      "Feature Extraction: 100%|██████████████████████████████████████████████████████████████| 40/40 [00:04<00:00,  9.22it/s]\u001b[A\u001b[A\n",
      "\n",
      " 57%|████████████████████████████████████████████████                                    | 4/7 [00:17<00:13,  4.34s/it]\u001b[A\n",
      "\n",
      "Feature Extraction:   0%|                                                                       | 0/40 [00:00<?, ?it/s]\u001b[A\u001b[A\n",
      "\n",
      "Feature Extraction:   2%|█▌                                                             | 1/40 [00:02<01:50,  2.83s/it]\u001b[A\u001b[A\n",
      "\n",
      "Feature Extraction:  12%|███████▉                                                       | 5/40 [00:02<00:15,  2.23it/s]\u001b[A\u001b[A\n",
      "\n",
      "Feature Extraction:  22%|██████████████▏                                                | 9/40 [00:03<00:06,  4.56it/s]\u001b[A\u001b[A\n",
      "\n",
      "Feature Extraction:  30%|██████████████████▌                                           | 12/40 [00:03<00:04,  5.78it/s]\u001b[A\u001b[A\n",
      "\n",
      "Feature Extraction:  35%|█████████████████████▋                                        | 14/40 [00:03<00:03,  7.08it/s]\u001b[A\u001b[A\n",
      "\n",
      "Feature Extraction:  45%|███████████████████████████▉                                  | 18/40 [00:03<00:02, 10.72it/s]\u001b[A\u001b[A\n",
      "\n",
      "Feature Extraction:  55%|██████████████████████████████████                            | 22/40 [00:03<00:01, 14.18it/s]\u001b[A\u001b[A\n",
      "\n",
      "Feature Extraction:  65%|████████████████████████████████████████▎                     | 26/40 [00:03<00:00, 17.84it/s]\u001b[A\u001b[A\n",
      "\n",
      "Feature Extraction:  75%|██████████████████████████████████████████████▌               | 30/40 [00:03<00:00, 20.63it/s]\u001b[A\u001b[A\n",
      "\n",
      "Feature Extraction:  82%|███████████████████████████████████████████████████▏          | 33/40 [00:04<00:00, 15.97it/s]\u001b[A\u001b[A\n",
      "\n",
      "Feature Extraction:  90%|███████████████████████████████████████████████████████▊      | 36/40 [00:04<00:00, 16.28it/s]\u001b[A\u001b[A\n",
      "\n",
      "Feature Extraction: 100%|██████████████████████████████████████████████████████████████| 40/40 [00:04<00:00,  8.77it/s]\u001b[A\u001b[A\n",
      "\n",
      " 71%|████████████████████████████████████████████████████████████                        | 5/7 [00:22<00:08,  4.49s/it]\u001b[A\n",
      "\n",
      "Feature Extraction:   0%|                                                                       | 0/40 [00:00<?, ?it/s]\u001b[A\u001b[A\n",
      "\n",
      "Feature Extraction:   2%|█▌                                                             | 1/40 [00:02<01:47,  2.76s/it]\u001b[A\u001b[A\n",
      "\n",
      "Feature Extraction:  15%|█████████▍                                                     | 6/40 [00:02<00:12,  2.80it/s]\u001b[A\u001b[A\n",
      "\n",
      "Feature Extraction:  28%|█████████████████                                             | 11/40 [00:02<00:04,  5.90it/s]\u001b[A\u001b[A\n",
      "\n",
      "Feature Extraction:  42%|██████████████████████████▎                                   | 17/40 [00:03<00:02, 10.43it/s]\u001b[A\u001b[A\n",
      "\n",
      "Feature Extraction:  55%|██████████████████████████████████                            | 22/40 [00:03<00:01, 14.61it/s]\u001b[A\u001b[A\n",
      "\n",
      "Feature Extraction:  70%|███████████████████████████████████████████▍                  | 28/40 [00:03<00:00, 15.95it/s]\u001b[A\u001b[A\n",
      "\n",
      "Feature Extraction:  82%|███████████████████████████████████████████████████▏          | 33/40 [00:03<00:00, 20.14it/s]\u001b[A\u001b[A\n",
      "\n",
      "Feature Extraction: 100%|██████████████████████████████████████████████████████████████| 40/40 [00:03<00:00, 10.68it/s]\u001b[A\u001b[A\n",
      "\n",
      " 86%|████████████████████████████████████████████████████████████████████████            | 6/7 [00:25<00:04,  4.29s/it]\u001b[A\n",
      "\n",
      "Feature Extraction:   0%|                                                                       | 0/40 [00:00<?, ?it/s]\u001b[A\u001b[A\n",
      "\n",
      "Feature Extraction:   2%|█▌                                                             | 1/40 [00:02<01:50,  2.82s/it]\u001b[A\u001b[A\n",
      "\n",
      "Feature Extraction:  12%|███████▉                                                       | 5/40 [00:02<00:15,  2.25it/s]\u001b[A\u001b[A\n",
      "\n",
      "Feature Extraction:  20%|████████████▌                                                  | 8/40 [00:03<00:07,  4.01it/s]\u001b[A\u001b[A\n",
      "\n",
      "Feature Extraction:  32%|████████████████████▏                                         | 13/40 [00:03<00:03,  7.72it/s]\u001b[A\u001b[A\n",
      "\n",
      "Feature Extraction:  42%|██████████████████████████▎                                   | 17/40 [00:03<00:02,  9.04it/s]\u001b[A\u001b[A\n",
      "\n",
      "Feature Extraction:  52%|████████████████████████████████▌                             | 21/40 [00:03<00:01, 12.21it/s]\u001b[A\u001b[A\n",
      "\n",
      "Feature Extraction:  62%|██████████████████████████████████████▊                       | 25/40 [00:03<00:00, 15.45it/s]\u001b[A\u001b[A\n",
      "\n",
      "Feature Extraction:  72%|████████████████████████████████████████████▉                 | 29/40 [00:03<00:00, 18.66it/s]\u001b[A\u001b[A\n",
      "\n",
      "Feature Extraction:  82%|███████████████████████████████████████████████████▏          | 33/40 [00:04<00:00, 19.76it/s]\u001b[A\u001b[A\n",
      "\n",
      "Feature Extraction: 100%|██████████████████████████████████████████████████████████████| 40/40 [00:04<00:00,  9.52it/s]\u001b[A\u001b[A\n",
      "\n",
      "100%|████████████████████████████████████████████████████████████████████████████████████| 7/7 [00:30<00:00,  4.34s/it]\u001b[A\n",
      " 33%|████████████████████████████                                                        | 2/6 [01:01<02:02, 30.55s/it]\n",
      "  0%|                                                                                            | 0/7 [00:00<?, ?it/s]\u001b[A\n",
      "\n",
      "Feature Extraction:   0%|                                                                       | 0/40 [00:00<?, ?it/s]\u001b[A\u001b[A\n",
      "\n",
      "Feature Extraction:   2%|█▌                                                             | 1/40 [00:03<01:58,  3.03s/it]\u001b[A\u001b[A\n",
      "\n",
      "Feature Extraction:  15%|█████████▍                                                     | 6/40 [00:03<00:13,  2.56it/s]\u001b[A\u001b[A\n",
      "\n",
      "Feature Extraction:  25%|███████████████▌                                              | 10/40 [00:03<00:06,  4.79it/s]\u001b[A\u001b[A\n",
      "\n",
      "Feature Extraction:  35%|█████████████████████▋                                        | 14/40 [00:03<00:03,  7.47it/s]\u001b[A\u001b[A\n",
      "\n",
      "Feature Extraction:  45%|███████████████████████████▉                                  | 18/40 [00:03<00:02, 10.54it/s]\u001b[A\u001b[A\n",
      "\n",
      "Feature Extraction:  55%|██████████████████████████████████                            | 22/40 [00:03<00:01, 14.02it/s]\u001b[A\u001b[A\n",
      "\n",
      "Feature Extraction:  65%|████████████████████████████████████████▎                     | 26/40 [00:03<00:00, 17.49it/s]\u001b[A\u001b[A\n",
      "\n",
      "Feature Extraction:  75%|██████████████████████████████████████████████▌               | 30/40 [00:04<00:00, 15.39it/s]\u001b[A\u001b[A\n",
      "\n",
      "Feature Extraction:  82%|███████████████████████████████████████████████████▏          | 33/40 [00:04<00:00, 16.78it/s]\u001b[A\u001b[A\n",
      "\n",
      "Feature Extraction: 100%|██████████████████████████████████████████████████████████████| 40/40 [00:04<00:00,  9.19it/s]\u001b[A\u001b[A\n",
      "\n",
      " 14%|████████████                                                                        | 1/7 [00:04<00:27,  4.54s/it]\u001b[A\n",
      "\n",
      "Feature Extraction:   0%|                                                                       | 0/40 [00:00<?, ?it/s]\u001b[A\u001b[A\n",
      "\n",
      "Feature Extraction:   2%|█▌                                                             | 1/40 [00:02<01:50,  2.83s/it]\u001b[A\u001b[A\n",
      "\n",
      "Feature Extraction:  18%|███████████                                                    | 7/40 [00:02<00:10,  3.21it/s]\u001b[A\u001b[A\n",
      "\n",
      "Feature Extraction:  32%|████████████████████▏                                         | 13/40 [00:03<00:03,  6.84it/s]\u001b[A\u001b[A\n",
      "\n",
      "Feature Extraction:  48%|█████████████████████████████▍                                | 19/40 [00:03<00:01, 11.27it/s]\u001b[A\u001b[A\n",
      "\n",
      "Feature Extraction:  65%|████████████████████████████████████████▎                     | 26/40 [00:03<00:00, 17.30it/s]\u001b[A\u001b[A\n",
      "\n",
      "Feature Extraction:  80%|█████████████████████████████████████████████████▌            | 32/40 [00:03<00:00, 17.95it/s]\u001b[A\u001b[A\n",
      "\n",
      "Feature Extraction: 100%|██████████████████████████████████████████████████████████████| 40/40 [00:03<00:00, 10.85it/s]\u001b[A\u001b[A\n",
      "\n",
      " 29%|████████████████████████                                                            | 2/7 [00:08<00:20,  4.12s/it]\u001b[A\n",
      "\n",
      "Feature Extraction:   0%|                                                                       | 0/40 [00:00<?, ?it/s]\u001b[A\u001b[A\n",
      "\n",
      "Feature Extraction:   2%|█▌                                                             | 1/40 [00:02<01:50,  2.82s/it]\u001b[A\u001b[A\n",
      "\n",
      "Feature Extraction:  18%|███████████                                                    | 7/40 [00:02<00:10,  3.21it/s]\u001b[A\u001b[A\n",
      "\n",
      "Feature Extraction:  30%|██████████████████▌                                           | 12/40 [00:03<00:04,  6.16it/s]\u001b[A\u001b[A\n",
      "\n",
      "Feature Extraction:  42%|██████████████████████████▎                                   | 17/40 [00:03<00:02,  9.79it/s]\u001b[A\u001b[A\n",
      "\n",
      "Feature Extraction:  57%|███████████████████████████████████▋                          | 23/40 [00:03<00:01, 14.81it/s]\u001b[A\u001b[A\n",
      "\n",
      "Feature Extraction:  72%|████████████████████████████████████████████▉                 | 29/40 [00:03<00:00, 20.30it/s]\u001b[A\u001b[A\n",
      "\n",
      "Feature Extraction:  85%|████████████████████████████████████████████████████▋         | 34/40 [00:03<00:00, 19.16it/s]\u001b[A\u001b[A\n",
      "\n",
      "Feature Extraction: 100%|██████████████████████████████████████████████████████████████| 40/40 [00:03<00:00, 10.53it/s]\u001b[A\u001b[A\n",
      "\n",
      " 43%|████████████████████████████████████                                                | 3/7 [00:12<00:16,  4.04s/it]\u001b[A\n",
      "\n",
      "Feature Extraction:   0%|                                                                       | 0/40 [00:00<?, ?it/s]\u001b[A\u001b[A\n",
      "\n",
      "Feature Extraction:   2%|█▌                                                             | 1/40 [00:02<01:49,  2.80s/it]\u001b[A\u001b[A\n",
      "\n",
      "Feature Extraction:  12%|███████▉                                                       | 5/40 [00:02<00:15,  2.27it/s]\u001b[A\u001b[A\n",
      "\n",
      "Feature Extraction:  22%|██████████████▏                                                | 9/40 [00:03<00:06,  4.70it/s]\u001b[A\u001b[A\n",
      "\n",
      "Feature Extraction:  32%|████████████████████▏                                         | 13/40 [00:03<00:03,  7.57it/s]\u001b[A\u001b[A\n",
      "\n",
      "Feature Extraction:  42%|██████████████████████████▎                                   | 17/40 [00:03<00:02, 10.93it/s]\u001b[A\u001b[A\n",
      "\n",
      "Feature Extraction:  52%|████████████████████████████████▌                             | 21/40 [00:03<00:01, 14.22it/s]\u001b[A\u001b[A\n",
      "\n",
      "Feature Extraction:  62%|██████████████████████████████████████▊                       | 25/40 [00:03<00:01, 14.27it/s]\u001b[A\u001b[A\n",
      "\n",
      "Feature Extraction:  70%|███████████████████████████████████████████▍                  | 28/40 [00:03<00:00, 16.56it/s]\u001b[A\u001b[A\n",
      "\n",
      "Feature Extraction:  82%|███████████████████████████████████████████████████▏          | 33/40 [00:03<00:00, 19.65it/s]\u001b[A\u001b[A\n",
      "\n",
      "Feature Extraction: 100%|██████████████████████████████████████████████████████████████| 40/40 [00:04<00:00,  9.84it/s]\u001b[A\u001b[A\n",
      "\n",
      " 57%|████████████████████████████████████████████████                                    | 4/7 [00:16<00:12,  4.12s/it]\u001b[A\n",
      "\n",
      "Feature Extraction:   0%|                                                                       | 0/40 [00:00<?, ?it/s]\u001b[A\u001b[A\n",
      "\n",
      "Feature Extraction:   2%|█▌                                                             | 1/40 [00:02<01:50,  2.83s/it]\u001b[A\u001b[A\n",
      "\n",
      "Feature Extraction:  12%|███████▉                                                       | 5/40 [00:02<00:15,  2.25it/s]\u001b[A\u001b[A\n",
      "\n",
      "Feature Extraction:  20%|████████████▌                                                  | 8/40 [00:03<00:08,  3.57it/s]\u001b[A\u001b[A\n",
      "\n",
      "Feature Extraction:  30%|██████████████████▌                                           | 12/40 [00:03<00:04,  6.20it/s]\u001b[A\u001b[A\n",
      "\n",
      "Feature Extraction:  40%|████████████████████████▊                                     | 16/40 [00:03<00:02,  9.24it/s]\u001b[A\u001b[A\n",
      "\n",
      "Feature Extraction:  50%|███████████████████████████████                               | 20/40 [00:03<00:01, 12.52it/s]\u001b[A\u001b[A\n",
      "\n",
      "Feature Extraction:  60%|█████████████████████████████████████▏                        | 24/40 [00:03<00:01, 15.91it/s]\u001b[A\u001b[A\n",
      "\n",
      "Feature Extraction:  68%|█████████████████████████████████████████▊                    | 27/40 [00:03<00:00, 17.91it/s]\u001b[A\u001b[A\n",
      "\n",
      "Feature Extraction:  78%|████████████████████████████████████████████████              | 31/40 [00:04<00:00, 15.12it/s]\u001b[A\u001b[A\n",
      "\n",
      "Feature Extraction:  85%|████████████████████████████████████████████████████▋         | 34/40 [00:04<00:00, 15.94it/s]\u001b[A\u001b[A\n",
      "\n",
      "Feature Extraction: 100%|██████████████████████████████████████████████████████████████| 40/40 [00:04<00:00,  8.92it/s]\u001b[A\u001b[A\n",
      "\n",
      " 71%|████████████████████████████████████████████████████████████                        | 5/7 [00:21<00:08,  4.32s/it]\u001b[A\n",
      "\n",
      "Feature Extraction:   0%|                                                                       | 0/40 [00:00<?, ?it/s]\u001b[A\u001b[A\n",
      "\n",
      "Feature Extraction:   2%|█▌                                                             | 1/40 [00:02<01:49,  2.80s/it]\u001b[A\u001b[A\n",
      "\n",
      "Feature Extraction:  15%|█████████▍                                                     | 6/40 [00:02<00:12,  2.77it/s]\u001b[A\u001b[A\n",
      "\n",
      "Feature Extraction:  30%|██████████████████▌                                           | 12/40 [00:03<00:04,  6.42it/s]\u001b[A\u001b[A\n",
      "\n",
      "Feature Extraction:  42%|██████████████████████████▎                                   | 17/40 [00:03<00:02, 10.07it/s]\u001b[A\u001b[A\n",
      "\n",
      "Feature Extraction:  57%|███████████████████████████████████▋                          | 23/40 [00:03<00:01, 12.41it/s]\u001b[A\u001b[A\n",
      "\n",
      "Feature Extraction:  70%|███████████████████████████████████████████▍                  | 28/40 [00:03<00:00, 16.48it/s]\u001b[A\u001b[A\n",
      "\n",
      "Feature Extraction:  85%|████████████████████████████████████████████████████▋         | 34/40 [00:03<00:00, 21.91it/s]\u001b[A\u001b[A\n",
      "\n",
      "Feature Extraction: 100%|██████████████████████████████████████████████████████████████| 40/40 [00:03<00:00, 10.60it/s]\u001b[A\u001b[A\n",
      "\n",
      " 86%|████████████████████████████████████████████████████████████████████████            | 6/7 [00:25<00:04,  4.19s/it]\u001b[A\n",
      "\n",
      "Feature Extraction:   0%|                                                                       | 0/40 [00:00<?, ?it/s]\u001b[A\u001b[A\n",
      "\n",
      "Feature Extraction:   2%|█▌                                                             | 1/40 [00:02<01:50,  2.84s/it]\u001b[A\u001b[A\n",
      "\n",
      "Feature Extraction:  15%|█████████▍                                                     | 6/40 [00:02<00:12,  2.70it/s]\u001b[A\u001b[A\n",
      "\n",
      "Feature Extraction:  25%|███████████████▌                                              | 10/40 [00:03<00:05,  5.00it/s]\u001b[A\u001b[A\n",
      "\n",
      "Feature Extraction:  35%|█████████████████████▋                                        | 14/40 [00:03<00:03,  7.80it/s]\u001b[A\u001b[A\n",
      "\n",
      "Feature Extraction:  45%|███████████████████████████▉                                  | 18/40 [00:03<00:02,  9.07it/s]\u001b[A\u001b[A\n",
      "\n",
      "Feature Extraction:  55%|██████████████████████████████████                            | 22/40 [00:03<00:01, 12.32it/s]\u001b[A\u001b[A\n",
      "\n",
      "Feature Extraction:  65%|████████████████████████████████████████▎                     | 26/40 [00:03<00:00, 15.77it/s]\u001b[A\u001b[A\n",
      "\n",
      "Feature Extraction:  75%|██████████████████████████████████████████████▌               | 30/40 [00:03<00:00, 19.00it/s]\u001b[A\u001b[A\n",
      "\n",
      "Feature Extraction:  85%|████████████████████████████████████████████████████▋         | 34/40 [00:04<00:00, 20.11it/s]\u001b[A\u001b[A\n",
      "\n",
      "Feature Extraction: 100%|██████████████████████████████████████████████████████████████| 40/40 [00:04<00:00,  9.51it/s]\u001b[A\u001b[A\n",
      "\n",
      "100%|████████████████████████████████████████████████████████████████████████████████████| 7/7 [00:29<00:00,  4.22s/it]\u001b[A\n",
      " 50%|██████████████████████████████████████████                                          | 3/6 [01:30<01:30, 30.10s/it]\n",
      "  0%|                                                                                            | 0/7 [00:00<?, ?it/s]\u001b[A\n",
      "\n",
      "Feature Extraction:   0%|                                                                       | 0/40 [00:00<?, ?it/s]\u001b[A\u001b[A\n",
      "\n",
      "Feature Extraction:   2%|█▌                                                             | 1/40 [00:03<01:57,  3.01s/it]\u001b[A\u001b[A\n",
      "\n",
      "Feature Extraction:  12%|███████▉                                                       | 5/40 [00:03<00:16,  2.11it/s]\u001b[A\u001b[A\n",
      "\n",
      "Feature Extraction:  22%|██████████████▏                                                | 9/40 [00:03<00:07,  4.36it/s]\u001b[A\u001b[A\n",
      "\n",
      "Feature Extraction:  32%|████████████████████▏                                         | 13/40 [00:03<00:03,  7.12it/s]\u001b[A\u001b[A\n",
      "\n",
      "Feature Extraction:  42%|██████████████████████████▎                                   | 17/40 [00:03<00:02, 10.31it/s]\u001b[A\u001b[A\n",
      "\n",
      "Feature Extraction:  52%|████████████████████████████████▌                             | 21/40 [00:03<00:01, 13.76it/s]\u001b[A\u001b[A\n",
      "\n",
      "Feature Extraction:  62%|██████████████████████████████████████▊                       | 25/40 [00:03<00:00, 17.21it/s]\u001b[A\u001b[A\n",
      "\n",
      "Feature Extraction:  72%|████████████████████████████████████████████▉                 | 29/40 [00:04<00:00, 15.20it/s]\u001b[A\u001b[A\n",
      "\n",
      "Feature Extraction:  82%|███████████████████████████████████████████████████▏          | 33/40 [00:04<00:00, 17.12it/s]\u001b[A\u001b[A\n",
      "\n",
      "Feature Extraction: 100%|██████████████████████████████████████████████████████████████| 40/40 [00:04<00:00,  9.16it/s]\u001b[A\u001b[A\n",
      "\n",
      " 14%|████████████                                                                        | 1/7 [00:04<00:27,  4.57s/it]\u001b[A\n",
      "\n",
      "Feature Extraction:   0%|                                                                       | 0/40 [00:00<?, ?it/s]\u001b[A\u001b[A\n",
      "\n",
      "Feature Extraction:   2%|█▌                                                             | 1/40 [00:02<01:49,  2.80s/it]\u001b[A\u001b[A\n",
      "\n",
      "Feature Extraction:  15%|█████████▍                                                     | 6/40 [00:02<00:12,  2.76it/s]\u001b[A\u001b[A\n",
      "\n",
      "Feature Extraction:  30%|██████████████████▌                                           | 12/40 [00:03<00:04,  6.44it/s]\u001b[A\u001b[A\n",
      "\n",
      "Feature Extraction:  45%|███████████████████████████▉                                  | 18/40 [00:03<00:02, 10.93it/s]\u001b[A\u001b[A\n",
      "\n",
      "Feature Extraction:  60%|█████████████████████████████████████▏                        | 24/40 [00:03<00:00, 16.19it/s]\u001b[A\u001b[A\n",
      "\n",
      "Feature Extraction:  75%|██████████████████████████████████████████████▌               | 30/40 [00:03<00:00, 17.08it/s]\u001b[A\u001b[A\n",
      "\n",
      "Feature Extraction: 100%|██████████████████████████████████████████████████████████████| 40/40 [00:03<00:00, 10.83it/s]\u001b[A\u001b[A\n",
      "\n",
      " 29%|████████████████████████                                                            | 2/7 [00:08<00:20,  4.14s/it]\u001b[A\n",
      "\n",
      "Feature Extraction:   0%|                                                                       | 0/40 [00:00<?, ?it/s]\u001b[A\u001b[A\n",
      "\n",
      "Feature Extraction:   2%|█▌                                                             | 1/40 [00:02<01:49,  2.80s/it]\u001b[A\u001b[A\n",
      "\n",
      "Feature Extraction:  18%|███████████                                                    | 7/40 [00:02<00:10,  3.22it/s]\u001b[A\u001b[A\n",
      "\n",
      "Feature Extraction:  30%|██████████████████▌                                           | 12/40 [00:03<00:04,  6.21it/s]\u001b[A\u001b[A\n",
      "\n",
      "Feature Extraction:  45%|███████████████████████████▉                                  | 18/40 [00:03<00:02, 10.63it/s]\u001b[A\u001b[A\n",
      "\n",
      "Feature Extraction:  57%|███████████████████████████████████▋                          | 23/40 [00:03<00:01, 14.72it/s]\u001b[A\u001b[A\n",
      "\n",
      "Feature Extraction:  70%|███████████████████████████████████████████▍                  | 28/40 [00:03<00:00, 19.26it/s]\u001b[A\u001b[A\n",
      "\n",
      "Feature Extraction:  82%|███████████████████████████████████████████████████▏          | 33/40 [00:03<00:00, 18.24it/s]\u001b[A\u001b[A\n",
      "\n",
      "Feature Extraction: 100%|██████████████████████████████████████████████████████████████| 40/40 [00:03<00:00, 10.57it/s]\u001b[A\u001b[A\n",
      "\n",
      " 43%|████████████████████████████████████                                                | 3/7 [00:12<00:16,  4.04s/it]\u001b[A\n",
      "\n",
      "Feature Extraction:   0%|                                                                       | 0/40 [00:00<?, ?it/s]\u001b[A\u001b[A\n",
      "\n",
      "Feature Extraction:   2%|█▌                                                             | 1/40 [00:02<01:50,  2.84s/it]\u001b[A\u001b[A\n",
      "\n",
      "Feature Extraction:  15%|█████████▍                                                     | 6/40 [00:02<00:12,  2.71it/s]\u001b[A\u001b[A\n",
      "\n",
      "Feature Extraction:  25%|███████████████▌                                              | 10/40 [00:03<00:05,  5.07it/s]\u001b[A\u001b[A\n",
      "\n",
      "Feature Extraction:  35%|█████████████████████▋                                        | 14/40 [00:03<00:03,  7.91it/s]\u001b[A\u001b[A\n",
      "\n",
      "Feature Extraction:  45%|███████████████████████████▉                                  | 18/40 [00:03<00:01, 11.18it/s]\u001b[A\u001b[A\n",
      "\n",
      "Feature Extraction:  55%|██████████████████████████████████                            | 22/40 [00:03<00:01, 14.80it/s]\u001b[A\u001b[A\n",
      "\n",
      "Feature Extraction:  65%|████████████████████████████████████████▎                     | 26/40 [00:03<00:01, 13.64it/s]\u001b[A\u001b[A\n",
      "\n",
      "Feature Extraction:  75%|██████████████████████████████████████████████▌               | 30/40 [00:03<00:00, 17.22it/s]\u001b[A\u001b[A\n",
      "\n",
      "Feature Extraction:  85%|████████████████████████████████████████████████████▋         | 34/40 [00:04<00:00, 18.62it/s]\u001b[A\u001b[A\n",
      "\n",
      "Feature Extraction: 100%|██████████████████████████████████████████████████████████████| 40/40 [00:04<00:00,  9.70it/s]\u001b[A\u001b[A\n",
      "\n",
      " 57%|████████████████████████████████████████████████                                    | 4/7 [00:16<00:12,  4.15s/it]\u001b[A\n",
      "\n",
      "Feature Extraction:   0%|                                                                       | 0/40 [00:00<?, ?it/s]\u001b[A\u001b[A\n",
      "\n",
      "Feature Extraction:   2%|█▌                                                             | 1/40 [00:02<01:55,  2.95s/it]\u001b[A\u001b[A\n",
      "\n",
      "Feature Extraction:  12%|███████▉                                                       | 5/40 [00:03<00:16,  2.15it/s]\u001b[A\u001b[A\n",
      "\n",
      "Feature Extraction:  20%|████████████▌                                                  | 8/40 [00:03<00:08,  3.84it/s]\u001b[A\u001b[A\n",
      "\n",
      "Feature Extraction:  28%|█████████████████                                             | 11/40 [00:03<00:05,  5.18it/s]\u001b[A\u001b[A\n",
      "\n",
      "Feature Extraction:  32%|████████████████████▏                                         | 13/40 [00:03<00:04,  6.52it/s]\u001b[A\u001b[A\n",
      "\n",
      "Feature Extraction:  42%|██████████████████████████▎                                   | 17/40 [00:03<00:02, 10.01it/s]\u001b[A\u001b[A\n",
      "\n",
      "Feature Extraction:  52%|████████████████████████████████▌                             | 21/40 [00:03<00:01, 13.58it/s]\u001b[A\u001b[A\n",
      "\n",
      "Feature Extraction:  62%|██████████████████████████████████████▊                       | 25/40 [00:03<00:00, 17.21it/s]\u001b[A\u001b[A\n",
      "\n",
      "Feature Extraction:  70%|███████████████████████████████████████████▍                  | 28/40 [00:04<00:00, 19.25it/s]\u001b[A\u001b[A\n",
      "\n",
      "Feature Extraction:  78%|████████████████████████████████████████████████              | 31/40 [00:04<00:00, 21.06it/s]\u001b[A\u001b[A\n",
      "\n",
      "Feature Extraction:  85%|████████████████████████████████████████████████████▋         | 34/40 [00:04<00:00, 16.32it/s]\u001b[A\u001b[A\n",
      "\n",
      "Feature Extraction: 100%|██████████████████████████████████████████████████████████████| 40/40 [00:04<00:00,  8.47it/s]\u001b[A\u001b[A\n",
      "\n",
      " 71%|████████████████████████████████████████████████████████████                        | 5/7 [00:21<00:08,  4.44s/it]\u001b[A\n",
      "\n",
      "Feature Extraction:   0%|                                                                       | 0/40 [00:00<?, ?it/s]\u001b[A\u001b[A\n",
      "\n",
      "Feature Extraction:   2%|█▌                                                             | 1/40 [00:03<01:58,  3.03s/it]\u001b[A\u001b[A\n",
      "\n",
      "Feature Extraction:  12%|███████▉                                                       | 5/40 [00:03<00:16,  2.11it/s]\u001b[A\u001b[A\n",
      "\n",
      "Feature Extraction:  28%|█████████████████                                             | 11/40 [00:03<00:05,  5.56it/s]\u001b[A\u001b[A\n",
      "\n",
      "Feature Extraction:  40%|████████████████████████▊                                     | 16/40 [00:03<00:02,  9.02it/s]\u001b[A\u001b[A\n",
      "\n",
      "Feature Extraction:  52%|████████████████████████████████▌                             | 21/40 [00:03<00:01, 13.06it/s]\u001b[A\u001b[A\n",
      "\n",
      "Feature Extraction:  65%|████████████████████████████████████████▎                     | 26/40 [00:03<00:00, 17.31it/s]\u001b[A\u001b[A\n",
      "\n",
      "Feature Extraction:  78%|████████████████████████████████████████████████              | 31/40 [00:03<00:00, 22.11it/s]\u001b[A\u001b[A\n",
      "\n",
      "Feature Extraction: 100%|██████████████████████████████████████████████████████████████| 40/40 [00:04<00:00,  9.79it/s]\u001b[A\u001b[A\n",
      "\n",
      " 86%|████████████████████████████████████████████████████████████████████████            | 6/7 [00:25<00:04,  4.37s/it]\u001b[A\n",
      "\n",
      "Feature Extraction:   0%|                                                                       | 0/40 [00:00<?, ?it/s]\u001b[A\u001b[A\n",
      "\n",
      "Feature Extraction:   2%|█▌                                                             | 1/40 [00:02<01:54,  2.93s/it]\u001b[A\u001b[A\n",
      "\n",
      "Feature Extraction:  12%|███████▉                                                       | 5/40 [00:03<00:16,  2.17it/s]\u001b[A\u001b[A\n",
      "\n",
      "Feature Extraction:  22%|██████████████▏                                                | 9/40 [00:03<00:06,  4.48it/s]\u001b[A\u001b[A\n",
      "\n",
      "Feature Extraction:  32%|████████████████████▏                                         | 13/40 [00:03<00:03,  7.27it/s]\u001b[A\u001b[A\n",
      "\n",
      "Feature Extraction:  42%|██████████████████████████▎                                   | 17/40 [00:03<00:02, 10.46it/s]\u001b[A\u001b[A\n",
      "\n",
      "Feature Extraction:  52%|████████████████████████████████▌                             | 21/40 [00:03<00:01, 10.93it/s]\u001b[A\u001b[A\n",
      "\n",
      "Feature Extraction:  62%|██████████████████████████████████████▊                       | 25/40 [00:03<00:01, 14.32it/s]\u001b[A\u001b[A\n",
      "\n",
      "Feature Extraction:  72%|████████████████████████████████████████████▉                 | 29/40 [00:03<00:00, 17.93it/s]\u001b[A\u001b[A\n",
      "\n",
      "Feature Extraction:  82%|███████████████████████████████████████████████████▏          | 33/40 [00:04<00:00, 19.34it/s]\u001b[A\u001b[A\n",
      "\n",
      "Feature Extraction: 100%|██████████████████████████████████████████████████████████████| 40/40 [00:04<00:00,  9.30it/s]\u001b[A\u001b[A\n",
      "\n",
      "100%|████████████████████████████████████████████████████████████████████████████████████| 7/7 [00:30<00:00,  4.33s/it]\u001b[A\n",
      " 67%|████████████████████████████████████████████████████████                            | 4/6 [02:01<01:00, 30.19s/it]\n",
      "  0%|                                                                                            | 0/7 [00:00<?, ?it/s]\u001b[A\n",
      "\n",
      "Feature Extraction:   0%|                                                                       | 0/40 [00:00<?, ?it/s]\u001b[A\u001b[A\n",
      "\n",
      "Feature Extraction:   2%|█▌                                                             | 1/40 [00:03<01:57,  3.00s/it]\u001b[A\u001b[A\n",
      "\n",
      "Feature Extraction:  15%|█████████▍                                                     | 6/40 [00:03<00:13,  2.56it/s]\u001b[A\u001b[A\n",
      "\n",
      "Feature Extraction:  22%|██████████████▏                                                | 9/40 [00:03<00:08,  3.80it/s]\u001b[A\u001b[A\n",
      "\n",
      "Feature Extraction:  30%|██████████████████▌                                           | 12/40 [00:03<00:04,  5.63it/s]\u001b[A\u001b[A\n",
      "\n",
      "Feature Extraction:  40%|████████████████████████▊                                     | 16/40 [00:03<00:02,  8.66it/s]\u001b[A\u001b[A\n",
      "\n",
      "Feature Extraction:  50%|███████████████████████████████                               | 20/40 [00:03<00:01, 12.10it/s]\u001b[A\u001b[A\n",
      "\n",
      "Feature Extraction:  60%|█████████████████████████████████████▏                        | 24/40 [00:03<00:01, 15.58it/s]\u001b[A\u001b[A\n",
      "\n",
      "Feature Extraction:  70%|███████████████████████████████████████████▍                  | 28/40 [00:03<00:00, 19.03it/s]\u001b[A\u001b[A\n",
      "\n",
      "Feature Extraction:  80%|█████████████████████████████████████████████████▌            | 32/40 [00:04<00:00, 22.24it/s]\u001b[A\u001b[A\n",
      "\n",
      "Feature Extraction:  90%|███████████████████████████████████████████████████████▊      | 36/40 [00:04<00:00, 17.81it/s]\u001b[A\u001b[A\n",
      "\n",
      "Feature Extraction: 100%|██████████████████████████████████████████████████████████████| 40/40 [00:04<00:00,  8.63it/s]\u001b[A\u001b[A\n",
      "\n",
      " 14%|████████████                                                                        | 1/7 [00:04<00:28,  4.83s/it]\u001b[A\n",
      "\n",
      "Feature Extraction:   0%|                                                                       | 0/40 [00:00<?, ?it/s]\u001b[A\u001b[A\n",
      "\n",
      "Feature Extraction:   2%|█▌                                                             | 1/40 [00:02<01:54,  2.94s/it]\u001b[A\u001b[A\n",
      "\n",
      "Feature Extraction:  18%|███████████                                                    | 7/40 [00:03<00:10,  3.10it/s]\u001b[A\u001b[A\n",
      "\n",
      "Feature Extraction:  30%|██████████████████▌                                           | 12/40 [00:03<00:04,  6.00it/s]\u001b[A\u001b[A\n",
      "\n",
      "Feature Extraction:  45%|███████████████████████████▉                                  | 18/40 [00:03<00:02, 10.35it/s]\u001b[A\u001b[A\n",
      "\n",
      "Feature Extraction:  60%|█████████████████████████████████████▏                        | 24/40 [00:03<00:01, 15.28it/s]\u001b[A\u001b[A\n",
      "\n",
      "Feature Extraction:  75%|██████████████████████████████████████████████▌               | 30/40 [00:03<00:00, 20.52it/s]\u001b[A\u001b[A\n",
      "\n",
      "Feature Extraction: 100%|██████████████████████████████████████████████████████████████| 40/40 [00:03<00:00, 10.93it/s]\u001b[A\u001b[A\n",
      "\n",
      " 29%|████████████████████████                                                            | 2/7 [00:08<00:21,  4.24s/it]\u001b[A\n",
      "\n",
      "Feature Extraction:   0%|                                                                       | 0/40 [00:00<?, ?it/s]\u001b[A\u001b[A\n",
      "\n",
      "Feature Extraction:   2%|█▌                                                             | 1/40 [00:03<01:55,  2.97s/it]\u001b[A\u001b[A\n",
      "\n",
      "Feature Extraction:   5%|███▏                                                           | 2/40 [00:03<00:51,  1.36s/it]\u001b[A\u001b[A\n",
      "\n",
      "Feature Extraction:  20%|████████████▌                                                  | 8/40 [00:03<00:07,  4.13it/s]\u001b[A\u001b[A\n",
      "\n",
      "Feature Extraction:  32%|████████████████████▏                                         | 13/40 [00:03<00:03,  7.60it/s]\u001b[A\u001b[A\n",
      "\n",
      "Feature Extraction:  45%|███████████████████████████▉                                  | 18/40 [00:03<00:01, 11.71it/s]\u001b[A\u001b[A\n",
      "\n",
      "Feature Extraction:  60%|█████████████████████████████████████▏                        | 24/40 [00:03<00:00, 17.22it/s]\u001b[A\u001b[A\n",
      "\n",
      "Feature Extraction:  75%|██████████████████████████████████████████████▌               | 30/40 [00:03<00:00, 22.78it/s]\u001b[A\u001b[A\n",
      "\n",
      "Feature Extraction: 100%|██████████████████████████████████████████████████████████████| 40/40 [00:03<00:00, 10.09it/s]\u001b[A\u001b[A\n",
      "\n",
      " 43%|████████████████████████████████████                                                | 3/7 [00:12<00:16,  4.18s/it]\u001b[A\n",
      "\n",
      "Feature Extraction:   0%|                                                                       | 0/40 [00:00<?, ?it/s]\u001b[A\u001b[A\n",
      "\n",
      "Feature Extraction:   2%|█▌                                                             | 1/40 [00:02<01:49,  2.81s/it]\u001b[A\u001b[A\n",
      "\n",
      "Feature Extraction:   8%|████▋                                                          | 3/40 [00:03<00:30,  1.21it/s]\u001b[A\u001b[A\n",
      "\n",
      "Feature Extraction:  18%|███████████                                                    | 7/40 [00:03<00:09,  3.53it/s]\u001b[A\u001b[A\n",
      "\n",
      "Feature Extraction:  28%|█████████████████                                             | 11/40 [00:03<00:04,  6.38it/s]\u001b[A\u001b[A\n",
      "\n",
      "Feature Extraction:  38%|███████████████████████▎                                      | 15/40 [00:03<00:02,  9.74it/s]\u001b[A\u001b[A\n",
      "\n",
      "Feature Extraction:  48%|█████████████████████████████▍                                | 19/40 [00:03<00:01, 13.43it/s]\u001b[A\u001b[A\n",
      "\n",
      "Feature Extraction:  57%|███████████████████████████████████▋                          | 23/40 [00:03<00:00, 17.17it/s]\u001b[A\u001b[A\n",
      "\n",
      "Feature Extraction:  70%|███████████████████████████████████████████▍                  | 28/40 [00:03<00:00, 21.95it/s]\u001b[A\u001b[A\n",
      "\n",
      "Feature Extraction:  80%|█████████████████████████████████████████████████▌            | 32/40 [00:04<00:00, 17.98it/s]\u001b[A\u001b[A\n",
      "\n",
      "Feature Extraction: 100%|██████████████████████████████████████████████████████████████| 40/40 [00:04<00:00,  9.37it/s]\u001b[A\u001b[A\n",
      "\n",
      " 57%|████████████████████████████████████████████████                                    | 4/7 [00:17<00:12,  4.29s/it]\u001b[A\n",
      "\n",
      "Feature Extraction:   0%|                                                                       | 0/40 [00:00<?, ?it/s]\u001b[A\u001b[A\n",
      "\n",
      "Feature Extraction:   2%|█▌                                                             | 1/40 [00:02<01:54,  2.95s/it]\u001b[A\u001b[A\n",
      "\n",
      "Feature Extraction:  12%|███████▉                                                       | 5/40 [00:03<00:16,  2.17it/s]\u001b[A\u001b[A\n",
      "\n",
      "Feature Extraction:  22%|██████████████▏                                                | 9/40 [00:03<00:07,  4.41it/s]\u001b[A\u001b[A\n",
      "\n",
      "Feature Extraction:  30%|██████████████████▌                                           | 12/40 [00:03<00:04,  6.44it/s]\u001b[A\u001b[A\n",
      "\n",
      "Feature Extraction:  38%|███████████████████████▎                                      | 15/40 [00:03<00:03,  7.22it/s]\u001b[A\u001b[A\n",
      "\n",
      "Feature Extraction:  45%|███████████████████████████▉                                  | 18/40 [00:03<00:02,  9.60it/s]\u001b[A\u001b[A\n",
      "\n",
      "Feature Extraction:  55%|██████████████████████████████████                            | 22/40 [00:03<00:01, 13.05it/s]\u001b[A\u001b[A\n",
      "\n",
      "Feature Extraction:  65%|████████████████████████████████████████▎                     | 26/40 [00:03<00:00, 16.37it/s]\u001b[A\u001b[A\n",
      "\n",
      "Feature Extraction:  75%|██████████████████████████████████████████████▌               | 30/40 [00:04<00:00, 19.53it/s]\u001b[A\u001b[A\n",
      "\n",
      "Feature Extraction:  82%|███████████████████████████████████████████████████▏          | 33/40 [00:04<00:00, 18.68it/s]\u001b[A\u001b[A\n",
      "\n",
      "Feature Extraction:  90%|███████████████████████████████████████████████████████▊      | 36/40 [00:04<00:00, 14.99it/s]\u001b[A\u001b[A\n",
      "\n",
      "Feature Extraction: 100%|██████████████████████████████████████████████████████████████| 40/40 [00:04<00:00,  8.44it/s]\u001b[A\u001b[A\n",
      "\n",
      " 71%|████████████████████████████████████████████████████████████                        | 5/7 [00:22<00:09,  4.52s/it]\u001b[A\n",
      "\n",
      "Feature Extraction:   0%|                                                                       | 0/40 [00:00<?, ?it/s]\u001b[A\u001b[A\n",
      "\n",
      "Feature Extraction:   2%|█▌                                                             | 1/40 [00:02<01:56,  2.99s/it]\u001b[A\u001b[A\n",
      "\n",
      "Feature Extraction:  18%|███████████                                                    | 7/40 [00:03<00:10,  3.03it/s]\u001b[A\u001b[A\n",
      "\n",
      "Feature Extraction:  30%|██████████████████▌                                           | 12/40 [00:03<00:04,  5.85it/s]\u001b[A\u001b[A\n",
      "\n",
      "Feature Extraction:  42%|██████████████████████████▎                                   | 17/40 [00:03<00:02,  9.31it/s]\u001b[A\u001b[A\n",
      "\n",
      "Feature Extraction:  55%|██████████████████████████████████                            | 22/40 [00:03<00:01, 13.32it/s]\u001b[A\u001b[A\n",
      "\n",
      "Feature Extraction:  68%|█████████████████████████████████████████▊                    | 27/40 [00:03<00:00, 17.79it/s]\u001b[A\u001b[A\n",
      "\n",
      "Feature Extraction:  80%|█████████████████████████████████████████████████▌            | 32/40 [00:03<00:00, 22.41it/s]\u001b[A\u001b[A\n",
      "\n",
      "Feature Extraction: 100%|██████████████████████████████████████████████████████████████| 40/40 [00:03<00:00, 10.00it/s]\u001b[A\u001b[A\n",
      "\n",
      " 86%|████████████████████████████████████████████████████████████████████████            | 6/7 [00:26<00:04,  4.40s/it]\u001b[A\n",
      "\n",
      "Feature Extraction:   0%|                                                                       | 0/40 [00:00<?, ?it/s]\u001b[A\u001b[A\n",
      "\n",
      "Feature Extraction:   2%|█▌                                                             | 1/40 [00:02<01:55,  2.97s/it]\u001b[A\u001b[A\n",
      "\n",
      "Feature Extraction:  12%|███████▉                                                       | 5/40 [00:03<00:16,  2.14it/s]\u001b[A\u001b[A\n",
      "\n",
      "Feature Extraction:  22%|██████████████▏                                                | 9/40 [00:03<00:07,  4.38it/s]\u001b[A\u001b[A\n",
      "\n",
      "Feature Extraction:  32%|████████████████████▏                                         | 13/40 [00:03<00:03,  7.10it/s]\u001b[A\u001b[A\n",
      "\n",
      "Feature Extraction:  42%|██████████████████████████▎                                   | 17/40 [00:03<00:02, 10.20it/s]\u001b[A\u001b[A\n",
      "\n",
      "Feature Extraction:  52%|████████████████████████████████▌                             | 21/40 [00:03<00:01, 13.52it/s]\u001b[A\u001b[A\n",
      "\n",
      "Feature Extraction:  62%|██████████████████████████████████████▊                       | 25/40 [00:03<00:01, 13.47it/s]\u001b[A\u001b[A\n",
      "\n",
      "Feature Extraction:  70%|███████████████████████████████████████████▍                  | 28/40 [00:04<00:00, 15.16it/s]\u001b[A\u001b[A\n",
      "\n",
      "Feature Extraction:  80%|█████████████████████████████████████████████████▌            | 32/40 [00:04<00:00, 17.54it/s]\u001b[A\u001b[A\n",
      "\n",
      "Feature Extraction:  88%|██████████████████████████████████████████████████████▎       | 35/40 [00:04<00:00, 19.07it/s]\u001b[A\u001b[A\n",
      "\n",
      "Feature Extraction: 100%|██████████████████████████████████████████████████████████████| 40/40 [00:04<00:00,  9.02it/s]\u001b[A\u001b[A\n",
      "\n",
      "100%|████████████████████████████████████████████████████████████████████████████████████| 7/7 [00:30<00:00,  4.42s/it]\u001b[A\n",
      " 83%|██████████████████████████████████████████████████████████████████████              | 5/6 [02:32<00:30, 30.47s/it]\n",
      "  0%|                                                                                            | 0/7 [00:00<?, ?it/s]\u001b[A\n",
      "\n",
      "Feature Extraction:   0%|                                                                       | 0/40 [00:00<?, ?it/s]\u001b[A\u001b[A\n",
      "\n",
      "Feature Extraction:   2%|█▌                                                             | 1/40 [00:02<01:50,  2.84s/it]\u001b[A\u001b[A\n",
      "\n",
      "Feature Extraction:  15%|█████████▍                                                     | 6/40 [00:02<00:12,  2.70it/s]\u001b[A\u001b[A\n",
      "\n",
      "Feature Extraction:  25%|███████████████▌                                              | 10/40 [00:03<00:06,  4.44it/s]\u001b[A\u001b[A\n",
      "\n",
      "Feature Extraction:  35%|█████████████████████▋                                        | 14/40 [00:03<00:03,  6.95it/s]\u001b[A\u001b[A\n",
      "\n",
      "Feature Extraction:  45%|███████████████████████████▉                                  | 18/40 [00:03<00:02,  9.89it/s]\u001b[A\u001b[A\n",
      "\n",
      "Feature Extraction:  55%|██████████████████████████████████                            | 22/40 [00:03<00:01, 13.23it/s]\u001b[A\u001b[A\n",
      "\n",
      "Feature Extraction:  65%|████████████████████████████████████████▎                     | 26/40 [00:03<00:00, 16.39it/s]\u001b[A\u001b[A\n",
      "\n",
      "Feature Extraction:  78%|████████████████████████████████████████████████              | 31/40 [00:03<00:00, 20.87it/s]\u001b[A\u001b[A\n",
      "\n",
      "Feature Extraction:  88%|██████████████████████████████████████████████████████▎       | 35/40 [00:04<00:00, 16.09it/s]\u001b[A\u001b[A\n",
      "\n",
      "Feature Extraction: 100%|██████████████████████████████████████████████████████████████| 40/40 [00:04<00:00,  9.05it/s]\u001b[A\u001b[A\n",
      "\n",
      " 14%|████████████                                                                        | 1/7 [00:04<00:27,  4.61s/it]\u001b[A\n",
      "\n",
      "Feature Extraction:   0%|                                                                       | 0/40 [00:00<?, ?it/s]\u001b[A\u001b[A\n",
      "\n",
      "Feature Extraction:   2%|█▌                                                             | 1/40 [00:02<01:50,  2.84s/it]\u001b[A\u001b[A\n",
      "\n",
      "Feature Extraction:  18%|███████████                                                    | 7/40 [00:02<00:10,  3.21it/s]\u001b[A\u001b[A\n",
      "\n",
      "Feature Extraction:  32%|████████████████████▏                                         | 13/40 [00:03<00:03,  6.80it/s]\u001b[A\u001b[A\n",
      "\n",
      "Feature Extraction:  48%|█████████████████████████████▍                                | 19/40 [00:03<00:01, 11.12it/s]\u001b[A\u001b[A\n",
      "\n",
      "Feature Extraction:  62%|██████████████████████████████████████▊                       | 25/40 [00:03<00:00, 16.11it/s]\u001b[A\u001b[A\n",
      "\n",
      "Feature Extraction:  78%|████████████████████████████████████████████████              | 31/40 [00:03<00:00, 21.50it/s]\u001b[A\u001b[A\n",
      "\n",
      "Feature Extraction: 100%|██████████████████████████████████████████████████████████████| 40/40 [00:03<00:00, 11.28it/s]\u001b[A\u001b[A\n",
      "\n",
      " 29%|████████████████████████                                                            | 2/7 [00:08<00:20,  4.07s/it]\u001b[A\n",
      "\n",
      "Feature Extraction:   0%|                                                                       | 0/40 [00:00<?, ?it/s]\u001b[A\u001b[A\n",
      "\n",
      "Feature Extraction:   2%|█▌                                                             | 1/40 [00:02<01:55,  2.97s/it]\u001b[A\u001b[A\n",
      "\n",
      "Feature Extraction:  18%|███████████                                                    | 7/40 [00:03<00:11,  2.79it/s]\u001b[A\u001b[A\n",
      "\n",
      "Feature Extraction:  30%|██████████████████▌                                           | 12/40 [00:03<00:05,  5.41it/s]\u001b[A\u001b[A\n",
      "\n",
      "Feature Extraction:  42%|██████████████████████████▎                                   | 17/40 [00:03<00:02,  8.65it/s]\u001b[A\u001b[A\n",
      "\n",
      "Feature Extraction:  57%|███████████████████████████████████▋                          | 23/40 [00:03<00:01, 13.36it/s]\u001b[A\u001b[A\n",
      "\n",
      "Feature Extraction:  72%|████████████████████████████████████████████▉                 | 29/40 [00:03<00:00, 18.34it/s]\u001b[A\u001b[A\n",
      "\n",
      "Feature Extraction:  88%|██████████████████████████████████████████████████████▎       | 35/40 [00:03<00:00, 23.53it/s]\u001b[A\u001b[A\n",
      "\n",
      "Feature Extraction: 100%|██████████████████████████████████████████████████████████████| 40/40 [00:03<00:00, 10.07it/s]\u001b[A\u001b[A\n",
      "\n",
      " 43%|████████████████████████████████████                                                | 3/7 [00:12<00:16,  4.10s/it]\u001b[A\n",
      "\n",
      "Feature Extraction:   0%|                                                                       | 0/40 [00:00<?, ?it/s]\u001b[A\u001b[A\n",
      "\n",
      "Feature Extraction:   2%|█▌                                                             | 1/40 [00:02<01:55,  2.97s/it]\u001b[A\u001b[A\n",
      "\n",
      "Feature Extraction:  12%|███████▉                                                       | 5/40 [00:03<00:16,  2.14it/s]\u001b[A\u001b[A\n",
      "\n",
      "Feature Extraction:  20%|████████████▌                                                  | 8/40 [00:03<00:09,  3.45it/s]\u001b[A\u001b[A\n",
      "\n",
      "Feature Extraction:  30%|██████████████████▌                                           | 12/40 [00:03<00:04,  6.04it/s]\u001b[A\u001b[A\n",
      "\n",
      "Feature Extraction:  40%|████████████████████████▊                                     | 16/40 [00:03<00:02,  9.14it/s]\u001b[A\u001b[A\n",
      "\n",
      "Feature Extraction:  52%|████████████████████████████████▌                             | 21/40 [00:03<00:01, 13.52it/s]\u001b[A\u001b[A\n",
      "\n",
      "Feature Extraction:  62%|██████████████████████████████████████▊                       | 25/40 [00:03<00:00, 17.16it/s]\u001b[A\u001b[A\n",
      "\n",
      "Feature Extraction:  75%|██████████████████████████████████████████████▌               | 30/40 [00:03<00:00, 21.49it/s]\u001b[A\u001b[A\n",
      "\n",
      "Feature Extraction:  85%|████████████████████████████████████████████████████▋         | 34/40 [00:04<00:00, 15.91it/s]\u001b[A\u001b[A\n",
      "\n",
      "Feature Extraction: 100%|██████████████████████████████████████████████████████████████| 40/40 [00:04<00:00,  8.96it/s]\u001b[A\u001b[A\n",
      "\n",
      " 57%|████████████████████████████████████████████████                                    | 4/7 [00:17<00:12,  4.31s/it]\u001b[A\n",
      "\n",
      "Feature Extraction:   0%|                                                                       | 0/40 [00:00<?, ?it/s]\u001b[A\u001b[A\n",
      "\n",
      "Feature Extraction:   2%|█▌                                                             | 1/40 [00:02<01:53,  2.92s/it]\u001b[A\u001b[A\n",
      "\n",
      "Feature Extraction:  12%|███████▉                                                       | 5/40 [00:03<00:16,  2.18it/s]\u001b[A\u001b[A\n",
      "\n",
      "Feature Extraction:  22%|██████████████▏                                                | 9/40 [00:03<00:06,  4.45it/s]\u001b[A\u001b[A\n",
      "\n",
      "Feature Extraction:  30%|██████████████████▌                                           | 12/40 [00:03<00:04,  6.47it/s]\u001b[A\u001b[A\n",
      "\n",
      "Feature Extraction:  40%|████████████████████████▊                                     | 16/40 [00:03<00:02,  9.64it/s]\u001b[A\u001b[A\n",
      "\n",
      "Feature Extraction:  48%|█████████████████████████████▍                                | 19/40 [00:03<00:02,  9.39it/s]\u001b[A\u001b[A\n",
      "\n",
      "Feature Extraction:  57%|███████████████████████████████████▋                          | 23/40 [00:03<00:01, 12.97it/s]\u001b[A\u001b[A\n",
      "\n",
      "Feature Extraction:  68%|█████████████████████████████████████████▊                    | 27/40 [00:03<00:00, 16.11it/s]\u001b[A\u001b[A\n",
      "\n",
      "Feature Extraction:  78%|████████████████████████████████████████████████              | 31/40 [00:04<00:00, 19.37it/s]\u001b[A\u001b[A\n",
      "\n",
      "Feature Extraction:  85%|████████████████████████████████████████████████████▋         | 34/40 [00:04<00:00, 19.38it/s]\u001b[A\u001b[A\n",
      "\n",
      "Feature Extraction: 100%|██████████████████████████████████████████████████████████████| 40/40 [00:04<00:00,  8.99it/s]\u001b[A\u001b[A\n",
      "\n",
      " 71%|████████████████████████████████████████████████████████████                        | 5/7 [00:21<00:08,  4.44s/it]\u001b[A\n",
      "\n",
      "Feature Extraction:   0%|                                                                       | 0/40 [00:00<?, ?it/s]\u001b[A\u001b[A\n",
      "\n",
      "Feature Extraction:   2%|█▌                                                             | 1/40 [00:03<01:57,  3.01s/it]\u001b[A\u001b[A\n",
      "\n",
      "Feature Extraction:   5%|███▏                                                           | 2/40 [00:03<00:52,  1.39s/it]\u001b[A\u001b[A\n",
      "\n",
      "Feature Extraction:  20%|████████████▌                                                  | 8/40 [00:03<00:07,  4.08it/s]\u001b[A\u001b[A\n",
      "\n",
      "Feature Extraction:  32%|████████████████████▏                                         | 13/40 [00:03<00:03,  7.48it/s]\u001b[A\u001b[A\n",
      "\n",
      "Feature Extraction:  48%|█████████████████████████████▍                                | 19/40 [00:03<00:01, 12.28it/s]\u001b[A\u001b[A\n",
      "\n",
      "Feature Extraction:  60%|█████████████████████████████████████▏                        | 24/40 [00:03<00:00, 16.64it/s]\u001b[A\u001b[A\n",
      "\n",
      "Feature Extraction:  72%|████████████████████████████████████████████▉                 | 29/40 [00:03<00:00, 21.16it/s]\u001b[A\u001b[A\n",
      "\n",
      "Feature Extraction:  85%|████████████████████████████████████████████████████▋         | 34/40 [00:03<00:00, 25.84it/s]\u001b[A\u001b[A\n",
      "\n",
      "Feature Extraction: 100%|██████████████████████████████████████████████████████████████| 40/40 [00:04<00:00,  9.89it/s]\u001b[A\u001b[A\n",
      "\n",
      " 86%|████████████████████████████████████████████████████████████████████████            | 6/7 [00:25<00:04,  4.36s/it]\u001b[A\n",
      "\n",
      "Feature Extraction:   0%|                                                                       | 0/40 [00:00<?, ?it/s]\u001b[A\u001b[A\n",
      "\n",
      "Feature Extraction:   2%|█▌                                                             | 1/40 [00:02<01:51,  2.85s/it]\u001b[A\u001b[A\n",
      "\n",
      "Feature Extraction:   5%|███▏                                                           | 2/40 [00:03<00:50,  1.32s/it]\u001b[A\u001b[A\n",
      "\n",
      "Feature Extraction:  12%|███████▉                                                       | 5/40 [00:03<00:13,  2.50it/s]\u001b[A\u001b[A\n",
      "\n",
      "Feature Extraction:  22%|██████████████▏                                                | 9/40 [00:03<00:05,  5.36it/s]\u001b[A\u001b[A\n",
      "\n",
      "Feature Extraction:  32%|████████████████████▏                                         | 13/40 [00:03<00:03,  8.68it/s]\u001b[A\u001b[A\n",
      "\n",
      "Feature Extraction:  42%|██████████████████████████▎                                   | 17/40 [00:03<00:01, 12.19it/s]\u001b[A\u001b[A\n",
      "\n",
      "Feature Extraction:  52%|████████████████████████████████▌                             | 21/40 [00:03<00:01, 15.75it/s]\u001b[A\u001b[A\n",
      "\n",
      "Feature Extraction:  62%|██████████████████████████████████████▊                       | 25/40 [00:03<00:00, 19.17it/s]\u001b[A\u001b[A\n",
      "\n",
      "Feature Extraction:  72%|████████████████████████████████████████████▉                 | 29/40 [00:04<00:00, 16.29it/s]\u001b[A\u001b[A\n",
      "\n",
      "Feature Extraction:  80%|█████████████████████████████████████████████████▌            | 32/40 [00:04<00:00, 17.49it/s]\u001b[A\u001b[A\n",
      "\n",
      "Feature Extraction:  88%|██████████████████████████████████████████████████████▎       | 35/40 [00:04<00:00, 17.79it/s]\u001b[A\u001b[A\n",
      "\n",
      "Feature Extraction: 100%|██████████████████████████████████████████████████████████████| 40/40 [00:04<00:00,  8.73it/s]\u001b[A\u001b[A\n",
      "\n",
      "100%|████████████████████████████████████████████████████████████████████████████████████| 7/7 [00:30<00:00,  4.39s/it]\u001b[A\n",
      "100%|████████████████████████████████████████████████████████████████████████████████████| 6/6 [03:02<00:00, 30.46s/it]\n"
     ]
    }
   ],
   "source": [
    "X_t_test = []\n",
    "y_t_test = []\n",
    "\n",
    "# 外层循环：遍历每个key\n",
    "for idx in tqdm(range(len(keys))):\n",
    "    X_l = X_t_l[idx]  # 获取当前key的DataFrame列表\n",
    "    y_l = y_t_l[idx]  # 对应的标签列表\n",
    "    \n",
    "    assert len(X_l) == len(y_l), \"X_l和y_l长度不一致\"\n",
    "    \n",
    "    # 初始化当前key的特征和标签存储\n",
    "    X_test_dfs = []  # 存储每个DF提取的特征\n",
    "    y_test_arrays = []  # 存储每个DF对应的标签数组\n",
    "    \n",
    "    # 内层循环：处理每个DataFrame\n",
    "    for j in tqdm(range(len(X_l))):\n",
    "        try:\n",
    "            # 提取特征\n",
    "            features = extract_features(\n",
    "                X_l[j],\n",
    "                column_id=\"id\",\n",
    "                column_sort=\"time\",\n",
    "                default_fc_parameters=MinimalFCParameters()\n",
    "            )\n",
    "            # 填充缺失值\n",
    "            features_imputed = impute(features)\n",
    "            \n",
    "            # 获取当前DataFrame中的唯一id数量\n",
    "            num_ids = features_imputed.shape[0]\n",
    "            \n",
    "            # 创建与特征行数匹配的标签数组\n",
    "            # 重要：确保每个id对应一个标签\n",
    "            if isinstance(y_l[j], (list, np.ndarray)) and len(y_l[j]) == num_ids:\n",
    "                # 如果标签已经是与id匹配的数组\n",
    "                label_array = np.array(y_l[j])\n",
    "            else:\n",
    "                # 如果标签是单个值，则复制到所有id\n",
    "                label_array = np.full(num_ids, y_l[j])\n",
    "            \n",
    "            # 收集结果\n",
    "            X_test_dfs.append(features_imputed)\n",
    "            y_test_arrays.append(label_array)\n",
    "            \n",
    "        except Exception as e:\n",
    "            print(f\"处理X_l[{j}]时出错: {e}\")\n",
    "            continue\n",
    "    \n",
    "    # 合并当前key的所有特征\n",
    "    if X_test_dfs:\n",
    "        X_test_combined = pd.concat(X_test_dfs, ignore_index=True)\n",
    "        # 合并标签数组\n",
    "        y_test_combined = np.concatenate(y_test_arrays)\n",
    "    else:\n",
    "        X_test_combined = pd.DataFrame()\n",
    "        y_test_combined = np.array([])\n",
    "    \n",
    "    # 存储结果\n",
    "    X_t_test.append(X_test_combined)\n",
    "    y_t_test.append(y_test_combined)  # 现在格式与X_t_test一致"
   ]
  },
  {
   "cell_type": "code",
   "execution_count": 44,
   "metadata": {},
   "outputs": [
    {
     "data": {
      "text/plain": [
       "14972"
      ]
     },
     "execution_count": 44,
     "metadata": {},
     "output_type": "execute_result"
    }
   ],
   "source": [
    "len(X_t_test[0])"
   ]
  },
  {
   "cell_type": "code",
   "execution_count": 45,
   "metadata": {},
   "outputs": [
    {
     "data": {
      "text/plain": [
       "14972"
      ]
     },
     "execution_count": 45,
     "metadata": {},
     "output_type": "execute_result"
    }
   ],
   "source": [
    "len(y_t_test[0])"
   ]
  },
  {
   "cell_type": "code",
   "execution_count": 215,
   "metadata": {},
   "outputs": [],
   "source": [
    "#保存\n",
    "with open('y_t_test.pkl', 'wb') as file:  \n",
    "    pickle.dump(y_t_test, file)"
   ]
  },
  {
   "cell_type": "code",
   "execution_count": 64,
   "metadata": {},
   "outputs": [
    {
     "name": "stderr",
     "output_type": "stream",
     "text": [
      "  0%|                                                                                            | 0/1 [00:00<?, ?it/s]\n",
      "100%|████████████████████████████████████████████████████████████████████████████████████████████| 2/2 [00:00<?, ?it/s]\u001b[A\n",
      "100%|███████████████████████████████████████████████████████████████████████████████████| 1/1 [00:00<00:00, 285.02it/s]\n"
     ]
    }
   ],
   "source": [
    "nodes_label = []\n",
    "\n",
    "for key in tqdm(keys):\n",
    "  y_l = []\n",
    "  for df in tqdm(data_dict[key]):\n",
    "    y =df[\"vertical_rate\"]\n",
    "    y_l.extend(y)\n",
    "\n",
    "  nodes_label.extend(y_l)"
   ]
  },
  {
   "cell_type": "code",
   "execution_count": 67,
   "metadata": {
    "scrolled": true
   },
   "outputs": [
    {
     "name": "stderr",
     "output_type": "stream",
     "text": [
      "100%|█████████████████████████████████████████████████████████████████████████████| 3737/3737 [00:16<00:00, 227.22it/s]\n"
     ]
    }
   ],
   "source": [
    "x_vi_t_al = []\n",
    "x = []\n",
    "for i in tqdm(range(len(X_t_l))):\n",
    "    x = visibility_graph(X_t_l[i])\n",
    "    x_vi_t_al.append(x)"
   ]
  },
  {
   "cell_type": "code",
   "execution_count": 68,
   "metadata": {},
   "outputs": [],
   "source": [
    "labels = nodes_label\n",
    "for G in x_vi_t_al:\n",
    "   label_dict = {node: label for node, label in zip(G.nodes(), labels)}  \n",
    "   nx.set_node_attributes(G, label_dict, 'vertical_rate') "
   ]
  },
  {
   "cell_type": "code",
   "execution_count": 69,
   "metadata": {
    "scrolled": true
   },
   "outputs": [
    {
     "name": "stdout",
     "output_type": "stream",
     "text": [
      "Node 0 has label 0\n",
      "Node 1 has label 0\n",
      "Node 2 has label 0\n",
      "Node 3 has label 0\n",
      "Node 4 has label 0\n",
      "Node 5 has label 0\n",
      "Node 6 has label 0\n",
      "Node 7 has label 0\n",
      "Node 8 has label 0\n",
      "Node 9 has label 0\n",
      "Node 10 has label 0\n",
      "Node 11 has label 0\n",
      "Node 12 has label 0\n",
      "Node 13 has label 0\n",
      "Node 14 has label 0\n",
      "Node 15 has label 0\n",
      "Node 16 has label 0\n",
      "Node 17 has label 0\n",
      "Node 18 has label 0\n",
      "Node 19 has label 0\n",
      "Node 20 has label 0\n",
      "Node 21 has label 0\n",
      "Node 22 has label 0\n",
      "Node 23 has label 0\n",
      "Node 24 has label 0\n",
      "Node 25 has label 0\n",
      "Node 26 has label 0\n",
      "Node 27 has label 0\n",
      "Node 28 has label 0\n",
      "Node 29 has label 0\n",
      "Node 30 has label 0\n",
      "Node 31 has label 0\n",
      "Node 32 has label 0\n",
      "Node 33 has label 0\n",
      "Node 34 has label 0\n",
      "Node 35 has label 0\n",
      "Node 36 has label 0\n",
      "Node 37 has label 0\n",
      "Node 38 has label 0\n",
      "Node 39 has label 0\n",
      "Node 40 has label 0\n",
      "Node 41 has label 0\n",
      "Node 42 has label 0\n",
      "Node 43 has label 0\n",
      "Node 44 has label 0\n",
      "Node 45 has label 0\n",
      "Node 46 has label 0\n",
      "Node 47 has label 0\n",
      "Node 48 has label 0\n",
      "Node 49 has label 0\n"
     ]
    }
   ],
   "source": [
    "for node in G.nodes():  \n",
    "    print(f'Node {node} has label {x_vi_t_al[0].nodes[node].get(\"vertical_rate\")}')"
   ]
  },
  {
   "cell_type": "code",
   "execution_count": 70,
   "metadata": {},
   "outputs": [
    {
     "data": {
      "text/plain": [
       "{'mag': 34000.0, 'vertical_rate': 0}"
      ]
     },
     "execution_count": 70,
     "metadata": {},
     "output_type": "execute_result"
    }
   ],
   "source": [
    "x_vi_t_al[0].nodes[0]"
   ]
  },
  {
   "cell_type": "code",
   "execution_count": 71,
   "metadata": {},
   "outputs": [],
   "source": [
    "G = []\n",
    "G = graph_from_networkx(x_vi_t_al, node_labels_tag='vertical_rate')"
   ]
  },
  {
   "cell_type": "code",
   "execution_count": 72,
   "metadata": {
    "scrolled": true
   },
   "outputs": [],
   "source": [
    "T_train = gk.fit_transform(G)"
   ]
  },
  {
   "cell_type": "code",
   "execution_count": 73,
   "metadata": {},
   "outputs": [
    {
     "data": {
      "text/plain": [
       "(3737, 3737)"
      ]
     },
     "execution_count": 73,
     "metadata": {},
     "output_type": "execute_result"
    }
   ],
   "source": [
    "T_train.shape"
   ]
  },
  {
   "cell_type": "code",
   "execution_count": 156,
   "metadata": {},
   "outputs": [
    {
     "data": {
      "text/plain": [
       "array([0., 0., 0., ..., 0., 0., 0.])"
      ]
     },
     "execution_count": 156,
     "metadata": {},
     "output_type": "execute_result"
    }
   ],
   "source": [
    "y_t_test[4]"
   ]
  },
  {
   "cell_type": "code",
   "execution_count": 74,
   "metadata": {},
   "outputs": [
    {
     "name": "stderr",
     "output_type": "stream",
     "text": [
      "  0%|                                                                                         | 0/2476 [00:00<?, ?it/s]\n"
     ]
    },
    {
     "ename": "TypeError",
     "evalue": "unsupported operand type(s) for -: 'str' and 'str'",
     "output_type": "error",
     "traceback": [
      "\u001b[1;31m---------------------------------------------------------------------------\u001b[0m",
      "\u001b[1;31mTypeError\u001b[0m                                 Traceback (most recent call last)",
      "Cell \u001b[1;32mIn[74], line 3\u001b[0m\n\u001b[0;32m      1\u001b[0m x_vi_t_al \u001b[38;5;241m=\u001b[39m []\n\u001b[0;32m      2\u001b[0m \u001b[38;5;28;01mfor\u001b[39;00m i \u001b[38;5;129;01min\u001b[39;00m tqdm(X_t_test[\u001b[38;5;241m0\u001b[39m][\u001b[38;5;241m1\u001b[39m:]):\n\u001b[1;32m----> 3\u001b[0m     x_vi_t_al\u001b[38;5;241m.\u001b[39mextend(visibility_graph(i))\n",
      "File \u001b[1;32mD:\\anaconda\\Lib\\site-packages\\visibility_graph\\__init__.py:35\u001b[0m, in \u001b[0;36mvisibility_graph\u001b[1;34m(series)\u001b[0m\n\u001b[0;32m     31\u001b[0m \u001b[38;5;28;01mfor\u001b[39;00m tc, yc \u001b[38;5;129;01min\u001b[39;00m tseries[ta\u001b[38;5;241m+\u001b[39m\u001b[38;5;241m1\u001b[39m:tb]:\n\u001b[0;32m     32\u001b[0m     \u001b[38;5;66;03m# other points, not a or b\u001b[39;00m\n\u001b[0;32m     33\u001b[0m     \u001b[38;5;28;01mif\u001b[39;00m tc \u001b[38;5;241m!=\u001b[39m ta \u001b[38;5;129;01mand\u001b[39;00m tc \u001b[38;5;241m!=\u001b[39m tb:\n\u001b[0;32m     34\u001b[0m         \u001b[38;5;66;03m# does c obstruct?\u001b[39;00m\n\u001b[1;32m---> 35\u001b[0m         \u001b[38;5;28;01mif\u001b[39;00m yc \u001b[38;5;241m>\u001b[39m\u001b[38;5;241m=\u001b[39m yb \u001b[38;5;241m+\u001b[39m (ya \u001b[38;5;241m-\u001b[39m yb) \u001b[38;5;241m*\u001b[39m ( (tb \u001b[38;5;241m-\u001b[39m tc) \u001b[38;5;241m/\u001b[39m (tb \u001b[38;5;241m-\u001b[39m ta) ):\n\u001b[0;32m     36\u001b[0m             connect \u001b[38;5;241m=\u001b[39m \u001b[38;5;28;01mFalse\u001b[39;00m\n\u001b[0;32m     38\u001b[0m \u001b[38;5;28;01mif\u001b[39;00m connect:\n",
      "\u001b[1;31mTypeError\u001b[0m: unsupported operand type(s) for -: 'str' and 'str'"
     ]
    }
   ],
   "source": [
    "x_vi_t_al = []\n",
    "for i in tqdm(X_t_test[0][1:]):\n",
    "    x_vi_t_al.extend(visibility_graph(i))"
   ]
  },
  {
   "cell_type": "code",
   "execution_count": null,
   "metadata": {},
   "outputs": [],
   "source": []
  },
  {
   "cell_type": "code",
   "execution_count": 46,
   "metadata": {
    "id": "p9tpwWszFtML",
    "scrolled": true
   },
   "outputs": [],
   "source": [
    "X_test_n = []\n",
    "for x in X_t_test:\n",
    "  X_test_n.append(autoencoder_model_feature_pipeline.transform(x))"
   ]
  },
  {
   "cell_type": "code",
   "execution_count": 47,
   "metadata": {},
   "outputs": [
    {
     "data": {
      "text/plain": [
       "array([ 0.11543812,  0.09988171,  0.11543812,  0.        , -0.12533356,\n",
       "       -0.04802566, -0.14367586, -0.06577968, -0.10025241,  0.16392538,\n",
       "       -0.96458024,  0.17133568, -0.96458024,  0.        ,  2.46035904,\n",
       "        1.48695786,  2.39920572,  1.00907805,  0.54822821, -0.93055183,\n",
       "        0.36772969,  0.36723648,  0.36772969,  0.        , -0.23003366,\n",
       "       -0.11448825, -0.37202283,  0.35714013, -0.3804793 ,  0.37846506,\n",
       "       -1.54354201, -1.66546273, -1.54354201,  0.        , -0.10898415,\n",
       "       -0.06508145,  0.330322  , -0.63932063, -0.07029108, -0.0760874 ,\n",
       "        0.77759685,  0.76576625,  0.77759685,  0.        , -0.2862488 ,\n",
       "       -0.0932802 , -0.37925913,  0.32657113, -0.24894569,  0.28333813])"
      ]
     },
     "execution_count": 47,
     "metadata": {},
     "output_type": "execute_result"
    }
   ],
   "source": [
    "X_test_n[0][0]"
   ]
  },
  {
   "cell_type": "code",
   "execution_count": 98,
   "metadata": {
    "id": "uSuva0AtFysn",
    "scrolled": true
   },
   "outputs": [
    {
     "name": "stdout",
     "output_type": "stream",
     "text": [
      "468/468 [==============================] - 1s 2ms/step\n",
      "468/468 [==============================] - 1s 2ms/step\n",
      "468/468 [==============================] - 1s 2ms/step\n",
      "468/468 [==============================] - 1s 2ms/step\n",
      "468/468 [==============================] - 1s 2ms/step\n",
      "468/468 [==============================] - 1s 2ms/step\n"
     ]
    }
   ],
   "source": [
    "preds_l = []\n",
    "for x in X_test_n:\n",
    "  preds_l.append(model.predict(x))"
   ]
  },
  {
   "cell_type": "code",
   "execution_count": 99,
   "metadata": {
    "id": "DRZmJkO-Fy1w"
   },
   "outputs": [],
   "source": [
    "reconstruction_errors_l = []\n",
    "\n",
    "for i, x in enumerate(X_test_n):\n",
    "  reconstruction_errors = []\n",
    "  for j, row in enumerate(x):\n",
    "    reconstruction_errors.append(np.linalg.norm(x[i] - preds_l[i][j]) ** 2)\n",
    "\n",
    "  reconstruction_errors_l.append(reconstruction_errors)"
   ]
  },
  {
   "cell_type": "code",
   "execution_count": 100,
   "metadata": {
    "id": "BDMEUkjqxn1Y"
   },
   "outputs": [],
   "source": [
    "standard_reconstruction_errors_noise_df = pd.DataFrame(columns=['reconstruction_errors'], data=reconstruction_errors_l[0])\n",
    "standard_reconstruction_errors_landing_df = pd.DataFrame(columns=['reconstruction_errors'], data=reconstruction_errors_l[1])\n",
    "standard_reconstruction_errors_departing_df = pd.DataFrame(columns=['reconstruction_errors'], data=reconstruction_errors_l[2])\n",
    "standard_reconstruction_errors_manoeuver_df = pd.DataFrame(columns=['reconstruction_errors'], data=reconstruction_errors_l[3])\n",
    "standard_reconstruction_errors_deviation_df = pd.DataFrame(columns=['reconstruction_errors'], data=reconstruction_errors_l[4])\n",
    "standard_reconstruction_errors_stand_df = pd.DataFrame(columns=['reconstruction_errors'], data=reconstruction_errors_l[5])"
   ]
  },
  {
   "cell_type": "code",
   "execution_count": 101,
   "metadata": {
    "id": "zfmvdjjqLOoq"
   },
   "outputs": [],
   "source": [
    "standard_preds_label_test_noise = q_verdict(standard_reconstruction_errors_noise_df[\"reconstruction_errors\"], mu, std, STANDARD_Q_THRESHOLD)\n",
    "standard_preds_label_test_landing = q_verdict(standard_reconstruction_errors_landing_df[\"reconstruction_errors\"], mu, std, STANDARD_Q_THRESHOLD)\n",
    "standard_preds_label_test_departing = q_verdict(standard_reconstruction_errors_departing_df[\"reconstruction_errors\"], mu, std, STANDARD_Q_THRESHOLD)\n",
    "standard_preds_label_test_manoeuver = q_verdict(standard_reconstruction_errors_manoeuver_df[\"reconstruction_errors\"], mu, std, STANDARD_Q_THRESHOLD)\n",
    "standard_preds_label_test_deviation = q_verdict(standard_reconstruction_errors_deviation_df[\"reconstruction_errors\"], mu, std, STANDARD_Q_THRESHOLD)\n",
    "standard_preds_label_test_stand = q_verdict(standard_reconstruction_errors_stand_df[\"reconstruction_errors\"], mu, std, STANDARD_Q_THRESHOLD)"
   ]
  },
  {
   "cell_type": "code",
   "execution_count": 102,
   "metadata": {
    "id": "mkmHXs5m_mZt"
   },
   "outputs": [],
   "source": [
    "standard_y_test = y_t_test"
   ]
  },
  {
   "cell_type": "code",
   "execution_count": 54,
   "metadata": {
    "scrolled": true
   },
   "outputs": [
    {
     "data": {
      "text/plain": [
       "array([0, 0, 0, ..., 0, 0, 0])"
      ]
     },
     "execution_count": 54,
     "metadata": {},
     "output_type": "execute_result"
    }
   ],
   "source": [
    "standard_y_test[0]"
   ]
  },
  {
   "cell_type": "markdown",
   "metadata": {},
   "source": [
    "#### AE"
   ]
  },
  {
   "cell_type": "code",
   "execution_count": 209,
   "metadata": {
    "colab": {
     "base_uri": "https://localhost:8080/",
     "height": 34
    },
    "id": "PeTHYEoALvU1",
    "outputId": "68cf81e3-3e41-49f3-e1ba-dd86361d81be",
    "scrolled": true
   },
   "outputs": [
    {
     "data": {
      "text/plain": [
       "0.9800293881912904"
      ]
     },
     "execution_count": 209,
     "metadata": {},
     "output_type": "execute_result"
    }
   ],
   "source": [
    "accuracy_score(standard_y_test[0], standard_preds_label_test_noise)"
   ]
  },
  {
   "cell_type": "code",
   "execution_count": 210,
   "metadata": {
    "colab": {
     "base_uri": "https://localhost:8080/",
     "height": 34
    },
    "id": "rHiePTi10WAs",
    "outputId": "4a20c164-ae9c-4d33-feeb-d7b3da8b4a19",
    "scrolled": true
   },
   "outputs": [
    {
     "data": {
      "text/plain": [
       "0.7197435212396474"
      ]
     },
     "execution_count": 210,
     "metadata": {},
     "output_type": "execute_result"
    }
   ],
   "source": [
    "accuracy_score(standard_y_test[1], standard_preds_label_test_landing)"
   ]
  },
  {
   "cell_type": "code",
   "execution_count": 211,
   "metadata": {
    "colab": {
     "base_uri": "https://localhost:8080/",
     "height": 34
    },
    "id": "-5akbdxJ0WQK",
    "outputId": "ac687a87-ceee-4fc5-e307-1f2c41df178f"
   },
   "outputs": [
    {
     "data": {
      "text/plain": [
       "0.880777451242319"
      ]
     },
     "execution_count": 211,
     "metadata": {},
     "output_type": "execute_result"
    }
   ],
   "source": [
    "accuracy_score(standard_y_test[2], standard_preds_label_test_departing)"
   ]
  },
  {
   "cell_type": "code",
   "execution_count": 212,
   "metadata": {
    "colab": {
     "base_uri": "https://localhost:8080/",
     "height": 34
    },
    "id": "zv4Jm8aQ0elf",
    "outputId": "a8364501-a842-42ce-aa67-0eb20bb81999"
   },
   "outputs": [
    {
     "data": {
      "text/plain": [
       "0.9690756078012289"
      ]
     },
     "execution_count": 212,
     "metadata": {},
     "output_type": "execute_result"
    }
   ],
   "source": [
    "accuracy_score(standard_y_test[3], standard_preds_label_test_manoeuver)"
   ]
  },
  {
   "cell_type": "code",
   "execution_count": 213,
   "metadata": {},
   "outputs": [
    {
     "data": {
      "text/plain": [
       "0.728960726689821"
      ]
     },
     "execution_count": 213,
     "metadata": {},
     "output_type": "execute_result"
    }
   ],
   "source": [
    "accuracy_score(standard_y_test[4], standard_preds_label_test_deviation)"
   ]
  },
  {
   "cell_type": "code",
   "execution_count": 224,
   "metadata": {
    "scrolled": true
   },
   "outputs": [
    {
     "data": {
      "text/plain": [
       "0.7013759016831419"
      ]
     },
     "execution_count": 224,
     "metadata": {},
     "output_type": "execute_result"
    }
   ],
   "source": [
    "accuracy_score(standard_y_test[5], standard_preds_label_test_stand)"
   ]
  },
  {
   "cell_type": "markdown",
   "metadata": {},
   "source": [
    "### CAE"
   ]
  },
  {
   "cell_type": "code",
   "execution_count": 103,
   "metadata": {},
   "outputs": [
    {
     "data": {
      "text/plain": [
       "0.691423991450708"
      ]
     },
     "execution_count": 103,
     "metadata": {},
     "output_type": "execute_result"
    }
   ],
   "source": [
    "accuracy_score(standard_y_test[0], standard_preds_label_test_noise)"
   ]
  },
  {
   "cell_type": "code",
   "execution_count": 104,
   "metadata": {},
   "outputs": [
    {
     "data": {
      "text/plain": [
       "0.691423991450708"
      ]
     },
     "execution_count": 104,
     "metadata": {},
     "output_type": "execute_result"
    }
   ],
   "source": [
    "accuracy_score(standard_y_test[1], standard_preds_label_test_landing)"
   ]
  },
  {
   "cell_type": "markdown",
   "metadata": {},
   "source": [
    "#### TCN"
   ]
  },
  {
   "cell_type": "code",
   "execution_count": 81,
   "metadata": {},
   "outputs": [
    {
     "data": {
      "text/plain": [
       "0.9845044082286936"
      ]
     },
     "execution_count": 81,
     "metadata": {},
     "output_type": "execute_result"
    }
   ],
   "source": [
    "accuracy_score(standard_y_test[0], standard_preds_label_test_noise)"
   ]
  },
  {
   "cell_type": "code",
   "execution_count": 82,
   "metadata": {},
   "outputs": [
    {
     "data": {
      "text/plain": [
       "0.746326476088699"
      ]
     },
     "execution_count": 82,
     "metadata": {},
     "output_type": "execute_result"
    }
   ],
   "source": [
    "accuracy_score(standard_y_test[1], standard_preds_label_test_landing)"
   ]
  },
  {
   "cell_type": "code",
   "execution_count": 83,
   "metadata": {},
   "outputs": [
    {
     "data": {
      "text/plain": [
       "0.8507881378573336"
      ]
     },
     "execution_count": 83,
     "metadata": {},
     "output_type": "execute_result"
    }
   ],
   "source": [
    "accuracy_score(standard_y_test[2], standard_preds_label_test_departing)"
   ]
  },
  {
   "cell_type": "code",
   "execution_count": 84,
   "metadata": {},
   "outputs": [
    {
     "data": {
      "text/plain": [
       "0.9736842105263158"
      ]
     },
     "execution_count": 84,
     "metadata": {},
     "output_type": "execute_result"
    }
   ],
   "source": [
    "accuracy_score(standard_y_test[3], standard_preds_label_test_manoeuver)"
   ]
  },
  {
   "cell_type": "code",
   "execution_count": 85,
   "metadata": {},
   "outputs": [
    {
     "data": {
      "text/plain": [
       "0.7333689553833823"
      ]
     },
     "execution_count": 85,
     "metadata": {},
     "output_type": "execute_result"
    }
   ],
   "source": [
    "accuracy_score(standard_y_test[4], standard_preds_label_test_deviation)"
   ]
  },
  {
   "cell_type": "code",
   "execution_count": 86,
   "metadata": {},
   "outputs": [
    {
     "data": {
      "text/plain": [
       "0.706251669783596"
      ]
     },
     "execution_count": 86,
     "metadata": {},
     "output_type": "execute_result"
    }
   ],
   "source": [
    "accuracy_score(standard_y_test[5], standard_preds_label_test_stand)"
   ]
  },
  {
   "cell_type": "markdown",
   "metadata": {},
   "source": [
    "#### VAE"
   ]
  },
  {
   "cell_type": "code",
   "execution_count": 62,
   "metadata": {},
   "outputs": [
    {
     "data": {
      "text/plain": [
       "0.7533395671920919"
      ]
     },
     "execution_count": 62,
     "metadata": {},
     "output_type": "execute_result"
    }
   ],
   "source": [
    "accuracy_score(standard_y_test[0], standard_preds_label_test_noise)"
   ]
  },
  {
   "cell_type": "code",
   "execution_count": 56,
   "metadata": {},
   "outputs": [
    {
     "data": {
      "text/plain": [
       "0.6920919048891264"
      ]
     },
     "execution_count": 56,
     "metadata": {},
     "output_type": "execute_result"
    }
   ],
   "source": [
    "accuracy_score(standard_y_test[1], standard_preds_label_test_landing)"
   ]
  },
  {
   "cell_type": "code",
   "execution_count": 57,
   "metadata": {},
   "outputs": [
    {
     "data": {
      "text/plain": [
       "0.7492652952177398"
      ]
     },
     "execution_count": 57,
     "metadata": {},
     "output_type": "execute_result"
    }
   ],
   "source": [
    "accuracy_score(standard_y_test[2], standard_preds_label_test_departing)"
   ]
  },
  {
   "cell_type": "code",
   "execution_count": 58,
   "metadata": {},
   "outputs": [
    {
     "data": {
      "text/plain": [
       "0.7522709056906225"
      ]
     },
     "execution_count": 58,
     "metadata": {},
     "output_type": "execute_result"
    }
   ],
   "source": [
    "accuracy_score(standard_y_test[3], standard_preds_label_test_manoeuver)"
   ]
  },
  {
   "cell_type": "code",
   "execution_count": 59,
   "metadata": {},
   "outputs": [
    {
     "data": {
      "text/plain": [
       "0.5707320331285065"
      ]
     },
     "execution_count": 59,
     "metadata": {},
     "output_type": "execute_result"
    }
   ],
   "source": [
    "accuracy_score(standard_y_test[4], standard_preds_label_test_deviation)"
   ]
  },
  {
   "cell_type": "code",
   "execution_count": 60,
   "metadata": {},
   "outputs": [
    {
     "data": {
      "text/plain": [
       "0.726890195030724"
      ]
     },
     "execution_count": 60,
     "metadata": {},
     "output_type": "execute_result"
    }
   ],
   "source": [
    "accuracy_score(standard_y_test[5], standard_preds_label_test_stand)"
   ]
  },
  {
   "cell_type": "markdown",
   "metadata": {},
   "source": [
    "#### VAE+SVDD"
   ]
  },
  {
   "cell_type": "code",
   "execution_count": 63,
   "metadata": {},
   "outputs": [
    {
     "data": {
      "text/html": [
       "<style>#sk-container-id-1 {color: black;}#sk-container-id-1 pre{padding: 0;}#sk-container-id-1 div.sk-toggleable {background-color: white;}#sk-container-id-1 label.sk-toggleable__label {cursor: pointer;display: block;width: 100%;margin-bottom: 0;padding: 0.3em;box-sizing: border-box;text-align: center;}#sk-container-id-1 label.sk-toggleable__label-arrow:before {content: \"▸\";float: left;margin-right: 0.25em;color: #696969;}#sk-container-id-1 label.sk-toggleable__label-arrow:hover:before {color: black;}#sk-container-id-1 div.sk-estimator:hover label.sk-toggleable__label-arrow:before {color: black;}#sk-container-id-1 div.sk-toggleable__content {max-height: 0;max-width: 0;overflow: hidden;text-align: left;background-color: #f0f8ff;}#sk-container-id-1 div.sk-toggleable__content pre {margin: 0.2em;color: black;border-radius: 0.25em;background-color: #f0f8ff;}#sk-container-id-1 input.sk-toggleable__control:checked~div.sk-toggleable__content {max-height: 200px;max-width: 100%;overflow: auto;}#sk-container-id-1 input.sk-toggleable__control:checked~label.sk-toggleable__label-arrow:before {content: \"▾\";}#sk-container-id-1 div.sk-estimator input.sk-toggleable__control:checked~label.sk-toggleable__label {background-color: #d4ebff;}#sk-container-id-1 div.sk-label input.sk-toggleable__control:checked~label.sk-toggleable__label {background-color: #d4ebff;}#sk-container-id-1 input.sk-hidden--visually {border: 0;clip: rect(1px 1px 1px 1px);clip: rect(1px, 1px, 1px, 1px);height: 1px;margin: -1px;overflow: hidden;padding: 0;position: absolute;width: 1px;}#sk-container-id-1 div.sk-estimator {font-family: monospace;background-color: #f0f8ff;border: 1px dotted black;border-radius: 0.25em;box-sizing: border-box;margin-bottom: 0.5em;}#sk-container-id-1 div.sk-estimator:hover {background-color: #d4ebff;}#sk-container-id-1 div.sk-parallel-item::after {content: \"\";width: 100%;border-bottom: 1px solid gray;flex-grow: 1;}#sk-container-id-1 div.sk-label:hover label.sk-toggleable__label {background-color: #d4ebff;}#sk-container-id-1 div.sk-serial::before {content: \"\";position: absolute;border-left: 1px solid gray;box-sizing: border-box;top: 0;bottom: 0;left: 50%;z-index: 0;}#sk-container-id-1 div.sk-serial {display: flex;flex-direction: column;align-items: center;background-color: white;padding-right: 0.2em;padding-left: 0.2em;position: relative;}#sk-container-id-1 div.sk-item {position: relative;z-index: 1;}#sk-container-id-1 div.sk-parallel {display: flex;align-items: stretch;justify-content: center;background-color: white;position: relative;}#sk-container-id-1 div.sk-item::before, #sk-container-id-1 div.sk-parallel-item::before {content: \"\";position: absolute;border-left: 1px solid gray;box-sizing: border-box;top: 0;bottom: 0;left: 50%;z-index: -1;}#sk-container-id-1 div.sk-parallel-item {display: flex;flex-direction: column;z-index: 1;position: relative;background-color: white;}#sk-container-id-1 div.sk-parallel-item:first-child::after {align-self: flex-end;width: 50%;}#sk-container-id-1 div.sk-parallel-item:last-child::after {align-self: flex-start;width: 50%;}#sk-container-id-1 div.sk-parallel-item:only-child::after {width: 0;}#sk-container-id-1 div.sk-dashed-wrapped {border: 1px dashed gray;margin: 0 0.4em 0.5em 0.4em;box-sizing: border-box;padding-bottom: 0.4em;background-color: white;}#sk-container-id-1 div.sk-label label {font-family: monospace;font-weight: bold;display: inline-block;line-height: 1.2em;}#sk-container-id-1 div.sk-label-container {text-align: center;}#sk-container-id-1 div.sk-container {/* jupyter's `normalize.less` sets `[hidden] { display: none; }` but bootstrap.min.css set `[hidden] { display: none !important; }` so we also need the `!important` here to be able to override the default hidden behavior on the sphinx rendered scikit-learn.org. See: https://github.com/scikit-learn/scikit-learn/issues/21755 */display: inline-block !important;position: relative;}#sk-container-id-1 div.sk-text-repr-fallback {display: none;}</style><div id=\"sk-container-id-1\" class=\"sk-top-container\"><div class=\"sk-text-repr-fallback\"><pre>OneClassSVM(gamma=0.1, nu=0.1)</pre><b>In a Jupyter environment, please rerun this cell to show the HTML representation or trust the notebook. <br />On GitHub, the HTML representation is unable to render, please try loading this page with nbviewer.org.</b></div><div class=\"sk-container\" hidden><div class=\"sk-item\"><div class=\"sk-estimator sk-toggleable\"><input class=\"sk-toggleable__control sk-hidden--visually\" id=\"sk-estimator-id-1\" type=\"checkbox\" checked><label for=\"sk-estimator-id-1\" class=\"sk-toggleable__label sk-toggleable__label-arrow\">OneClassSVM</label><div class=\"sk-toggleable__content\"><pre>OneClassSVM(gamma=0.1, nu=0.1)</pre></div></div></div></div></div>"
      ],
      "text/plain": [
       "OneClassSVM(gamma=0.1, nu=0.1)"
      ]
     },
     "execution_count": 63,
     "metadata": {},
     "output_type": "execute_result"
    }
   ],
   "source": [
    "from sklearn.svm import OneClassSVM  \n",
    "  \n",
    "# 创建One-Class SVM模型  \n",
    "clf = OneClassSVM(nu=0.1, kernel=\"rbf\", gamma=0.1)  \n",
    "clf.fit(X_train_n)"
   ]
  },
  {
   "cell_type": "code",
   "execution_count": 64,
   "metadata": {},
   "outputs": [],
   "source": [
    "# 预测新数据点\n",
    "y_pred = []\n",
    "for i in preds_l:\n",
    " y_pred.append(clf.predict(i)) \n",
    "y_pred_i = []\n",
    "for i in y_pred:\n",
    " y_pred_i.append(np.where(i == -1, 1, 0))"
   ]
  },
  {
   "cell_type": "code",
   "execution_count": 101,
   "metadata": {},
   "outputs": [
    {
     "data": {
      "text/plain": [
       "0.49111675126903553"
      ]
     },
     "execution_count": 101,
     "metadata": {},
     "output_type": "execute_result"
    }
   ],
   "source": [
    "accuracy_score(standard_y_test[0], y_pred_i[0])"
   ]
  },
  {
   "cell_type": "code",
   "execution_count": 68,
   "metadata": {},
   "outputs": [
    {
     "data": {
      "text/plain": [
       "0.48804434945231095"
      ]
     },
     "execution_count": 68,
     "metadata": {},
     "output_type": "execute_result"
    }
   ],
   "source": [
    "accuracy_score(standard_y_test[1], y_pred_i[1])"
   ]
  },
  {
   "cell_type": "code",
   "execution_count": 69,
   "metadata": {},
   "outputs": [
    {
     "data": {
      "text/plain": [
       "0.4907160032059845"
      ]
     },
     "execution_count": 69,
     "metadata": {},
     "output_type": "execute_result"
    }
   ],
   "source": [
    "accuracy_score(standard_y_test[2], y_pred_i[2])"
   ]
  },
  {
   "cell_type": "code",
   "execution_count": 70,
   "metadata": {},
   "outputs": [
    {
     "data": {
      "text/plain": [
       "0.49145070798824475"
      ]
     },
     "execution_count": 70,
     "metadata": {},
     "output_type": "execute_result"
    }
   ],
   "source": [
    "accuracy_score(standard_y_test[3], y_pred_i[3])"
   ]
  },
  {
   "cell_type": "code",
   "execution_count": 77,
   "metadata": {},
   "outputs": [
    {
     "data": {
      "text/plain": [
       "0.4325407427197435"
      ]
     },
     "execution_count": 77,
     "metadata": {},
     "output_type": "execute_result"
    }
   ],
   "source": [
    "accuracy_score(standard_y_test[4], y_pred_i[4])"
   ]
  },
  {
   "cell_type": "code",
   "execution_count": 78,
   "metadata": {},
   "outputs": [
    {
     "data": {
      "text/plain": [
       "0.22254875768100454"
      ]
     },
     "execution_count": 78,
     "metadata": {},
     "output_type": "execute_result"
    }
   ],
   "source": [
    "accuracy_score(standard_y_test[5], y_pred_i[5])"
   ]
  },
  {
   "cell_type": "markdown",
   "metadata": {
    "id": "QOBkZbZKveBH"
   },
   "source": [
    "## 4. LSTM Autoencoder"
   ]
  },
  {
   "cell_type": "code",
   "execution_count": 225,
   "metadata": {
    "id": "2OJXDNXmvxDb"
   },
   "outputs": [],
   "source": [
    "def get_lstm_autoencoder_model(timesteps, input_dim, incoding_dimension):\n",
    "    model = Sequential()\n",
    "    model.add(LSTM(incoding_dimension, activation='relu', input_shape=(timesteps, input_dim)))\n",
    "    model.add(RepeatVector(timesteps))\n",
    "    model.add(LSTM(incoding_dimension, activation='relu', return_sequences=True))\n",
    "    model.add(TimeDistributed(Dense(input_dim)))\n",
    "\n",
    "    return model"
   ]
  },
  {
   "cell_type": "code",
   "execution_count": 226,
   "metadata": {
    "id": "qX0xvEQev7wl"
   },
   "outputs": [],
   "source": [
    "lstm_autoencoder_model_feature_pipeline = Pipeline(\n",
    "    steps=[('normalize', StandardScaler())]\n",
    ")"
   ]
  },
  {
   "cell_type": "markdown",
   "metadata": {
    "id": "HqWecTFyakA8"
   },
   "source": [
    "### 4.1 Train"
   ]
  },
  {
   "cell_type": "code",
   "execution_count": 227,
   "metadata": {
    "id": "SGUj8ex_anVK"
   },
   "outputs": [],
   "source": [
    "df_train = None\n",
    "\n",
    "for i, df in enumerate(data_dict[\"clean_train\"]):\n",
    "  if i == 0:\n",
    "    df_train = df\n",
    "  else:\n",
    "    df_train = pd.concat([df_train,df], ignore_index=True)\n",
    "\n",
    "\n",
    "df_train = pd.DataFrame(columns=[FEATURES], data=lstm_autoencoder_model_feature_pipeline.fit_transform(df_train[FEATURES]))\n",
    "\n",
    "X_train, y_train = get_windows_data(df_train, [0] * df_train.shape[0], window_size=WINDOW_SIZE_LSTM_AUTOENCODER, tsfresh=False)"
   ]
  },
  {
   "cell_type": "code",
   "execution_count": 228,
   "metadata": {
    "colab": {
     "base_uri": "https://localhost:8080/",
     "height": 34
    },
    "id": "ApTSfK05h1Z-",
    "outputId": "6831a38e-3df1-431d-ded2-e41475957c95"
   },
   "outputs": [
    {
     "data": {
      "text/plain": [
       "(66881, 60, 5)"
      ]
     },
     "execution_count": 228,
     "metadata": {},
     "output_type": "execute_result"
    }
   ],
   "source": [
    "X_train.shape"
   ]
  },
  {
   "cell_type": "code",
   "execution_count": 229,
   "metadata": {
    "id": "gjwZKs6Cht63"
   },
   "outputs": [],
   "source": [
    "lstm_model = get_lstm_autoencoder_model(WINDOW_SIZE_LSTM_AUTOENCODER, X_train.shape[2], LSTM_AUTOENCODER_ENCODING_DIMENSION)"
   ]
  },
  {
   "cell_type": "code",
   "execution_count": 230,
   "metadata": {
    "id": "DyZ4MPKbkkfr"
   },
   "outputs": [],
   "source": [
    "lstm_model.compile(optimizer='adam', loss='mse')"
   ]
  },
  {
   "cell_type": "code",
   "execution_count": 231,
   "metadata": {
    "colab": {
     "base_uri": "https://localhost:8080/",
     "height": 274
    },
    "id": "BdAfbLW9kt-U",
    "outputId": "57589f77-240d-4514-c2c4-928c530d5b88"
   },
   "outputs": [
    {
     "name": "stdout",
     "output_type": "stream",
     "text": [
      "Model: \"sequential_1\"\n",
      "_________________________________________________________________\n",
      " Layer (type)                Output Shape              Param #   \n",
      "=================================================================\n",
      " lstm_2 (LSTM)               (None, 10)                640       \n",
      "                                                                 \n",
      " repeat_vector_1 (RepeatVec  (None, 60, 10)            0         \n",
      " tor)                                                            \n",
      "                                                                 \n",
      " lstm_3 (LSTM)               (None, 60, 10)            840       \n",
      "                                                                 \n",
      " time_distributed_1 (TimeDi  (None, 60, 5)             55        \n",
      " stributed)                                                      \n",
      "                                                                 \n",
      "=================================================================\n",
      "Total params: 1535 (6.00 KB)\n",
      "Trainable params: 1535 (6.00 KB)\n",
      "Non-trainable params: 0 (0.00 Byte)\n",
      "_________________________________________________________________\n"
     ]
    }
   ],
   "source": [
    "lstm_model.summary()"
   ]
  },
  {
   "cell_type": "code",
   "execution_count": 232,
   "metadata": {
    "id": "Q37pBYfMkZGj"
   },
   "outputs": [],
   "source": [
    "logs = \"logs/lstm/\" + datetime.now().strftime(\"%Y%m%d-%H%M%S\")\n",
    "\n",
    "tboard_callback = TensorBoard(log_dir = logs, histogram_freq = 1, profile_batch = '500,520')"
   ]
  },
  {
   "cell_type": "code",
   "execution_count": 233,
   "metadata": {
    "colab": {
     "base_uri": "https://localhost:8080/",
     "height": 1000
    },
    "id": "gVe4LYVpkxvN",
    "outputId": "70dc34d2-d599-4485-c0ad-0325bd43b173",
    "scrolled": true
   },
   "outputs": [
    {
     "name": "stdout",
     "output_type": "stream",
     "text": [
      "Epoch 1/10\n",
      "523/523 [==============================] - 12s 19ms/step - loss: 1.2365\n",
      "Epoch 2/10\n",
      "523/523 [==============================] - 10s 20ms/step - loss: 1.1204\n",
      "Epoch 3/10\n",
      "523/523 [==============================] - 11s 20ms/step - loss: 0.8128\n",
      "Epoch 4/10\n",
      "523/523 [==============================] - 10s 20ms/step - loss: 1.0903\n",
      "Epoch 5/10\n",
      "523/523 [==============================] - 10s 20ms/step - loss: 0.8342\n",
      "Epoch 6/10\n",
      "523/523 [==============================] - 10s 19ms/step - loss: 0.7735\n",
      "Epoch 7/10\n",
      "523/523 [==============================] - 10s 19ms/step - loss: 0.8075\n",
      "Epoch 8/10\n",
      "523/523 [==============================] - 9s 18ms/step - loss: 0.7268\n",
      "Epoch 9/10\n",
      "523/523 [==============================] - 9s 18ms/step - loss: 0.7232\n",
      "Epoch 10/10\n",
      "523/523 [==============================] - 10s 18ms/step - loss: 0.7190\n"
     ]
    }
   ],
   "source": [
    "history = lstm_model.fit(X_train, X_train,\n",
    "                    epochs=10,\n",
    "                    batch_size=128,\n",
    "                    shuffle=False,\n",
    "                    callbacks=[tboard_callback]).history"
   ]
  },
  {
   "cell_type": "markdown",
   "metadata": {
    "id": "-9_Jj-3Om1dc"
   },
   "source": [
    "### 4.2 Validation"
   ]
  },
  {
   "cell_type": "code",
   "execution_count": 234,
   "metadata": {
    "id": "k1RWMehNmz7o"
   },
   "outputs": [],
   "source": [
    "df_validation = None\n",
    "\n",
    "for i, df in enumerate(data_dict[\"validation\"]):\n",
    "  if i == 0:\n",
    "    df_validation = df\n",
    "  else:\n",
    "    df_validation =pd.concat([df_validation,df], ignore_index=True)\n",
    "\n",
    "\n",
    "df_validation = pd.DataFrame(columns=[FEATURES], data=lstm_autoencoder_model_feature_pipeline.transform(df_validation[FEATURES]))\n",
    "\n",
    "X_validation, y_validation = get_windows_data(df_validation, [0] * df_validation.shape[0], window_size=WINDOW_SIZE_LSTM_AUTOENCODER, tsfresh=False)"
   ]
  },
  {
   "cell_type": "code",
   "execution_count": 235,
   "metadata": {
    "id": "bl6zi53znOiP"
   },
   "outputs": [
    {
     "name": "stdout",
     "output_type": "stream",
     "text": [
      "1267/1267 [==============================] - 5s 4ms/step\n"
     ]
    }
   ],
   "source": [
    "preds_val = lstm_model.predict(X_validation)"
   ]
  },
  {
   "cell_type": "code",
   "execution_count": 236,
   "metadata": {
    "id": "9Uqn-dvGnO4K"
   },
   "outputs": [],
   "source": [
    "reconstruction_errors = []\n",
    "\n",
    "for i, row in enumerate(X_validation):\n",
    "  reconstruction_errors.append(np.mean(np.linalg.norm(X_validation[i] - preds_val[i], axis=1) ** 2))\n",
    "\n",
    "reconstruction_errors_df = pd.DataFrame(columns=[\"reconstruction_errors\"], data=reconstruction_errors)"
   ]
  },
  {
   "cell_type": "code",
   "execution_count": 237,
   "metadata": {
    "colab": {
     "base_uri": "https://localhost:8080/",
     "height": 272
    },
    "id": "ct1_UGoZnO-F",
    "outputId": "ee096ae5-1bc9-48e0-ea9c-1a341ab6087e"
   },
   "outputs": [
    {
     "data": {
      "text/html": [
       "<div>\n",
       "<style scoped>\n",
       "    .dataframe tbody tr th:only-of-type {\n",
       "        vertical-align: middle;\n",
       "    }\n",
       "\n",
       "    .dataframe tbody tr th {\n",
       "        vertical-align: top;\n",
       "    }\n",
       "\n",
       "    .dataframe thead th {\n",
       "        text-align: right;\n",
       "    }\n",
       "</style>\n",
       "<table border=\"1\" class=\"dataframe\">\n",
       "  <thead>\n",
       "    <tr style=\"text-align: right;\">\n",
       "      <th></th>\n",
       "      <th>reconstruction_errors</th>\n",
       "    </tr>\n",
       "  </thead>\n",
       "  <tbody>\n",
       "    <tr>\n",
       "      <th>count</th>\n",
       "      <td>40539.000000</td>\n",
       "    </tr>\n",
       "    <tr>\n",
       "      <th>mean</th>\n",
       "      <td>4.391277</td>\n",
       "    </tr>\n",
       "    <tr>\n",
       "      <th>std</th>\n",
       "      <td>27.200808</td>\n",
       "    </tr>\n",
       "    <tr>\n",
       "      <th>min</th>\n",
       "      <td>0.028664</td>\n",
       "    </tr>\n",
       "    <tr>\n",
       "      <th>25%</th>\n",
       "      <td>0.401127</td>\n",
       "    </tr>\n",
       "    <tr>\n",
       "      <th>50%</th>\n",
       "      <td>1.408241</td>\n",
       "    </tr>\n",
       "    <tr>\n",
       "      <th>75%</th>\n",
       "      <td>4.548915</td>\n",
       "    </tr>\n",
       "    <tr>\n",
       "      <th>max</th>\n",
       "      <td>983.825862</td>\n",
       "    </tr>\n",
       "  </tbody>\n",
       "</table>\n",
       "</div>"
      ],
      "text/plain": [
       "       reconstruction_errors\n",
       "count           40539.000000\n",
       "mean                4.391277\n",
       "std                27.200808\n",
       "min                 0.028664\n",
       "25%                 0.401127\n",
       "50%                 1.408241\n",
       "75%                 4.548915\n",
       "max               983.825862"
      ]
     },
     "execution_count": 237,
     "metadata": {},
     "output_type": "execute_result"
    }
   ],
   "source": [
    "reconstruction_errors_df.describe()"
   ]
  },
  {
   "cell_type": "code",
   "execution_count": 238,
   "metadata": {
    "colab": {
     "base_uri": "https://localhost:8080/",
     "height": 50
    },
    "id": "m81spzNT7geX",
    "outputId": "08bf70f4-3ae3-45f6-c257-940b5eb75124"
   },
   "outputs": [
    {
     "name": "stdout",
     "output_type": "stream",
     "text": [
      "p-value: 1.3287005748829191e-71\n",
      "The null hypothesis can be rejected\n"
     ]
    }
   ],
   "source": [
    "test_noraml_dist(reconstruction_errors_df.values)"
   ]
  },
  {
   "cell_type": "code",
   "execution_count": 239,
   "metadata": {
    "colab": {
     "base_uri": "https://localhost:8080/",
     "height": 34
    },
    "id": "myNJWli_nPHK",
    "outputId": "a86c612d-fda0-40a7-82b2-7ca14c9d5fd5"
   },
   "outputs": [
    {
     "data": {
      "text/plain": [
       "4.3912773280125235"
      ]
     },
     "execution_count": 239,
     "metadata": {},
     "output_type": "execute_result"
    }
   ],
   "source": [
    "mu = np.mean(reconstruction_errors_df[\"reconstruction_errors\"].values)\n",
    "mu"
   ]
  },
  {
   "cell_type": "code",
   "execution_count": 240,
   "metadata": {
    "colab": {
     "base_uri": "https://localhost:8080/",
     "height": 34
    },
    "id": "e9xYB48VnvXj",
    "outputId": "9cd4fa52-389d-428f-a08b-18fed1ade786"
   },
   "outputs": [
    {
     "data": {
      "text/plain": [
       "27.20047254729565"
      ]
     },
     "execution_count": 240,
     "metadata": {},
     "output_type": "execute_result"
    }
   ],
   "source": [
    "std = np.std(reconstruction_errors_df[\"reconstruction_errors\"].values)\n",
    "std"
   ]
  },
  {
   "cell_type": "markdown",
   "metadata": {
    "id": "i16bl9Edn5n4"
   },
   "source": [
    "### 4.3 Test"
   ]
  },
  {
   "cell_type": "code",
   "execution_count": 241,
   "metadata": {
    "colab": {
     "base_uri": "https://localhost:8080/",
     "height": 34
    },
    "id": "MlmVkBkzr4Xb",
    "outputId": "edf14840-a460-4630-a498-762bda98eaad"
   },
   "outputs": [
    {
     "data": {
      "text/plain": [
       "['test_noise',\n",
       " 'test_landing',\n",
       " 'test_departing',\n",
       " 'test_manoeuver',\n",
       " 'test_deviation',\n",
       " 'test_stand']"
      ]
     },
     "execution_count": 241,
     "metadata": {},
     "output_type": "execute_result"
    }
   ],
   "source": [
    "keys = [x for x in data_dict.keys() if x.startswith(\"test\")]\n",
    "keys"
   ]
  },
  {
   "cell_type": "code",
   "execution_count": 242,
   "metadata": {
    "colab": {
     "base_uri": "https://localhost:8080/",
     "height": 162
    },
    "id": "wtgt0i2Hn5NE",
    "outputId": "8504b649-7180-409b-b560-5477760d7b4e"
   },
   "outputs": [
    {
     "name": "stderr",
     "output_type": "stream",
     "text": [
      "  0%|                                                                                            | 0/6 [00:00<?, ?it/s]\n",
      "7it [00:00, 458.24it/s]\n",
      " 17%|██████████████                                                                      | 1/6 [00:00<00:02,  2.25it/s]\n",
      "7it [00:00, 508.84it/s]\n",
      " 33%|████████████████████████████                                                        | 2/6 [00:00<00:01,  2.29it/s]\n",
      "7it [00:00, 376.06it/s]\n",
      " 50%|██████████████████████████████████████████                                          | 3/6 [00:01<00:01,  2.28it/s]\n",
      "7it [00:00, 391.31it/s]\n",
      " 67%|████████████████████████████████████████████████████████                            | 4/6 [00:01<00:00,  2.26it/s]\n",
      "7it [00:00, 446.39it/s]\n",
      " 83%|██████████████████████████████████████████████████████████████████████              | 5/6 [00:02<00:00,  2.24it/s]\n",
      "7it [00:00, 475.41it/s]\n",
      "100%|████████████████████████████████████████████████████████████████████████████████████| 6/6 [00:02<00:00,  2.25it/s]\n"
     ]
    }
   ],
   "source": [
    "X_test_l = []\n",
    "y_test_l = []\n",
    "\n",
    "for key in tqdm(keys):\n",
    "  df_test = None\n",
    "\n",
    "  for i, df in tqdm(enumerate(data_dict[key])):\n",
    "    if i == 0:\n",
    "      df_test = df\n",
    "    else:\n",
    "      df_test = pd.concat([df_test,df], ignore_index=True)\n",
    "\n",
    "\n",
    "  labels = df_test[\"anomaly\"]\n",
    "  df_test = pd.DataFrame(columns=[FEATURES], data=lstm_autoencoder_model_feature_pipeline.transform(df_test[FEATURES]))\n",
    "\n",
    "  X_test, y_test = get_windows_data(df_test, labels, window_size=WINDOW_SIZE_LSTM_AUTOENCODER, tsfresh=False)\n",
    "\n",
    "  X_test_l.append(X_test)\n",
    "  y_test_l.append(y_test)"
   ]
  },
  {
   "cell_type": "code",
   "execution_count": 243,
   "metadata": {
    "id": "0hmfuHaPpGvw"
   },
   "outputs": [
    {
     "name": "stdout",
     "output_type": "stream",
     "text": [
      "479/479 [==============================] - 2s 5ms/step\n",
      "479/479 [==============================] - 2s 5ms/step\n",
      "479/479 [==============================] - 2s 4ms/step\n",
      "479/479 [==============================] - 2s 4ms/step\n",
      "479/479 [==============================] - 2s 4ms/step\n",
      "479/479 [==============================] - 2s 4ms/step\n"
     ]
    }
   ],
   "source": [
    "preds_l = []\n",
    "\n",
    "for x in X_test_l:\n",
    "  preds_l.append(lstm_model.predict(x))"
   ]
  },
  {
   "cell_type": "code",
   "execution_count": 244,
   "metadata": {
    "id": "kAL0X2X3pliJ"
   },
   "outputs": [],
   "source": [
    "reconstruction_errors_l = []\n",
    "\n",
    "for i, x in enumerate(X_test_l):\n",
    "  reconstruction_errors = []\n",
    "  for j, row in enumerate(x):\n",
    "    reconstruction_errors.append(np.mean(np.linalg.norm(x[j] - preds_l[i][j], axis=1) ** 2))\n",
    "\n",
    "  reconstruction_errors_l.append(reconstruction_errors)"
   ]
  },
  {
   "cell_type": "code",
   "execution_count": 245,
   "metadata": {
    "id": "lqoA4iC9t6oC"
   },
   "outputs": [],
   "source": [
    "lstm_reconstruction_errors_noise_df = pd.DataFrame(columns=['reconstruction_errors'], data=reconstruction_errors_l[0])\n",
    "lstm_reconstruction_errors_landing_df = pd.DataFrame(columns=['reconstruction_errors'], data=reconstruction_errors_l[1])\n",
    "lstm_reconstruction_errors_departing_df = pd.DataFrame(columns=['reconstruction_errors'], data=reconstruction_errors_l[2])\n",
    "lstm_reconstruction_errors_manoeuver_df = pd.DataFrame(columns=['reconstruction_errors'], data=reconstruction_errors_l[3])\n",
    "lstm_reconstruction_errors_deviation_df = pd.DataFrame(columns=['reconstruction_errors'], data=reconstruction_errors_l[4])\n",
    "lstm_reconstruction_errors_stand_df = pd.DataFrame(columns=['reconstruction_errors'], data=reconstruction_errors_l[5])"
   ]
  },
  {
   "cell_type": "code",
   "execution_count": 246,
   "metadata": {
    "id": "z4POkvijuE3v"
   },
   "outputs": [],
   "source": [
    "lstm_preds_label_test_noise = q_verdict(lstm_reconstruction_errors_noise_df[\"reconstruction_errors\"], mu, std, LSTM_Q_THRESHOLD)\n",
    "lstm_preds_label_test_landing = q_verdict(lstm_reconstruction_errors_landing_df[\"reconstruction_errors\"], mu, std, LSTM_Q_THRESHOLD)\n",
    "lstm_preds_label_test_departing = q_verdict(lstm_reconstruction_errors_departing_df[\"reconstruction_errors\"], mu, std, LSTM_Q_THRESHOLD)\n",
    "lstm_preds_label_test_manoeuver = q_verdict(lstm_reconstruction_errors_manoeuver_df[\"reconstruction_errors\"], mu, std, LSTM_Q_THRESHOLD)\n",
    "lstm_preds_label_test_deviation = q_verdict(lstm_reconstruction_errors_deviation_df[\"reconstruction_errors\"], mu, std, LSTM_Q_THRESHOLD)\n",
    "lstm_preds_label_test_stand = q_verdict(lstm_reconstruction_errors_stand_df[\"reconstruction_errors\"], mu, std, LSTM_Q_THRESHOLD)"
   ]
  },
  {
   "cell_type": "code",
   "execution_count": 247,
   "metadata": {},
   "outputs": [
    {
     "data": {
      "text/plain": [
       "[array([0, 0, 0, ..., 0, 0, 0]),\n",
       " array([0, 0, 0, ..., 0, 0, 0]),\n",
       " array([0, 0, 0, ..., 0, 0, 0]),\n",
       " array([0, 0, 0, ..., 0, 0, 0]),\n",
       " array([0, 0, 0, ..., 0, 0, 0]),\n",
       " array([0, 0, 0, ..., 0, 0, 0])]"
      ]
     },
     "execution_count": 247,
     "metadata": {},
     "output_type": "execute_result"
    }
   ],
   "source": [
    "lstm_y_test = y_test_l\n",
    "lstm_y_test"
   ]
  },
  {
   "cell_type": "code",
   "execution_count": 249,
   "metadata": {
    "colab": {
     "base_uri": "https://localhost:8080/",
     "height": 34
    },
    "id": "8Oi4C691p9uT",
    "outputId": "b138eae9-31b5-4eb9-b5b6-e1ef2f5bbdbd"
   },
   "outputs": [
    {
     "data": {
      "text/plain": [
       "0.9860368002087955"
      ]
     },
     "execution_count": 249,
     "metadata": {},
     "output_type": "execute_result"
    }
   ],
   "source": [
    "accuracy_score(lstm_y_test[0], lstm_preds_label_test_noise)"
   ]
  },
  {
   "cell_type": "code",
   "execution_count": 250,
   "metadata": {
    "colab": {
     "base_uri": "https://localhost:8080/",
     "height": 34
    },
    "id": "vcDPunxcuHLC",
    "outputId": "3ea02bf2-53ba-4a11-841e-099d1fd6c5d8",
    "scrolled": true
   },
   "outputs": [
    {
     "data": {
      "text/plain": [
       "0.7260863891426335"
      ]
     },
     "execution_count": 250,
     "metadata": {},
     "output_type": "execute_result"
    }
   ],
   "source": [
    "accuracy_score(lstm_y_test[1], lstm_preds_label_test_landing)"
   ]
  },
  {
   "cell_type": "code",
   "execution_count": 251,
   "metadata": {
    "colab": {
     "base_uri": "https://localhost:8080/",
     "height": 34
    },
    "id": "9bfe4UBYuHSo",
    "outputId": "eaf0da51-5d4f-44c9-ea91-6ac1c6fe9187"
   },
   "outputs": [
    {
     "data": {
      "text/plain": [
       "0.8022967506198617"
      ]
     },
     "execution_count": 251,
     "metadata": {},
     "output_type": "execute_result"
    }
   ],
   "source": [
    "accuracy_score(lstm_y_test[2], lstm_preds_label_test_departing)"
   ]
  },
  {
   "cell_type": "code",
   "execution_count": 252,
   "metadata": {
    "colab": {
     "base_uri": "https://localhost:8080/",
     "height": 34
    },
    "id": "hcdQ0fzNuHaT",
    "outputId": "0647d9e2-37dd-43a4-9044-4f55fd18a51d"
   },
   "outputs": [
    {
     "data": {
      "text/plain": [
       "0.9817303927965548"
      ]
     },
     "execution_count": 252,
     "metadata": {},
     "output_type": "execute_result"
    }
   ],
   "source": [
    "accuracy_score(lstm_y_test[3], lstm_preds_label_test_manoeuver)"
   ]
  },
  {
   "cell_type": "code",
   "execution_count": 253,
   "metadata": {
    "scrolled": true
   },
   "outputs": [
    {
     "data": {
      "text/plain": [
       "0.7443559963460785"
      ]
     },
     "execution_count": 253,
     "metadata": {},
     "output_type": "execute_result"
    }
   ],
   "source": [
    "accuracy_score(lstm_y_test[4], lstm_preds_label_test_deviation)"
   ]
  },
  {
   "cell_type": "code",
   "execution_count": 254,
   "metadata": {},
   "outputs": [
    {
     "data": {
      "text/plain": [
       "0.7140806472660838"
      ]
     },
     "execution_count": 254,
     "metadata": {},
     "output_type": "execute_result"
    }
   ],
   "source": [
    "accuracy_score(lstm_y_test[5], lstm_preds_label_test_stand)"
   ]
  },
  {
   "cell_type": "code",
   "execution_count": 255,
   "metadata": {},
   "outputs": [],
   "source": [
    "#加载\n",
    "with open('x_t_test.pkl', 'rb') as file:  \n",
    "    x_t_test = pickle.load(file)"
   ]
  },
  {
   "cell_type": "code",
   "execution_count": 256,
   "metadata": {
    "scrolled": true
   },
   "outputs": [
    {
     "data": {
      "text/html": [
       "<div>\n",
       "<style scoped>\n",
       "    .dataframe tbody tr th:only-of-type {\n",
       "        vertical-align: middle;\n",
       "    }\n",
       "\n",
       "    .dataframe tbody tr th {\n",
       "        vertical-align: top;\n",
       "    }\n",
       "\n",
       "    .dataframe thead th {\n",
       "        text-align: right;\n",
       "    }\n",
       "</style>\n",
       "<table border=\"1\" class=\"dataframe\">\n",
       "  <thead>\n",
       "    <tr style=\"text-align: right;\">\n",
       "      <th></th>\n",
       "      <th>altitude__sum_values</th>\n",
       "      <th>altitude__median</th>\n",
       "      <th>altitude__mean</th>\n",
       "      <th>altitude__length</th>\n",
       "      <th>altitude__standard_deviation</th>\n",
       "      <th>altitude__variance</th>\n",
       "      <th>altitude__root_mean_square</th>\n",
       "      <th>altitude__maximum</th>\n",
       "      <th>altitude__absolute_maximum</th>\n",
       "      <th>altitude__minimum</th>\n",
       "      <th>...</th>\n",
       "      <th>y__sum_values</th>\n",
       "      <th>y__median</th>\n",
       "      <th>y__mean</th>\n",
       "      <th>y__length</th>\n",
       "      <th>y__standard_deviation</th>\n",
       "      <th>y__variance</th>\n",
       "      <th>y__root_mean_square</th>\n",
       "      <th>y__maximum</th>\n",
       "      <th>y__absolute_maximum</th>\n",
       "      <th>y__minimum</th>\n",
       "    </tr>\n",
       "  </thead>\n",
       "  <tbody>\n",
       "    <tr>\n",
       "      <th>0</th>\n",
       "      <td>0.0</td>\n",
       "      <td>0.0</td>\n",
       "      <td>0.0</td>\n",
       "      <td>60.0</td>\n",
       "      <td>0.0</td>\n",
       "      <td>0.0</td>\n",
       "      <td>0.0</td>\n",
       "      <td>0.0</td>\n",
       "      <td>0.0</td>\n",
       "      <td>0.0</td>\n",
       "      <td>...</td>\n",
       "      <td>3423.480718</td>\n",
       "      <td>57.939170</td>\n",
       "      <td>57.058012</td>\n",
       "      <td>60.0</td>\n",
       "      <td>12.874090</td>\n",
       "      <td>165.742183</td>\n",
       "      <td>58.492383</td>\n",
       "      <td>88.151298</td>\n",
       "      <td>88.151298</td>\n",
       "      <td>27.47538</td>\n",
       "    </tr>\n",
       "    <tr>\n",
       "      <th>1</th>\n",
       "      <td>0.0</td>\n",
       "      <td>0.0</td>\n",
       "      <td>0.0</td>\n",
       "      <td>60.0</td>\n",
       "      <td>0.0</td>\n",
       "      <td>0.0</td>\n",
       "      <td>0.0</td>\n",
       "      <td>0.0</td>\n",
       "      <td>0.0</td>\n",
       "      <td>0.0</td>\n",
       "      <td>...</td>\n",
       "      <td>3422.206747</td>\n",
       "      <td>57.939170</td>\n",
       "      <td>57.036779</td>\n",
       "      <td>60.0</td>\n",
       "      <td>12.869709</td>\n",
       "      <td>165.629421</td>\n",
       "      <td>58.470707</td>\n",
       "      <td>88.151298</td>\n",
       "      <td>88.151298</td>\n",
       "      <td>27.47538</td>\n",
       "    </tr>\n",
       "    <tr>\n",
       "      <th>2</th>\n",
       "      <td>0.0</td>\n",
       "      <td>0.0</td>\n",
       "      <td>0.0</td>\n",
       "      <td>60.0</td>\n",
       "      <td>0.0</td>\n",
       "      <td>0.0</td>\n",
       "      <td>0.0</td>\n",
       "      <td>0.0</td>\n",
       "      <td>0.0</td>\n",
       "      <td>0.0</td>\n",
       "      <td>...</td>\n",
       "      <td>3427.106314</td>\n",
       "      <td>58.030639</td>\n",
       "      <td>57.118439</td>\n",
       "      <td>60.0</td>\n",
       "      <td>12.866843</td>\n",
       "      <td>165.555645</td>\n",
       "      <td>58.549737</td>\n",
       "      <td>88.151298</td>\n",
       "      <td>88.151298</td>\n",
       "      <td>27.47538</td>\n",
       "    </tr>\n",
       "    <tr>\n",
       "      <th>3</th>\n",
       "      <td>0.0</td>\n",
       "      <td>0.0</td>\n",
       "      <td>0.0</td>\n",
       "      <td>60.0</td>\n",
       "      <td>0.0</td>\n",
       "      <td>0.0</td>\n",
       "      <td>0.0</td>\n",
       "      <td>0.0</td>\n",
       "      <td>0.0</td>\n",
       "      <td>0.0</td>\n",
       "      <td>...</td>\n",
       "      <td>3396.999163</td>\n",
       "      <td>57.939170</td>\n",
       "      <td>56.616653</td>\n",
       "      <td>60.0</td>\n",
       "      <td>12.554012</td>\n",
       "      <td>157.603205</td>\n",
       "      <td>57.991797</td>\n",
       "      <td>88.151298</td>\n",
       "      <td>88.151298</td>\n",
       "      <td>27.47538</td>\n",
       "    </tr>\n",
       "    <tr>\n",
       "      <th>4</th>\n",
       "      <td>0.0</td>\n",
       "      <td>0.0</td>\n",
       "      <td>0.0</td>\n",
       "      <td>60.0</td>\n",
       "      <td>0.0</td>\n",
       "      <td>0.0</td>\n",
       "      <td>0.0</td>\n",
       "      <td>0.0</td>\n",
       "      <td>0.0</td>\n",
       "      <td>0.0</td>\n",
       "      <td>...</td>\n",
       "      <td>3422.587591</td>\n",
       "      <td>58.030639</td>\n",
       "      <td>57.043127</td>\n",
       "      <td>60.0</td>\n",
       "      <td>12.160905</td>\n",
       "      <td>147.887609</td>\n",
       "      <td>58.325002</td>\n",
       "      <td>88.151298</td>\n",
       "      <td>88.151298</td>\n",
       "      <td>27.47538</td>\n",
       "    </tr>\n",
       "    <tr>\n",
       "      <th>...</th>\n",
       "      <td>...</td>\n",
       "      <td>...</td>\n",
       "      <td>...</td>\n",
       "      <td>...</td>\n",
       "      <td>...</td>\n",
       "      <td>...</td>\n",
       "      <td>...</td>\n",
       "      <td>...</td>\n",
       "      <td>...</td>\n",
       "      <td>...</td>\n",
       "      <td>...</td>\n",
       "      <td>...</td>\n",
       "      <td>...</td>\n",
       "      <td>...</td>\n",
       "      <td>...</td>\n",
       "      <td>...</td>\n",
       "      <td>...</td>\n",
       "      <td>...</td>\n",
       "      <td>...</td>\n",
       "      <td>...</td>\n",
       "      <td>...</td>\n",
       "    </tr>\n",
       "    <tr>\n",
       "      <th>14967</th>\n",
       "      <td>0.0</td>\n",
       "      <td>0.0</td>\n",
       "      <td>0.0</td>\n",
       "      <td>60.0</td>\n",
       "      <td>0.0</td>\n",
       "      <td>0.0</td>\n",
       "      <td>0.0</td>\n",
       "      <td>0.0</td>\n",
       "      <td>0.0</td>\n",
       "      <td>0.0</td>\n",
       "      <td>...</td>\n",
       "      <td>0.000000</td>\n",
       "      <td>0.000000</td>\n",
       "      <td>0.000000</td>\n",
       "      <td>60.0</td>\n",
       "      <td>0.000000</td>\n",
       "      <td>0.000000</td>\n",
       "      <td>0.000000</td>\n",
       "      <td>0.000000</td>\n",
       "      <td>0.000000</td>\n",
       "      <td>0.00000</td>\n",
       "    </tr>\n",
       "    <tr>\n",
       "      <th>14968</th>\n",
       "      <td>0.0</td>\n",
       "      <td>0.0</td>\n",
       "      <td>0.0</td>\n",
       "      <td>60.0</td>\n",
       "      <td>0.0</td>\n",
       "      <td>0.0</td>\n",
       "      <td>0.0</td>\n",
       "      <td>0.0</td>\n",
       "      <td>0.0</td>\n",
       "      <td>0.0</td>\n",
       "      <td>...</td>\n",
       "      <td>0.000000</td>\n",
       "      <td>0.000000</td>\n",
       "      <td>0.000000</td>\n",
       "      <td>60.0</td>\n",
       "      <td>0.000000</td>\n",
       "      <td>0.000000</td>\n",
       "      <td>0.000000</td>\n",
       "      <td>0.000000</td>\n",
       "      <td>0.000000</td>\n",
       "      <td>0.00000</td>\n",
       "    </tr>\n",
       "    <tr>\n",
       "      <th>14969</th>\n",
       "      <td>0.0</td>\n",
       "      <td>0.0</td>\n",
       "      <td>0.0</td>\n",
       "      <td>60.0</td>\n",
       "      <td>0.0</td>\n",
       "      <td>0.0</td>\n",
       "      <td>0.0</td>\n",
       "      <td>0.0</td>\n",
       "      <td>0.0</td>\n",
       "      <td>0.0</td>\n",
       "      <td>...</td>\n",
       "      <td>0.000000</td>\n",
       "      <td>0.000000</td>\n",
       "      <td>0.000000</td>\n",
       "      <td>60.0</td>\n",
       "      <td>0.000000</td>\n",
       "      <td>0.000000</td>\n",
       "      <td>0.000000</td>\n",
       "      <td>0.000000</td>\n",
       "      <td>0.000000</td>\n",
       "      <td>0.00000</td>\n",
       "    </tr>\n",
       "    <tr>\n",
       "      <th>14970</th>\n",
       "      <td>0.0</td>\n",
       "      <td>0.0</td>\n",
       "      <td>0.0</td>\n",
       "      <td>60.0</td>\n",
       "      <td>0.0</td>\n",
       "      <td>0.0</td>\n",
       "      <td>0.0</td>\n",
       "      <td>0.0</td>\n",
       "      <td>0.0</td>\n",
       "      <td>0.0</td>\n",
       "      <td>...</td>\n",
       "      <td>0.000000</td>\n",
       "      <td>0.000000</td>\n",
       "      <td>0.000000</td>\n",
       "      <td>60.0</td>\n",
       "      <td>0.000000</td>\n",
       "      <td>0.000000</td>\n",
       "      <td>0.000000</td>\n",
       "      <td>0.000000</td>\n",
       "      <td>0.000000</td>\n",
       "      <td>0.00000</td>\n",
       "    </tr>\n",
       "    <tr>\n",
       "      <th>14971</th>\n",
       "      <td>0.0</td>\n",
       "      <td>0.0</td>\n",
       "      <td>0.0</td>\n",
       "      <td>60.0</td>\n",
       "      <td>0.0</td>\n",
       "      <td>0.0</td>\n",
       "      <td>0.0</td>\n",
       "      <td>0.0</td>\n",
       "      <td>0.0</td>\n",
       "      <td>0.0</td>\n",
       "      <td>...</td>\n",
       "      <td>0.000000</td>\n",
       "      <td>0.000000</td>\n",
       "      <td>0.000000</td>\n",
       "      <td>60.0</td>\n",
       "      <td>0.000000</td>\n",
       "      <td>0.000000</td>\n",
       "      <td>0.000000</td>\n",
       "      <td>0.000000</td>\n",
       "      <td>0.000000</td>\n",
       "      <td>0.00000</td>\n",
       "    </tr>\n",
       "  </tbody>\n",
       "</table>\n",
       "<p>14972 rows × 50 columns</p>\n",
       "</div>"
      ],
      "text/plain": [
       "       altitude__sum_values  altitude__median  altitude__mean  \\\n",
       "0                       0.0               0.0             0.0   \n",
       "1                       0.0               0.0             0.0   \n",
       "2                       0.0               0.0             0.0   \n",
       "3                       0.0               0.0             0.0   \n",
       "4                       0.0               0.0             0.0   \n",
       "...                     ...               ...             ...   \n",
       "14967                   0.0               0.0             0.0   \n",
       "14968                   0.0               0.0             0.0   \n",
       "14969                   0.0               0.0             0.0   \n",
       "14970                   0.0               0.0             0.0   \n",
       "14971                   0.0               0.0             0.0   \n",
       "\n",
       "       altitude__length  altitude__standard_deviation  altitude__variance  \\\n",
       "0                  60.0                           0.0                 0.0   \n",
       "1                  60.0                           0.0                 0.0   \n",
       "2                  60.0                           0.0                 0.0   \n",
       "3                  60.0                           0.0                 0.0   \n",
       "4                  60.0                           0.0                 0.0   \n",
       "...                 ...                           ...                 ...   \n",
       "14967              60.0                           0.0                 0.0   \n",
       "14968              60.0                           0.0                 0.0   \n",
       "14969              60.0                           0.0                 0.0   \n",
       "14970              60.0                           0.0                 0.0   \n",
       "14971              60.0                           0.0                 0.0   \n",
       "\n",
       "       altitude__root_mean_square  altitude__maximum  \\\n",
       "0                             0.0                0.0   \n",
       "1                             0.0                0.0   \n",
       "2                             0.0                0.0   \n",
       "3                             0.0                0.0   \n",
       "4                             0.0                0.0   \n",
       "...                           ...                ...   \n",
       "14967                         0.0                0.0   \n",
       "14968                         0.0                0.0   \n",
       "14969                         0.0                0.0   \n",
       "14970                         0.0                0.0   \n",
       "14971                         0.0                0.0   \n",
       "\n",
       "       altitude__absolute_maximum  altitude__minimum  ...  y__sum_values  \\\n",
       "0                             0.0                0.0  ...    3423.480718   \n",
       "1                             0.0                0.0  ...    3422.206747   \n",
       "2                             0.0                0.0  ...    3427.106314   \n",
       "3                             0.0                0.0  ...    3396.999163   \n",
       "4                             0.0                0.0  ...    3422.587591   \n",
       "...                           ...                ...  ...            ...   \n",
       "14967                         0.0                0.0  ...       0.000000   \n",
       "14968                         0.0                0.0  ...       0.000000   \n",
       "14969                         0.0                0.0  ...       0.000000   \n",
       "14970                         0.0                0.0  ...       0.000000   \n",
       "14971                         0.0                0.0  ...       0.000000   \n",
       "\n",
       "       y__median    y__mean  y__length  y__standard_deviation  y__variance  \\\n",
       "0      57.939170  57.058012       60.0              12.874090   165.742183   \n",
       "1      57.939170  57.036779       60.0              12.869709   165.629421   \n",
       "2      58.030639  57.118439       60.0              12.866843   165.555645   \n",
       "3      57.939170  56.616653       60.0              12.554012   157.603205   \n",
       "4      58.030639  57.043127       60.0              12.160905   147.887609   \n",
       "...          ...        ...        ...                    ...          ...   \n",
       "14967   0.000000   0.000000       60.0               0.000000     0.000000   \n",
       "14968   0.000000   0.000000       60.0               0.000000     0.000000   \n",
       "14969   0.000000   0.000000       60.0               0.000000     0.000000   \n",
       "14970   0.000000   0.000000       60.0               0.000000     0.000000   \n",
       "14971   0.000000   0.000000       60.0               0.000000     0.000000   \n",
       "\n",
       "       y__root_mean_square  y__maximum  y__absolute_maximum  y__minimum  \n",
       "0                58.492383   88.151298            88.151298    27.47538  \n",
       "1                58.470707   88.151298            88.151298    27.47538  \n",
       "2                58.549737   88.151298            88.151298    27.47538  \n",
       "3                57.991797   88.151298            88.151298    27.47538  \n",
       "4                58.325002   88.151298            88.151298    27.47538  \n",
       "...                    ...         ...                  ...         ...  \n",
       "14967             0.000000    0.000000             0.000000     0.00000  \n",
       "14968             0.000000    0.000000             0.000000     0.00000  \n",
       "14969             0.000000    0.000000             0.000000     0.00000  \n",
       "14970             0.000000    0.000000             0.000000     0.00000  \n",
       "14971             0.000000    0.000000             0.000000     0.00000  \n",
       "\n",
       "[14972 rows x 50 columns]"
      ]
     },
     "execution_count": 256,
     "metadata": {},
     "output_type": "execute_result"
    }
   ],
   "source": [
    "X_t_test[0]"
   ]
  },
  {
   "cell_type": "code",
   "execution_count": 244,
   "metadata": {
    "scrolled": true
   },
   "outputs": [
    {
     "data": {
      "text/html": [
       "<div>\n",
       "<style scoped>\n",
       "    .dataframe tbody tr th:only-of-type {\n",
       "        vertical-align: middle;\n",
       "    }\n",
       "\n",
       "    .dataframe tbody tr th {\n",
       "        vertical-align: top;\n",
       "    }\n",
       "\n",
       "    .dataframe thead th {\n",
       "        text-align: right;\n",
       "    }\n",
       "</style>\n",
       "<table border=\"1\" class=\"dataframe\">\n",
       "  <thead>\n",
       "    <tr style=\"text-align: right;\">\n",
       "      <th></th>\n",
       "      <th>altitude__sum_values</th>\n",
       "      <th>altitude__median</th>\n",
       "      <th>altitude__mean</th>\n",
       "      <th>altitude__length</th>\n",
       "      <th>altitude__standard_deviation</th>\n",
       "      <th>altitude__variance</th>\n",
       "      <th>altitude__root_mean_square</th>\n",
       "      <th>altitude__maximum</th>\n",
       "      <th>altitude__absolute_maximum</th>\n",
       "      <th>altitude__minimum</th>\n",
       "      <th>...</th>\n",
       "      <th>y__sum_values</th>\n",
       "      <th>y__median</th>\n",
       "      <th>y__mean</th>\n",
       "      <th>y__length</th>\n",
       "      <th>y__standard_deviation</th>\n",
       "      <th>y__variance</th>\n",
       "      <th>y__root_mean_square</th>\n",
       "      <th>y__maximum</th>\n",
       "      <th>y__absolute_maximum</th>\n",
       "      <th>y__minimum</th>\n",
       "    </tr>\n",
       "  </thead>\n",
       "  <tbody>\n",
       "    <tr>\n",
       "      <th>0</th>\n",
       "      <td>0.0</td>\n",
       "      <td>0.0</td>\n",
       "      <td>0.0</td>\n",
       "      <td>60.0</td>\n",
       "      <td>0.0</td>\n",
       "      <td>0.0</td>\n",
       "      <td>0.0</td>\n",
       "      <td>0.0</td>\n",
       "      <td>0.0</td>\n",
       "      <td>0.0</td>\n",
       "      <td>...</td>\n",
       "      <td>3423.480718</td>\n",
       "      <td>57.939170</td>\n",
       "      <td>57.058012</td>\n",
       "      <td>60.0</td>\n",
       "      <td>12.874090</td>\n",
       "      <td>165.742183</td>\n",
       "      <td>58.492383</td>\n",
       "      <td>88.151298</td>\n",
       "      <td>88.151298</td>\n",
       "      <td>27.47538</td>\n",
       "    </tr>\n",
       "    <tr>\n",
       "      <th>1</th>\n",
       "      <td>0.0</td>\n",
       "      <td>0.0</td>\n",
       "      <td>0.0</td>\n",
       "      <td>60.0</td>\n",
       "      <td>0.0</td>\n",
       "      <td>0.0</td>\n",
       "      <td>0.0</td>\n",
       "      <td>0.0</td>\n",
       "      <td>0.0</td>\n",
       "      <td>0.0</td>\n",
       "      <td>...</td>\n",
       "      <td>3422.206747</td>\n",
       "      <td>57.939170</td>\n",
       "      <td>57.036779</td>\n",
       "      <td>60.0</td>\n",
       "      <td>12.869709</td>\n",
       "      <td>165.629421</td>\n",
       "      <td>58.470707</td>\n",
       "      <td>88.151298</td>\n",
       "      <td>88.151298</td>\n",
       "      <td>27.47538</td>\n",
       "    </tr>\n",
       "    <tr>\n",
       "      <th>2</th>\n",
       "      <td>0.0</td>\n",
       "      <td>0.0</td>\n",
       "      <td>0.0</td>\n",
       "      <td>60.0</td>\n",
       "      <td>0.0</td>\n",
       "      <td>0.0</td>\n",
       "      <td>0.0</td>\n",
       "      <td>0.0</td>\n",
       "      <td>0.0</td>\n",
       "      <td>0.0</td>\n",
       "      <td>...</td>\n",
       "      <td>3427.106314</td>\n",
       "      <td>58.030639</td>\n",
       "      <td>57.118439</td>\n",
       "      <td>60.0</td>\n",
       "      <td>12.866843</td>\n",
       "      <td>165.555645</td>\n",
       "      <td>58.549737</td>\n",
       "      <td>88.151298</td>\n",
       "      <td>88.151298</td>\n",
       "      <td>27.47538</td>\n",
       "    </tr>\n",
       "    <tr>\n",
       "      <th>3</th>\n",
       "      <td>0.0</td>\n",
       "      <td>0.0</td>\n",
       "      <td>0.0</td>\n",
       "      <td>60.0</td>\n",
       "      <td>0.0</td>\n",
       "      <td>0.0</td>\n",
       "      <td>0.0</td>\n",
       "      <td>0.0</td>\n",
       "      <td>0.0</td>\n",
       "      <td>0.0</td>\n",
       "      <td>...</td>\n",
       "      <td>3396.999163</td>\n",
       "      <td>57.939170</td>\n",
       "      <td>56.616653</td>\n",
       "      <td>60.0</td>\n",
       "      <td>12.554012</td>\n",
       "      <td>157.603205</td>\n",
       "      <td>57.991797</td>\n",
       "      <td>88.151298</td>\n",
       "      <td>88.151298</td>\n",
       "      <td>27.47538</td>\n",
       "    </tr>\n",
       "    <tr>\n",
       "      <th>4</th>\n",
       "      <td>0.0</td>\n",
       "      <td>0.0</td>\n",
       "      <td>0.0</td>\n",
       "      <td>60.0</td>\n",
       "      <td>0.0</td>\n",
       "      <td>0.0</td>\n",
       "      <td>0.0</td>\n",
       "      <td>0.0</td>\n",
       "      <td>0.0</td>\n",
       "      <td>0.0</td>\n",
       "      <td>...</td>\n",
       "      <td>3422.587591</td>\n",
       "      <td>58.030639</td>\n",
       "      <td>57.043127</td>\n",
       "      <td>60.0</td>\n",
       "      <td>12.160905</td>\n",
       "      <td>147.887609</td>\n",
       "      <td>58.325002</td>\n",
       "      <td>88.151298</td>\n",
       "      <td>88.151298</td>\n",
       "      <td>27.47538</td>\n",
       "    </tr>\n",
       "    <tr>\n",
       "      <th>...</th>\n",
       "      <td>...</td>\n",
       "      <td>...</td>\n",
       "      <td>...</td>\n",
       "      <td>...</td>\n",
       "      <td>...</td>\n",
       "      <td>...</td>\n",
       "      <td>...</td>\n",
       "      <td>...</td>\n",
       "      <td>...</td>\n",
       "      <td>...</td>\n",
       "      <td>...</td>\n",
       "      <td>...</td>\n",
       "      <td>...</td>\n",
       "      <td>...</td>\n",
       "      <td>...</td>\n",
       "      <td>...</td>\n",
       "      <td>...</td>\n",
       "      <td>...</td>\n",
       "      <td>...</td>\n",
       "      <td>...</td>\n",
       "      <td>...</td>\n",
       "    </tr>\n",
       "    <tr>\n",
       "      <th>14967</th>\n",
       "      <td>0.0</td>\n",
       "      <td>0.0</td>\n",
       "      <td>0.0</td>\n",
       "      <td>60.0</td>\n",
       "      <td>0.0</td>\n",
       "      <td>0.0</td>\n",
       "      <td>0.0</td>\n",
       "      <td>0.0</td>\n",
       "      <td>0.0</td>\n",
       "      <td>0.0</td>\n",
       "      <td>...</td>\n",
       "      <td>0.000000</td>\n",
       "      <td>0.000000</td>\n",
       "      <td>0.000000</td>\n",
       "      <td>60.0</td>\n",
       "      <td>0.000000</td>\n",
       "      <td>0.000000</td>\n",
       "      <td>0.000000</td>\n",
       "      <td>0.000000</td>\n",
       "      <td>0.000000</td>\n",
       "      <td>0.00000</td>\n",
       "    </tr>\n",
       "    <tr>\n",
       "      <th>14968</th>\n",
       "      <td>0.0</td>\n",
       "      <td>0.0</td>\n",
       "      <td>0.0</td>\n",
       "      <td>60.0</td>\n",
       "      <td>0.0</td>\n",
       "      <td>0.0</td>\n",
       "      <td>0.0</td>\n",
       "      <td>0.0</td>\n",
       "      <td>0.0</td>\n",
       "      <td>0.0</td>\n",
       "      <td>...</td>\n",
       "      <td>0.000000</td>\n",
       "      <td>0.000000</td>\n",
       "      <td>0.000000</td>\n",
       "      <td>60.0</td>\n",
       "      <td>0.000000</td>\n",
       "      <td>0.000000</td>\n",
       "      <td>0.000000</td>\n",
       "      <td>0.000000</td>\n",
       "      <td>0.000000</td>\n",
       "      <td>0.00000</td>\n",
       "    </tr>\n",
       "    <tr>\n",
       "      <th>14969</th>\n",
       "      <td>0.0</td>\n",
       "      <td>0.0</td>\n",
       "      <td>0.0</td>\n",
       "      <td>60.0</td>\n",
       "      <td>0.0</td>\n",
       "      <td>0.0</td>\n",
       "      <td>0.0</td>\n",
       "      <td>0.0</td>\n",
       "      <td>0.0</td>\n",
       "      <td>0.0</td>\n",
       "      <td>...</td>\n",
       "      <td>0.000000</td>\n",
       "      <td>0.000000</td>\n",
       "      <td>0.000000</td>\n",
       "      <td>60.0</td>\n",
       "      <td>0.000000</td>\n",
       "      <td>0.000000</td>\n",
       "      <td>0.000000</td>\n",
       "      <td>0.000000</td>\n",
       "      <td>0.000000</td>\n",
       "      <td>0.00000</td>\n",
       "    </tr>\n",
       "    <tr>\n",
       "      <th>14970</th>\n",
       "      <td>0.0</td>\n",
       "      <td>0.0</td>\n",
       "      <td>0.0</td>\n",
       "      <td>60.0</td>\n",
       "      <td>0.0</td>\n",
       "      <td>0.0</td>\n",
       "      <td>0.0</td>\n",
       "      <td>0.0</td>\n",
       "      <td>0.0</td>\n",
       "      <td>0.0</td>\n",
       "      <td>...</td>\n",
       "      <td>0.000000</td>\n",
       "      <td>0.000000</td>\n",
       "      <td>0.000000</td>\n",
       "      <td>60.0</td>\n",
       "      <td>0.000000</td>\n",
       "      <td>0.000000</td>\n",
       "      <td>0.000000</td>\n",
       "      <td>0.000000</td>\n",
       "      <td>0.000000</td>\n",
       "      <td>0.00000</td>\n",
       "    </tr>\n",
       "    <tr>\n",
       "      <th>14971</th>\n",
       "      <td>0.0</td>\n",
       "      <td>0.0</td>\n",
       "      <td>0.0</td>\n",
       "      <td>60.0</td>\n",
       "      <td>0.0</td>\n",
       "      <td>0.0</td>\n",
       "      <td>0.0</td>\n",
       "      <td>0.0</td>\n",
       "      <td>0.0</td>\n",
       "      <td>0.0</td>\n",
       "      <td>...</td>\n",
       "      <td>0.000000</td>\n",
       "      <td>0.000000</td>\n",
       "      <td>0.000000</td>\n",
       "      <td>60.0</td>\n",
       "      <td>0.000000</td>\n",
       "      <td>0.000000</td>\n",
       "      <td>0.000000</td>\n",
       "      <td>0.000000</td>\n",
       "      <td>0.000000</td>\n",
       "      <td>0.00000</td>\n",
       "    </tr>\n",
       "  </tbody>\n",
       "</table>\n",
       "<p>14972 rows × 50 columns</p>\n",
       "</div>"
      ],
      "text/plain": [
       "       altitude__sum_values  altitude__median  altitude__mean  \\\n",
       "0                       0.0               0.0             0.0   \n",
       "1                       0.0               0.0             0.0   \n",
       "2                       0.0               0.0             0.0   \n",
       "3                       0.0               0.0             0.0   \n",
       "4                       0.0               0.0             0.0   \n",
       "...                     ...               ...             ...   \n",
       "14967                   0.0               0.0             0.0   \n",
       "14968                   0.0               0.0             0.0   \n",
       "14969                   0.0               0.0             0.0   \n",
       "14970                   0.0               0.0             0.0   \n",
       "14971                   0.0               0.0             0.0   \n",
       "\n",
       "       altitude__length  altitude__standard_deviation  altitude__variance  \\\n",
       "0                  60.0                           0.0                 0.0   \n",
       "1                  60.0                           0.0                 0.0   \n",
       "2                  60.0                           0.0                 0.0   \n",
       "3                  60.0                           0.0                 0.0   \n",
       "4                  60.0                           0.0                 0.0   \n",
       "...                 ...                           ...                 ...   \n",
       "14967              60.0                           0.0                 0.0   \n",
       "14968              60.0                           0.0                 0.0   \n",
       "14969              60.0                           0.0                 0.0   \n",
       "14970              60.0                           0.0                 0.0   \n",
       "14971              60.0                           0.0                 0.0   \n",
       "\n",
       "       altitude__root_mean_square  altitude__maximum  \\\n",
       "0                             0.0                0.0   \n",
       "1                             0.0                0.0   \n",
       "2                             0.0                0.0   \n",
       "3                             0.0                0.0   \n",
       "4                             0.0                0.0   \n",
       "...                           ...                ...   \n",
       "14967                         0.0                0.0   \n",
       "14968                         0.0                0.0   \n",
       "14969                         0.0                0.0   \n",
       "14970                         0.0                0.0   \n",
       "14971                         0.0                0.0   \n",
       "\n",
       "       altitude__absolute_maximum  altitude__minimum  ...  y__sum_values  \\\n",
       "0                             0.0                0.0  ...    3423.480718   \n",
       "1                             0.0                0.0  ...    3422.206747   \n",
       "2                             0.0                0.0  ...    3427.106314   \n",
       "3                             0.0                0.0  ...    3396.999163   \n",
       "4                             0.0                0.0  ...    3422.587591   \n",
       "...                           ...                ...  ...            ...   \n",
       "14967                         0.0                0.0  ...       0.000000   \n",
       "14968                         0.0                0.0  ...       0.000000   \n",
       "14969                         0.0                0.0  ...       0.000000   \n",
       "14970                         0.0                0.0  ...       0.000000   \n",
       "14971                         0.0                0.0  ...       0.000000   \n",
       "\n",
       "       y__median    y__mean  y__length  y__standard_deviation  y__variance  \\\n",
       "0      57.939170  57.058012       60.0              12.874090   165.742183   \n",
       "1      57.939170  57.036779       60.0              12.869709   165.629421   \n",
       "2      58.030639  57.118439       60.0              12.866843   165.555645   \n",
       "3      57.939170  56.616653       60.0              12.554012   157.603205   \n",
       "4      58.030639  57.043127       60.0              12.160905   147.887609   \n",
       "...          ...        ...        ...                    ...          ...   \n",
       "14967   0.000000   0.000000       60.0               0.000000     0.000000   \n",
       "14968   0.000000   0.000000       60.0               0.000000     0.000000   \n",
       "14969   0.000000   0.000000       60.0               0.000000     0.000000   \n",
       "14970   0.000000   0.000000       60.0               0.000000     0.000000   \n",
       "14971   0.000000   0.000000       60.0               0.000000     0.000000   \n",
       "\n",
       "       y__root_mean_square  y__maximum  y__absolute_maximum  y__minimum  \n",
       "0                58.492383   88.151298            88.151298    27.47538  \n",
       "1                58.470707   88.151298            88.151298    27.47538  \n",
       "2                58.549737   88.151298            88.151298    27.47538  \n",
       "3                57.991797   88.151298            88.151298    27.47538  \n",
       "4                58.325002   88.151298            88.151298    27.47538  \n",
       "...                    ...         ...                  ...         ...  \n",
       "14967             0.000000    0.000000             0.000000     0.00000  \n",
       "14968             0.000000    0.000000             0.000000     0.00000  \n",
       "14969             0.000000    0.000000             0.000000     0.00000  \n",
       "14970             0.000000    0.000000             0.000000     0.00000  \n",
       "14971             0.000000    0.000000             0.000000     0.00000  \n",
       "\n",
       "[14972 rows x 50 columns]"
      ]
     },
     "execution_count": 244,
     "metadata": {},
     "output_type": "execute_result"
    }
   ],
   "source": [
    "x_test[0]"
   ]
  },
  {
   "cell_type": "code",
   "execution_count": 261,
   "metadata": {},
   "outputs": [],
   "source": [
    "#保存\n",
    "with open('deviation_label.pkl', 'wb') as file:  \n",
    "    pickle.dump(y_t_test[4], file)"
   ]
  },
  {
   "cell_type": "code",
   "execution_count": 84,
   "metadata": {},
   "outputs": [],
   "source": [
    "#加载\n",
    "with open('save_pred.pkl', 'rb') as file:  \n",
    "    save_pred = pickle.load(file)"
   ]
  },
  {
   "cell_type": "code",
   "execution_count": 85,
   "metadata": {
    "scrolled": true
   },
   "outputs": [],
   "source": [
    "noise_pred = pd.DataFrame(columns=['noise_pred'], data=save_pred['noise_pred'])\n",
    "landing_pred = pd.DataFrame(columns=['landing_pred'], data=save_pred['landing_pred'])\n",
    "departing_pred = pd.DataFrame(columns=['departing_pred'], data=save_pred['departing_pred'])\n",
    "manoeuver_pred = pd.DataFrame(columns=['manoeuver_pred'], data=save_pred['manoeuver_pred'])"
   ]
  },
  {
   "cell_type": "code",
   "execution_count": 86,
   "metadata": {
    "scrolled": true
   },
   "outputs": [
    {
     "data": {
      "text/html": [
       "<div>\n",
       "<style scoped>\n",
       "    .dataframe tbody tr th:only-of-type {\n",
       "        vertical-align: middle;\n",
       "    }\n",
       "\n",
       "    .dataframe tbody tr th {\n",
       "        vertical-align: top;\n",
       "    }\n",
       "\n",
       "    .dataframe thead th {\n",
       "        text-align: right;\n",
       "    }\n",
       "</style>\n",
       "<table border=\"1\" class=\"dataframe\">\n",
       "  <thead>\n",
       "    <tr style=\"text-align: right;\">\n",
       "      <th></th>\n",
       "      <th>noise_pred</th>\n",
       "    </tr>\n",
       "  </thead>\n",
       "  <tbody>\n",
       "    <tr>\n",
       "      <th>0</th>\n",
       "      <td>0</td>\n",
       "    </tr>\n",
       "    <tr>\n",
       "      <th>1</th>\n",
       "      <td>1</td>\n",
       "    </tr>\n",
       "    <tr>\n",
       "      <th>2</th>\n",
       "      <td>0</td>\n",
       "    </tr>\n",
       "    <tr>\n",
       "      <th>3</th>\n",
       "      <td>0</td>\n",
       "    </tr>\n",
       "    <tr>\n",
       "      <th>4</th>\n",
       "      <td>1</td>\n",
       "    </tr>\n",
       "    <tr>\n",
       "      <th>...</th>\n",
       "      <td>...</td>\n",
       "    </tr>\n",
       "    <tr>\n",
       "      <th>599</th>\n",
       "      <td>1</td>\n",
       "    </tr>\n",
       "    <tr>\n",
       "      <th>600</th>\n",
       "      <td>0</td>\n",
       "    </tr>\n",
       "    <tr>\n",
       "      <th>601</th>\n",
       "      <td>1</td>\n",
       "    </tr>\n",
       "    <tr>\n",
       "      <th>602</th>\n",
       "      <td>0</td>\n",
       "    </tr>\n",
       "    <tr>\n",
       "      <th>603</th>\n",
       "      <td>0</td>\n",
       "    </tr>\n",
       "  </tbody>\n",
       "</table>\n",
       "<p>604 rows × 1 columns</p>\n",
       "</div>"
      ],
      "text/plain": [
       "     noise_pred\n",
       "0             0\n",
       "1             1\n",
       "2             0\n",
       "3             0\n",
       "4             1\n",
       "..          ...\n",
       "599           1\n",
       "600           0\n",
       "601           1\n",
       "602           0\n",
       "603           0\n",
       "\n",
       "[604 rows x 1 columns]"
      ]
     },
     "execution_count": 86,
     "metadata": {},
     "output_type": "execute_result"
    }
   ],
   "source": [
    "noise_pred"
   ]
  },
  {
   "cell_type": "code",
   "execution_count": 87,
   "metadata": {},
   "outputs": [],
   "source": [
    "#加载\n",
    "with open('save_label.pkl', 'rb') as file:  \n",
    "    save_label = pickle.load(file)"
   ]
  },
  {
   "cell_type": "code",
   "execution_count": 88,
   "metadata": {},
   "outputs": [],
   "source": [
    "noise_label = pd.DataFrame(columns=['noise_label'], data=save_label['noise_label'])\n",
    "landing_label = pd.DataFrame(columns=['landing_label'], data=save_label['landing_label'])\n",
    "departing_label = pd.DataFrame(columns=['departing_label'], data=save_label['departing_label'])\n",
    "manoeuver_label = pd.DataFrame(columns=['manoeuver_label'], data=save_label['manoeuver_label'])"
   ]
  },
  {
   "cell_type": "code",
   "execution_count": 89,
   "metadata": {
    "scrolled": true
   },
   "outputs": [
    {
     "data": {
      "text/html": [
       "<div>\n",
       "<style scoped>\n",
       "    .dataframe tbody tr th:only-of-type {\n",
       "        vertical-align: middle;\n",
       "    }\n",
       "\n",
       "    .dataframe tbody tr th {\n",
       "        vertical-align: top;\n",
       "    }\n",
       "\n",
       "    .dataframe thead th {\n",
       "        text-align: right;\n",
       "    }\n",
       "</style>\n",
       "<table border=\"1\" class=\"dataframe\">\n",
       "  <thead>\n",
       "    <tr style=\"text-align: right;\">\n",
       "      <th></th>\n",
       "      <th>noise_label</th>\n",
       "    </tr>\n",
       "  </thead>\n",
       "  <tbody>\n",
       "    <tr>\n",
       "      <th>0</th>\n",
       "      <td>0</td>\n",
       "    </tr>\n",
       "    <tr>\n",
       "      <th>1</th>\n",
       "      <td>1</td>\n",
       "    </tr>\n",
       "    <tr>\n",
       "      <th>2</th>\n",
       "      <td>0</td>\n",
       "    </tr>\n",
       "    <tr>\n",
       "      <th>3</th>\n",
       "      <td>0</td>\n",
       "    </tr>\n",
       "    <tr>\n",
       "      <th>4</th>\n",
       "      <td>1</td>\n",
       "    </tr>\n",
       "    <tr>\n",
       "      <th>...</th>\n",
       "      <td>...</td>\n",
       "    </tr>\n",
       "    <tr>\n",
       "      <th>599</th>\n",
       "      <td>1</td>\n",
       "    </tr>\n",
       "    <tr>\n",
       "      <th>600</th>\n",
       "      <td>0</td>\n",
       "    </tr>\n",
       "    <tr>\n",
       "      <th>601</th>\n",
       "      <td>0</td>\n",
       "    </tr>\n",
       "    <tr>\n",
       "      <th>602</th>\n",
       "      <td>0</td>\n",
       "    </tr>\n",
       "    <tr>\n",
       "      <th>603</th>\n",
       "      <td>0</td>\n",
       "    </tr>\n",
       "  </tbody>\n",
       "</table>\n",
       "<p>604 rows × 1 columns</p>\n",
       "</div>"
      ],
      "text/plain": [
       "     noise_label\n",
       "0              0\n",
       "1              1\n",
       "2              0\n",
       "3              0\n",
       "4              1\n",
       "..           ...\n",
       "599            1\n",
       "600            0\n",
       "601            0\n",
       "602            0\n",
       "603            0\n",
       "\n",
       "[604 rows x 1 columns]"
      ]
     },
     "execution_count": 89,
     "metadata": {},
     "output_type": "execute_result"
    }
   ],
   "source": [
    "noise_label"
   ]
  },
  {
   "cell_type": "markdown",
   "metadata": {
    "id": "pja7mVmpvX1g"
   },
   "source": [
    "## 6. Results"
   ]
  },
  {
   "cell_type": "markdown",
   "metadata": {
    "id": "Cb-Sip6Dvcir"
   },
   "source": [
    "### 6.1 Noise"
   ]
  },
  {
   "cell_type": "code",
   "execution_count": 90,
   "metadata": {
    "colab": {
     "base_uri": "https://localhost:8080/",
     "height": 280
    },
    "id": "10SmiA9ORp8T",
    "outputId": "b6cc0c83-fae1-46b6-d158-d9b3b17e6ef4"
   },
   "outputs": [
    {
     "name": "stderr",
     "output_type": "stream",
     "text": [
      "D:\\anaconda\\Lib\\site-packages\\sklearn\\metrics\\_classification.py:1469: UndefinedMetricWarning: Precision is ill-defined and being set to 0.0 due to no predicted samples. Use `zero_division` parameter to control this behavior.\n",
      "  _warn_prf(average, modifier, msg_start, len(result))\n"
     ]
    },
    {
     "data": {
      "text/html": [
       "<div>\n",
       "<style scoped>\n",
       "    .dataframe tbody tr th:only-of-type {\n",
       "        vertical-align: middle;\n",
       "    }\n",
       "\n",
       "    .dataframe tbody tr th {\n",
       "        vertical-align: top;\n",
       "    }\n",
       "\n",
       "    .dataframe thead th {\n",
       "        text-align: right;\n",
       "    }\n",
       "</style>\n",
       "<table border=\"1\" class=\"dataframe\">\n",
       "  <thead>\n",
       "    <tr style=\"text-align: right;\">\n",
       "      <th></th>\n",
       "      <th>Detector</th>\n",
       "      <th>Precision</th>\n",
       "      <th>TPR</th>\n",
       "      <th>Average Detection Delay</th>\n",
       "    </tr>\n",
       "  </thead>\n",
       "  <tbody>\n",
       "    <tr>\n",
       "      <th>0</th>\n",
       "      <td>Perfect Detector</td>\n",
       "      <td>1.000</td>\n",
       "      <td>1.000</td>\n",
       "      <td>0.000</td>\n",
       "    </tr>\n",
       "    <tr>\n",
       "      <th>1</th>\n",
       "      <td>lstm_autoencoder_diff</td>\n",
       "      <td>0.333</td>\n",
       "      <td>1.000</td>\n",
       "      <td>0.286</td>\n",
       "    </tr>\n",
       "    <tr>\n",
       "      <th>2</th>\n",
       "      <td>Null Detector 1</td>\n",
       "      <td>0.000</td>\n",
       "      <td>0.000</td>\n",
       "      <td>660.000</td>\n",
       "    </tr>\n",
       "    <tr>\n",
       "      <th>3</th>\n",
       "      <td>Null Detector 2</td>\n",
       "      <td>0.301</td>\n",
       "      <td>1.000</td>\n",
       "      <td>0.000</td>\n",
       "    </tr>\n",
       "    <tr>\n",
       "      <th>4</th>\n",
       "      <td>Random Detector</td>\n",
       "      <td>0.296</td>\n",
       "      <td>0.483</td>\n",
       "      <td>1.000</td>\n",
       "    </tr>\n",
       "  </tbody>\n",
       "</table>\n",
       "</div>"
      ],
      "text/plain": [
       "                Detector  Precision    TPR  Average Detection Delay\n",
       "0       Perfect Detector      1.000  1.000                    0.000\n",
       "1  lstm_autoencoder_diff      0.333  1.000                    0.286\n",
       "2        Null Detector 1      0.000  0.000                  660.000\n",
       "3        Null Detector 2      0.301  1.000                    0.000\n",
       "4        Random Detector      0.296  0.483                    1.000"
      ]
     },
     "execution_count": 90,
     "metadata": {},
     "output_type": "execute_result"
    }
   ],
   "source": [
    "classification_report(\n",
    "    [lstm_y_test],\n",
    "    lstm_autoencoder_diff=lstm_preds_label_test_departing,\n",
    ")"
   ]
  },
  {
   "cell_type": "code",
   "execution_count": 91,
   "metadata": {},
   "outputs": [],
   "source": [
    "lstm_autoencoder_diff=lstm_reconstruction_errors_noise_df[\"reconstruction_errors\"]\n",
    "standard_autoencoder_diff=standard_reconstruction_errors_noise_df[\"reconstruction_errors\"]\n",
    "lstm_autoencoder_diff.to_csv('output.csv', index=False)"
   ]
  },
  {
   "cell_type": "code",
   "execution_count": 100,
   "metadata": {
    "colab": {
     "base_uri": "https://localhost:8080/",
     "height": 622
    },
    "id": "zXb-pZcfyr2Q",
    "outputId": "887c0ff6-b4e2-47b0-b744-660f4f3e0d60"
   },
   "outputs": [
    {
     "data": {
      "image/png": "[encoded data removed]",
      "text/plain": [
       "<Figure size 750x750 with 1 Axes>"
      ]
     },
     "metadata": {},
     "output_type": "display_data"
    }
   ],
   "source": [
    "roc_fig_plot(\n",
    "    [y_test_l[0],y_test_l[0],y_test_l[0],y_test_l[0],\n",
    "     standard_y_test,standard_y_test,standard_y_test,standard_y_test,\n",
    "     noise_label,landing_label,departing_label,manoeuver_label],\n",
    "    \n",
    "    lstm_autoencoder_noise=lstm_reconstruction_errors_noise_df[\"reconstruction_errors\"],\n",
    "    lstm_autoencoder_landing=lstm_reconstruction_errors_landing_df[\"reconstruction_errors\"],\n",
    "    lstm_autoencoder_departing=lstm_reconstruction_errors_departing_df[\"reconstruction_errors\"],\n",
    "    lstm_autoencoder_manoeuver=lstm_reconstruction_errors_manoeuver_df[\"reconstruction_errors\"],\n",
    "    standard_autoencoder_noise=standard_reconstruction_errors_noise_df[\"reconstruction_errors\"],\n",
    "    standard_autoencoder_landing=standard_reconstruction_errors_landing_df[\"reconstruction_errors\"],\n",
    "    standard_autoencoder_departing=standard_reconstruction_errors_departing_df[\"reconstruction_errors\"],\n",
    "    standard_autoencoder_manoeuver=standard_reconstruction_errors_manoeuver_df[\"reconstruction_errors\"],\n",
    "    svm_noise = noise_pred,\n",
    "    svm_landing = landing_pred,\n",
    "    svm_departing = departing_pred,\n",
    "    svm_manoeuver = manoeuver_pred,\n",
    ")"
   ]
  },
  {
   "cell_type": "code",
   "execution_count": 93,
   "metadata": {
    "colab": {
     "base_uri": "https://localhost:8080/",
     "height": 622
    },
    "id": "vM0_B0f3ZU9i",
    "outputId": "afae9893-ef64-47c0-ccbd-06dbcf0dd62c"
   },
   "outputs": [
    {
     "data": {
      "image/png": "[encoded data removed]",
      "text/plain": [
       "<Figure size 800x800 with 1 Axes>"
      ]
     },
     "metadata": {},
     "output_type": "display_data"
    }
   ],
   "source": [
    "_\n",
    "precision_recall_fig_plot(\n",
    "    [lstm_y_test, standard_y_test],\n",
    "    lstm_autoencoder_diff=lstm_reconstruction_errors_noise_df[\"reconstruction_errors\"],\n",
    "    standard_autoencoder_diff=standard_reconstruction_errors_noise_df[\"reconstruction_errors\"]\n",
    ")"
   ]
  },
  {
   "cell_type": "markdown",
   "metadata": {
    "id": "nEC2lUtnvj7M"
   },
   "source": [
    "### 6.2 Landing"
   ]
  },
  {
   "cell_type": "code",
   "execution_count": 94,
   "metadata": {
    "colab": {
     "base_uri": "https://localhost:8080/",
     "height": 280
    },
    "id": "6BjT73givlB4",
    "outputId": "14ffe544-2cd5-403b-b8b1-af0cd2a10b69"
   },
   "outputs": [
    {
     "name": "stderr",
     "output_type": "stream",
     "text": [
      "D:\\anaconda\\Lib\\site-packages\\sklearn\\metrics\\_classification.py:1469: UndefinedMetricWarning: Precision is ill-defined and being set to 0.0 due to no predicted samples. Use `zero_division` parameter to control this behavior.\n",
      "  _warn_prf(average, modifier, msg_start, len(result))\n"
     ]
    },
    {
     "data": {
      "text/html": [
       "<div>\n",
       "<style scoped>\n",
       "    .dataframe tbody tr th:only-of-type {\n",
       "        vertical-align: middle;\n",
       "    }\n",
       "\n",
       "    .dataframe tbody tr th {\n",
       "        vertical-align: top;\n",
       "    }\n",
       "\n",
       "    .dataframe thead th {\n",
       "        text-align: right;\n",
       "    }\n",
       "</style>\n",
       "<table border=\"1\" class=\"dataframe\">\n",
       "  <thead>\n",
       "    <tr style=\"text-align: right;\">\n",
       "      <th></th>\n",
       "      <th>Detector</th>\n",
       "      <th>Precision</th>\n",
       "      <th>TPR</th>\n",
       "      <th>Average Detection Delay</th>\n",
       "    </tr>\n",
       "  </thead>\n",
       "  <tbody>\n",
       "    <tr>\n",
       "      <th>0</th>\n",
       "      <td>Perfect Detector</td>\n",
       "      <td>1.000</td>\n",
       "      <td>1.000</td>\n",
       "      <td>0.0</td>\n",
       "    </tr>\n",
       "    <tr>\n",
       "      <th>1</th>\n",
       "      <td>standard_autoencoder_diff</td>\n",
       "      <td>0.845</td>\n",
       "      <td>0.182</td>\n",
       "      <td>0.0</td>\n",
       "    </tr>\n",
       "    <tr>\n",
       "      <th>2</th>\n",
       "      <td>Null Detector 1</td>\n",
       "      <td>0.000</td>\n",
       "      <td>0.000</td>\n",
       "      <td>660.0</td>\n",
       "    </tr>\n",
       "    <tr>\n",
       "      <th>3</th>\n",
       "      <td>Null Detector 2</td>\n",
       "      <td>0.263</td>\n",
       "      <td>1.000</td>\n",
       "      <td>0.0</td>\n",
       "    </tr>\n",
       "    <tr>\n",
       "      <th>4</th>\n",
       "      <td>Random Detector</td>\n",
       "      <td>0.251</td>\n",
       "      <td>0.479</td>\n",
       "      <td>1.0</td>\n",
       "    </tr>\n",
       "  </tbody>\n",
       "</table>\n",
       "</div>"
      ],
      "text/plain": [
       "                    Detector  Precision    TPR  Average Detection Delay\n",
       "0           Perfect Detector      1.000  1.000                      0.0\n",
       "1  standard_autoencoder_diff      0.845  0.182                      0.0\n",
       "2            Null Detector 1      0.000  0.000                    660.0\n",
       "3            Null Detector 2      0.263  1.000                      0.0\n",
       "4            Random Detector      0.251  0.479                      1.0"
      ]
     },
     "execution_count": 94,
     "metadata": {},
     "output_type": "execute_result"
    }
   ],
   "source": [
    "classification_report(\n",
    "    [ standard_y_test],\n",
    "    standard_autoencoder_diff=standard_preds_label_test_dos,\n",
    ")"
   ]
  },
  {
   "cell_type": "code",
   "execution_count": 189,
   "metadata": {
    "colab": {
     "base_uri": "https://localhost:8080/",
     "height": 622
    },
    "id": "uMR1I3rFzHiz",
    "outputId": "e7b4065d-74d9-4a6e-f246-cf563250949f"
   },
   "outputs": [
    {
     "data": {
      "image/png": "[encoded data removed]",
      "text/plain": [
       "<Figure size 750x750 with 1 Axes>"
      ]
     },
     "metadata": {},
     "output_type": "display_data"
    }
   ],
   "source": [
    "roc_fig_plot(\n",
    "    [standard_y_test],\n",
    "    standard_autoencoder_diff=standard_reconstruction_errors_noise_df[\"reconstruction_errors\"],\n",
    ")"
   ]
  },
  {
   "cell_type": "code",
   "execution_count": 96,
   "metadata": {
    "colab": {
     "base_uri": "https://localhost:8080/",
     "height": 622
    },
    "id": "ijp-x31mb2FY",
    "outputId": "ce6fa056-27d6-4c55-a27c-35ad5cac539e"
   },
   "outputs": [
    {
     "data": {
      "image/png": "[encoded data removed]",
      "text/plain": [
       "<Figure size 800x800 with 1 Axes>"
      ]
     },
     "metadata": {},
     "output_type": "display_data"
    }
   ],
   "source": [
    "precision_recall_fig_plot(\n",
    "    [lstm_y_test, standard_y_test],\n",
    "    lstm_autoencoder_diff=lstm_reconstruction_errors_landing_df[\"reconstruction_errors\"],\n",
    "    standard_autoencoder_diff=standard_reconstruction_errors_landing_df[\"reconstruction_errors\"],\n",
    ")"
   ]
  },
  {
   "cell_type": "code",
   "execution_count": null,
   "metadata": {
    "id": "wk-ypWju-Q-N"
   },
   "outputs": [],
   "source": []
  },
  {
   "cell_type": "code",
   "execution_count": null,
   "metadata": {},
   "outputs": [],
   "source": []
  },
  {
   "cell_type": "code",
   "execution_count": null,
   "metadata": {},
   "outputs": [],
   "source": []
  }
 ],
 "metadata": {
  "colab": {
   "authorship_tag": "ABX9TyPdcQOGNMsm+BqoPo66ItNC",
   "collapsed_sections": [],
   "include_colab_link": true,
   "name": "facing_airborne_attacks.ipynb",
   "provenance": [],
   "toc_visible": true
  },
  "kernelspec": {
   "display_name": "Python 3 (ipykernel)",
   "language": "python",
   "name": "python3"
  },
  "language_info": {
   "codemirror_mode": {
    "name": "ipython",
    "version": 3
   },
   "file_extension": ".py",
   "mimetype": "text/x-python",
   "name": "python",
   "nbconvert_exporter": "python",
   "pygments_lexer": "ipython3",
   "version": "3.11.5"
  }
 },
 "nbformat": 4,
 "nbformat_minor": 4
}
